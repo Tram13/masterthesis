{
 "cells": [
  {
   "cell_type": "code",
   "execution_count": 1,
   "metadata": {
    "collapsed": true,
    "ExecuteTime": {
     "start_time": "2023-04-21T14:21:28.336018Z",
     "end_time": "2023-04-21T14:21:28.336018Z"
    }
   },
   "outputs": [],
   "source": [
    "import logging\n",
    "\n",
    "import torch\n",
    "from torch import optim\n",
    "from torch.utils.data import DataLoader\n",
    "from data.data_preparer import DataPreparer\n",
    "from src.predictor.multilayer_perceptron import MultiLayerPerceptronPredictor\n",
    "from src.predictor.neural_network_trainer import NeuralNetworkTrainer\n",
    "from src.data.data_reader import DataReader\n",
    "import os\n",
    "import pandas as pd\n",
    "from tools.RestaurantReviewsDataset import RestaurantReviewsDataset\n",
    "from tools.config_parser import ConfigParser\n",
    "from tools.profiles_manager import ProfilesManager\n",
    "import matplotlib.pyplot as plt\n",
    "\n",
    "logging.basicConfig(level=logging.INFO)\n",
    "\n",
    "while str(os.getcwd())[-3:] != 'src':  # Execute from src-directory root\n",
    "    os.chdir('..')"
   ]
  },
  {
   "cell_type": "code",
   "execution_count": 2,
   "outputs": [],
   "source": [
    "businesses, reviews, tips = DataReader().read_data()\n",
    "user_profiles_list = ProfilesManager().get_user_profiles_names()\n",
    "\n",
    "\n",
    "def get_trained_models_for_user_profiles(train_test_data_f: tuple, user_profiles_name_f: str):\n",
    "    trained_models_f = []\n",
    "    for model_location in os.scandir(ConfigParser().get_value('predictor_model', 'model_dir')):\n",
    "        trained_model = MultiLayerPerceptronPredictor(input_size=train_test_data_f[0].columns.size, output_size=1)\n",
    "        trained_optimizer = optim.Adam(trained_model.parameters(), lr=0.002)\n",
    "        try:\n",
    "            trained_model.load(trained_optimizer, model_location.path)\n",
    "            if trained_model.user_profiles_location == user_profiles_name_f:\n",
    "                trained_models_f.append((trained_model, trained_optimizer))\n",
    "        except RuntimeError:\n",
    "            pass\n",
    "    return trained_models_f\n"
   ],
   "metadata": {
    "collapsed": false,
    "ExecuteTime": {
     "start_time": "2023-04-21T14:21:46.083385Z",
     "end_time": "2023-04-21T14:21:46.083385Z"
    }
   }
  },
  {
   "cell_type": "code",
   "execution_count": 7,
   "outputs": [
    {
     "name": "stderr",
     "output_type": "stream",
     "text": [
      "INFO:root:Model loaded from predictor/Models/mlp\\mlp_2023-04-08_15h00__APPROX_USER_PROFILES_top_5.pt.\n",
      "INFO:root:Model loaded from predictor/Models/mlp\\mlp_2023-04-08_17h28__BASIC_USER_PROFILES_50_no_sentiment.pt.\n",
      "INFO:root:Model loaded from predictor/Models/mlp\\mlp_2023-04-08_18h37__BASIC_USER_PROFILES_50_with_sentiment.pt.\n",
      "INFO:root:Testing model with User Profiles: APPROX_USER_PROFILES_top_5.parquet\n"
     ]
    },
    {
     "name": "stdout",
     "output_type": "stream",
     "text": [
      "391\n"
     ]
    },
    {
     "name": "stderr",
     "output_type": "stream",
     "text": [
      "INFO:root:Model loaded from predictor/Models/mlp\\mlp_2023-04-08_16h20__BASIC_USER_PROFILES_400_no_sentiment.pt.\n",
      "INFO:root:Testing model with User Profiles: BASIC_USER_PROFILES_400_no_sentiment.parquet\n"
     ]
    },
    {
     "name": "stdout",
     "output_type": "stream",
     "text": [
      "367\n"
     ]
    },
    {
     "name": "stderr",
     "output_type": "stream",
     "text": [
      "INFO:root:Model loaded from predictor/Models/mlp\\mlp_2023-04-08_15h00__APPROX_USER_PROFILES_top_5.pt.\n",
      "INFO:root:Model loaded from predictor/Models/mlp\\mlp_2023-04-08_17h28__BASIC_USER_PROFILES_50_no_sentiment.pt.\n",
      "INFO:root:Model loaded from predictor/Models/mlp\\mlp_2023-04-08_18h37__BASIC_USER_PROFILES_50_with_sentiment.pt.\n",
      "INFO:root:Testing model with User Profiles: BASIC_USER_PROFILES_50_no_sentiment.parquet\n"
     ]
    },
    {
     "name": "stdout",
     "output_type": "stream",
     "text": [
      "343\n"
     ]
    },
    {
     "name": "stderr",
     "output_type": "stream",
     "text": [
      "INFO:root:Model loaded from predictor/Models/mlp\\mlp_2023-04-08_15h00__APPROX_USER_PROFILES_top_5.pt.\n",
      "INFO:root:Model loaded from predictor/Models/mlp\\mlp_2023-04-08_17h28__BASIC_USER_PROFILES_50_no_sentiment.pt.\n",
      "INFO:root:Model loaded from predictor/Models/mlp\\mlp_2023-04-08_18h37__BASIC_USER_PROFILES_50_with_sentiment.pt.\n",
      "INFO:root:Testing model with User Profiles: BASIC_USER_PROFILES_50_with_sentiment.parquet\n"
     ]
    },
    {
     "name": "stdout",
     "output_type": "stream",
     "text": [
      "355\n"
     ]
    }
   ],
   "source": [
    "for user_profiles_name in user_profiles_list:\n",
    "    user_profiles = ProfilesManager().get_user_profiles(user_profiles_name)\n",
    "    train_test_data = DataPreparer.get_train_test_validate(businesses, reviews, tips, user_profiles)\n",
    "\n",
    "    trained_models = get_trained_models_for_user_profiles(train_test_data, user_profiles_name)\n",
    "    nn_trainer = NeuralNetworkTrainer(user_profiles_name, *train_test_data)\n",
    "    for model, optimizer in trained_models:\n",
    "        logging.info(f\"Testing model with User Profiles: {model.user_profiles_location}\")\n",
    "        model.eval()  # Prepare layers of model for evaluation\n",
    "        with torch.no_grad():\n",
    "            testX, testY = train_test_data[1], train_test_data[3]\n",
    "\n",
    "            testX = testX.head(500)\n",
    "            testY = testY.head(500)\n",
    "\n",
    "            dl = RestaurantReviewsDataset(testX.to_numpy(), testY.to_numpy())\n",
    "            test_loader = DataLoader(dl, batch_size=500)\n",
    "            for x, y in test_loader:\n",
    "                # Prepare data\n",
    "                x, y = DataPreparer.get_tensor_for_ml(x, y)\n",
    "                # Compute predictions and loss\n",
    "\n",
    "                predictions = model(x)\n",
    "                predictions = predictions.cpu().detach().numpy().squeeze().transpose()\n",
    "                y = y.cpu().detach().numpy().squeeze().transpose()\n",
    "                result = pd.DataFrame(data=[predictions, y]).transpose()\n",
    "                result.columns = ['predicted', 'actual']\n",
    "                result['predicted'] = result['predicted'].transform(lambda x: round(x * 4 + 1))\n",
    "                result['actual'] = result['actual'].transform(lambda x: int(x * 4 + 1))\n",
    "                result['difference'] =abs(result['predicted'] - result['actual'])\n",
    "                print(sum(result['difference']))\n"
   ],
   "metadata": {
    "collapsed": false,
    "ExecuteTime": {
     "start_time": "2023-04-08T19:36:01.658335Z",
     "end_time": "2023-04-08T19:37:05.439877Z"
    }
   }
  },
  {
   "cell_type": "code",
   "execution_count": 8,
   "outputs": [
    {
     "name": "stdout",
     "output_type": "stream",
     "text": [
      "\n",
      "Histogram of differences between prediction and actual:\n"
     ]
    },
    {
     "data": {
      "text/plain": "(array([211., 232.,  49.,   7.,   1.]),\n array([0., 1., 2., 3., 4., 5.]),\n <BarContainer object of 5 artists>)"
     },
     "execution_count": 8,
     "metadata": {},
     "output_type": "execute_result"
    },
    {
     "data": {
      "text/plain": "<Figure size 640x480 with 1 Axes>",
      "image/png": "[encoded data removed]"
     },
     "metadata": {},
     "output_type": "display_data"
    }
   ],
   "source": [
    "print()\n",
    "print(\"Histogram of differences between prediction and actual:\")\n",
    "plt.hist(result['difference'], bins=[0, 1, 2, 3, 4, 5], align='left', rwidth=0.5)"
   ],
   "metadata": {
    "collapsed": false,
    "ExecuteTime": {
     "start_time": "2023-04-08T19:37:05.411881Z",
     "end_time": "2023-04-08T19:37:05.520396Z"
    }
   }
  }
 ],
 "metadata": {
  "kernelspec": {
   "display_name": "Python 3",
   "language": "python",
   "name": "python3"
  },
  "language_info": {
   "codemirror_mode": {
    "name": "ipython",
    "version": 2
   },
   "file_extension": ".py",
   "mimetype": "text/x-python",
   "name": "python",
   "nbconvert_exporter": "python",
   "pygments_lexer": "ipython2",
   "version": "2.7.6"
  }
 },
 "nbformat": 4,
 "nbformat_minor": 0
}
