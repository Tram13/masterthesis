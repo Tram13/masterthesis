{
 "cells": [
  {
   "cell_type": "code",
   "execution_count": 1,
   "metadata": {
    "collapsed": true,
    "ExecuteTime": {
     "start_time": "2023-04-24T17:24:45.456945Z",
     "end_time": "2023-04-24T17:24:47.674053Z"
    }
   },
   "outputs": [],
   "source": [
    "import logging\n",
    "\n",
    "import torch\n",
    "from torch import optim\n",
    "from torch.utils.data import DataLoader\n",
    "from data.data_preparer import DataPreparer\n",
    "from src.predictor.multilayer_perceptron import MultiLayerPerceptronPredictor\n",
    "from src.predictor.neural_network_trainer import NeuralNetworkTrainer\n",
    "from src.data.data_reader import DataReader\n",
    "import os\n",
    "import pandas as pd\n",
    "from tools.RestaurantReviewsDataset import RestaurantReviewsDataset\n",
    "from tools.config_parser import ConfigParser\n",
    "from tools.profiles_manager import ProfilesManager\n",
    "import matplotlib.pyplot as plt\n",
    "\n",
    "logging.basicConfig(level=logging.INFO)\n",
    "\n",
    "while str(os.getcwd())[-3:] != 'src':  # Execute from src-directory root\n",
    "    os.chdir('..')"
   ]
  },
  {
   "cell_type": "code",
   "execution_count": 2,
   "outputs": [],
   "source": [
    "businesses, reviews, tips = DataReader().read_data()\n",
    "user_profiles_list = ProfilesManager().get_user_profiles_names()\n",
    "\n",
    "\n",
    "def get_trained_models_for_user_profiles(train_test_data_f: tuple, user_profiles_name_f: str):\n",
    "    trained_models_f = []\n",
    "    for model_location in os.scandir(ConfigParser().get_value('predictor_model', 'model_dir')):\n",
    "        trained_model = MultiLayerPerceptronPredictor(input_size=train_test_data_f[0].columns.size, output_size=1)\n",
    "        trained_optimizer = optim.Adam(trained_model.parameters(), lr=0.002)\n",
    "        try:\n",
    "            trained_model.load(trained_optimizer, model_location.path)\n",
    "            if trained_model.user_profiles_location == user_profiles_name_f:\n",
    "                trained_models_f.append((trained_model, trained_optimizer))\n",
    "        except RuntimeError:\n",
    "            pass\n",
    "    return trained_models_f\n",
    "\n",
    "\n",
    "def load_model(model_path: os.PathLike, businesses_f, reviews_f, tips_f):\n",
    "    # Dummy model just to get the user profiles and business profiles\n",
    "    user_profiles_location_f, business_profiles_location_f = MultiLayerPerceptronPredictor.get_profile_names(model_path)\n",
    "\n",
    "    # Load appropriate data\n",
    "    user_profiles_f = ProfilesManager().get_user_profiles(user_profiles_location_f)\n",
    "    business_profiles_f = None if business_profiles_location_f in {\"None\", \"\", \"none\", None} else ProfilesManager().get_business_profiles(business_profiles_location_f)\n",
    "\n",
    "    train_test_data_f = DataPreparer.get_train_test_validate(businesses_f, reviews_f, tips_f, user_profiles_f, business_profiles_f)\n",
    "\n",
    "    # Create valid trained model\n",
    "    trained_model = MultiLayerPerceptronPredictor(input_size=train_test_data_f[0].columns.size, output_size=1)\n",
    "    trained_optimizer = optim.Adam(trained_model.parameters(), lr=0.002)\n",
    "    trained_model.load(trained_optimizer, model_path)\n",
    "\n",
    "    return trained_model, trained_optimizer\n"
   ],
   "metadata": {
    "collapsed": false,
    "ExecuteTime": {
     "start_time": "2023-04-24T17:24:47.675051Z",
     "end_time": "2023-04-24T17:25:04.758840Z"
    }
   }
  },
  {
   "cell_type": "code",
   "execution_count": 5,
   "outputs": [
    {
     "name": "stderr",
     "output_type": "stream",
     "text": [
      "INFO:root:Model loaded from predictor/Models/mlp\\mlp_2023-04-21_16h46__APPROX_USER_PROFILES_top_10_normalize_False_None.pt.\n",
      "C:\\Users\\Arno\\AppData\\Local\\Temp\\ipykernel_14928\\3433217884.py:6: UserWarning: Matplotlib is currently using module://matplotlib_inline.backend_inline, which is a non-GUI backend, so cannot show the figure.\n",
      "  fig.show()\n",
      "INFO:root:Model loaded from predictor/Models/mlp\\mlp_2023-04-21_17h19__APPROX_USER_PROFILES_top_10_normalize_False_business_profile_approx_50_top5.pt.\n",
      "C:\\Users\\Arno\\AppData\\Local\\Temp\\ipykernel_14928\\3433217884.py:6: UserWarning: Matplotlib is currently using module://matplotlib_inline.backend_inline, which is a non-GUI backend, so cannot show the figure.\n",
      "  fig.show()\n"
     ]
    },
    {
     "ename": "KeyboardInterrupt",
     "evalue": "",
     "output_type": "error",
     "traceback": [
      "\u001B[1;31m---------------------------------------------------------------------------\u001B[0m",
      "\u001B[1;31mKeyboardInterrupt\u001B[0m                         Traceback (most recent call last)",
      "Cell \u001B[1;32mIn[5], line 4\u001B[0m\n\u001B[0;32m      2\u001B[0m \u001B[38;5;28;01mfor\u001B[39;00m dir_entry \u001B[38;5;129;01min\u001B[39;00m os\u001B[38;5;241m.\u001B[39mscandir(ConfigParser()\u001B[38;5;241m.\u001B[39mget_value(\u001B[38;5;124m\"\u001B[39m\u001B[38;5;124mpredictor_model\u001B[39m\u001B[38;5;124m\"\u001B[39m, \u001B[38;5;124m\"\u001B[39m\u001B[38;5;124mmodel_dir\u001B[39m\u001B[38;5;124m\"\u001B[39m)):\n\u001B[0;32m      3\u001B[0m     model_path \u001B[38;5;241m=\u001B[39m dir_entry\u001B[38;5;241m.\u001B[39mpath\n\u001B[1;32m----> 4\u001B[0m     model, optimizer \u001B[38;5;241m=\u001B[39m \u001B[43mload_model\u001B[49m\u001B[43m(\u001B[49m\u001B[43mmodel_path\u001B[49m\u001B[43m,\u001B[49m\u001B[43m \u001B[49m\u001B[43mbusinesses\u001B[49m\u001B[43m,\u001B[49m\u001B[43m \u001B[49m\u001B[43mreviews\u001B[49m\u001B[43m,\u001B[49m\u001B[43m \u001B[49m\u001B[43mtips\u001B[49m\u001B[43m)\u001B[49m\n\u001B[0;32m      5\u001B[0m     fig, ax \u001B[38;5;241m=\u001B[39m model\u001B[38;5;241m.\u001B[39mplot_loss_progress()\n\u001B[0;32m      6\u001B[0m     fig\u001B[38;5;241m.\u001B[39mshow()\n",
      "Cell \u001B[1;32mIn[2], line 27\u001B[0m, in \u001B[0;36mload_model\u001B[1;34m(model_path, businesses_f, reviews_f, tips_f)\u001B[0m\n\u001B[0;32m     24\u001B[0m user_profiles_f \u001B[38;5;241m=\u001B[39m ProfilesManager()\u001B[38;5;241m.\u001B[39mget_user_profiles(user_profiles_location_f)\n\u001B[0;32m     25\u001B[0m business_profiles_f \u001B[38;5;241m=\u001B[39m \u001B[38;5;28;01mNone\u001B[39;00m \u001B[38;5;28;01mif\u001B[39;00m business_profiles_location_f \u001B[38;5;129;01min\u001B[39;00m {\u001B[38;5;124m\"\u001B[39m\u001B[38;5;124mNone\u001B[39m\u001B[38;5;124m\"\u001B[39m, \u001B[38;5;124m\"\u001B[39m\u001B[38;5;124m\"\u001B[39m, \u001B[38;5;124m\"\u001B[39m\u001B[38;5;124mnone\u001B[39m\u001B[38;5;124m\"\u001B[39m, \u001B[38;5;28;01mNone\u001B[39;00m} \u001B[38;5;28;01melse\u001B[39;00m ProfilesManager()\u001B[38;5;241m.\u001B[39mget_business_profiles(business_profiles_location_f)\n\u001B[1;32m---> 27\u001B[0m train_test_data_f \u001B[38;5;241m=\u001B[39m \u001B[43mDataPreparer\u001B[49m\u001B[38;5;241;43m.\u001B[39;49m\u001B[43mget_train_test_validate\u001B[49m\u001B[43m(\u001B[49m\u001B[43mbusinesses_f\u001B[49m\u001B[43m,\u001B[49m\u001B[43m \u001B[49m\u001B[43mreviews_f\u001B[49m\u001B[43m,\u001B[49m\u001B[43m \u001B[49m\u001B[43mtips_f\u001B[49m\u001B[43m,\u001B[49m\u001B[43m \u001B[49m\u001B[43muser_profiles_f\u001B[49m\u001B[43m,\u001B[49m\u001B[43m \u001B[49m\u001B[43mbusiness_profiles_f\u001B[49m\u001B[43m)\u001B[49m\n\u001B[0;32m     29\u001B[0m \u001B[38;5;66;03m# Create valid trained model\u001B[39;00m\n\u001B[0;32m     30\u001B[0m trained_model \u001B[38;5;241m=\u001B[39m MultiLayerPerceptronPredictor(input_size\u001B[38;5;241m=\u001B[39mtrain_test_data_f[\u001B[38;5;241m0\u001B[39m]\u001B[38;5;241m.\u001B[39mcolumns\u001B[38;5;241m.\u001B[39msize, output_size\u001B[38;5;241m=\u001B[39m\u001B[38;5;241m1\u001B[39m)\n",
      "File \u001B[1;32mD:\\Documents\\Projects\\MasterThesis\\src\\data\\data_preparer.py:11\u001B[0m, in \u001B[0;36mDataPreparer.get_train_test_validate\u001B[1;34m(businesses, reviews, tips, user_profiles, business_profiles)\u001B[0m\n\u001B[0;32m      8\u001B[0m \u001B[38;5;129m@staticmethod\u001B[39m\n\u001B[0;32m      9\u001B[0m \u001B[38;5;28;01mdef\u001B[39;00m \u001B[38;5;21mget_train_test_validate\u001B[39m(businesses: pd\u001B[38;5;241m.\u001B[39mDataFrame, reviews: pd\u001B[38;5;241m.\u001B[39mDataFrame, tips: pd\u001B[38;5;241m.\u001B[39mDataFrame, user_profiles: pd\u001B[38;5;241m.\u001B[39mDataFrame, business_profiles: pd\u001B[38;5;241m.\u001B[39mDataFrame \u001B[38;5;241m=\u001B[39m \u001B[38;5;28;01mNone\u001B[39;00m) \\\n\u001B[0;32m     10\u001B[0m         \u001B[38;5;241m-\u001B[39m\u001B[38;5;241m>\u001B[39m \u001B[38;5;28mtuple\u001B[39m[pd\u001B[38;5;241m.\u001B[39mDataFrame, pd\u001B[38;5;241m.\u001B[39mDataFrame, pd\u001B[38;5;241m.\u001B[39mDataFrame, pd\u001B[38;5;241m.\u001B[39mDataFrame]:\n\u001B[1;32m---> 11\u001B[0m     ml_data \u001B[38;5;241m=\u001B[39m \u001B[43mDataPreparer\u001B[49m\u001B[38;5;241;43m.\u001B[39;49m\u001B[43mget_df_for_ml\u001B[49m\u001B[43m(\u001B[49m\u001B[43mbusinesses\u001B[49m\u001B[43m,\u001B[49m\u001B[43m \u001B[49m\u001B[43mreviews\u001B[49m\u001B[43m,\u001B[49m\u001B[43m \u001B[49m\u001B[43mtips\u001B[49m\u001B[43m,\u001B[49m\u001B[43m \u001B[49m\u001B[43muser_profiles\u001B[49m\u001B[43m,\u001B[49m\u001B[43m \u001B[49m\u001B[43mbusiness_profiles\u001B[49m\u001B[43m)\u001B[49m\u001B[38;5;241m.\u001B[39mreset_index()\n\u001B[0;32m     12\u001B[0m     output_ml \u001B[38;5;241m=\u001B[39m ml_data[\u001B[38;5;124m'\u001B[39m\u001B[38;5;124mstars_normalised\u001B[39m\u001B[38;5;124m'\u001B[39m]\n\u001B[0;32m     13\u001B[0m     input_ml \u001B[38;5;241m=\u001B[39m ml_data\u001B[38;5;241m.\u001B[39mdrop(columns\u001B[38;5;241m=\u001B[39m[\u001B[38;5;124m'\u001B[39m\u001B[38;5;124mstars_normalised\u001B[39m\u001B[38;5;124m'\u001B[39m, \u001B[38;5;124m'\u001B[39m\u001B[38;5;124mreview_id\u001B[39m\u001B[38;5;124m'\u001B[39m, \u001B[38;5;124m'\u001B[39m\u001B[38;5;124muser_id\u001B[39m\u001B[38;5;124m'\u001B[39m, \u001B[38;5;124m'\u001B[39m\u001B[38;5;124mbusiness_id\u001B[39m\u001B[38;5;124m'\u001B[39m])\n",
      "File \u001B[1;32mD:\\Documents\\Projects\\MasterThesis\\src\\data\\data_preparer.py:34\u001B[0m, in \u001B[0;36mDataPreparer.get_df_for_ml\u001B[1;34m(businesses, reviews, tips, user_profiles, business_profiles)\u001B[0m\n\u001B[0;32m     30\u001B[0m user_reviewed_restaurant \u001B[38;5;241m=\u001B[39m user_reviewed_restaurant\u001B[38;5;241m.\u001B[39mjoin(businesses, on\u001B[38;5;241m=\u001B[39m\u001B[38;5;124m'\u001B[39m\u001B[38;5;124mbusiness_id\u001B[39m\u001B[38;5;124m'\u001B[39m)\n\u001B[0;32m     32\u001B[0m \u001B[38;5;66;03m# users = users.drop(columns=['name', 'friends'])  # We don't use the users dataset at this moment\u001B[39;00m\n\u001B[0;32m     33\u001B[0m \u001B[38;5;66;03m# user_reviewed_restaurant = user_reviewed_restaurant.join(users, on='user_id')  # We don't use the users dataset at this moment\u001B[39;00m\n\u001B[1;32m---> 34\u001B[0m user_reviewed_restaurant \u001B[38;5;241m=\u001B[39m \u001B[43muser_reviewed_restaurant\u001B[49m\u001B[38;5;241;43m.\u001B[39;49m\u001B[43mset_index\u001B[49m\u001B[43m(\u001B[49m\u001B[43m[\u001B[49m\u001B[38;5;124;43m'\u001B[39;49m\u001B[38;5;124;43muser_id\u001B[39;49m\u001B[38;5;124;43m'\u001B[39;49m\u001B[43m,\u001B[49m\u001B[43m \u001B[49m\u001B[38;5;124;43m'\u001B[39;49m\u001B[38;5;124;43mbusiness_id\u001B[39;49m\u001B[38;5;124;43m'\u001B[39;49m\u001B[43m]\u001B[49m\u001B[43m,\u001B[49m\u001B[43m \u001B[49m\u001B[43mappend\u001B[49m\u001B[38;5;241;43m=\u001B[39;49m\u001B[38;5;28;43;01mTrue\u001B[39;49;00m\u001B[43m)\u001B[49m\n\u001B[0;32m     36\u001B[0m \u001B[38;5;28;01mreturn\u001B[39;00m user_reviewed_restaurant\n",
      "File \u001B[1;32mD:\\Documents\\Projects\\MasterThesis\\.venv_windows\\lib\\site-packages\\pandas\\util\\_decorators.py:331\u001B[0m, in \u001B[0;36mdeprecate_nonkeyword_arguments.<locals>.decorate.<locals>.wrapper\u001B[1;34m(*args, **kwargs)\u001B[0m\n\u001B[0;32m    325\u001B[0m \u001B[38;5;28;01mif\u001B[39;00m \u001B[38;5;28mlen\u001B[39m(args) \u001B[38;5;241m>\u001B[39m num_allow_args:\n\u001B[0;32m    326\u001B[0m     warnings\u001B[38;5;241m.\u001B[39mwarn(\n\u001B[0;32m    327\u001B[0m         msg\u001B[38;5;241m.\u001B[39mformat(arguments\u001B[38;5;241m=\u001B[39m_format_argument_list(allow_args)),\n\u001B[0;32m    328\u001B[0m         \u001B[38;5;167;01mFutureWarning\u001B[39;00m,\n\u001B[0;32m    329\u001B[0m         stacklevel\u001B[38;5;241m=\u001B[39mfind_stack_level(),\n\u001B[0;32m    330\u001B[0m     )\n\u001B[1;32m--> 331\u001B[0m \u001B[38;5;28;01mreturn\u001B[39;00m func(\u001B[38;5;241m*\u001B[39margs, \u001B[38;5;241m*\u001B[39m\u001B[38;5;241m*\u001B[39mkwargs)\n",
      "File \u001B[1;32mD:\\Documents\\Projects\\MasterThesis\\.venv_windows\\lib\\site-packages\\pandas\\core\\frame.py:6017\u001B[0m, in \u001B[0;36mDataFrame.set_index\u001B[1;34m(self, keys, drop, append, inplace, verify_integrity)\u001B[0m\n\u001B[0;32m   6015\u001B[0m     frame \u001B[38;5;241m=\u001B[39m \u001B[38;5;28mself\u001B[39m\n\u001B[0;32m   6016\u001B[0m \u001B[38;5;28;01melse\u001B[39;00m:\n\u001B[1;32m-> 6017\u001B[0m     frame \u001B[38;5;241m=\u001B[39m \u001B[38;5;28;43mself\u001B[39;49m\u001B[38;5;241;43m.\u001B[39;49m\u001B[43mcopy\u001B[49m\u001B[43m(\u001B[49m\u001B[43m)\u001B[49m\n\u001B[0;32m   6019\u001B[0m arrays \u001B[38;5;241m=\u001B[39m []\n\u001B[0;32m   6020\u001B[0m names: \u001B[38;5;28mlist\u001B[39m[Hashable] \u001B[38;5;241m=\u001B[39m []\n",
      "File \u001B[1;32mD:\\Documents\\Projects\\MasterThesis\\.venv_windows\\lib\\site-packages\\pandas\\core\\generic.py:6368\u001B[0m, in \u001B[0;36mNDFrame.copy\u001B[1;34m(self, deep)\u001B[0m\n\u001B[0;32m   6258\u001B[0m \u001B[38;5;129m@final\u001B[39m\n\u001B[0;32m   6259\u001B[0m \u001B[38;5;28;01mdef\u001B[39;00m \u001B[38;5;21mcopy\u001B[39m(\u001B[38;5;28mself\u001B[39m: NDFrameT, deep: bool_t \u001B[38;5;241m|\u001B[39m \u001B[38;5;28;01mNone\u001B[39;00m \u001B[38;5;241m=\u001B[39m \u001B[38;5;28;01mTrue\u001B[39;00m) \u001B[38;5;241m-\u001B[39m\u001B[38;5;241m>\u001B[39m NDFrameT:\n\u001B[0;32m   6260\u001B[0m \u001B[38;5;250m    \u001B[39m\u001B[38;5;124;03m\"\"\"\u001B[39;00m\n\u001B[0;32m   6261\u001B[0m \u001B[38;5;124;03m    Make a copy of this object's indices and data.\u001B[39;00m\n\u001B[0;32m   6262\u001B[0m \n\u001B[1;32m   (...)\u001B[0m\n\u001B[0;32m   6366\u001B[0m \u001B[38;5;124;03m    dtype: object\u001B[39;00m\n\u001B[0;32m   6367\u001B[0m \u001B[38;5;124;03m    \"\"\"\u001B[39;00m\n\u001B[1;32m-> 6368\u001B[0m     data \u001B[38;5;241m=\u001B[39m \u001B[38;5;28;43mself\u001B[39;49m\u001B[38;5;241;43m.\u001B[39;49m\u001B[43m_mgr\u001B[49m\u001B[38;5;241;43m.\u001B[39;49m\u001B[43mcopy\u001B[49m\u001B[43m(\u001B[49m\u001B[43mdeep\u001B[49m\u001B[38;5;241;43m=\u001B[39;49m\u001B[43mdeep\u001B[49m\u001B[43m)\u001B[49m\n\u001B[0;32m   6369\u001B[0m     \u001B[38;5;28mself\u001B[39m\u001B[38;5;241m.\u001B[39m_clear_item_cache()\n\u001B[0;32m   6370\u001B[0m     \u001B[38;5;28;01mreturn\u001B[39;00m \u001B[38;5;28mself\u001B[39m\u001B[38;5;241m.\u001B[39m_constructor(data)\u001B[38;5;241m.\u001B[39m__finalize__(\u001B[38;5;28mself\u001B[39m, method\u001B[38;5;241m=\u001B[39m\u001B[38;5;124m\"\u001B[39m\u001B[38;5;124mcopy\u001B[39m\u001B[38;5;124m\"\u001B[39m)\n",
      "File \u001B[1;32mD:\\Documents\\Projects\\MasterThesis\\.venv_windows\\lib\\site-packages\\pandas\\core\\internals\\managers.py:670\u001B[0m, in \u001B[0;36mBaseBlockManager.copy\u001B[1;34m(self, deep)\u001B[0m\n\u001B[0;32m    667\u001B[0m         res\u001B[38;5;241m.\u001B[39m_blklocs \u001B[38;5;241m=\u001B[39m \u001B[38;5;28mself\u001B[39m\u001B[38;5;241m.\u001B[39m_blklocs\u001B[38;5;241m.\u001B[39mcopy()\n\u001B[0;32m    669\u001B[0m \u001B[38;5;28;01mif\u001B[39;00m deep:\n\u001B[1;32m--> 670\u001B[0m     \u001B[43mres\u001B[49m\u001B[38;5;241;43m.\u001B[39;49m\u001B[43m_consolidate_inplace\u001B[49m\u001B[43m(\u001B[49m\u001B[43m)\u001B[49m\n\u001B[0;32m    671\u001B[0m \u001B[38;5;28;01mreturn\u001B[39;00m res\n",
      "File \u001B[1;32mD:\\Documents\\Projects\\MasterThesis\\.venv_windows\\lib\\site-packages\\pandas\\core\\internals\\managers.py:1871\u001B[0m, in \u001B[0;36mBlockManager._consolidate_inplace\u001B[1;34m(self)\u001B[0m\n\u001B[0;32m   1869\u001B[0m \u001B[38;5;28;01mif\u001B[39;00m \u001B[38;5;129;01mnot\u001B[39;00m \u001B[38;5;28mself\u001B[39m\u001B[38;5;241m.\u001B[39mis_consolidated():\n\u001B[0;32m   1870\u001B[0m     \u001B[38;5;28;01mif\u001B[39;00m \u001B[38;5;28mself\u001B[39m\u001B[38;5;241m.\u001B[39mrefs \u001B[38;5;129;01mis\u001B[39;00m \u001B[38;5;28;01mNone\u001B[39;00m:\n\u001B[1;32m-> 1871\u001B[0m         \u001B[38;5;28mself\u001B[39m\u001B[38;5;241m.\u001B[39mblocks \u001B[38;5;241m=\u001B[39m \u001B[43m_consolidate\u001B[49m\u001B[43m(\u001B[49m\u001B[38;5;28;43mself\u001B[39;49m\u001B[38;5;241;43m.\u001B[39;49m\u001B[43mblocks\u001B[49m\u001B[43m)\u001B[49m\n\u001B[0;32m   1872\u001B[0m     \u001B[38;5;28;01melse\u001B[39;00m:\n\u001B[0;32m   1873\u001B[0m         \u001B[38;5;28mself\u001B[39m\u001B[38;5;241m.\u001B[39mblocks, \u001B[38;5;28mself\u001B[39m\u001B[38;5;241m.\u001B[39mrefs \u001B[38;5;241m=\u001B[39m _consolidate_with_refs(\u001B[38;5;28mself\u001B[39m\u001B[38;5;241m.\u001B[39mblocks, \u001B[38;5;28mself\u001B[39m\u001B[38;5;241m.\u001B[39mrefs)\n",
      "File \u001B[1;32mD:\\Documents\\Projects\\MasterThesis\\.venv_windows\\lib\\site-packages\\pandas\\core\\internals\\managers.py:2329\u001B[0m, in \u001B[0;36m_consolidate\u001B[1;34m(blocks)\u001B[0m\n\u001B[0;32m   2327\u001B[0m new_blocks: \u001B[38;5;28mlist\u001B[39m[Block] \u001B[38;5;241m=\u001B[39m []\n\u001B[0;32m   2328\u001B[0m \u001B[38;5;28;01mfor\u001B[39;00m (_can_consolidate, dtype), group_blocks \u001B[38;5;129;01min\u001B[39;00m grouper:\n\u001B[1;32m-> 2329\u001B[0m     merged_blocks, _ \u001B[38;5;241m=\u001B[39m \u001B[43m_merge_blocks\u001B[49m\u001B[43m(\u001B[49m\n\u001B[0;32m   2330\u001B[0m \u001B[43m        \u001B[49m\u001B[38;5;28;43mlist\u001B[39;49m\u001B[43m(\u001B[49m\u001B[43mgroup_blocks\u001B[49m\u001B[43m)\u001B[49m\u001B[43m,\u001B[49m\u001B[43m \u001B[49m\u001B[43mdtype\u001B[49m\u001B[38;5;241;43m=\u001B[39;49m\u001B[43mdtype\u001B[49m\u001B[43m,\u001B[49m\u001B[43m \u001B[49m\u001B[43mcan_consolidate\u001B[49m\u001B[38;5;241;43m=\u001B[39;49m\u001B[43m_can_consolidate\u001B[49m\n\u001B[0;32m   2331\u001B[0m \u001B[43m    \u001B[49m\u001B[43m)\u001B[49m\n\u001B[0;32m   2332\u001B[0m     new_blocks \u001B[38;5;241m=\u001B[39m extend_blocks(merged_blocks, new_blocks)\n\u001B[0;32m   2333\u001B[0m \u001B[38;5;28;01mreturn\u001B[39;00m \u001B[38;5;28mtuple\u001B[39m(new_blocks)\n",
      "File \u001B[1;32mD:\\Documents\\Projects\\MasterThesis\\.venv_windows\\lib\\site-packages\\pandas\\core\\internals\\managers.py:2388\u001B[0m, in \u001B[0;36m_merge_blocks\u001B[1;34m(blocks, dtype, can_consolidate)\u001B[0m\n\u001B[0;32m   2385\u001B[0m     new_values \u001B[38;5;241m=\u001B[39m bvals2[\u001B[38;5;241m0\u001B[39m]\u001B[38;5;241m.\u001B[39m_concat_same_type(bvals2, axis\u001B[38;5;241m=\u001B[39m\u001B[38;5;241m0\u001B[39m)\n\u001B[0;32m   2387\u001B[0m argsort \u001B[38;5;241m=\u001B[39m np\u001B[38;5;241m.\u001B[39margsort(new_mgr_locs)\n\u001B[1;32m-> 2388\u001B[0m new_values \u001B[38;5;241m=\u001B[39m \u001B[43mnew_values\u001B[49m\u001B[43m[\u001B[49m\u001B[43margsort\u001B[49m\u001B[43m]\u001B[49m\n\u001B[0;32m   2389\u001B[0m new_mgr_locs \u001B[38;5;241m=\u001B[39m new_mgr_locs[argsort]\n\u001B[0;32m   2391\u001B[0m bp \u001B[38;5;241m=\u001B[39m BlockPlacement(new_mgr_locs)\n",
      "\u001B[1;31mKeyboardInterrupt\u001B[0m: "
     ]
    }
   ],
   "source": [
    "for dir_entry in os.scandir(ConfigParser().get_value(\"predictor_model\", \"model_dir\")):\n",
    "    model_path = dir_entry.path\n",
    "    model, optimizer = load_model(model_path, businesses, reviews, tips)\n",
    "    fig, ax = model.plot_loss_progress()\n",
    "    fig.show()\n",
    "\n"
   ],
   "metadata": {
    "collapsed": false,
    "ExecuteTime": {
     "start_time": "2023-04-24T17:25:18.100721Z",
     "end_time": "2023-04-24T17:25:27.333836Z"
    }
   }
  },
  {
   "cell_type": "code",
   "execution_count": null,
   "outputs": [],
   "source": [
    "# Old code\n",
    "\n",
    "for user_profiles_name in user_profiles_list:\n",
    "    user_profiles = ProfilesManager().get_user_profiles(user_profiles_name)\n",
    "    train_test_data = DataPreparer.get_train_test_validate(businesses, reviews, tips, user_profiles)\n",
    "\n",
    "    trained_models = get_trained_models_for_user_profiles(train_test_data, user_profiles_name)\n",
    "    nn_trainer = NeuralNetworkTrainer(user_profiles_name, *train_test_data)\n",
    "    for model, optimizer in trained_models:\n",
    "        logging.info(f\"Testing model with User Profiles: {model.user_profiles_location}\")\n",
    "        model.eval()  # Prepare layers of model for evaluation\n",
    "        with torch.no_grad():\n",
    "            testX, testY = train_test_data[1], train_test_data[3]\n",
    "\n",
    "            testX = testX.head(500)\n",
    "            testY = testY.head(500)\n",
    "\n",
    "            dl = RestaurantReviewsDataset(testX.to_numpy(), testY.to_numpy())\n",
    "            test_loader = DataLoader(dl, batch_size=500)\n",
    "            for x, y in test_loader:\n",
    "                # Prepare data\n",
    "                x, y = DataPreparer.get_tensor_for_ml(x, y)\n",
    "                # Compute predictions and loss\n",
    "\n",
    "                predictions = model(x)\n",
    "                predictions = predictions.cpu().detach().numpy().squeeze().transpose()\n",
    "                y = y.cpu().detach().numpy().squeeze().transpose()\n",
    "                result = pd.DataFrame(data=[predictions, y]).transpose()\n",
    "                result.columns = ['predicted', 'actual']\n",
    "                result['predicted'] = result['predicted'].transform(lambda x: round(x * 4 + 1))\n",
    "                result['actual'] = result['actual'].transform(lambda x: int(x * 4 + 1))\n",
    "                result['difference'] =abs(result['predicted'] - result['actual'])\n",
    "                print(sum(result['difference']))\n"
   ],
   "metadata": {
    "collapsed": false
   }
  },
  {
   "cell_type": "code",
   "execution_count": 8,
   "outputs": [
    {
     "name": "stdout",
     "output_type": "stream",
     "text": [
      "\n",
      "Histogram of differences between prediction and actual:\n"
     ]
    },
    {
     "data": {
      "text/plain": "(array([211., 232.,  49.,   7.,   1.]),\n array([0., 1., 2., 3., 4., 5.]),\n <BarContainer object of 5 artists>)"
     },
     "execution_count": 8,
     "metadata": {},
     "output_type": "execute_result"
    },
    {
     "data": {
      "text/plain": "<Figure size 640x480 with 1 Axes>",
      "image/png": "[encoded data removed]"
     },
     "metadata": {},
     "output_type": "display_data"
    }
   ],
   "source": [
    "print()\n",
    "print(\"Histogram of differences between prediction and actual:\")\n",
    "plt.hist(result['difference'], bins=[0, 1, 2, 3, 4, 5], align='left', rwidth=0.5)"
   ],
   "metadata": {
    "collapsed": false,
    "ExecuteTime": {
     "start_time": "2023-04-08T19:37:05.411881Z",
     "end_time": "2023-04-08T19:37:05.520396Z"
    }
   }
  }
 ],
 "metadata": {
  "kernelspec": {
   "display_name": "Python 3",
   "language": "python",
   "name": "python3"
  },
  "language_info": {
   "codemirror_mode": {
    "name": "ipython",
    "version": 2
   },
   "file_extension": ".py",
   "mimetype": "text/x-python",
   "name": "python",
   "nbconvert_exporter": "python",
   "pygments_lexer": "ipython2",
   "version": "2.7.6"
  }
 },
 "nbformat": 4,
 "nbformat_minor": 0
}
