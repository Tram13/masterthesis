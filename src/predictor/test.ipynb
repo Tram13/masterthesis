{
 "cells": [
  {
   "cell_type": "code",
   "execution_count": 3,
   "metadata": {
    "collapsed": true,
    "ExecuteTime": {
     "start_time": "2023-04-03T00:09:18.919627Z",
     "end_time": "2023-04-03T00:09:18.940176Z"
    }
   },
   "outputs": [],
   "source": [
    "import torch\n",
    "from torch import optim\n",
    "from torch.utils.data import DataLoader\n",
    "from data.data_preparer import DataPreparer\n",
    "from src.predictor.multilayer_perceptron import MultiLayerPerceptronPredictor\n",
    "from src.predictor.neural_network_trainer import NeuralNetworkTrainer\n",
    "from src.data.data_reader import DataReader\n",
    "import os\n",
    "import pandas as pd\n",
    "from tools.RestaurantReviewsDataset import RestaurantReviewsDataset\n",
    "\n",
    "while str(os.getcwd())[-3:] != 'src':  # Execute from src-directory root\n",
    "    os.chdir('..')"
   ]
  },
  {
   "cell_type": "code",
   "execution_count": 4,
   "outputs": [
    {
     "data": {
      "text/plain": "(MultiLayerPerceptronPredictor(\n   (flatten): Flatten(start_dim=1, end_dim=-1)\n   (linear_stack): Sequential(\n     (0): Linear(in_features=150, out_features=75, bias=True)\n     (1): Sigmoid()\n     (2): Linear(in_features=75, out_features=37, bias=True)\n     (3): ReLU()\n     (4): Linear(in_features=37, out_features=18, bias=True)\n     (5): Sigmoid()\n     (6): Linear(in_features=18, out_features=9, bias=True)\n     (7): Sigmoid()\n     (8): Linear(in_features=9, out_features=1, bias=True)\n   )\n ),\n Adam (\n Parameter Group 0\n     amsgrad: False\n     betas: (0.9, 0.999)\n     capturable: False\n     differentiable: False\n     eps: 1e-08\n     foreach: None\n     fused: None\n     lr: 0.002\n     maximize: False\n     weight_decay: 0\n ))"
     },
     "execution_count": 4,
     "metadata": {},
     "output_type": "execute_result"
    }
   ],
   "source": [
    "businesses, reviews, tips = DataReader().read_data()\n",
    "user_profiles = pd.read_parquet(\"NLP/FIRST_USER_PROFILES.parquet\")\n",
    "train_test_data = DataPreparer.get_train_test_validate(businesses, reviews, tips, user_profiles)\n",
    "\n",
    "model = MultiLayerPerceptronPredictor(input_size=train_test_data[0].columns.size, output_size=1)\n",
    "optimizer = optim.Adam(model.parameters(), lr=0.002)\n",
    "\n",
    "nn_trainer = NeuralNetworkTrainer(*train_test_data)\n",
    "# model, optimizer = nn_trainer.train(model, optimizer, epochs=50 * 4, save_to_disk=True)\n",
    "model.load(optimizer)"
   ],
   "metadata": {
    "collapsed": false,
    "ExecuteTime": {
     "start_time": "2023-04-03T00:09:22.000541Z",
     "end_time": "2023-04-03T00:09:53.571559Z"
    }
   }
  },
  {
   "cell_type": "code",
   "execution_count": 39,
   "outputs": [
    {
     "name": "stdout",
     "output_type": "stream",
     "text": [
      "100.61526657268405\n"
     ]
    },
    {
     "data": {
      "text/plain": "     predicted  actual  difference\n0     0.229630    0.25    0.020370\n1     0.712303    1.00    0.287697\n2     0.734373    0.75    0.015627\n3     0.309933    0.75    0.440067\n4     0.967031    0.75    0.217031\n..         ...     ...         ...\n495   0.234370    0.75    0.515630\n496   0.986426    0.75    0.236426\n497   0.750992    0.25    0.500992\n498   0.270655    0.25    0.020655\n499   0.749192    1.00    0.250808\n\n[500 rows x 3 columns]",
      "text/html": "<div>\n<style scoped>\n    .dataframe tbody tr th:only-of-type {\n        vertical-align: middle;\n    }\n\n    .dataframe tbody tr th {\n        vertical-align: top;\n    }\n\n    .dataframe thead th {\n        text-align: right;\n    }\n</style>\n<table border=\"1\" class=\"dataframe\">\n  <thead>\n    <tr style=\"text-align: right;\">\n      <th></th>\n      <th>predicted</th>\n      <th>actual</th>\n      <th>difference</th>\n    </tr>\n  </thead>\n  <tbody>\n    <tr>\n      <th>0</th>\n      <td>0.229630</td>\n      <td>0.25</td>\n      <td>0.020370</td>\n    </tr>\n    <tr>\n      <th>1</th>\n      <td>0.712303</td>\n      <td>1.00</td>\n      <td>0.287697</td>\n    </tr>\n    <tr>\n      <th>2</th>\n      <td>0.734373</td>\n      <td>0.75</td>\n      <td>0.015627</td>\n    </tr>\n    <tr>\n      <th>3</th>\n      <td>0.309933</td>\n      <td>0.75</td>\n      <td>0.440067</td>\n    </tr>\n    <tr>\n      <th>4</th>\n      <td>0.967031</td>\n      <td>0.75</td>\n      <td>0.217031</td>\n    </tr>\n    <tr>\n      <th>...</th>\n      <td>...</td>\n      <td>...</td>\n      <td>...</td>\n    </tr>\n    <tr>\n      <th>495</th>\n      <td>0.234370</td>\n      <td>0.75</td>\n      <td>0.515630</td>\n    </tr>\n    <tr>\n      <th>496</th>\n      <td>0.986426</td>\n      <td>0.75</td>\n      <td>0.236426</td>\n    </tr>\n    <tr>\n      <th>497</th>\n      <td>0.750992</td>\n      <td>0.25</td>\n      <td>0.500992</td>\n    </tr>\n    <tr>\n      <th>498</th>\n      <td>0.270655</td>\n      <td>0.25</td>\n      <td>0.020655</td>\n    </tr>\n    <tr>\n      <th>499</th>\n      <td>0.749192</td>\n      <td>1.00</td>\n      <td>0.250808</td>\n    </tr>\n  </tbody>\n</table>\n<p>500 rows × 3 columns</p>\n</div>"
     },
     "execution_count": 39,
     "metadata": {},
     "output_type": "execute_result"
    }
   ],
   "source": [
    "model.eval()  # Prepare layers of model for evaluation\n",
    "import matplotlib.pyplot as plt\n",
    "\n",
    "result = \"\"\n",
    "\n",
    "with torch.no_grad():\n",
    "    testX, testY = train_test_data[1], train_test_data[3]\n",
    "\n",
    "    testX = testX.head(500)\n",
    "    testY = testY.head(500)\n",
    "\n",
    "    dl = RestaurantReviewsDataset(testX.to_numpy(), testY.to_numpy())\n",
    "    test_loader = DataLoader(dl, batch_size=500)\n",
    "    for x, y in test_loader:\n",
    "        # Prepare data\n",
    "        x, y = DataPreparer.get_tensor_for_ml(x, y)\n",
    "        # Compute predictions and loss\n",
    "\n",
    "        predictions = model(x)\n",
    "        predictions = predictions.cpu().detach().numpy().squeeze().transpose()\n",
    "        y = y.cpu().detach().numpy().squeeze().transpose()\n",
    "        result = pd.DataFrame(data=[predictions, y]).transpose()\n",
    "        result.columns = ['predicted', 'actual']\n",
    "        #result['predicted'] = result['predicted'].transform(lambda x: round(x * 4 + 1))\n",
    "        #result['actual'] = result['actual'].transform(lambda x: int(x * 4 + 1))\n",
    "        result['difference'] =abs(result['predicted'] - result['actual'])\n",
    "        print(sum(result['difference']))\n",
    "\n",
    "\n",
    "result"
   ],
   "metadata": {
    "collapsed": false,
    "ExecuteTime": {
     "start_time": "2023-04-03T00:37:19.728680Z",
     "end_time": "2023-04-03T00:37:19.761850Z"
    }
   }
  },
  {
   "cell_type": "code",
   "execution_count": 38,
   "outputs": [
    {
     "name": "stdout",
     "output_type": "stream",
     "text": [
      "Histogram of differences between prediction and actual:\n"
     ]
    },
    {
     "data": {
      "text/plain": "(array([213.,   0., 216.,   0.,   0.,  51.,   0.,  16.,   0.,   4.]),\n array([0. , 0.4, 0.8, 1.2, 1.6, 2. , 2.4, 2.8, 3.2, 3.6, 4. ]),\n <BarContainer object of 10 artists>)"
     },
     "execution_count": 38,
     "metadata": {},
     "output_type": "execute_result"
    },
    {
     "data": {
      "text/plain": "<Figure size 640x480 with 1 Axes>",
      "image/png": "[encoded data removed]"
     },
     "metadata": {},
     "output_type": "display_data"
    }
   ],
   "source": [
    "print(\"Histogram of differences between prediction and actual:\")\n",
    "plt.hist(result['difference'])"
   ],
   "metadata": {
    "collapsed": false,
    "ExecuteTime": {
     "start_time": "2023-04-03T00:32:10.890835Z",
     "end_time": "2023-04-03T00:32:11.002650Z"
    }
   }
  }
 ],
 "metadata": {
  "kernelspec": {
   "display_name": "Python 3",
   "language": "python",
   "name": "python3"
  },
  "language_info": {
   "codemirror_mode": {
    "name": "ipython",
    "version": 2
   },
   "file_extension": ".py",
   "mimetype": "text/x-python",
   "name": "python",
   "nbconvert_exporter": "python",
   "pygments_lexer": "ipython2",
   "version": "2.7.6"
  }
 },
 "nbformat": 4,
 "nbformat_minor": 0
}
