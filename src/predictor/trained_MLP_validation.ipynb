{
 "cells": [
  {
   "cell_type": "code",
   "execution_count": 2,
   "metadata": {
    "collapsed": true,
    "ExecuteTime": {
     "end_time": "2023-05-08T23:01:02.025506500Z",
     "start_time": "2023-05-08T23:00:55.006985100Z"
    }
   },
   "outputs": [],
   "source": [
    "import logging\n",
    "import os\n",
    "import gc\n",
    "\n",
    "import matplotlib.pyplot as plt\n",
    "import pandas as pd\n",
    "import torch\n",
    "from torch import optim, nn\n",
    "from torch.utils.data import DataLoader\n",
    "from tqdm.notebook import tqdm\n",
    "\n",
    "from data.data_preparer import DataPreparer\n",
    "from src.data.data_reader import DataReader\n",
    "from src.predictor.multilayer_perceptron import MultiLayerPerceptronPredictor\n",
    "from tools.RestaurantReviewsDataset import RestaurantReviewsDataset\n",
    "from tools.config_parser import ConfigParser\n",
    "\n",
    "logging.basicConfig(level=logging.INFO)\n",
    "\n",
    "while str(os.getcwd())[-3:] != 'src':  # Execute from src-directory root\n",
    "    os.chdir('..')"
   ]
  },
  {
   "cell_type": "code",
   "execution_count": 3,
   "outputs": [
    {
     "name": "stderr",
     "output_type": "stream",
     "text": [
      "Could not reach caches!                                                               \n",
      "Reading files from disk:  60%|██████    | 3/5 [04:13<03:02, 91.47s/it, current: normalising] \n",
      "Applying normalisation for user profiles based on labels:   0%|          | 0/98 [00:00<?, ?it/s]\u001B[A\n",
      "Applying normalisation for user profiles based on labels:   1%|          | 1/98 [00:00<00:33,  2.90it/s]\u001B[A\n",
      "Applying normalisation for user profiles based on labels:   7%|▋         | 7/98 [00:00<00:04, 19.47it/s]\u001B[A\n",
      "Applying normalisation for user profiles based on labels:  13%|█▎        | 13/98 [00:00<00:02, 31.26it/s]\u001B[A\n",
      "Applying normalisation for user profiles based on labels:  19%|█▉        | 19/98 [00:00<00:01, 39.60it/s]\u001B[A\n",
      "Applying normalisation for user profiles based on labels:  27%|██▋       | 26/98 [00:00<00:01, 46.90it/s]\u001B[A\n",
      "Applying normalisation for user profiles based on labels:  34%|███▎      | 33/98 [00:00<00:01, 51.77it/s]\u001B[A\n",
      "Applying normalisation for user profiles based on labels:  40%|███▉      | 39/98 [00:00<00:01, 51.88it/s]\u001B[A\n",
      "Applying normalisation for user profiles based on labels:  46%|████▌     | 45/98 [00:01<00:01, 52.81it/s]\u001B[A\n",
      "Applying normalisation for user profiles based on labels:  52%|█████▏    | 51/98 [00:01<00:00, 54.67it/s]\u001B[A\n",
      "Applying normalisation for user profiles based on labels:  58%|█████▊    | 57/98 [00:01<00:00, 55.63it/s]\u001B[A\n",
      "Applying normalisation for user profiles based on labels:  65%|██████▌   | 64/98 [00:01<00:00, 57.69it/s]\u001B[A\n",
      "Applying normalisation for user profiles based on labels:  72%|███████▏  | 71/98 [00:01<00:00, 59.00it/s]\u001B[A\n",
      "Applying normalisation for user profiles based on labels:  79%|███████▊  | 77/98 [00:01<00:00, 57.77it/s]\u001B[A\n",
      "Applying normalisation for user profiles based on labels:  85%|████████▍ | 83/98 [00:01<00:00, 57.66it/s]\u001B[A\n",
      "Applying normalisation for user profiles based on labels:  91%|█████████ | 89/98 [00:01<00:00, 57.27it/s]\u001B[A\n",
      "Applying normalisation for user profiles based on labels:  97%|█████████▋| 95/98 [00:01<00:00, 57.47it/s]\u001B[A\n",
      "                                                                                                         \u001B[A\n",
      "Applying normalisation for user profiles based on labels:   0%|          | 0/98 [00:00<?, ?it/s]\u001B[A\n",
      "Applying normalisation for user profiles based on labels:   3%|▎         | 3/98 [00:00<00:03, 28.97it/s]\u001B[A\n",
      "Applying normalisation for user profiles based on labels:  13%|█▎        | 13/98 [00:00<00:01, 68.36it/s]\u001B[A\n",
      "Applying normalisation for user profiles based on labels:  22%|██▏       | 22/98 [00:00<00:01, 72.18it/s]\u001B[A\n",
      "Applying normalisation for user profiles based on labels:  32%|███▏      | 31/98 [00:00<00:00, 73.47it/s]\u001B[A\n",
      "Applying normalisation for user profiles based on labels:  42%|████▏     | 41/98 [00:00<00:00, 79.74it/s]\u001B[A\n",
      "Applying normalisation for user profiles based on labels:  52%|█████▏    | 51/98 [00:00<00:00, 83.86it/s]\u001B[A\n",
      "Applying normalisation for user profiles based on labels:  62%|██████▏   | 61/98 [00:00<00:00, 86.52it/s]\u001B[A\n",
      "Applying normalisation for user profiles based on labels:  72%|███████▏  | 71/98 [00:00<00:00, 88.39it/s]\u001B[A\n",
      "Applying normalisation for user profiles based on labels:  82%|████████▏ | 80/98 [00:00<00:00, 87.45it/s]\u001B[A\n",
      "Applying normalisation for user profiles based on labels:  91%|█████████ | 89/98 [00:01<00:00, 86.30it/s]\u001B[A\n",
      "Applying normalisation for user profiles based on labels: 100%|██████████| 98/98 [00:01<00:00, 86.00it/s]\u001B[A\n",
      "                                                                                                           A\r"
     ]
    }
   ],
   "source": [
    "_, (b_test, r_test, u_test) = DataReader().read_data()"
   ],
   "metadata": {
    "collapsed": false,
    "ExecuteTime": {
     "end_time": "2023-05-08T23:07:18.021457600Z",
     "start_time": "2023-05-08T23:01:02.026509Z"
    }
   }
  },
  {
   "cell_type": "code",
   "execution_count": 4,
   "outputs": [],
   "source": [
    "def load_model_with_test_data(model_path: os.PathLike, b_test_f, r_test_f, u_test_f):\n",
    "\n",
    "    # Create valid trained model\n",
    "    input_size = MultiLayerPerceptronPredictor.get_input_size_from_file(model_path)\n",
    "    trained_optimizer = optim.Adam(MultiLayerPerceptronPredictor(input_size=input_size, output_size=1).parameters(), lr=0.002)  # Optimizer doesn't matter anymore\n",
    "    trained_model, _ = MultiLayerPerceptronPredictor.load(trained_optimizer, model_path)\n",
    "\n",
    "    # Create associated test data for validation\n",
    "    input_test, output_test = DataPreparer.transform_data(b_test_f, r_test_f, u_test_f, trained_model.user_profiles_params, trained_model.business_profiles_params)\n",
    "\n",
    "    return trained_model, (input_test, output_test)\n",
    "\n",
    "def find_worst_model_with_index(model_list) -> tuple[float, int]:\n",
    "    highest_loss = max([model_f[1] for model_f in model_list])\n",
    "    corresponding_index = [i for i, model_f in enumerate(model_list) if model_f[1] == highest_loss][0]\n",
    "    return highest_loss, corresponding_index\n",
    "\n",
    "\n",
    "def get_all_models_with_loss():\n",
    "    models_dir = [dir_entry.path for dir_entry in list(os.scandir(ConfigParser().get_value(\"predictor_model\", \"model_dir\"))) if dir_entry.path.endswith('.pt')]\n",
    "    models_with_loss_f = []\n",
    "    for _ in range(min(len(models_dir), 5)):\n",
    "        models_with_loss_f.append((None, 99))\n",
    "    for model_path in tqdm(models_dir, desc=\"Loading in models\"):\n",
    "\n",
    "        model_f, train_test_data_f = load_model_with_test_data(model_path, b_test, r_test, u_test)\n",
    "\n",
    "        highest_loss, highest_index = find_worst_model_with_index(models_with_loss_f)\n",
    "        current_loss = min(model_f.loss_history)\n",
    "        if current_loss < highest_loss:\n",
    "            models_with_loss_f[highest_index] = (model_f, current_loss, train_test_data_f)\n",
    "    models_with_loss_f = sorted(models_with_loss_f, key=lambda data: data[1])\n",
    "    return models_with_loss_f"
   ],
   "metadata": {
    "collapsed": false,
    "ExecuteTime": {
     "end_time": "2023-05-08T23:25:32.557840500Z",
     "start_time": "2023-05-08T23:25:32.542327700Z"
    }
   }
  },
  {
   "cell_type": "code",
   "execution_count": 5,
   "outputs": [
    {
     "data": {
      "text/plain": "Loading in models:   0%|          | 0/1 [00:00<?, ?it/s]",
      "application/vnd.jupyter.widget-view+json": {
       "version_major": 2,
       "version_minor": 0,
       "model_id": "9fa809c605344d8da2e0c4ffc26e6163"
      }
     },
     "metadata": {},
     "output_type": "display_data"
    },
    {
     "name": "stderr",
     "output_type": "stream",
     "text": [
      "INFO:root:Model loaded from predictor/Models/mlp\\mlp_2023-05-09_00h45__EPOCHS=100_LOSS=0.0851.pt.\n",
      "INFO:root:Splitting in generation and prediction sets\n",
      "INFO:root:Creating User Profile\n",
      "INFO:root:Finished reading in data, starting NLP...\n",
      "INFO:root:Loading in all scores...\n",
      "INFO:root:Merging Reviews...\n",
      "INFO:root:Loading in NLP model...\n",
      "INFO:root:Calculating bert_scores...\n"
     ]
    },
    {
     "data": {
      "text/plain": "Pandas Apply:   0%|          | 0/472178 [00:00<?, ?it/s]",
      "application/vnd.jupyter.widget-view+json": {
       "version_major": 2,
       "version_minor": 0,
       "model_id": "6c795c21ebce4524a98dd6b3da722156"
      }
     },
     "metadata": {},
     "output_type": "display_data"
    },
    {
     "name": "stderr",
     "output_type": "stream",
     "text": [
      "INFO:root:creating user profiles from bert_scores...\n",
      "INFO:root:Exploding bert_scores (late) & normalizing user profiles...\n"
     ]
    },
    {
     "data": {
      "text/plain": "Dask Apply:   0%|          | 0/32 [00:00<?, ?it/s]",
      "application/vnd.jupyter.widget-view+json": {
       "version_major": 2,
       "version_minor": 0,
       "model_id": "dab6f9afbc5d43dbaf72f8347b22690f"
      }
     },
     "metadata": {},
     "output_type": "display_data"
    },
    {
     "name": "stderr",
     "output_type": "stream",
     "text": [
      "INFO:root:Saving user profiles...\n",
      "INFO:root:Saved user profiles with name: profile_tmp.parquet\n",
      "INFO:root:Creating Restaurant Profile\n",
      "INFO:root:Finished reading in data, starting NLP...\n",
      "INFO:root:Loading in all scores...\n",
      "INFO:root:Merging Reviews...\n",
      "INFO:root:Loading in NLP model...\n",
      "INFO:root:Calculating bert_scores...\n"
     ]
    },
    {
     "data": {
      "text/plain": "Pandas Apply:   0%|          | 0/472178 [00:00<?, ?it/s]",
      "application/vnd.jupyter.widget-view+json": {
       "version_major": 2,
       "version_minor": 0,
       "model_id": "82f331995bd14ee5a61685a4bc3bdc4b"
      }
     },
     "metadata": {},
     "output_type": "display_data"
    },
    {
     "name": "stderr",
     "output_type": "stream",
     "text": [
      "INFO:root:creating user profiles from bert_scores...\n",
      "INFO:root:Exploding bert_scores (late) & normalizing business profiles...\n"
     ]
    },
    {
     "data": {
      "text/plain": "Dask Apply:   0%|          | 0/32 [00:00<?, ?it/s]",
      "application/vnd.jupyter.widget-view+json": {
       "version_major": 2,
       "version_minor": 0,
       "model_id": "08fec1a8df9c4af6983688d8eaa7b98c"
      }
     },
     "metadata": {},
     "output_type": "display_data"
    },
    {
     "name": "stderr",
     "output_type": "stream",
     "text": [
      "INFO:root:Saving business profiles...\n",
      "INFO:root:Saved business profiles with name: profile_tmp.parquet\n",
      "INFO:root:Transforming to ML input\n",
      "INFO:root:Testing model with User Profiles: {'current_model_name': 'online_model_400top_97.bert', 'use_sentiment_in_scores': False, 'approx_mode': False, 'approx_normalization': True, 'approx_amount_top_n': 5, 'filter_useful_topics': False} and Business Profiles: {'current_model_name': 'online_model_400top_97.bert', 'use_sentiment_in_scores': False, 'approx_mode': False, 'approx_normalization': True, 'approx_amount_top_n': 5, 'filter_useful_topics': False}\n"
     ]
    }
   ],
   "source": [
    "models_with_loss = get_all_models_with_loss()\n",
    "\n",
    "results = []\n",
    "\n",
    "for model, _, train_test_data in models_with_loss:\n",
    "    logging.info(f\"Testing model with User Profiles: {model.user_profiles_params} and Business Profiles: {model.business_profiles_params}\")\n",
    "    model.eval()  # Prepare layers of model for evaluation\n",
    "    with torch.no_grad():\n",
    "        testX, testY = train_test_data\n",
    "\n",
    "        testX = testX.head(500)\n",
    "        testY = testY.head(500)\n",
    "\n",
    "        dl = RestaurantReviewsDataset(testX.to_numpy(), testY.to_numpy())\n",
    "        test_loader = DataLoader(dl, batch_size=500)\n",
    "        for x, y in test_loader:\n",
    "            # Prepare data\n",
    "            x, y = DataPreparer.get_tensor_for_ml(x, y)\n",
    "            # Compute predictions and loss\n",
    "\n",
    "            predictions = model(x)\n",
    "            predictions = predictions.cpu().detach().numpy().squeeze().transpose()\n",
    "            y = y.cpu().detach().numpy().squeeze().transpose()\n",
    "            result = pd.DataFrame(data=[predictions, y]).transpose()\n",
    "            result.columns = ['predicted', 'actual']\n",
    "            result['predicted'] = result['predicted'].transform(lambda x: round(x * 4 + 1))\n",
    "            result['actual'] = result['actual'].transform(lambda x: int(x * 4 + 1))\n",
    "            result['difference'] = abs(result['predicted'] - result['actual'])\n",
    "            results.append(result)"
   ],
   "metadata": {
    "collapsed": false,
    "ExecuteTime": {
     "end_time": "2023-05-08T23:29:16.863657Z",
     "start_time": "2023-05-08T23:25:36.801182500Z"
    }
   }
  },
  {
   "cell_type": "code",
   "execution_count": 7,
   "outputs": [
    {
     "name": "stdout",
     "output_type": "stream",
     "text": [
      "Histogram of differences between prediction and actual:\n",
      "Models used: {'current_model_name': 'online_model_400top_97.bert', 'use_sentiment_in_scores': False, 'approx_mode': False, 'approx_normalization': True, 'approx_amount_top_n': 5, 'filter_useful_topics': False}  |  {'current_model_name': 'online_model_400top_97.bert', 'use_sentiment_in_scores': False, 'approx_mode': False, 'approx_normalization': True, 'approx_amount_top_n': 5, 'filter_useful_topics': False}\n"
     ]
    },
    {
     "data": {
      "text/plain": "     predicted  actual  difference\n0            2       2           0\n1            4       4           0\n2            4       4           0\n3            3       4           1\n4            4       4           0\n..         ...     ...         ...\n495          2       2           0\n496          2       2           0\n497          3       4           1\n498          2       2           0\n499          3       1           2\n\n[500 rows x 3 columns]",
      "text/html": "<div>\n<style scoped>\n    .dataframe tbody tr th:only-of-type {\n        vertical-align: middle;\n    }\n\n    .dataframe tbody tr th {\n        vertical-align: top;\n    }\n\n    .dataframe thead th {\n        text-align: right;\n    }\n</style>\n<table border=\"1\" class=\"dataframe\">\n  <thead>\n    <tr style=\"text-align: right;\">\n      <th></th>\n      <th>predicted</th>\n      <th>actual</th>\n      <th>difference</th>\n    </tr>\n  </thead>\n  <tbody>\n    <tr>\n      <th>0</th>\n      <td>2</td>\n      <td>2</td>\n      <td>0</td>\n    </tr>\n    <tr>\n      <th>1</th>\n      <td>4</td>\n      <td>4</td>\n      <td>0</td>\n    </tr>\n    <tr>\n      <th>2</th>\n      <td>4</td>\n      <td>4</td>\n      <td>0</td>\n    </tr>\n    <tr>\n      <th>3</th>\n      <td>3</td>\n      <td>4</td>\n      <td>1</td>\n    </tr>\n    <tr>\n      <th>4</th>\n      <td>4</td>\n      <td>4</td>\n      <td>0</td>\n    </tr>\n    <tr>\n      <th>...</th>\n      <td>...</td>\n      <td>...</td>\n      <td>...</td>\n    </tr>\n    <tr>\n      <th>495</th>\n      <td>2</td>\n      <td>2</td>\n      <td>0</td>\n    </tr>\n    <tr>\n      <th>496</th>\n      <td>2</td>\n      <td>2</td>\n      <td>0</td>\n    </tr>\n    <tr>\n      <th>497</th>\n      <td>3</td>\n      <td>4</td>\n      <td>1</td>\n    </tr>\n    <tr>\n      <th>498</th>\n      <td>2</td>\n      <td>2</td>\n      <td>0</td>\n    </tr>\n    <tr>\n      <th>499</th>\n      <td>3</td>\n      <td>1</td>\n      <td>2</td>\n    </tr>\n  </tbody>\n</table>\n<p>500 rows × 3 columns</p>\n</div>"
     },
     "execution_count": 7,
     "metadata": {},
     "output_type": "execute_result"
    },
    {
     "data": {
      "text/plain": "<Figure size 640x480 with 1 Axes>",
      "image/png": "[encoded data removed]"
     },
     "metadata": {},
     "output_type": "display_data"
    }
   ],
   "source": [
    "index = 0\n",
    "result = results[index]\n",
    "model: MultiLayerPerceptronPredictor = models_with_loss[index][0]\n",
    "print(\"Histogram of differences between prediction and actual:\")\n",
    "print(f\"Models used: {model.user_profiles_params}  |  {model.business_profiles_params}\")\n",
    "plt.hist(result['difference'], bins=[0, 1, 2, 3, 4, 5], align='left', rwidth=0.5)\n",
    "result"
   ],
   "metadata": {
    "collapsed": false,
    "ExecuteTime": {
     "end_time": "2023-05-08T23:29:17.072688200Z",
     "start_time": "2023-05-08T23:29:16.896658200Z"
    }
   }
  },
  {
   "cell_type": "code",
   "execution_count": 8,
   "outputs": [
    {
     "data": {
      "text/plain": "<Figure size 640x480 with 1 Axes>",
      "image/png": "[encoded data removed]"
     },
     "execution_count": 8,
     "metadata": {},
     "output_type": "execute_result"
    }
   ],
   "source": [
    "model.plot_loss_progress()[0]"
   ],
   "metadata": {
    "collapsed": false,
    "ExecuteTime": {
     "end_time": "2023-05-08T23:29:17.166209300Z",
     "start_time": "2023-05-08T23:29:17.022688100Z"
    }
   }
  }
 ],
 "metadata": {
  "kernelspec": {
   "display_name": "Python 3",
   "language": "python",
   "name": "python3"
  },
  "language_info": {
   "codemirror_mode": {
    "name": "ipython",
    "version": 2
   },
   "file_extension": ".py",
   "mimetype": "text/x-python",
   "name": "python",
   "nbconvert_exporter": "python",
   "pygments_lexer": "ipython2",
   "version": "2.7.6"
  }
 },
 "nbformat": 4,
 "nbformat_minor": 0
}
