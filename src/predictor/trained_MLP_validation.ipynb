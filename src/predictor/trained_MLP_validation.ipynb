{
 "cells": [
  {
   "cell_type": "code",
   "execution_count": 1,
   "metadata": {
    "ExecuteTime": {
     "end_time": "2023-05-15T21:16:26.823073600Z",
     "start_time": "2023-05-15T21:16:19.682147400Z"
    }
   },
   "outputs": [],
   "source": [
    "import logging\n",
    "import os\n",
    "\n",
    "import matplotlib.pyplot as plt\n",
    "import pandas as pd\n",
    "import torch\n",
    "from torch.utils.data import DataLoader\n",
    "from tqdm.notebook import tqdm\n",
    "\n",
    "from data.data_preparer import DataPreparer\n",
    "from data.data_reader import DataReader\n",
    "from predictor.implementations.multilayer_perceptron import MultiLayerPerceptronPredictor\n",
    "from tools.RestaurantReviewsDataset import RestaurantReviewsDataset\n",
    "from tools.config_parser import ConfigParser\n",
    "from tools.restaurant_profiles_manager import RestaurantProfilesManager\n",
    "from tools.user_profiles_manager import UserProfilesManager\n",
    "from tools.model_loader import ModelLoader\n",
    "\n",
    "logging.basicConfig(level=logging.INFO)\n",
    "while str(os.getcwd())[-3:] != 'src':  # Execute from src-directory root\n",
    "    os.chdir('..')"
   ]
  },
  {
   "cell_type": "code",
   "execution_count": 2,
   "metadata": {
    "ExecuteTime": {
     "end_time": "2023-05-15T21:16:32.470694100Z",
     "start_time": "2023-05-15T21:16:26.824071600Z"
    }
   },
   "outputs": [
    {
     "name": "stderr",
     "output_type": "stream",
     "text": [
      "                                                                                           \r"
     ]
    }
   ],
   "source": [
    "_, (b_test, r_test, u_test) = DataReader().read_data()"
   ]
  },
  {
   "cell_type": "code",
   "execution_count": 3,
   "metadata": {
    "ExecuteTime": {
     "end_time": "2023-05-15T21:16:32.488696600Z",
     "start_time": "2023-05-15T21:16:32.476694600Z"
    }
   },
   "outputs": [],
   "source": [
    "def load_model_with_test_data(model_path: os.PathLike, b_test_f, r_test_f, u_test_f) -> tuple[MultiLayerPerceptronPredictor, tuple[pd.DataFrame, pd.Series]]:\n",
    "    # Create valid trained model\n",
    "    trained_model = ModelLoader.load_mlp_model(model_path)\n",
    "    # Create associated test data for validation\n",
    "    input_test, output_test = DataPreparer.transform_data(b_test_f, r_test_f, u_test_f, trained_model.user_profiles_params, trained_model.business_profiles_params)\n",
    "\n",
    "    return trained_model, (input_test, output_test)\n",
    "\n",
    "\n",
    "def find_worst_model_with_index(model_list) -> tuple[float, int]:\n",
    "    highest_loss = max([model_f[1] for model_f in model_list])\n",
    "    corresponding_index = [i for i, model_f in enumerate(model_list) if model_f[1] == highest_loss][0]\n",
    "    return highest_loss, corresponding_index\n",
    "\n",
    "\n",
    "# For analysing trained models with different input vector, such as different user profiles\n",
    "def get_all_models_with_loss():\n",
    "    models_dir = [dir_entry.path for dir_entry in list(os.scandir(ConfigParser().get_value(\"predictor_model\", \"model_dir\"))) if dir_entry.path.endswith('.pt')]\n",
    "    models_with_loss_f = []\n",
    "    for _ in range(len(models_dir)):\n",
    "        models_with_loss_f.append((None, 99))\n",
    "    for model_path in tqdm(models_dir, desc=\"Loading in models\"):\n",
    "\n",
    "        model_f, train_test_data_f = load_model_with_test_data(model_path, b_test, r_test, u_test)\n",
    "\n",
    "        highest_loss, highest_index = find_worst_model_with_index(models_with_loss_f)\n",
    "        current_loss = min(model_f.loss_history)\n",
    "        if current_loss < highest_loss:\n",
    "            models_with_loss_f[highest_index] = (model_f, current_loss, train_test_data_f)\n",
    "    models_with_loss_f = sorted(models_with_loss_f, key=lambda data: data[1])\n",
    "    return models_with_loss_f\n",
    "\n",
    "# For analysing trained models with the same input vector, such as the best user profiles\n",
    "def get_all_models_best_data():\n",
    "    models_dir = [dir_entry.path for dir_entry in list(os.scandir(ConfigParser().get_value(\"predictor_model\", \"model_dir\"))) if dir_entry.path.endswith('.pt')]\n",
    "    models_with_loss_f = []\n",
    "    for _ in range(len(models_dir)):\n",
    "        models_with_loss_f.append((None, 99))\n",
    "\n",
    "    # Load data\n",
    "    input_test, output_test = DataPreparer.transform_data(b_test, r_test, u_test, UserProfilesManager().get_best(), RestaurantProfilesManager().get_best())\n",
    "    for model_path in tqdm(models_dir, desc=\"Loading in models\"):\n",
    "        model_f = ModelLoader.load_mlp_model(model_path)\n",
    "        highest_loss, highest_index = find_worst_model_with_index(models_with_loss_f)\n",
    "        current_loss = min(model_f.loss_history)\n",
    "        if current_loss < highest_loss:\n",
    "            models_with_loss_f[highest_index] = (model_f, current_loss, (input_test, output_test))\n",
    "    models_with_loss_f = sorted(models_with_loss_f, key=lambda data: data[1])\n",
    "    return models_with_loss_f"
   ]
  },
  {
   "cell_type": "code",
   "execution_count": 4,
   "metadata": {
    "ExecuteTime": {
     "end_time": "2023-05-15T21:22:06.277354600Z",
     "start_time": "2023-05-15T21:16:32.488696600Z"
    }
   },
   "outputs": [
    {
     "name": "stderr",
     "output_type": "stream",
     "text": [
      "INFO:root:Splitting in generation and prediction sets\n",
      "INFO:root:Creating User Profile\n",
      "INFO:root:Finished reading in data, starting NLP...\n",
      "INFO:root:Loading in all scores...\n",
      "INFO:root:Merging Reviews...\n",
      "INFO:root:Loading in NLP model...\n",
      "INFO:root:Calculating bert_scores...\n"
     ]
    },
    {
     "data": {
      "text/plain": "Pandas Apply:   0%|          | 0/475422 [00:00<?, ?it/s]",
      "application/vnd.jupyter.widget-view+json": {
       "version_major": 2,
       "version_minor": 0,
       "model_id": "a7833062628940b8be74ec617775433f"
      }
     },
     "metadata": {},
     "output_type": "display_data"
    },
    {
     "name": "stderr",
     "output_type": "stream",
     "text": [
      "INFO:root:creating user profiles from bert_scores...\n",
      "INFO:root:Exploding bert_scores (late) & normalizing user profiles...\n"
     ]
    },
    {
     "data": {
      "text/plain": "Dask Apply:   0%|          | 0/32 [00:00<?, ?it/s]",
      "application/vnd.jupyter.widget-view+json": {
       "version_major": 2,
       "version_minor": 0,
       "model_id": "152e30ad71cb4e11acdef654f063aa05"
      }
     },
     "metadata": {},
     "output_type": "display_data"
    },
    {
     "name": "stderr",
     "output_type": "stream",
     "text": [
      "INFO:root:Saving user profiles...\n",
      "INFO:root:Saved user profiles with name: profile_tmp.parquet\n",
      "INFO:root:Creating Restaurant Profile\n",
      "INFO:root:Finished reading in data, starting NLP...\n",
      "INFO:root:Loading in all scores...\n",
      "INFO:root:Merging Reviews...\n",
      "INFO:root:Loading in NLP model...\n",
      "INFO:root:Calculating bert_scores...\n"
     ]
    },
    {
     "data": {
      "text/plain": "Pandas Apply:   0%|          | 0/475422 [00:00<?, ?it/s]",
      "application/vnd.jupyter.widget-view+json": {
       "version_major": 2,
       "version_minor": 0,
       "model_id": "ad3c3dc9e5a04b62915c8c4d6d945cd8"
      }
     },
     "metadata": {},
     "output_type": "display_data"
    },
    {
     "name": "stderr",
     "output_type": "stream",
     "text": [
      "INFO:root:creating user profiles from bert_scores...\n",
      "INFO:root:Exploding bert_scores...\n",
      "INFO:root:Saving business profiles...\n",
      "INFO:root:Saved business profiles with name: profile_tmp.parquet\n",
      "INFO:root:Transforming to ML input\n"
     ]
    },
    {
     "data": {
      "text/plain": "Loading in models:   0%|          | 0/8 [00:00<?, ?it/s]",
      "application/vnd.jupyter.widget-view+json": {
       "version_major": 2,
       "version_minor": 0,
       "model_id": "ec24410d7446476593368cac94df8f26"
      }
     },
     "metadata": {},
     "output_type": "display_data"
    },
    {
     "name": "stderr",
     "output_type": "stream",
     "text": [
      "INFO:root:Model loaded from predictor/Models/mlp\\mlp1_2023-05-15_22h05__EPOCHS=30_LOSS=0.0842.pt.\n",
      "INFO:root:Model loaded from predictor/Models/mlp\\mlp2_2023-05-15_22h09__EPOCHS=30_LOSS=0.0916.pt.\n",
      "INFO:root:Model loaded from predictor/Models/mlp\\mlp3_2023-05-15_22h12__EPOCHS=30_LOSS=0.0974.pt.\n",
      "INFO:root:Model loaded from predictor/Models/mlp\\mlp4_2023-05-15_22h16__EPOCHS=30_LOSS=0.0962.pt.\n",
      "INFO:root:Model loaded from predictor/Models/mlp\\mlp5_2023-05-15_22h20__EPOCHS=30_LOSS=0.0793.pt.\n",
      "INFO:root:Model loaded from predictor/Models/mlp\\mlp6_2023-05-15_22h24__EPOCHS=30_LOSS=0.0766.pt.\n",
      "INFO:root:Model loaded from predictor/Models/mlp\\mlp7_2023-05-15_22h28__EPOCHS=30_LOSS=0.0777.pt.\n",
      "INFO:root:Model loaded from predictor/Models/mlp\\mlp8_2023-05-15_22h32__EPOCHS=30_LOSS=0.0757.pt.\n"
     ]
    }
   ],
   "source": [
    "models_with_loss = get_all_models_best_data()  # Collecting trained models for analysis with the same input vector, such as the best user profiles\n",
    "# models_with_loss = get_all_models_with_loss()  # Collecting trained models for analysis with different input vector, such as different user profiles\n",
    "\n",
    "results = []"
   ]
  },
  {
   "cell_type": "code",
   "execution_count": 5,
   "metadata": {
    "ExecuteTime": {
     "end_time": "2023-05-15T21:22:07.416082300Z",
     "start_time": "2023-05-15T21:22:06.280356700Z"
    }
   },
   "outputs": [
    {
     "name": "stderr",
     "output_type": "stream",
     "text": [
      "INFO:root:Testing model with User Profiles: {'current_model_name': 'online_model_400top_97.bert', 'use_sentiment_in_scores': False, 'approx_mode': False, 'approx_normalization': True, 'approx_amount_top_n': 5, 'filter_useful_topics': False} and Business Profiles: {'current_model_name': 'online_model_400top_97.bert', 'use_sentiment_in_scores': True, 'approx_mode': False, 'approx_normalization': True, 'approx_amount_top_n': 5, 'filter_useful_topics': False}\n",
      "INFO:root:Testing model with User Profiles: {'current_model_name': 'online_model_400top_97.bert', 'use_sentiment_in_scores': False, 'approx_mode': False, 'approx_normalization': True, 'approx_amount_top_n': 5, 'filter_useful_topics': False} and Business Profiles: {'current_model_name': 'online_model_400top_97.bert', 'use_sentiment_in_scores': True, 'approx_mode': False, 'approx_normalization': True, 'approx_amount_top_n': 5, 'filter_useful_topics': False}\n",
      "INFO:root:Testing model with User Profiles: {'current_model_name': 'online_model_400top_97.bert', 'use_sentiment_in_scores': False, 'approx_mode': False, 'approx_normalization': True, 'approx_amount_top_n': 5, 'filter_useful_topics': False} and Business Profiles: {'current_model_name': 'online_model_400top_97.bert', 'use_sentiment_in_scores': True, 'approx_mode': False, 'approx_normalization': True, 'approx_amount_top_n': 5, 'filter_useful_topics': False}\n",
      "INFO:root:Testing model with User Profiles: {'current_model_name': 'online_model_400top_97.bert', 'use_sentiment_in_scores': False, 'approx_mode': False, 'approx_normalization': True, 'approx_amount_top_n': 5, 'filter_useful_topics': False} and Business Profiles: {'current_model_name': 'online_model_400top_97.bert', 'use_sentiment_in_scores': True, 'approx_mode': False, 'approx_normalization': True, 'approx_amount_top_n': 5, 'filter_useful_topics': False}\n",
      "INFO:root:Testing model with User Profiles: {'current_model_name': 'online_model_400top_97.bert', 'use_sentiment_in_scores': False, 'approx_mode': False, 'approx_normalization': True, 'approx_amount_top_n': 5, 'filter_useful_topics': False} and Business Profiles: {'current_model_name': 'online_model_400top_97.bert', 'use_sentiment_in_scores': True, 'approx_mode': False, 'approx_normalization': True, 'approx_amount_top_n': 5, 'filter_useful_topics': False}\n",
      "INFO:root:Testing model with User Profiles: {'current_model_name': 'online_model_400top_97.bert', 'use_sentiment_in_scores': False, 'approx_mode': False, 'approx_normalization': True, 'approx_amount_top_n': 5, 'filter_useful_topics': False} and Business Profiles: {'current_model_name': 'online_model_400top_97.bert', 'use_sentiment_in_scores': True, 'approx_mode': False, 'approx_normalization': True, 'approx_amount_top_n': 5, 'filter_useful_topics': False}\n",
      "INFO:root:Testing model with User Profiles: {'current_model_name': 'online_model_400top_97.bert', 'use_sentiment_in_scores': False, 'approx_mode': False, 'approx_normalization': True, 'approx_amount_top_n': 5, 'filter_useful_topics': False} and Business Profiles: {'current_model_name': 'online_model_400top_97.bert', 'use_sentiment_in_scores': True, 'approx_mode': False, 'approx_normalization': True, 'approx_amount_top_n': 5, 'filter_useful_topics': False}\n",
      "INFO:root:Testing model with User Profiles: {'current_model_name': 'online_model_400top_97.bert', 'use_sentiment_in_scores': False, 'approx_mode': False, 'approx_normalization': True, 'approx_amount_top_n': 5, 'filter_useful_topics': False} and Business Profiles: {'current_model_name': 'online_model_400top_97.bert', 'use_sentiment_in_scores': True, 'approx_mode': False, 'approx_normalization': True, 'approx_amount_top_n': 5, 'filter_useful_topics': False}\n"
     ]
    }
   ],
   "source": [
    "# Run small testset on all the models to evaluate performance in a true recommendation environment\n",
    "\n",
    "for model, _, train_test_data in models_with_loss:\n",
    "    logging.info(f\"Testing model with User Profiles: {model.user_profiles_params} and Business Profiles: {model.business_profiles_params}\")\n",
    "    model.eval()  # Prepare layers of model for evaluation\n",
    "    with torch.no_grad():\n",
    "        testX, testY = train_test_data\n",
    "\n",
    "        testX = testX.head(500)\n",
    "        testY = testY.head(500)\n",
    "\n",
    "        dl = RestaurantReviewsDataset(testX.to_numpy(), testY.to_numpy())\n",
    "        test_loader = DataLoader(dl, batch_size=500)\n",
    "        for x, y in test_loader:\n",
    "            # Prepare data\n",
    "            x, y = DataPreparer.get_tensor_for_ml(x, y)\n",
    "            # Compute predictions and loss\n",
    "\n",
    "            predictions = model(x)\n",
    "            predictions = predictions.cpu().detach().numpy().squeeze().transpose()\n",
    "            y = y.cpu().detach().numpy().squeeze().transpose()\n",
    "            result = pd.DataFrame(data=[predictions, y]).transpose()\n",
    "            result.columns = ['predicted', 'actual']\n",
    "            result['predicted'] = result['predicted'].transform(lambda x: round(x * 4 + 1))\n",
    "            result['actual'] = result['actual'].transform(lambda x: int(x * 4 + 1))\n",
    "            result['difference'] = abs(result['predicted'] - result['actual'])\n",
    "            results.append(result)"
   ]
  },
  {
   "cell_type": "code",
   "execution_count": 6,
   "metadata": {
    "ExecuteTime": {
     "end_time": "2023-05-15T21:22:07.585116300Z",
     "start_time": "2023-05-15T21:22:07.416082300Z"
    }
   },
   "outputs": [
    {
     "name": "stdout",
     "output_type": "stream",
     "text": [
      "Histogram of differences between prediction and actual:\n",
      "Model used: <class 'predictor.implementations.multilayer_perceptron6.MultiLayerPerceptron6Predictor'>\n"
     ]
    },
    {
     "data": {
      "text/plain": "     predicted  actual  difference\n0            4       3           1\n1            4       2           2\n2            4       5           1\n3            4       4           0\n4            4       5           1\n..         ...     ...         ...\n495          4       3           1\n496          4       4           0\n497          4       5           1\n498          4       2           2\n499          4       4           0\n\n[500 rows x 3 columns]",
      "text/html": "<div>\n<style scoped>\n    .dataframe tbody tr th:only-of-type {\n        vertical-align: middle;\n    }\n\n    .dataframe tbody tr th {\n        vertical-align: top;\n    }\n\n    .dataframe thead th {\n        text-align: right;\n    }\n</style>\n<table border=\"1\" class=\"dataframe\">\n  <thead>\n    <tr style=\"text-align: right;\">\n      <th></th>\n      <th>predicted</th>\n      <th>actual</th>\n      <th>difference</th>\n    </tr>\n  </thead>\n  <tbody>\n    <tr>\n      <th>0</th>\n      <td>4</td>\n      <td>3</td>\n      <td>1</td>\n    </tr>\n    <tr>\n      <th>1</th>\n      <td>4</td>\n      <td>2</td>\n      <td>2</td>\n    </tr>\n    <tr>\n      <th>2</th>\n      <td>4</td>\n      <td>5</td>\n      <td>1</td>\n    </tr>\n    <tr>\n      <th>3</th>\n      <td>4</td>\n      <td>4</td>\n      <td>0</td>\n    </tr>\n    <tr>\n      <th>4</th>\n      <td>4</td>\n      <td>5</td>\n      <td>1</td>\n    </tr>\n    <tr>\n      <th>...</th>\n      <td>...</td>\n      <td>...</td>\n      <td>...</td>\n    </tr>\n    <tr>\n      <th>495</th>\n      <td>4</td>\n      <td>3</td>\n      <td>1</td>\n    </tr>\n    <tr>\n      <th>496</th>\n      <td>4</td>\n      <td>4</td>\n      <td>0</td>\n    </tr>\n    <tr>\n      <th>497</th>\n      <td>4</td>\n      <td>5</td>\n      <td>1</td>\n    </tr>\n    <tr>\n      <th>498</th>\n      <td>4</td>\n      <td>2</td>\n      <td>2</td>\n    </tr>\n    <tr>\n      <th>499</th>\n      <td>4</td>\n      <td>4</td>\n      <td>0</td>\n    </tr>\n  </tbody>\n</table>\n<p>500 rows × 3 columns</p>\n</div>"
     },
     "execution_count": 6,
     "metadata": {},
     "output_type": "execute_result"
    },
    {
     "data": {
      "text/plain": "<Figure size 640x480 with 1 Axes>",
      "image/png": "[encoded data removed]"
     },
     "metadata": {},
     "output_type": "display_data"
    }
   ],
   "source": [
    "index = 1\n",
    "result = results[index]\n",
    "model: MultiLayerPerceptronPredictor = models_with_loss[index][0]\n",
    "print(\"Histogram of differences between prediction and actual:\")\n",
    "print(f\"Model used: {model.__class__}\")\n",
    "plt.hist(result['difference'], bins=[0, 1, 2, 3, 4, 5], align='left', rwidth=0.5)\n",
    "result"
   ]
  },
  {
   "cell_type": "code",
   "execution_count": 7,
   "metadata": {
    "ExecuteTime": {
     "end_time": "2023-05-15T21:22:07.683642500Z",
     "start_time": "2023-05-15T21:22:07.574116300Z"
    }
   },
   "outputs": [
    {
     "data": {
      "text/plain": "[<matplotlib.lines.Line2D at 0x1750887c2e0>,\n <matplotlib.lines.Line2D at 0x1774c8f9000>,\n <matplotlib.lines.Line2D at 0x1774c8f80d0>,\n <matplotlib.lines.Line2D at 0x1774c8f95a0>,\n <matplotlib.lines.Line2D at 0x1774c8fbaf0>,\n <matplotlib.lines.Line2D at 0x1774c8fa260>,\n <matplotlib.lines.Line2D at 0x1774c8fa710>,\n <matplotlib.lines.Line2D at 0x1774c8f8730>]"
     },
     "execution_count": 7,
     "metadata": {},
     "output_type": "execute_result"
    },
    {
     "data": {
      "text/plain": "<Figure size 640x480 with 1 Axes>",
      "image/png": "[encoded data removed]"
     },
     "metadata": {},
     "output_type": "display_data"
    }
   ],
   "source": [
    "plot = plt.plot(models_with_loss[0][0].loss_history)\n",
    "for model_i, _, _ in models_with_loss[1:]:\n",
    "    plot += plt.plot(model_i.loss_history)\n",
    "plt.ylim(0, 0.12)\n",
    "plot"
   ]
  }
 ],
 "metadata": {
  "kernelspec": {
   "display_name": "Python 3 (ipykernel)",
   "language": "python",
   "name": "python3"
  },
  "language_info": {
   "codemirror_mode": {
    "name": "ipython",
    "version": 3
   },
   "file_extension": ".py",
   "mimetype": "text/x-python",
   "name": "python",
   "nbconvert_exporter": "python",
   "pygments_lexer": "ipython3",
   "version": "3.10.0"
  }
 },
 "nbformat": 4,
 "nbformat_minor": 1
}
