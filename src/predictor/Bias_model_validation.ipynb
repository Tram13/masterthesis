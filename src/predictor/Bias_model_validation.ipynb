{
 "cells": [
  {
   "cell_type": "code",
   "execution_count": 13,
   "metadata": {
    "collapsed": true,
    "ExecuteTime": {
     "end_time": "2023-05-15T23:35:14.975491400Z",
     "start_time": "2023-05-15T23:35:14.956869900Z"
    }
   },
   "outputs": [],
   "source": [
    "import logging\n",
    "import math\n",
    "import os\n",
    "\n",
    "import pandas as pd\n",
    "from matplotlib import pyplot as plt\n",
    "\n",
    "from data.data_preparer import DataPreparer\n",
    "from data.data_reader import DataReader\n",
    "from tools.restaurant_profiles_manager import RestaurantProfilesManager\n",
    "from tools.user_profiles_manager import UserProfilesManager\n",
    "\n",
    "logging.basicConfig(level=logging.INFO)\n",
    "\n",
    "while str(os.getcwd())[-3:] != 'src':  # Execute from src-directory root\n",
    "    os.chdir('..')"
   ]
  },
  {
   "cell_type": "code",
   "execution_count": 2,
   "outputs": [
    {
     "name": "stderr",
     "output_type": "stream",
     "text": [
      "INFO:root:Splitting in generation and prediction sets                                      \n",
      "INFO:root:Creating User Profile\n",
      "INFO:root:Finished reading in data, starting NLP...\n",
      "INFO:root:Loading in all scores...\n",
      "INFO:root:Merging Reviews...\n",
      "INFO:root:Loading in NLP model...\n",
      "INFO:root:Calculating bert_scores...\n"
     ]
    },
    {
     "data": {
      "text/plain": "Pandas Apply:   0%|          | 0/475422 [00:00<?, ?it/s]",
      "application/vnd.jupyter.widget-view+json": {
       "version_major": 2,
       "version_minor": 0,
       "model_id": "d7fa8ee12da54ddda0369dbd2e581be3"
      }
     },
     "metadata": {},
     "output_type": "display_data"
    },
    {
     "name": "stderr",
     "output_type": "stream",
     "text": [
      "INFO:root:creating user profiles from bert_scores...\n",
      "INFO:root:Exploding bert_scores (late) & normalizing user profiles...\n"
     ]
    },
    {
     "data": {
      "text/plain": "Dask Apply:   0%|          | 0/32 [00:00<?, ?it/s]",
      "application/vnd.jupyter.widget-view+json": {
       "version_major": 2,
       "version_minor": 0,
       "model_id": "2bba4ce3cb6143248f74495194513fc1"
      }
     },
     "metadata": {},
     "output_type": "display_data"
    },
    {
     "name": "stderr",
     "output_type": "stream",
     "text": [
      "INFO:root:Saving user profiles...\n",
      "INFO:root:Saved user profiles with name: profile_tmp.parquet\n",
      "INFO:root:Creating Restaurant Profile\n",
      "INFO:root:Finished reading in data, starting NLP...\n",
      "INFO:root:Loading in all scores...\n",
      "INFO:root:Merging Reviews...\n",
      "INFO:root:Loading in NLP model...\n",
      "INFO:root:Calculating bert_scores...\n"
     ]
    },
    {
     "data": {
      "text/plain": "Pandas Apply:   0%|          | 0/475422 [00:00<?, ?it/s]",
      "application/vnd.jupyter.widget-view+json": {
       "version_major": 2,
       "version_minor": 0,
       "model_id": "e533f559de7846278029a49a98706def"
      }
     },
     "metadata": {},
     "output_type": "display_data"
    },
    {
     "name": "stderr",
     "output_type": "stream",
     "text": [
      "INFO:root:creating user profiles from bert_scores...\n",
      "INFO:root:Exploding bert_scores...\n",
      "INFO:root:Saving business profiles...\n",
      "INFO:root:Saved business profiles with name: profile_tmp.parquet\n",
      "INFO:root:Transforming to ML input\n"
     ]
    }
   ],
   "source": [
    "(b_train, r_train, u_train), (b_test, r_test, u_test) = DataReader().read_data()\n",
    "\n",
    "user_profiles = UserProfilesManager().get_best()\n",
    "business_profiles = RestaurantProfilesManager().get_best()\n",
    "\n",
    "_, test_output = DataPreparer.transform_data(b_test, r_test, u_test, user_profiles, business_profiles)"
   ],
   "metadata": {
    "collapsed": false,
    "ExecuteTime": {
     "end_time": "2023-05-15T23:31:23.372375300Z",
     "start_time": "2023-05-15T23:25:37.720596300Z"
    }
   }
  },
  {
   "cell_type": "code",
   "execution_count": 28,
   "outputs": [
    {
     "name": "stdout",
     "output_type": "stream",
     "text": [
      "MSE: 0.09524310872894334\n",
      "adjusted RMSE: 1.2344592904033302\n"
     ]
    },
    {
     "data": {
      "text/plain": "       predicted  actual  difference\n0              4       5           1\n1              4       4           0\n2              4       4           0\n3              4       5           1\n4              4       4           0\n...          ...     ...         ...\n26115          4       1           3\n26116          4       4           0\n26117          4       4           0\n26118          4       5           1\n26119          4       5           1\n\n[26120 rows x 3 columns]",
      "text/html": "<div>\n<style scoped>\n    .dataframe tbody tr th:only-of-type {\n        vertical-align: middle;\n    }\n\n    .dataframe tbody tr th {\n        vertical-align: top;\n    }\n\n    .dataframe thead th {\n        text-align: right;\n    }\n</style>\n<table border=\"1\" class=\"dataframe\">\n  <thead>\n    <tr style=\"text-align: right;\">\n      <th></th>\n      <th>predicted</th>\n      <th>actual</th>\n      <th>difference</th>\n    </tr>\n  </thead>\n  <tbody>\n    <tr>\n      <th>0</th>\n      <td>4</td>\n      <td>5</td>\n      <td>1</td>\n    </tr>\n    <tr>\n      <th>1</th>\n      <td>4</td>\n      <td>4</td>\n      <td>0</td>\n    </tr>\n    <tr>\n      <th>2</th>\n      <td>4</td>\n      <td>4</td>\n      <td>0</td>\n    </tr>\n    <tr>\n      <th>3</th>\n      <td>4</td>\n      <td>5</td>\n      <td>1</td>\n    </tr>\n    <tr>\n      <th>4</th>\n      <td>4</td>\n      <td>4</td>\n      <td>0</td>\n    </tr>\n    <tr>\n      <th>...</th>\n      <td>...</td>\n      <td>...</td>\n      <td>...</td>\n    </tr>\n    <tr>\n      <th>26115</th>\n      <td>4</td>\n      <td>1</td>\n      <td>3</td>\n    </tr>\n    <tr>\n      <th>26116</th>\n      <td>4</td>\n      <td>4</td>\n      <td>0</td>\n    </tr>\n    <tr>\n      <th>26117</th>\n      <td>4</td>\n      <td>4</td>\n      <td>0</td>\n    </tr>\n    <tr>\n      <th>26118</th>\n      <td>4</td>\n      <td>5</td>\n      <td>1</td>\n    </tr>\n    <tr>\n      <th>26119</th>\n      <td>4</td>\n      <td>5</td>\n      <td>1</td>\n    </tr>\n  </tbody>\n</table>\n<p>26120 rows × 3 columns</p>\n</div>"
     },
     "execution_count": 28,
     "metadata": {},
     "output_type": "execute_result"
    }
   ],
   "source": [
    "predictions = pd.Series([4 for _ in range(len(test_output))]).rename(\"predicted\")  # Always predict 4\n",
    "actual = test_output.transform(lambda x: int(x * 4) + 1).rename(\"actual\")\n",
    "difference = abs(predictions - actual).rename(\"difference\")\n",
    "\n",
    "mse = (predictions.transform(lambda x: (x - 1) / 4) - test_output).transform(lambda x: x * x).mean()\n",
    "print(f\"MSE: {mse}\")\n",
    "print(f\"adjusted RMSE: {math.sqrt(mse) * 4}\")\n",
    "results = pd.concat([predictions, actual, difference], axis=1)\n",
    "results"
   ],
   "metadata": {
    "collapsed": false,
    "ExecuteTime": {
     "end_time": "2023-05-15T23:38:01.769455500Z",
     "start_time": "2023-05-15T23:38:01.687723800Z"
    }
   }
  },
  {
   "cell_type": "code",
   "execution_count": 10,
   "outputs": [
    {
     "data": {
      "text/plain": "(array([ 8113., 13918.,  2183.,  1906.,     0.]),\n array([0., 1., 2., 3., 4., 5.]),\n <BarContainer object of 5 artists>)"
     },
     "execution_count": 10,
     "metadata": {},
     "output_type": "execute_result"
    },
    {
     "data": {
      "text/plain": "<Figure size 640x480 with 1 Axes>",
      "image/png": "[encoded data removed]"
     },
     "metadata": {},
     "output_type": "display_data"
    }
   ],
   "source": [
    "plt.hist(results['difference'], bins=[0, 1, 2, 3, 4, 5], align='left', rwidth=0.5)"
   ],
   "metadata": {
    "collapsed": false,
    "ExecuteTime": {
     "end_time": "2023-05-15T23:32:15.340488Z",
     "start_time": "2023-05-15T23:32:15.207056900Z"
    }
   }
  }
 ],
 "metadata": {
  "kernelspec": {
   "display_name": "Python 3",
   "language": "python",
   "name": "python3"
  },
  "language_info": {
   "codemirror_mode": {
    "name": "ipython",
    "version": 2
   },
   "file_extension": ".py",
   "mimetype": "text/x-python",
   "name": "python",
   "nbconvert_exporter": "python",
   "pygments_lexer": "ipython2",
   "version": "2.7.6"
  }
 },
 "nbformat": 4,
 "nbformat_minor": 0
}
