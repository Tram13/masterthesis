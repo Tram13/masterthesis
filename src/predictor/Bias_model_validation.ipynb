{
 "cells": [
  {
   "cell_type": "code",
   "execution_count": 1,
   "metadata": {
    "collapsed": true,
    "ExecuteTime": {
     "end_time": "2023-05-21T22:23:10.353674Z",
     "start_time": "2023-05-21T22:23:03.242772Z"
    }
   },
   "outputs": [],
   "source": [
    "import logging\n",
    "import math\n",
    "import os\n",
    "\n",
    "import pandas as pd\n",
    "from tqdm.auto import tqdm\n",
    "from matplotlib import pyplot as plt\n",
    "\n",
    "from data.data_reader import DataReader\n",
    "from tools.restaurant_profiles_manager import RestaurantProfilesManager\n",
    "from tools.user_profiles_manager import UserProfilesManager\n",
    "\n",
    "logging.basicConfig(level=logging.INFO)\n",
    "tqdm.pandas()\n",
    "while str(os.getcwd())[-3:] != 'src':  # Execute from src-directory root\n",
    "    os.chdir('..')"
   ]
  },
  {
   "cell_type": "code",
   "execution_count": 2,
   "outputs": [
    {
     "name": "stderr",
     "output_type": "stream",
     "text": [
      "                                                                                           \r"
     ]
    }
   ],
   "source": [
    "train_data, test_data = DataReader().read_data()\n",
    "(b_train, r_train, u_train), (b_test, r_test, u_test) = train_data, test_data\n",
    "user_profiles = UserProfilesManager().get_best()\n",
    "business_profiles = RestaurantProfilesManager().get_best()"
   ],
   "metadata": {
    "collapsed": false,
    "ExecuteTime": {
     "end_time": "2023-05-21T22:23:16.033143300Z",
     "start_time": "2023-05-21T22:23:10.353674Z"
    }
   }
  },
  {
   "cell_type": "code",
   "execution_count": 19,
   "outputs": [],
   "source": [
    "def get_bias(row) -> float:\n",
    "    return global_mean + row['restaurant_bias'] + row['user_bias']"
   ],
   "metadata": {
    "collapsed": false,
    "ExecuteTime": {
     "end_time": "2023-05-21T22:54:07.649257700Z",
     "start_time": "2023-05-21T22:54:07.634713500Z"
    }
   }
  },
  {
   "cell_type": "code",
   "execution_count": 3,
   "outputs": [],
   "source": [
    "global_mean = r_train['stars_normalised'].mean()\n",
    "restaurant_bias = (r_train.groupby(\"business_id\").mean(numeric_only=True)['stars_normalised'] - global_mean).rename(\"restaurant_bias\")\n",
    "ratings_in_testset_per_user = r_test.groupby(\"user_id\").count()['funny_cool'].rename('review_count')"
   ],
   "metadata": {
    "collapsed": false,
    "ExecuteTime": {
     "end_time": "2023-05-21T22:23:16.340680700Z",
     "start_time": "2023-05-21T22:23:16.030142400Z"
    }
   }
  },
  {
   "cell_type": "code",
   "execution_count": null,
   "outputs": [],
   "source": [
    "verwerk_data = r_test[['stars_normalised', 'user_id', \"business_id\"]].join(restaurant_bias, on='business_id').join(ratings_in_testset_per_user, on='user_id')\n",
    "verwerk_data = verwerk_data[verwerk_data['review_count'] > 1]\n",
    "\n",
    "all_user_biases_list = []\n",
    "to_drop = []\n",
    "all_users = r_test['user_id'].unique()\n",
    "for current_user_id in tqdm(all_users, desc='Calculating User Biases'):\n",
    "    reviews_of_user_all = r_test[r_test['user_id'] == current_user_id]\n",
    "    reviews_of_user_gen = reviews_of_user_all.sample(frac=0.5)\n",
    "    to_drop.append(reviews_of_user_gen.index)\n",
    "    user_bias = reviews_of_user_gen.join(restaurant_bias, on='business_id').apply(lambda row: row['stars_normalised'] - global_mean - row['restaurant_bias'], axis=1).mean()\n",
    "    all_user_biases_list.append(user_bias)\n",
    "user_bias = pd.Series(data=all_user_biases_list, index=all_users).rename(\"user_bias\").fillna(0)\n",
    "user_bias"
   ],
   "metadata": {
    "collapsed": false
   }
  },
  {
   "cell_type": "code",
   "execution_count": 16,
   "outputs": [],
   "source": [
    "drops = pd.concat([pd.Series(index=x) for x in to_drop])\n",
    "verwerk_data = verwerk_data.drop(drops.index)"
   ],
   "metadata": {
    "collapsed": false,
    "ExecuteTime": {
     "end_time": "2023-05-21T22:54:02.293146800Z",
     "start_time": "2023-05-21T22:53:50.435340200Z"
    }
   }
  },
  {
   "cell_type": "code",
   "execution_count": 17,
   "outputs": [
    {
     "data": {
      "text/plain": "           stars_normalised  user_id  business_id  restaurant_bias   \nreview_id                                                            \n1                      0.50  1157506         4603        -0.099899  \\\n2                      1.00  1157507         2239         0.114750   \n7                      0.75  1157508         1052         0.094565   \n17                     0.75  1157509         5033        -0.041176   \n32                     1.00  1157512          813         0.169507   \n...                     ...      ...          ...              ...   \n4730915                0.50  1258447        49669         0.080511   \n4730917                0.75  1202479        50485         0.205263   \n4730920                0.25  1178381        47556        -0.029410   \n4730928                0.25  1196912        49942        -0.137737   \n4730988                1.00  1198439        49701         0.164726   \n\n           review_count  user_bias  \nreview_id                           \n1                    31   0.178958  \n2                     4   0.023634  \n7                     2   0.298278  \n17                  101  -0.033191  \n32                    5   0.249256  \n...                 ...        ...  \n4730915              10   0.022816  \n4730917             165  -0.047763  \n4730920             170   0.004191  \n4730928              52  -0.085497  \n4730988             105   0.040514  \n\n[383064 rows x 6 columns]",
      "text/html": "<div>\n<style scoped>\n    .dataframe tbody tr th:only-of-type {\n        vertical-align: middle;\n    }\n\n    .dataframe tbody tr th {\n        vertical-align: top;\n    }\n\n    .dataframe thead th {\n        text-align: right;\n    }\n</style>\n<table border=\"1\" class=\"dataframe\">\n  <thead>\n    <tr style=\"text-align: right;\">\n      <th></th>\n      <th>stars_normalised</th>\n      <th>user_id</th>\n      <th>business_id</th>\n      <th>restaurant_bias</th>\n      <th>review_count</th>\n      <th>user_bias</th>\n    </tr>\n    <tr>\n      <th>review_id</th>\n      <th></th>\n      <th></th>\n      <th></th>\n      <th></th>\n      <th></th>\n      <th></th>\n    </tr>\n  </thead>\n  <tbody>\n    <tr>\n      <th>1</th>\n      <td>0.50</td>\n      <td>1157506</td>\n      <td>4603</td>\n      <td>-0.099899</td>\n      <td>31</td>\n      <td>0.178958</td>\n    </tr>\n    <tr>\n      <th>2</th>\n      <td>1.00</td>\n      <td>1157507</td>\n      <td>2239</td>\n      <td>0.114750</td>\n      <td>4</td>\n      <td>0.023634</td>\n    </tr>\n    <tr>\n      <th>7</th>\n      <td>0.75</td>\n      <td>1157508</td>\n      <td>1052</td>\n      <td>0.094565</td>\n      <td>2</td>\n      <td>0.298278</td>\n    </tr>\n    <tr>\n      <th>17</th>\n      <td>0.75</td>\n      <td>1157509</td>\n      <td>5033</td>\n      <td>-0.041176</td>\n      <td>101</td>\n      <td>-0.033191</td>\n    </tr>\n    <tr>\n      <th>32</th>\n      <td>1.00</td>\n      <td>1157512</td>\n      <td>813</td>\n      <td>0.169507</td>\n      <td>5</td>\n      <td>0.249256</td>\n    </tr>\n    <tr>\n      <th>...</th>\n      <td>...</td>\n      <td>...</td>\n      <td>...</td>\n      <td>...</td>\n      <td>...</td>\n      <td>...</td>\n    </tr>\n    <tr>\n      <th>4730915</th>\n      <td>0.50</td>\n      <td>1258447</td>\n      <td>49669</td>\n      <td>0.080511</td>\n      <td>10</td>\n      <td>0.022816</td>\n    </tr>\n    <tr>\n      <th>4730917</th>\n      <td>0.75</td>\n      <td>1202479</td>\n      <td>50485</td>\n      <td>0.205263</td>\n      <td>165</td>\n      <td>-0.047763</td>\n    </tr>\n    <tr>\n      <th>4730920</th>\n      <td>0.25</td>\n      <td>1178381</td>\n      <td>47556</td>\n      <td>-0.029410</td>\n      <td>170</td>\n      <td>0.004191</td>\n    </tr>\n    <tr>\n      <th>4730928</th>\n      <td>0.25</td>\n      <td>1196912</td>\n      <td>49942</td>\n      <td>-0.137737</td>\n      <td>52</td>\n      <td>-0.085497</td>\n    </tr>\n    <tr>\n      <th>4730988</th>\n      <td>1.00</td>\n      <td>1198439</td>\n      <td>49701</td>\n      <td>0.164726</td>\n      <td>105</td>\n      <td>0.040514</td>\n    </tr>\n  </tbody>\n</table>\n<p>383064 rows × 6 columns</p>\n</div>"
     },
     "execution_count": 17,
     "metadata": {},
     "output_type": "execute_result"
    }
   ],
   "source": [
    "verwerk_data = verwerk_data.join(user_bias, on='user_id')\n",
    "verwerk_data"
   ],
   "metadata": {
    "collapsed": false,
    "ExecuteTime": {
     "end_time": "2023-05-21T22:54:02.340446900Z",
     "start_time": "2023-05-21T22:54:02.293146800Z"
    }
   }
  },
  {
   "cell_type": "code",
   "execution_count": 20,
   "outputs": [
    {
     "data": {
      "text/plain": "  0%|          | 0/383064 [00:00<?, ?it/s]",
      "application/vnd.jupyter.widget-view+json": {
       "version_major": 2,
       "version_minor": 0,
       "model_id": "0c1999fb29bd4c1e92d71177b03ffc42"
      }
     },
     "metadata": {},
     "output_type": "display_data"
    },
    {
     "data": {
      "text/plain": "review_id\n1          0.777643\n2          0.836967\n7          1.091426\n17         0.624216\n32         1.117346\n             ...   \n4730915    0.801910\n4730917    0.856083\n4730920    0.673364\n4730928    0.475350\n4730988    0.903824\nName: predicted, Length: 383064, dtype: float64"
     },
     "execution_count": 20,
     "metadata": {},
     "output_type": "execute_result"
    }
   ],
   "source": [
    "predictions = verwerk_data.progress_apply(get_bias, axis=1).rename('predicted')\n",
    "predictions"
   ],
   "metadata": {
    "collapsed": false,
    "ExecuteTime": {
     "end_time": "2023-05-21T22:54:14.620957800Z",
     "start_time": "2023-05-21T22:54:12.191743400Z"
    }
   }
  },
  {
   "cell_type": "code",
   "execution_count": 24,
   "outputs": [
    {
     "name": "stdout",
     "output_type": "stream",
     "text": [
      "MSE: 0.10365450248234899\n",
      "adjusted RMSE: 1.2878167725719307\n"
     ]
    },
    {
     "data": {
      "text/plain": "           predicted  stars_normalised  difference\nreview_id                                         \n1                4.0               3.0         1.0\n2                4.0               5.0         1.0\n7                5.0               4.0         1.0\n17               3.0               4.0         1.0\n32               5.0               5.0         0.0\n...              ...               ...         ...\n4730915          4.0               3.0         1.0\n4730917          4.0               4.0         0.0\n4730920          4.0               2.0         2.0\n4730928          3.0               2.0         1.0\n4730988          5.0               5.0         0.0\n\n[383064 rows x 3 columns]",
      "text/html": "<div>\n<style scoped>\n    .dataframe tbody tr th:only-of-type {\n        vertical-align: middle;\n    }\n\n    .dataframe tbody tr th {\n        vertical-align: top;\n    }\n\n    .dataframe thead th {\n        text-align: right;\n    }\n</style>\n<table border=\"1\" class=\"dataframe\">\n  <thead>\n    <tr style=\"text-align: right;\">\n      <th></th>\n      <th>predicted</th>\n      <th>stars_normalised</th>\n      <th>difference</th>\n    </tr>\n    <tr>\n      <th>review_id</th>\n      <th></th>\n      <th></th>\n      <th></th>\n    </tr>\n  </thead>\n  <tbody>\n    <tr>\n      <th>1</th>\n      <td>4.0</td>\n      <td>3.0</td>\n      <td>1.0</td>\n    </tr>\n    <tr>\n      <th>2</th>\n      <td>4.0</td>\n      <td>5.0</td>\n      <td>1.0</td>\n    </tr>\n    <tr>\n      <th>7</th>\n      <td>5.0</td>\n      <td>4.0</td>\n      <td>1.0</td>\n    </tr>\n    <tr>\n      <th>17</th>\n      <td>3.0</td>\n      <td>4.0</td>\n      <td>1.0</td>\n    </tr>\n    <tr>\n      <th>32</th>\n      <td>5.0</td>\n      <td>5.0</td>\n      <td>0.0</td>\n    </tr>\n    <tr>\n      <th>...</th>\n      <td>...</td>\n      <td>...</td>\n      <td>...</td>\n    </tr>\n    <tr>\n      <th>4730915</th>\n      <td>4.0</td>\n      <td>3.0</td>\n      <td>1.0</td>\n    </tr>\n    <tr>\n      <th>4730917</th>\n      <td>4.0</td>\n      <td>4.0</td>\n      <td>0.0</td>\n    </tr>\n    <tr>\n      <th>4730920</th>\n      <td>4.0</td>\n      <td>2.0</td>\n      <td>2.0</td>\n    </tr>\n    <tr>\n      <th>4730928</th>\n      <td>3.0</td>\n      <td>2.0</td>\n      <td>1.0</td>\n    </tr>\n    <tr>\n      <th>4730988</th>\n      <td>5.0</td>\n      <td>5.0</td>\n      <td>0.0</td>\n    </tr>\n  </tbody>\n</table>\n<p>383064 rows × 3 columns</p>\n</div>"
     },
     "execution_count": 24,
     "metadata": {},
     "output_type": "execute_result"
    }
   ],
   "source": [
    "scaled_predictions = round((predictions * 4) + 1)\n",
    "actual = (verwerk_data['stars_normalised'] * 4) + 1\n",
    "difference = abs(scaled_predictions - actual).rename(\"difference\")\n",
    "\n",
    "mse = (predictions - verwerk_data['stars_normalised']).transform(lambda x: x * x).mean()\n",
    "print(f\"MSE: {mse}\")\n",
    "print(f\"adjusted RMSE: {math.sqrt(mse) * 4}\")\n",
    "results = pd.concat([scaled_predictions, actual, difference], axis=1)\n",
    "results"
   ],
   "metadata": {
    "collapsed": false,
    "ExecuteTime": {
     "end_time": "2023-05-21T22:58:25.408527500Z",
     "start_time": "2023-05-21T22:58:25.335790800Z"
    }
   }
  }
 ],
 "metadata": {
  "kernelspec": {
   "display_name": "Python 3",
   "language": "python",
   "name": "python3"
  },
  "language_info": {
   "codemirror_mode": {
    "name": "ipython",
    "version": 2
   },
   "file_extension": ".py",
   "mimetype": "text/x-python",
   "name": "python",
   "nbconvert_exporter": "python",
   "pygments_lexer": "ipython2",
   "version": "2.7.6"
  }
 },
 "nbformat": 4,
 "nbformat_minor": 0
}
