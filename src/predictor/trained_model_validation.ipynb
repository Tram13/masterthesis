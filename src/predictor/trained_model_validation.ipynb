{
 "cells": [
  {
   "cell_type": "code",
   "execution_count": 1,
   "metadata": {
    "collapsed": true,
    "ExecuteTime": {
     "start_time": "2023-04-27T22:02:48.068568Z",
     "end_time": "2023-04-27T22:02:50.631379Z"
    }
   },
   "outputs": [],
   "source": [
    "import logging\n",
    "import os\n",
    "import gc\n",
    "\n",
    "import matplotlib.pyplot as plt\n",
    "import pandas as pd\n",
    "import torch\n",
    "from torch import optim, nn\n",
    "from torch.utils.data import DataLoader\n",
    "from tqdm.notebook import tqdm\n",
    "\n",
    "from data.data_preparer import DataPreparer\n",
    "from src.data.data_reader import DataReader\n",
    "from src.predictor.multilayer_perceptron import MultiLayerPerceptronPredictor\n",
    "from tools.RestaurantReviewsDataset import RestaurantReviewsDataset\n",
    "from tools.config_parser import ConfigParser\n",
    "from tools.profiles_manager import ProfilesManager\n",
    "\n",
    "logging.basicConfig(level=logging.INFO)\n",
    "\n",
    "while str(os.getcwd())[-3:] != 'src':  # Execute from src-directory root\n",
    "    os.chdir('..')"
   ]
  },
  {
   "cell_type": "code",
   "execution_count": 2,
   "outputs": [
    {
     "name": "stderr",
     "output_type": "stream",
     "text": [
      "                                                                                           \r"
     ]
    }
   ],
   "source": [
    "businesses, reviews, tips, users = DataReader().read_data(part=5, total_parts=10)"
   ],
   "metadata": {
    "collapsed": false,
    "ExecuteTime": {
     "start_time": "2023-04-27T22:02:50.632883Z",
     "end_time": "2023-04-27T22:03:10.499357Z"
    }
   }
  },
  {
   "cell_type": "code",
   "execution_count": 3,
   "outputs": [
    {
     "data": {
      "text/plain": "Loading in models:   0%|          | 0/1 [00:00<?, ?it/s]",
      "application/vnd.jupyter.widget-view+json": {
       "version_major": 2,
       "version_minor": 0,
       "model_id": "8393def74a9346439660d236991e3b55"
      }
     },
     "metadata": {},
     "output_type": "display_data"
    },
    {
     "name": "stdout",
     "output_type": "stream",
     "text": [
      "BASIC_USER_PROFILES_400_no_sentiment.parquet\n",
      "business_profile_approx_50_top10.parquet\n"
     ]
    },
    {
     "name": "stderr",
     "output_type": "stream",
     "text": [
      "INFO:root:Model loaded from predictor/Models/mlp\\mlp_2023-04-27_21h54__BASIC_USER_PROFILES_400_no_sentiment_business_profile_approx_50_top10.pt.\n"
     ]
    }
   ],
   "source": [
    "def load_model(model_path: os.PathLike, businesses_f, reviews_f, tips_f, users_f):\n",
    "    # Dummy model just to get the user profiles and business profiles\n",
    "    user_profiles_location_f, business_profiles_location_f = MultiLayerPerceptronPredictor.get_profile_names(model_path)\n",
    "    print(user_profiles_location_f)\n",
    "    print(business_profiles_location_f)\n",
    "\n",
    "    # Load appropriate data\n",
    "    user_profiles_f = ProfilesManager().get_user_profiles(user_profiles_location_f)\n",
    "    business_profiles_f = None if business_profiles_location_f in {\"None\", \"\", \"none\", None} else ProfilesManager().get_business_profiles(\n",
    "        business_profiles_location_f)\n",
    "\n",
    "    train_test_data_f = DataPreparer.get_train_test_validate(businesses_f, reviews_f, tips_f, users_f, user_profiles_f, business_profiles_f)\n",
    "\n",
    "    # Create valid trained model\n",
    "    trained_model = MultiLayerPerceptronPredictor(input_size=train_test_data_f[0].columns.size, output_size=1)\n",
    "    trained_optimizer = optim.Adam(trained_model.parameters(), lr=0.002)\n",
    "    trained_model.load(trained_optimizer, model_path)\n",
    "\n",
    "    return trained_model, trained_optimizer, train_test_data_f\n",
    "\n",
    "def find_worst_model_with_index(model_list) -> tuple[float, int]:\n",
    "    highest_loss = max([model_f[1] for model_f in model_list])\n",
    "    corresponding_index = [i for i, model_f in enumerate(model_list) if model_f[1] == highest_loss][0]\n",
    "    return highest_loss, corresponding_index\n",
    "\n",
    "\n",
    "def get_all_models_with_loss():\n",
    "    models_dir = list(os.scandir(ConfigParser().get_value(\"predictor_model\", \"model_dir\")))\n",
    "    models_with_loss_f = []\n",
    "    for _ in range(min(len(models_dir), 5)):\n",
    "        models_with_loss_f.append((None, 99))\n",
    "    for dir_entry in tqdm(models_dir, desc=\"Loading in models\"):\n",
    "        model_path = dir_entry.path\n",
    "        model_f, _, train_test_data_f = load_model(model_path, businesses, reviews, tips, users)\n",
    "\n",
    "        highest_loss, highest_index = find_worst_model_with_index(models_with_loss_f)\n",
    "        current_loss = min(model_f.loss_history)\n",
    "        if current_loss < highest_loss:\n",
    "            models_with_loss_f[highest_index] = (model_f, current_loss, train_test_data_f)\n",
    "    models_with_loss_f = sorted(models_with_loss_f, key=lambda data: data[1])\n",
    "    return models_with_loss_f"
   ],
   "metadata": {
    "collapsed": false,
    "ExecuteTime": {
     "start_time": "2023-04-27T22:03:10.505877Z",
     "end_time": "2023-04-27T22:03:35.469371Z"
    }
   }
  },
  {
   "cell_type": "code",
   "execution_count": 6,
   "outputs": [
    {
     "name": "stderr",
     "output_type": "stream",
     "text": [
      "INFO:root:Testing model with User Profiles: BASIC_USER_PROFILES_400_no_sentiment.parquet and Business Profiles: business_profile_approx_50_top10.parquet\n"
     ]
    }
   ],
   "source": [
    "models_with_loss = get_all_models_with_loss()\n",
    "model: nn.Module = models_with_loss[0][0]\n",
    "\n",
    "results = []\n",
    "\n",
    "for model, _, train_test_data in models_with_loss:\n",
    "    logging.info(f\"Testing model with User Profiles: {model.user_profiles_location} and Business Profiles: {model.business_profiles_location}\")\n",
    "    model.eval()  # Prepare layers of model for evaluation\n",
    "    with torch.no_grad():\n",
    "        testX, testY = train_test_data[1], train_test_data[3]\n",
    "\n",
    "        testX = testX.head(500)\n",
    "        testY = testY.head(500)\n",
    "\n",
    "        dl = RestaurantReviewsDataset(testX.to_numpy(), testY.to_numpy())\n",
    "        test_loader = DataLoader(dl, batch_size=500)\n",
    "        for x, y in test_loader:\n",
    "            # Prepare data\n",
    "            x, y = DataPreparer.get_tensor_for_ml(x, y)\n",
    "            # Compute predictions and loss\n",
    "\n",
    "            predictions = model(x)\n",
    "            predictions = predictions.cpu().detach().numpy().squeeze().transpose()\n",
    "            y = y.cpu().detach().numpy().squeeze().transpose()\n",
    "            result = pd.DataFrame(data=[predictions, y]).transpose()\n",
    "            result.columns = ['predicted', 'actual']\n",
    "            result['predicted'] = result['predicted'].transform(lambda x: round(x * 4 + 1))\n",
    "            result['actual'] = result['actual'].transform(lambda x: int(x * 4 + 1))\n",
    "            result['difference'] = abs(result['predicted'] - result['actual'])\n",
    "            results.append(result)"
   ],
   "metadata": {
    "collapsed": false,
    "ExecuteTime": {
     "start_time": "2023-04-27T22:03:35.494965Z",
     "end_time": "2023-04-27T22:03:36.126696Z"
    }
   }
  },
  {
   "cell_type": "code",
   "execution_count": 16,
   "outputs": [
    {
     "name": "stdout",
     "output_type": "stream",
     "text": [
      "Histogram of differences between prediction and actual:\n",
      "Models used: BASIC_USER_PROFILES_400_no_sentiment.parquet  |  business_profile_approx_50_top10.parquet\n"
     ]
    },
    {
     "data": {
      "text/plain": "     predicted  actual  difference\n0            3       1           2\n1            4       4           0\n2            4       5           1\n3            2       2           0\n4            4       2           2\n..         ...     ...         ...\n495          3       5           2\n496          4       4           0\n497          3       5           2\n498          3       4           1\n499          2       2           0\n\n[500 rows x 3 columns]",
      "text/html": "<div>\n<style scoped>\n    .dataframe tbody tr th:only-of-type {\n        vertical-align: middle;\n    }\n\n    .dataframe tbody tr th {\n        vertical-align: top;\n    }\n\n    .dataframe thead th {\n        text-align: right;\n    }\n</style>\n<table border=\"1\" class=\"dataframe\">\n  <thead>\n    <tr style=\"text-align: right;\">\n      <th></th>\n      <th>predicted</th>\n      <th>actual</th>\n      <th>difference</th>\n    </tr>\n  </thead>\n  <tbody>\n    <tr>\n      <th>0</th>\n      <td>3</td>\n      <td>1</td>\n      <td>2</td>\n    </tr>\n    <tr>\n      <th>1</th>\n      <td>4</td>\n      <td>4</td>\n      <td>0</td>\n    </tr>\n    <tr>\n      <th>2</th>\n      <td>4</td>\n      <td>5</td>\n      <td>1</td>\n    </tr>\n    <tr>\n      <th>3</th>\n      <td>2</td>\n      <td>2</td>\n      <td>0</td>\n    </tr>\n    <tr>\n      <th>4</th>\n      <td>4</td>\n      <td>2</td>\n      <td>2</td>\n    </tr>\n    <tr>\n      <th>...</th>\n      <td>...</td>\n      <td>...</td>\n      <td>...</td>\n    </tr>\n    <tr>\n      <th>495</th>\n      <td>3</td>\n      <td>5</td>\n      <td>2</td>\n    </tr>\n    <tr>\n      <th>496</th>\n      <td>4</td>\n      <td>4</td>\n      <td>0</td>\n    </tr>\n    <tr>\n      <th>497</th>\n      <td>3</td>\n      <td>5</td>\n      <td>2</td>\n    </tr>\n    <tr>\n      <th>498</th>\n      <td>3</td>\n      <td>4</td>\n      <td>1</td>\n    </tr>\n    <tr>\n      <th>499</th>\n      <td>2</td>\n      <td>2</td>\n      <td>0</td>\n    </tr>\n  </tbody>\n</table>\n<p>500 rows × 3 columns</p>\n</div>"
     },
     "execution_count": 16,
     "metadata": {},
     "output_type": "execute_result"
    },
    {
     "data": {
      "text/plain": "<Figure size 640x480 with 1 Axes>",
      "image/png": "[encoded data removed]"
     },
     "metadata": {},
     "output_type": "display_data"
    }
   ],
   "source": [
    "index = 0\n",
    "result = results[index]\n",
    "print(\"Histogram of differences between prediction and actual:\")\n",
    "print(f\"Models used: {models_with_loss[index][0].user_profiles_location}  |  {models_with_loss[index][0].business_profiles_location}\")\n",
    "plt.hist(result['difference'], bins=[0, 1, 2, 3, 4, 5], align='left', rwidth=0.5)\n",
    "result"
   ],
   "metadata": {
    "collapsed": false,
    "ExecuteTime": {
     "start_time": "2023-04-27T23:21:21.981932Z",
     "end_time": "2023-04-27T23:21:22.121187Z"
    }
   }
  },
  {
   "cell_type": "code",
   "execution_count": 18,
   "outputs": [
    {
     "data": {
      "text/plain": "<Figure size 640x480 with 1 Axes>",
      "image/png": "[encoded data removed]"
     },
     "execution_count": 18,
     "metadata": {},
     "output_type": "execute_result"
    }
   ],
   "source": [
    "model.plot_loss_progress()[0]"
   ],
   "metadata": {
    "collapsed": false,
    "ExecuteTime": {
     "start_time": "2023-04-27T23:21:27.176117Z",
     "end_time": "2023-04-27T23:21:27.274991Z"
    }
   }
  }
 ],
 "metadata": {
  "kernelspec": {
   "display_name": "Python 3",
   "language": "python",
   "name": "python3"
  },
  "language_info": {
   "codemirror_mode": {
    "name": "ipython",
    "version": 2
   },
   "file_extension": ".py",
   "mimetype": "text/x-python",
   "name": "python",
   "nbconvert_exporter": "python",
   "pygments_lexer": "ipython2",
   "version": "2.7.6"
  }
 },
 "nbformat": 4,
 "nbformat_minor": 0
}
