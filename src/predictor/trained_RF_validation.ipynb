{
 "cells": [
  {
   "cell_type": "code",
   "execution_count": 2,
   "metadata": {
    "collapsed": true,
    "ExecuteTime": {
     "end_time": "2023-05-01T10:45:48.773588800Z",
     "start_time": "2023-05-01T10:45:48.706107Z"
    }
   },
   "outputs": [],
   "source": [
    "import logging\n",
    "import os\n",
    "from random import randint\n",
    "\n",
    "from data.data_preparer import DataPreparer\n",
    "from data.data_reader import DataReader\n",
    "from tools.restaurant_profiles_manager import RestaurantProfilesManager\n",
    "from tools.user_profiles_manager import UserProfilesManager\n",
    "\n",
    "logging.basicConfig(level=logging.INFO)\n",
    "\n",
    "while str(os.getcwd())[-3:] != 'src':  # Execute from src-directory root\n",
    "    os.chdir('..')"
   ]
  },
  {
   "cell_type": "code",
   "execution_count": 4,
   "outputs": [
    {
     "name": "stderr",
     "output_type": "stream",
     "text": [
      "                                                                                           \r"
     ]
    }
   ],
   "source": [
    "train_data, test_data = DataReader().read_data()\n",
    "\n",
    "user_profiles = UserProfilesManager().get_best()\n",
    "business_profiles = RestaurantProfilesManager().get_best()\n",
    "\n",
    "_, _, test_input, test_output = DataPreparer.parse_data_train_test(train_data, test_data, (user_profiles, business_profiles), cache_index_if_available=randint(0, 10))"
   ],
   "metadata": {
    "collapsed": false,
    "ExecuteTime": {
     "end_time": "2023-05-01T10:48:26.479243500Z",
     "start_time": "2023-05-01T10:46:57.526628900Z"
    }
   }
  },
  {
   "cell_type": "markdown",
   "source": [],
   "metadata": {
    "collapsed": false
   }
  },
  {
   "cell_type": "code",
   "execution_count": 1,
   "outputs": [],
   "source": [
    "# TODO: inlezen model en testen"
   ],
   "metadata": {
    "collapsed": false,
    "ExecuteTime": {
     "end_time": "2023-05-15T23:20:25.425926900Z",
     "start_time": "2023-05-15T23:20:25.411615800Z"
    }
   }
  }
 ],
 "metadata": {
  "kernelspec": {
   "display_name": "Python 3",
   "language": "python",
   "name": "python3"
  },
  "language_info": {
   "codemirror_mode": {
    "name": "ipython",
    "version": 2
   },
   "file_extension": ".py",
   "mimetype": "text/x-python",
   "name": "python",
   "nbconvert_exporter": "python",
   "pygments_lexer": "ipython2",
   "version": "2.7.6"
  }
 },
 "nbformat": 4,
 "nbformat_minor": 0
}
