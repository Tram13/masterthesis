{
 "cells": [
  {
   "cell_type": "code",
   "execution_count": null,
   "metadata": {
    "collapsed": true
   },
   "outputs": [],
   "source": [
    "import logging\n",
    "import os\n",
    "\n",
    "from data.data_preparer import DataPreparer\n",
    "from predictor.random_forest import RandomForest\n",
    "from src.data.data_reader import DataReader\n",
    "from tools.profiles_manager import ProfilesManager\n",
    "\n",
    "logging.basicConfig(level=logging.INFO)\n",
    "\n",
    "while str(os.getcwd())[-3:] != 'src':  # Execute from src-directory root\n",
    "    os.chdir('..')"
   ]
  },
  {
   "cell_type": "code",
   "execution_count": null,
   "outputs": [],
   "source": [
    "businesses, reviews, tips, users = DataReader().read_data()\n",
    "user_profiles = ProfilesManager().get_user_profiles()\n",
    "business_profiles = ProfilesManager().get_business_profiles()\n",
    "input_ml_train, input_ml_test, output_ml_train, output_ml_test = DataPreparer.get_train_test_validate(businesses, reviews, tips, users, user_profiles,\n",
    "                                                                                                      business_profiles)\n"
   ],
   "metadata": {
    "collapsed": false
   }
  },
  {
   "cell_type": "code",
   "execution_count": null,
   "outputs": [],
   "source": [
    "forest = RandomForest(input_ml_train, input_ml_test, output_ml_train, output_ml_test)\n",
    "forest.train()"
   ],
   "metadata": {
    "collapsed": false
   }
  },
  {
   "cell_type": "code",
   "execution_count": null,
   "outputs": [],
   "source": [
    "forest.validate()"
   ],
   "metadata": {
    "collapsed": false
   }
  }
 ],
 "metadata": {
  "kernelspec": {
   "display_name": "Python 3",
   "language": "python",
   "name": "python3"
  },
  "language_info": {
   "codemirror_mode": {
    "name": "ipython",
    "version": 2
   },
   "file_extension": ".py",
   "mimetype": "text/x-python",
   "name": "python",
   "nbconvert_exporter": "python",
   "pygments_lexer": "ipython2",
   "version": "2.7.6"
  }
 },
 "nbformat": 4,
 "nbformat_minor": 0
}
