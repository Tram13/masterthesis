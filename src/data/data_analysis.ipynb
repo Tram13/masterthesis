{
 "cells": [
  {
   "cell_type": "code",
   "execution_count": 4,
   "metadata": {
    "collapsed": true
   },
   "outputs": [
    {
     "name": "stdout",
     "output_type": "stream",
     "text": [
      "D:\\Documents\\Projects\\MasterThesis\\src\n"
     ]
    }
   ],
   "source": [
    "from pathlib import Path\n",
    "from src.data.data_reader import DataReader\n",
    "import os\n",
    "\n",
    "while str(os.getcwd())[-3:] != 'src':  # Execute from src-directory root\n",
    "    os.chdir('..')\n",
    "print(os.getcwd())\n",
    "businesses, checkins, reviews, tips, users = DataReader(Path('..', 'data')).read_data()\n"
   ]
  },
  {
   "cell_type": "code",
   "execution_count": 3,
   "outputs": [
    {
     "data": {
      "text/plain": "                   business_id                      name           city  \\\n0       Pns2l4eNsfO8kk83dixA6A  Abby Rappoport, LAC, CMQ  Santa Barbara   \n1       mpf3x-BjTdTEA3yCZrAYPw             The UPS Store         Affton   \n2       tUFrWirKiKi_TAnsVWINQQ                    Target         Tucson   \n3       MTSW4McQd7CbVtyjqoe9mw        St Honore Pastries   Philadelphia   \n4       mWMc6_wTdE0EUBKIGXDVfA  Perkiomen Valley Brewery     Green Lane   \n...                        ...                       ...            ...   \n150341  IUQopTMmYQG-qRtBk-8QnA              Binh's Nails       Edmonton   \n150342  c8GjPIOTGVmIemT7j5_SyQ      Wild Birds Unlimited      Nashville   \n150343  _QAMST-NrQobXduilWEqSw         Claire's Boutique   Indianapolis   \n150344  mtGm22y5c2UHNXDFAjaPNw  Cyclery & Fitness Center   Edwardsville   \n150345  jV_XOycEzSlTx-65W906pg                   Sic Ink   Apollo beach   \n\n        stars  review_count  \\\n0         5.0             7   \n1         3.0            15   \n2         3.5            22   \n3         4.0            80   \n4         4.5            13   \n...       ...           ...   \n150341    3.0            13   \n150342    4.0             5   \n150343    3.5             8   \n150344    4.0            24   \n150345    4.5             9   \n\n                                               attributes  \\\n0                           {'ByAppointmentOnly': 'True'}   \n1                  {'BusinessAcceptsCreditCards': 'True'}   \n2       {'BikeParking': 'True', 'BusinessAcceptsCredit...   \n3       {'RestaurantsDelivery': 'False', 'OutdoorSeati...   \n4       {'BusinessAcceptsCreditCards': 'True', 'Wheelc...   \n...                                                   ...   \n150341  {'ByAppointmentOnly': 'False', 'RestaurantsPri...   \n150342  {'BusinessAcceptsCreditCards': 'True', 'Restau...   \n150343  {'RestaurantsPriceRange2': '1', 'BusinessAccep...   \n150344  {'BusinessParking': '{'garage': False, 'street...   \n150345  {'WheelchairAccessible': 'True', 'BusinessAcce...   \n\n                                               categories  \n0       Doctors, Traditional Chinese Medicine, Naturop...  \n1       Shipping Centers, Local Services, Notaries, Ma...  \n2       Department Stores, Shopping, Fashion, Home & G...  \n3       Restaurants, Food, Bubble Tea, Coffee & Tea, B...  \n4                               Brewpubs, Breweries, Food  \n...                                                   ...  \n150341                         Nail Salons, Beauty & Spas  \n150342  Pets, Nurseries & Gardening, Pet Stores, Hobby...  \n150343  Shopping, Jewelry, Piercing, Toy Stores, Beaut...  \n150344  Fitness/Exercise Equipment, Eyewear & Optician...  \n150345  Beauty & Spas, Permanent Makeup, Piercing, Tattoo  \n\n[150346 rows x 7 columns]",
      "text/html": "<div>\n<style scoped>\n    .dataframe tbody tr th:only-of-type {\n        vertical-align: middle;\n    }\n\n    .dataframe tbody tr th {\n        vertical-align: top;\n    }\n\n    .dataframe thead th {\n        text-align: right;\n    }\n</style>\n<table border=\"1\" class=\"dataframe\">\n  <thead>\n    <tr style=\"text-align: right;\">\n      <th></th>\n      <th>business_id</th>\n      <th>name</th>\n      <th>city</th>\n      <th>stars</th>\n      <th>review_count</th>\n      <th>attributes</th>\n      <th>categories</th>\n    </tr>\n  </thead>\n  <tbody>\n    <tr>\n      <th>0</th>\n      <td>Pns2l4eNsfO8kk83dixA6A</td>\n      <td>Abby Rappoport, LAC, CMQ</td>\n      <td>Santa Barbara</td>\n      <td>5.0</td>\n      <td>7</td>\n      <td>{'ByAppointmentOnly': 'True'}</td>\n      <td>Doctors, Traditional Chinese Medicine, Naturop...</td>\n    </tr>\n    <tr>\n      <th>1</th>\n      <td>mpf3x-BjTdTEA3yCZrAYPw</td>\n      <td>The UPS Store</td>\n      <td>Affton</td>\n      <td>3.0</td>\n      <td>15</td>\n      <td>{'BusinessAcceptsCreditCards': 'True'}</td>\n      <td>Shipping Centers, Local Services, Notaries, Ma...</td>\n    </tr>\n    <tr>\n      <th>2</th>\n      <td>tUFrWirKiKi_TAnsVWINQQ</td>\n      <td>Target</td>\n      <td>Tucson</td>\n      <td>3.5</td>\n      <td>22</td>\n      <td>{'BikeParking': 'True', 'BusinessAcceptsCredit...</td>\n      <td>Department Stores, Shopping, Fashion, Home &amp; G...</td>\n    </tr>\n    <tr>\n      <th>3</th>\n      <td>MTSW4McQd7CbVtyjqoe9mw</td>\n      <td>St Honore Pastries</td>\n      <td>Philadelphia</td>\n      <td>4.0</td>\n      <td>80</td>\n      <td>{'RestaurantsDelivery': 'False', 'OutdoorSeati...</td>\n      <td>Restaurants, Food, Bubble Tea, Coffee &amp; Tea, B...</td>\n    </tr>\n    <tr>\n      <th>4</th>\n      <td>mWMc6_wTdE0EUBKIGXDVfA</td>\n      <td>Perkiomen Valley Brewery</td>\n      <td>Green Lane</td>\n      <td>4.5</td>\n      <td>13</td>\n      <td>{'BusinessAcceptsCreditCards': 'True', 'Wheelc...</td>\n      <td>Brewpubs, Breweries, Food</td>\n    </tr>\n    <tr>\n      <th>...</th>\n      <td>...</td>\n      <td>...</td>\n      <td>...</td>\n      <td>...</td>\n      <td>...</td>\n      <td>...</td>\n      <td>...</td>\n    </tr>\n    <tr>\n      <th>150341</th>\n      <td>IUQopTMmYQG-qRtBk-8QnA</td>\n      <td>Binh's Nails</td>\n      <td>Edmonton</td>\n      <td>3.0</td>\n      <td>13</td>\n      <td>{'ByAppointmentOnly': 'False', 'RestaurantsPri...</td>\n      <td>Nail Salons, Beauty &amp; Spas</td>\n    </tr>\n    <tr>\n      <th>150342</th>\n      <td>c8GjPIOTGVmIemT7j5_SyQ</td>\n      <td>Wild Birds Unlimited</td>\n      <td>Nashville</td>\n      <td>4.0</td>\n      <td>5</td>\n      <td>{'BusinessAcceptsCreditCards': 'True', 'Restau...</td>\n      <td>Pets, Nurseries &amp; Gardening, Pet Stores, Hobby...</td>\n    </tr>\n    <tr>\n      <th>150343</th>\n      <td>_QAMST-NrQobXduilWEqSw</td>\n      <td>Claire's Boutique</td>\n      <td>Indianapolis</td>\n      <td>3.5</td>\n      <td>8</td>\n      <td>{'RestaurantsPriceRange2': '1', 'BusinessAccep...</td>\n      <td>Shopping, Jewelry, Piercing, Toy Stores, Beaut...</td>\n    </tr>\n    <tr>\n      <th>150344</th>\n      <td>mtGm22y5c2UHNXDFAjaPNw</td>\n      <td>Cyclery &amp; Fitness Center</td>\n      <td>Edwardsville</td>\n      <td>4.0</td>\n      <td>24</td>\n      <td>{'BusinessParking': '{'garage': False, 'street...</td>\n      <td>Fitness/Exercise Equipment, Eyewear &amp; Optician...</td>\n    </tr>\n    <tr>\n      <th>150345</th>\n      <td>jV_XOycEzSlTx-65W906pg</td>\n      <td>Sic Ink</td>\n      <td>Apollo beach</td>\n      <td>4.5</td>\n      <td>9</td>\n      <td>{'WheelchairAccessible': 'True', 'BusinessAcce...</td>\n      <td>Beauty &amp; Spas, Permanent Makeup, Piercing, Tattoo</td>\n    </tr>\n  </tbody>\n</table>\n<p>150346 rows × 7 columns</p>\n</div>"
     },
     "execution_count": 3,
     "metadata": {},
     "output_type": "execute_result"
    }
   ],
   "source": [
    "businesses"
   ],
   "metadata": {
    "collapsed": false
   }
  }
 ],
 "metadata": {
  "kernelspec": {
   "display_name": "Python 3",
   "language": "python",
   "name": "python3"
  },
  "language_info": {
   "codemirror_mode": {
    "name": "ipython",
    "version": 2
   },
   "file_extension": ".py",
   "mimetype": "text/x-python",
   "name": "python",
   "nbconvert_exporter": "python",
   "pygments_lexer": "ipython2",
   "version": "2.7.6"
  }
 },
 "nbformat": 4,
 "nbformat_minor": 0
}
