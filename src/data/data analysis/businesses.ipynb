{
 "cells": [
  {
   "cell_type": "markdown",
   "source": [
    "# Data Analysis: Businesses\n",
    "## Analysis of the businesses dataset\n",
    "2 fields are problematic: 'attributes' and 'categories':\n",
    "* Attributes are unstructured data about a venue.\n",
    "* Not all businesses are restaurants."
   ],
   "metadata": {
    "collapsed": false
   }
  },
  {
   "cell_type": "code",
   "execution_count": 2,
   "outputs": [],
   "source": [
    "from pathlib import Path\n",
    "from src.data.data_reader import DataReader\n",
    "import os\n",
    "import pandas as pd\n",
    "import json\n",
    "\n",
    "while str(os.getcwd())[-3:] != 'src':  # Execute from src-directory root\n",
    "    os.chdir('..')"
   ],
   "metadata": {
    "collapsed": false
   }
  },
  {
   "cell_type": "code",
   "execution_count": 3,
   "outputs": [
    {
     "data": {
      "text/plain": "                   business_id                      name           city  \\\n0       Pns2l4eNsfO8kk83dixA6A  Abby Rappoport, LAC, CMQ  Santa Barbara   \n1       mpf3x-BjTdTEA3yCZrAYPw             The UPS Store         Affton   \n2       tUFrWirKiKi_TAnsVWINQQ                    Target         Tucson   \n3       MTSW4McQd7CbVtyjqoe9mw        St Honore Pastries   Philadelphia   \n4       mWMc6_wTdE0EUBKIGXDVfA  Perkiomen Valley Brewery     Green Lane   \n...                        ...                       ...            ...   \n150341  IUQopTMmYQG-qRtBk-8QnA              Binh's Nails       Edmonton   \n150342  c8GjPIOTGVmIemT7j5_SyQ      Wild Birds Unlimited      Nashville   \n150343  _QAMST-NrQobXduilWEqSw         Claire's Boutique   Indianapolis   \n150344  mtGm22y5c2UHNXDFAjaPNw  Cyclery & Fitness Center   Edwardsville   \n150345  jV_XOycEzSlTx-65W906pg                   Sic Ink   Apollo beach   \n\n        stars  review_count  \\\n0         5.0             7   \n1         3.0            15   \n2         3.5            22   \n3         4.0            80   \n4         4.5            13   \n...       ...           ...   \n150341    3.0            13   \n150342    4.0             5   \n150343    3.5             8   \n150344    4.0            24   \n150345    4.5             9   \n\n                                               attributes  \\\n0                           {'ByAppointmentOnly': 'True'}   \n1                  {'BusinessAcceptsCreditCards': 'True'}   \n2       {'BikeParking': 'True', 'BusinessAcceptsCredit...   \n3       {'RestaurantsDelivery': 'False', 'OutdoorSeati...   \n4       {'BusinessAcceptsCreditCards': 'True', 'Wheelc...   \n...                                                   ...   \n150341  {'ByAppointmentOnly': 'False', 'RestaurantsPri...   \n150342  {'BusinessAcceptsCreditCards': 'True', 'Restau...   \n150343  {'RestaurantsPriceRange2': '1', 'BusinessAccep...   \n150344  {'BusinessParking': '{'garage': False, 'street...   \n150345  {'WheelchairAccessible': 'True', 'BusinessAcce...   \n\n                                               categories  \n0       Doctors, Traditional Chinese Medicine, Naturop...  \n1       Shipping Centers, Local Services, Notaries, Ma...  \n2       Department Stores, Shopping, Fashion, Home & G...  \n3       Restaurants, Food, Bubble Tea, Coffee & Tea, B...  \n4                               Brewpubs, Breweries, Food  \n...                                                   ...  \n150341                         Nail Salons, Beauty & Spas  \n150342  Pets, Nurseries & Gardening, Pet Stores, Hobby...  \n150343  Shopping, Jewelry, Piercing, Toy Stores, Beaut...  \n150344  Fitness/Exercise Equipment, Eyewear & Optician...  \n150345  Beauty & Spas, Permanent Makeup, Piercing, Tattoo  \n\n[150346 rows x 7 columns]",
      "text/html": "<div>\n<style scoped>\n    .dataframe tbody tr th:only-of-type {\n        vertical-align: middle;\n    }\n\n    .dataframe tbody tr th {\n        vertical-align: top;\n    }\n\n    .dataframe thead th {\n        text-align: right;\n    }\n</style>\n<table border=\"1\" class=\"dataframe\">\n  <thead>\n    <tr style=\"text-align: right;\">\n      <th></th>\n      <th>business_id</th>\n      <th>name</th>\n      <th>city</th>\n      <th>stars</th>\n      <th>review_count</th>\n      <th>attributes</th>\n      <th>categories</th>\n    </tr>\n  </thead>\n  <tbody>\n    <tr>\n      <th>0</th>\n      <td>Pns2l4eNsfO8kk83dixA6A</td>\n      <td>Abby Rappoport, LAC, CMQ</td>\n      <td>Santa Barbara</td>\n      <td>5.0</td>\n      <td>7</td>\n      <td>{'ByAppointmentOnly': 'True'}</td>\n      <td>Doctors, Traditional Chinese Medicine, Naturop...</td>\n    </tr>\n    <tr>\n      <th>1</th>\n      <td>mpf3x-BjTdTEA3yCZrAYPw</td>\n      <td>The UPS Store</td>\n      <td>Affton</td>\n      <td>3.0</td>\n      <td>15</td>\n      <td>{'BusinessAcceptsCreditCards': 'True'}</td>\n      <td>Shipping Centers, Local Services, Notaries, Ma...</td>\n    </tr>\n    <tr>\n      <th>2</th>\n      <td>tUFrWirKiKi_TAnsVWINQQ</td>\n      <td>Target</td>\n      <td>Tucson</td>\n      <td>3.5</td>\n      <td>22</td>\n      <td>{'BikeParking': 'True', 'BusinessAcceptsCredit...</td>\n      <td>Department Stores, Shopping, Fashion, Home &amp; G...</td>\n    </tr>\n    <tr>\n      <th>3</th>\n      <td>MTSW4McQd7CbVtyjqoe9mw</td>\n      <td>St Honore Pastries</td>\n      <td>Philadelphia</td>\n      <td>4.0</td>\n      <td>80</td>\n      <td>{'RestaurantsDelivery': 'False', 'OutdoorSeati...</td>\n      <td>Restaurants, Food, Bubble Tea, Coffee &amp; Tea, B...</td>\n    </tr>\n    <tr>\n      <th>4</th>\n      <td>mWMc6_wTdE0EUBKIGXDVfA</td>\n      <td>Perkiomen Valley Brewery</td>\n      <td>Green Lane</td>\n      <td>4.5</td>\n      <td>13</td>\n      <td>{'BusinessAcceptsCreditCards': 'True', 'Wheelc...</td>\n      <td>Brewpubs, Breweries, Food</td>\n    </tr>\n    <tr>\n      <th>...</th>\n      <td>...</td>\n      <td>...</td>\n      <td>...</td>\n      <td>...</td>\n      <td>...</td>\n      <td>...</td>\n      <td>...</td>\n    </tr>\n    <tr>\n      <th>150341</th>\n      <td>IUQopTMmYQG-qRtBk-8QnA</td>\n      <td>Binh's Nails</td>\n      <td>Edmonton</td>\n      <td>3.0</td>\n      <td>13</td>\n      <td>{'ByAppointmentOnly': 'False', 'RestaurantsPri...</td>\n      <td>Nail Salons, Beauty &amp; Spas</td>\n    </tr>\n    <tr>\n      <th>150342</th>\n      <td>c8GjPIOTGVmIemT7j5_SyQ</td>\n      <td>Wild Birds Unlimited</td>\n      <td>Nashville</td>\n      <td>4.0</td>\n      <td>5</td>\n      <td>{'BusinessAcceptsCreditCards': 'True', 'Restau...</td>\n      <td>Pets, Nurseries &amp; Gardening, Pet Stores, Hobby...</td>\n    </tr>\n    <tr>\n      <th>150343</th>\n      <td>_QAMST-NrQobXduilWEqSw</td>\n      <td>Claire's Boutique</td>\n      <td>Indianapolis</td>\n      <td>3.5</td>\n      <td>8</td>\n      <td>{'RestaurantsPriceRange2': '1', 'BusinessAccep...</td>\n      <td>Shopping, Jewelry, Piercing, Toy Stores, Beaut...</td>\n    </tr>\n    <tr>\n      <th>150344</th>\n      <td>mtGm22y5c2UHNXDFAjaPNw</td>\n      <td>Cyclery &amp; Fitness Center</td>\n      <td>Edwardsville</td>\n      <td>4.0</td>\n      <td>24</td>\n      <td>{'BusinessParking': '{'garage': False, 'street...</td>\n      <td>Fitness/Exercise Equipment, Eyewear &amp; Optician...</td>\n    </tr>\n    <tr>\n      <th>150345</th>\n      <td>jV_XOycEzSlTx-65W906pg</td>\n      <td>Sic Ink</td>\n      <td>Apollo beach</td>\n      <td>4.5</td>\n      <td>9</td>\n      <td>{'WheelchairAccessible': 'True', 'BusinessAcce...</td>\n      <td>Beauty &amp; Spas, Permanent Makeup, Piercing, Tattoo</td>\n    </tr>\n  </tbody>\n</table>\n<p>150346 rows × 7 columns</p>\n</div>"
     },
     "execution_count": 3,
     "metadata": {},
     "output_type": "execute_result"
    }
   ],
   "source": [
    "# Get businesses dataframe as presented in the data set\n",
    "entries = DataReader._get_entries_from_file(Path('..', 'data', DataReader.EXPECTED_FILES[0]))\n",
    "filtered_business_fields = [\n",
    "    'business_id',\n",
    "    'name',\n",
    "    'city',\n",
    "    'stars',\n",
    "    'review_count',\n",
    "    'attributes',  # Filtered in _parse_categories()\n",
    "    'categories'  # Filtered in _parse_categories()\n",
    "]\n",
    "filtered_entries = DataReader._filter_entries(entries, filtered_business_fields)\n",
    "businesses = pd.DataFrame.from_records(filtered_entries)\n",
    "businesses"
   ],
   "metadata": {
    "collapsed": false
   }
  },
  {
   "cell_type": "markdown",
   "source": [
    "## Data Selection\n",
    "Let's find all distinct values for categories and create a whitelist of every category directly related to restaurants."
   ],
   "metadata": {
    "collapsed": false
   }
  },
  {
   "cell_type": "code",
   "execution_count": 4,
   "outputs": [
    {
     "data": {
      "text/plain": "{'Kitchen & Bath',\n 'Archery',\n 'Pool Cleaners',\n 'Trinidadian',\n 'Elementary Schools',\n 'Scooter Tours',\n 'Barbers',\n 'Sports Clubs',\n 'Family Practice',\n 'Childproofing',\n 'Kids Activities',\n 'Climbing',\n 'Photography Stores & Services',\n 'Cheese Shops',\n 'Brasseries',\n 'Police Departments',\n 'Bike Shop',\n 'Lawn Services',\n 'Installment Loans',\n 'Irish Pub',\n 'Elder Law',\n 'Stucco Services',\n 'Internet Cafes',\n 'RV Parks',\n 'IV Hydration',\n 'Music Venues',\n 'Vinyl Records',\n 'Osteopathic Physicians',\n 'Auction Houses',\n 'Filipino',\n 'Chicken Shop',\n 'Spin Classes',\n 'Home Energy Auditors',\n 'Skiing',\n 'Home Developers',\n 'House Sitters',\n 'Lawyers',\n 'Home Automation',\n 'Thai',\n 'Sandwiches',\n 'Austrian',\n 'Endocrinologists',\n 'Hungarian',\n 'Divorce & Family Law',\n 'Olive Oil',\n 'Pop-Up Restaurants',\n 'Adult Education',\n 'Departments of Motor Vehicles',\n 'Ice Cream & Frozen Yogurt',\n 'Hot Pot',\n 'Religious Items',\n 'Traditional Chinese Medicine',\n 'Car Rental',\n 'Pool & Hot Tub Service',\n 'Security Services',\n 'Wildlife Control',\n 'Nanny Services',\n 'Parasailing',\n 'Hotels',\n 'Poke',\n 'Holiday Decorations',\n 'Beach Equipment Rentals',\n 'Grilling Equipment',\n 'Sledding',\n 'Mags',\n 'Ethnic Food',\n 'Free Diving',\n 'Bars',\n 'Plastic Surgeons',\n 'Pet Cremation Services',\n 'Arcades',\n 'Hair Removal',\n 'Waffles',\n 'Skate Shops',\n 'Environmental Abatement',\n 'Reproductive Health Services',\n 'Colombian',\n 'Jewelry Repair',\n 'Food Trucks',\n 'Concierge Medicine',\n 'Bike Sharing',\n 'Tea Rooms',\n 'Housing Cooperatives',\n 'Video Game Stores',\n 'Pet Boarding',\n 'Cooking Schools',\n 'Duplication Services',\n 'Auto Loan Providers',\n 'Knife Sharpening',\n 'Scavenger Hunts',\n 'Bespoke Clothing',\n 'Cigar Bars',\n 'Props',\n 'Officiants',\n 'Investing',\n 'Gay Bars',\n 'Striptease Dancers',\n 'Tanning',\n 'Food Stands',\n 'Bankruptcy Law',\n 'Religious Schools',\n 'Shades & Blinds',\n 'Signmaking',\n 'Champagne Bars',\n 'Kiosk',\n 'Furniture Repair',\n 'Transmission Repair',\n 'Beer Gardens',\n 'Teeth Whitening',\n 'Towing',\n 'Employment Law',\n 'Landscape Architects',\n 'Seafood',\n 'Pet Transportation',\n 'Personal Chefs',\n 'Dietitians',\n 'Donburi',\n 'Hearing Aid Providers',\n 'Courthouses',\n 'Tours',\n 'Indoor Landscaping',\n 'Used',\n 'Pet Stores',\n 'Baby Gear & Furniture',\n 'Beer Tours',\n 'Boat Parts & Supplies',\n 'DUI Schools',\n 'Cooking Classes',\n 'Vegan',\n 'Taxidermy',\n 'Delis',\n 'Laundromat',\n 'Motorcycle Parts & Supplies',\n 'Australian',\n 'Hospice',\n 'South African',\n 'Carpeting',\n 'Real Estate Photography',\n 'Adoption Services',\n 'Foot Care',\n 'Internal Medicine',\n 'Eatertainment',\n 'Videos & Video Game Rental',\n 'Water Delivery',\n 'Roof Inspectors',\n 'Health Insurance Offices',\n 'Armenian',\n 'Interval Training Gyms',\n 'Parenting Classes',\n 'Jazz & Blues',\n 'Pathologists',\n 'Conveyor Belt Sushi',\n 'Fire Protection Services',\n 'Grout Services',\n 'Skin Care',\n 'African',\n 'Lebanese',\n 'Breakfast & Brunch',\n 'Hawaiian',\n 'Commissioned Artists',\n 'Bicycles',\n 'Foundation Repair',\n 'Orthopedists',\n 'Eyebrow Services',\n 'Airlines',\n 'Sports Bars',\n 'Recreation Centers',\n 'Real Estate',\n 'Gastropubs',\n 'Spray Tanning',\n 'Guns & Ammo',\n 'Generator Installation/Repair',\n 'Car Dealers',\n 'Battery Stores',\n 'Bingo Halls',\n 'Emergency Rooms',\n 'Electricians',\n 'Cremation Services',\n 'Brazilian',\n 'Sport Equipment Hire',\n 'Cardio Classes',\n 'Real Estate Services',\n 'Roman',\n 'Paint Stores',\n 'Graphic Design',\n 'Trailer Dealers',\n 'Home Staging',\n 'Solar Panel Cleaning',\n 'Vehicle Shipping',\n 'Employment Agencies',\n 'Drywall Installation & Repair',\n 'Health Retreats',\n 'Mohels',\n 'Malaysian',\n 'Szechuan',\n 'Emergency Medicine',\n 'Pediatric Dentists',\n 'Unofficial Yelp Events',\n 'Glass & Mirrors',\n 'Pharmacy',\n 'Permanent Makeup',\n 'DIY Auto Shop',\n 'Czech',\n 'Luggage Storage',\n 'Passport & Visa Services',\n 'Wine Tasting Room',\n 'Gardeners',\n 'Butcher',\n 'Security Systems',\n 'Fencing Clubs',\n 'Shoe Shine',\n 'Anesthesiologists',\n 'Infectious Disease Specialists',\n 'Blood & Plasma Donation Centers',\n 'Threading Services',\n 'Farm Equipment Repair',\n 'Hunting & Fishing Supplies',\n 'Mountain Biking',\n 'Window Washing',\n 'Art Schools',\n 'Auto Detailing',\n 'CPR Classes',\n 'Ski & Snowboard Shops',\n 'Hydro-jetting',\n 'American (Traditional)',\n 'Gold Buyers',\n 'Yoga',\n 'Performing Arts',\n 'Sailing',\n 'Wills',\n 'Water Heater Installation/Repair',\n 'Safe Stores',\n 'Hospitalists',\n 'Israeli',\n 'Food',\n 'Ethiopian',\n 'Real Estate Agents',\n 'Demolition Services',\n 'Ranches',\n 'Audiologist',\n 'German',\n 'Soccer',\n 'Sardinian',\n 'Propane',\n 'Pest Control',\n 'Martial Arts',\n 'Guamanian',\n 'Kitchen Incubators',\n 'Water Purification Services',\n 'Bar Crawl',\n 'Pet Photography',\n 'Allergists',\n 'Shaved Snow',\n 'Swimming Pools',\n 'Chicken Wings',\n 'Grill Services',\n 'Speakeasies',\n 'Wine & Spirits',\n 'Aerial Fitness',\n 'Playsets',\n 'Interior Design',\n 'Zoos',\n 'Tableware',\n 'Pumpkin Patches',\n 'IT Services & Computer Repair',\n 'Clowns',\n 'Fire Departments',\n 'Boating',\n 'Piercing',\n 'Ophthalmologists',\n 'Music Production Services',\n 'Dive Bars',\n 'Event Planning & Services',\n 'Electricity Suppliers',\n 'Cinema',\n 'Wildlife Hunting Ranges',\n 'Car Share Services',\n 'Art Museums',\n 'Homeless Shelters',\n 'Candle Stores',\n 'Batting Cages',\n 'Decks & Railing',\n 'Psychologists',\n 'Recycling Center',\n 'Mobile Home Parks',\n 'Beer',\n 'Empanadas',\n 'Funeral Services & Cemeteries',\n 'Counseling & Mental Health',\n 'Swimming Lessons/Schools',\n 'General Litigation',\n 'Car Inspectors',\n 'Auto Customization',\n 'Coffeeshops',\n 'Metal Detector Services',\n 'Walking Tours',\n 'Outlet Stores',\n 'Osteopaths',\n 'Kids Hair Salons',\n 'Playgrounds',\n 'Costumes',\n 'RV Repair',\n 'Waxing',\n 'Bikes',\n 'Water Suppliers',\n 'Pet Waste Removal',\n 'Home Theatre Installation',\n 'Music & DVDs',\n 'Furniture Reupholstery',\n 'Screen Printing/T-Shirt Printing',\n 'Ziplining',\n 'Cosmetic Dentists',\n 'Taekwondo',\n 'Parks',\n 'Trampoline Parks',\n 'Massage Schools',\n 'Tax Services',\n 'Portuguese',\n 'Hotels & Travel',\n 'Bike Repair',\n 'Animal Shelters',\n 'Doctors',\n 'Lighting Fixtures & Equipment',\n 'Paragliding',\n 'Singaporean',\n 'Wine Bars',\n 'Pilates',\n 'Pasta Shops',\n 'Medical Law',\n 'Irrigation',\n 'Lactation Services',\n '3D Printing',\n 'Party & Event Planning',\n 'Waldorf Schools',\n 'Skilled Nursing',\n 'Grocery',\n 'Commercial Truck Dealers',\n 'Art Galleries',\n 'Wedding Planning',\n 'Parent Cafes',\n 'Senegalese',\n 'Used Bookstore',\n 'Indonesian',\n 'Holiday Decorating Services',\n 'Muay Thai',\n 'Hindu Temples',\n 'Fish & Chips',\n 'Telecommunications',\n 'Fishing',\n 'Cards & Stationery',\n 'Coffee & Tea Supplies',\n 'Countertop Installation',\n 'Office Cleaning',\n 'Roadside Assistance',\n 'Ferries',\n 'Registration Services',\n 'Trade Fairs',\n 'Travel Agents',\n 'Comfort Food',\n 'Nail Technicians',\n 'Wholesalers',\n 'Naturopathic/Holistic',\n 'DUI Law',\n 'Badminton',\n 'Diving',\n 'Utilities',\n 'Mortuary Services',\n 'Chimney Sweeps',\n 'Disc Golf',\n 'Cabinetry',\n 'Mobile Dent Repair',\n 'Rest Stops',\n 'Spine Surgeons',\n 'Interlock Systems',\n 'Hospitals',\n 'Shoe Repair',\n 'Immigration Law',\n 'Drones',\n 'Patent Law',\n 'Art Tours',\n 'Halfway Houses',\n 'Music & Video',\n 'Escape Games',\n 'Pretzels',\n 'Pet Breeders',\n 'Skate Parks',\n 'Clothing Rental',\n 'Gerontologists',\n 'Private Tutors',\n 'Lingerie',\n 'Fashion',\n 'Vintage & Consignment',\n 'Buddhist Temples',\n 'Sports Medicine',\n 'Bubble Tea',\n 'Neurologist',\n 'Aviation Services',\n 'Reiki',\n 'Cideries',\n 'Internet Service Providers',\n 'Mortgage Brokers',\n 'Sushi Bars',\n 'Horse Racing',\n 'Packing Services',\n 'Honduran',\n 'Animal Physical Therapy',\n 'Estheticians',\n 'Peruvian',\n 'Local Flavor',\n 'Imported Food',\n 'Private Jet Charter',\n 'Homeowner Association',\n 'Contractors',\n 'Artificial Turf',\n 'Trainers',\n 'Software Development',\n 'Country Dance Halls',\n 'Ceremonial Clothing',\n 'Data Recovery',\n 'Auto Repair',\n 'Electronics Repair',\n 'Newspapers & Magazines',\n 'Crisis Pregnancy Centers',\n 'Motorsport Vehicle Dealers',\n 'Chocolatiers & Shops',\n 'Car Brokers',\n 'Kombucha',\n 'Beach Bars',\n 'Sex Therapists',\n 'Health & Medical',\n 'Rehabilitation Center',\n 'Dry Cleaning & Laundry',\n 'Digitizing Services',\n 'Caribbean',\n 'Musicians',\n 'Asian Fusion',\n 'Life Insurance',\n 'Cafeteria',\n 'Furniture Assembly',\n 'Beverage Store',\n 'Montessori Schools',\n 'Tiki Bars',\n 'Amateur Sports Teams',\n 'Leisure Centers',\n 'Fur Clothing',\n 'Tapas/Small Plates',\n 'Sperm Clinic',\n 'Nurseries & Gardening',\n 'Windows Installation',\n 'Print Media',\n 'Outdoor Gear',\n 'Hair Loss Centers',\n 'Egyptian',\n 'Land Surveying',\n 'Parklets',\n 'Carpet Cleaning',\n 'Comedy Clubs',\n 'Street Vendors',\n 'Venues & Event Spaces',\n 'Furniture Stores',\n 'Endodontists',\n 'Preschools',\n 'Wineries',\n 'Bistros',\n 'Vitamins & Supplements',\n 'Criminal Defense Law',\n 'Web Design',\n 'Banks & Credit Unions',\n 'Home Services',\n 'Speech Therapists',\n 'Environmental Testing',\n 'Dermatologists',\n 'Tex-Mex',\n 'Airsoft',\n 'Gift Shops',\n 'Taiwanese',\n 'Karate',\n 'Hair Extensions',\n 'Syrian',\n 'Donairs',\n 'Vietnamese',\n 'Neuropathologists',\n 'Appliances',\n 'Self Storage',\n 'Acai Bowls',\n 'Public Relations',\n 'Pet Groomers',\n 'Service Stations',\n 'Head Shops',\n 'Experiences',\n 'Popcorn Shops',\n 'Machine Shops',\n 'Metal Fabricators',\n 'Military Surplus',\n 'Dumplings',\n 'Educational Services',\n 'Advertising',\n 'Pet Services',\n 'Parking',\n 'Medical Transportation',\n 'Obstetricians & Gynecologists',\n 'Junk Removal & Hauling',\n 'Convenience Stores',\n 'Adult Entertainment',\n 'Aircraft Repairs',\n 'Aerial Tours',\n 'Prosthetics',\n 'Shared Office Spaces',\n 'Tai Chi',\n 'Trailer Rental',\n 'Hats',\n 'Botanical Gardens',\n 'Modern European',\n 'Kebab',\n 'Senior Centers',\n 'Paint-Your-Own Pottery',\n 'Truck Rental',\n 'Sicilian',\n 'Hair Stylists',\n 'Restaurants',\n 'Airport Shuttles',\n 'Community Service/Non-Profit',\n 'Antiques',\n 'Mexican',\n 'Translation Services',\n 'Driving Schools',\n 'Pawn Shops',\n 'Laundry Services',\n 'Home Organization',\n 'Beer Hall',\n 'Periodontists',\n 'Financial Services',\n 'Cucina campana',\n 'Specialty Food',\n 'Faith-based Crisis Pregnancy Centers',\n 'Optometrists',\n 'Cosmetics & Beauty Supply',\n 'Afghan',\n 'Trusts',\n 'Salvadoran',\n 'Florists',\n 'Life Coach',\n 'Electronics',\n 'Self-defense Classes',\n 'Billing Services',\n 'Wallpapering',\n 'Computers',\n 'Petting Zoos',\n 'Preventive Medicine',\n 'Landscaping',\n 'Shopping',\n 'Souvenir Shops',\n 'Bus Tours',\n 'Juice Bars & Smoothies',\n '& Probates',\n 'Ultrasound Imaging Centers',\n 'Dive Shops',\n 'Rugs',\n 'Pet Hospice',\n 'Home & Rental Insurance',\n 'Kiteboarding',\n 'Custom Cakes',\n 'Musical Instrument Services',\n 'CSA',\n 'Keys & Locksmiths',\n 'Consumer Law',\n 'Cannabis Clinics',\n 'Golf Equipment',\n 'Vehicle Wraps',\n 'Gunsmith',\n 'Hotel bar',\n 'Oriental',\n 'Cabaret',\n 'French',\n 'Stadiums & Arenas',\n 'IP & Internet Law',\n 'Crane Services',\n 'Puerto Rican',\n 'Vocational & Technical School',\n 'Architectural Tours',\n 'Bike Parking',\n 'Axe Throwing',\n 'Gemstones & Minerals',\n 'Organic Stores',\n 'Automotive',\n 'Insulation Installation',\n 'Home Cleaning',\n 'Fast Food',\n 'Personal Care Services',\n \"Men's Clothing\",\n 'Editorial Services',\n 'Themed Cafes',\n 'International',\n 'Festivals',\n 'Vascular Medicine',\n 'Hockey Equipment',\n 'Do-It-Yourself Food',\n 'Cardiologists',\n 'Language Schools',\n 'Falafel',\n 'Gun/Rifle Ranges',\n 'Golf Cart Dealers',\n 'Airport Lounges',\n 'Special Education',\n 'Surf Schools',\n 'Social Clubs',\n 'Soul Food',\n \"Women's Clothing\",\n 'Community Centers',\n 'Bookkeepers',\n 'Observatories',\n 'Business Law',\n 'Professional Sports Teams',\n 'Ice Delivery',\n 'Golf Equipment Shops',\n 'Cannabis Collective',\n 'Gelato',\n 'Italian',\n 'Bus Rental',\n 'Awnings',\n 'Photography Classes',\n 'Burmese',\n 'Makerspaces',\n 'Formal Wear',\n 'Synagogues',\n 'Marketing',\n 'Arts & Entertainment',\n 'Art Restoration',\n 'Mini Golf',\n 'Herbal Shops',\n 'Child Care & Day Care',\n 'Gluten-Free',\n 'Pets',\n 'Firewood',\n 'Discount Store',\n 'Thrift Stores',\n 'Scuba Diving',\n 'Hong Kong Style Cafe',\n 'Siding',\n 'Estate Planning Law',\n 'Vacation Rental Agents',\n 'Cheerleading',\n 'Food Banks',\n 'Bird Shops',\n 'Vacation Rentals',\n 'Chinese',\n 'Otologists',\n 'Halal',\n 'Apartments',\n 'Distilleries',\n 'Steakhouses',\n 'Prenatal/Perinatal Care',\n 'Buffets',\n 'Meaderies',\n 'Flooring',\n 'Resorts',\n 'Party Characters',\n 'Laotian',\n 'Squash',\n 'Fabric Stores',\n 'Landmarks & Historical Buildings',\n 'Caricatures',\n 'Boat Tours',\n 'Pizza',\n 'Vocal Coach',\n 'EV Charging Stations',\n 'Watches',\n 'Pubs',\n 'Honey',\n 'Go Karts',\n 'Childbirth Education',\n 'Apartment Agents',\n 'Television Stations',\n 'Bike tours',\n 'University Housing',\n 'Aquarium Services',\n 'Tabletop Games',\n 'Ear Nose & Throat',\n 'Nurse Practitioner',\n 'Weight Loss Centers',\n 'Hardware Stores',\n 'Nutritionists',\n 'Flowers',\n 'Astrologers',\n 'Tanning Beds',\n 'Well Drilling',\n 'Hydroponics',\n 'Solar Installation',\n 'Trains',\n 'Irish',\n 'Cupcakes',\n 'Carousels',\n 'Plumbing',\n 'Undersea/Hyperbaric Medicine',\n 'Hiking',\n 'Mobile Home Repair',\n 'Luggage',\n 'Town Hall',\n 'Traffic Schools',\n 'Persian/Iranian',\n 'Perfume',\n 'Tenant and Eviction Law',\n 'Sandblasting',\n 'Laser Eye Surgery/Lasik',\n 'Retirement Homes',\n 'Tax Law',\n 'Tonkatsu',\n 'Snow Removal',\n 'Mattresses',\n 'Public Adjusters',\n 'Lounges',\n 'Holistic Animal Care',\n 'Dog Walkers',\n 'Train Stations',\n 'Bookbinding',\n 'Private Schools',\n 'Phlebologists',\n 'Clock Repair',\n 'Live/Raw Food',\n 'Mortgage Lenders',\n 'Screen Printing',\n 'Tennis',\n 'Bocce Ball',\n 'Cocktail Bars',\n 'Flyboarding',\n 'Barbeque',\n 'Boot Camps',\n 'Swimwear',\n 'Canadian (New)',\n 'Vermouth Bars',\n 'Food Tours',\n 'Attraction Farms',\n 'Appliances & Repair',\n 'Macarons',\n 'Department Stores',\n 'Boat Dealers',\n 'Heating & Air Conditioning/HVAC',\n 'Dog Parks',\n 'Basketball Courts',\n 'American (New)',\n 'Septic Services',\n 'Iberian',\n 'Game Truck Rental',\n 'Rodeo',\n 'Burgers',\n 'Private Investigation',\n 'Post Offices',\n 'Carpet Installation',\n 'Junkyards',\n 'Damage Restoration',\n 'Cuban',\n 'Talent Agencies',\n 'Biohazard Cleanup',\n 'Strip Clubs',\n 'Dance Wear',\n 'Wine Tours',\n 'Education',\n 'Brewpubs',\n 'Laser Hair Removal',\n 'Oil Change Stations',\n 'Psychics',\n 'Framing',\n 'Scooter Rentals',\n 'Polish',\n 'Fingerprinting',\n 'Accountants',\n 'Guitar Stores',\n 'Vape Shops',\n 'Body Contouring',\n 'Party Bike Rentals',\n 'Boxing',\n 'Horse Equipment Shops',\n 'Printing Services',\n 'Sri Lankan',\n 'Limos',\n 'Wine Tasting Classes',\n 'Auto Security',\n 'Sunglasses',\n 'Tubing',\n 'High Fidelity Audio Equipment',\n 'Medical Cannabis Referrals',\n 'Customized Merchandise',\n 'Chiropractors',\n 'Recording & Rehearsal Studios',\n 'Psychiatrists',\n 'Shanghainese',\n 'Country Clubs',\n 'Appraisal Services',\n 'Traditional Clothing',\n 'Used Car Dealers',\n 'Title Loans',\n 'Surf Shop',\n 'Supernatural Readings',\n 'Auto Parts & Supplies',\n 'Beaches',\n 'Office Equipment',\n 'Product Design',\n 'Water Parks',\n 'Hepatologists',\n 'Nicaraguan',\n 'Ethnic Grocery',\n 'Hybrid Car Repair',\n 'Skating Rinks',\n 'Natural Gas Suppliers',\n 'Jails & Prisons',\n 'Wedding Chapels',\n 'Psychic Mediums',\n 'Structural Engineers',\n 'Smokehouse',\n 'Campgrounds',\n 'Health Markets',\n 'Donuts',\n 'Glass Blowing',\n 'Haitian',\n 'Calligraphy',\n 'Tires',\n 'Neurotologists',\n 'Carpenters',\n 'Financial Advising',\n 'Oral Surgeons',\n 'Baseball Fields',\n 'Hostels',\n 'Home Inspectors',\n 'Teacher Supplies',\n 'Acupuncture',\n 'Scandinavian',\n 'Outdoor Movies',\n 'RV Dealers',\n 'Drive-Thru Bars',\n 'Hot Tub & Pool',\n 'Dinner Theater',\n 'RV Rental',\n 'Bridal',\n 'Pediatricians',\n 'Tattoo',\n 'Knitting Supplies',\n 'Mongolian',\n 'Oxygen Bars',\n 'Orthodontists',\n 'Wraps',\n 'Aircraft Dealers',\n 'Public Services & Government',\n 'Pickleball',\n 'Acne Treatment',\n 'Shredding Services',\n 'Hookah Bars',\n 'Pet Training',\n 'Cryotherapy',\n 'Japanese',\n 'Scottish',\n 'Currency Exchange',\n 'Eyewear & Opticians',\n 'Cheesesteaks',\n 'Estate Liquidation',\n 'Fuel Docks',\n 'Teppanyaki',\n 'Pool & Billiards',\n 'Laboratory Testing',\n 'Storefront Clinics',\n 'General Dentistry',\n 'Home & Garden',\n 'Pita',\n 'Hot Air Balloons',\n 'Alternative Medicine',\n 'Travel Services',\n 'Cafes',\n 'Pancakes',\n 'Couriers & Delivery Services',\n 'Active Life',\n 'Massage',\n 'Farms',\n 'Somali',\n 'Cannabis Dispensaries',\n 'Roofing',\n 'Sporting Goods',\n 'Cheese Tasting Classes',\n 'Breweries',\n 'LAN Centers',\n 'Fitness & Instruction',\n 'Masonry/Concrete',\n 'Reptile Shops',\n \"Children's Museums\",\n 'Circuit Training Gyms',\n 'Race Tracks',\n 'Radio Stations',\n 'Museums',\n 'Wholesale Stores',\n 'Art Installation',\n 'Piano Bars',\n 'Motorcycle Rental',\n 'Local Fish Stores',\n 'Bakeries',\n 'Ski Schools',\n 'Art Space Rentals',\n 'Placenta Encapsulations',\n 'Tacos',\n 'Blow Dry/Out Services',\n 'Argentine',\n 'Virtual Reality Centers',\n 'Fitness/Exercise Equipment',\n 'Hot Dogs',\n 'DJs',\n 'Poutineries',\n 'Valet Services',\n 'General Festivals',\n 'Matchmakers',\n 'Art Supplies',\n 'Middle Eastern',\n 'Proctologists',\n 'Serbo Croatian',\n 'Community Gardens',\n 'Creperies',\n 'Home Health Care',\n 'Art Consultants',\n 'Personal Injury Law',\n 'Caterers',\n 'Supper Clubs',\n 'Immunodermatologists',\n 'Eyelash Service',\n 'Hobby Shops',\n 'Nightlife',\n 'Rock Climbing',\n 'Beauty & Spas',\n 'ATV Rentals/Tours',\n 'Rolfing',\n 'Shaved Ice',\n 'Sewing & Alterations',\n 'Gyms',\n 'Seafood Markets',\n 'Skydiving',\n 'Ski Resorts',\n 'Whale Watching Tours',\n 'Balloon Services',\n 'Marinas',\n 'Auto Upholstery',\n 'Tutoring Centers',\n 'Kosher',\n 'Dentists',\n 'Urologists',\n 'Greek',\n 'Korean',\n 'Pop-up Shops',\n 'Wigs',\n 'Car Buyers',\n 'Donation Center',\n 'Libraries',\n 'Motorcycle Repair',\n 'Floral Designers',\n 'Middle Schools & High Schools',\n 'Motorcycle Dealers',\n 'Air Duct Cleaning',\n 'Brewing Supplies',\n 'Radiologists',\n 'Snorkeling',\n 'Drama Schools',\n 'Dumpster Rental',\n 'Contract Law',\n 'Magicians',\n 'Patisserie/Cake Shop',\n 'Painters',\n 'Elder Care Planning',\n 'Turkish',\n 'Furniture Rental',\n 'Session Photography',\n 'Calabrian',\n 'Mobile Phone Accessories',\n 'Public Markets',\n 'Noodles',\n 'Uzbek',\n 'Tiling',\n 'Lighting Stores',\n 'Bus Stations',\n 'Jet Skis',\n 'Bangladeshi',\n 'Coffee & Tea',\n 'Candy Stores',\n 'Motorsport Vehicle Repairs',\n 'Mailbox Centers',\n 'Taxis',\n 'Engraving',\n 'Fences & Gates',\n 'Silent Disco',\n 'Pool Halls',\n 'Elevator Services',\n 'Amusement Parks',\n 'Yelp Events',\n 'Planetarium',\n 'Laser Tag',\n 'Flowers & Gifts',\n 'Casinos',\n 'Moroccan',\n 'Day Camps',\n 'Walk-in Clinics',\n 'Cycling Classes',\n 'Fireplace Services',\n 'Stonemasons',\n 'Water Stores',\n 'Doulas',\n 'Desserts',\n 'Fireworks',\n ...}"
     },
     "execution_count": 4,
     "metadata": {},
     "output_type": "execute_result"
    }
   ],
   "source": [
    "# All possible values in 'categories' column\n",
    "{category for categories_string in businesses['categories'] if categories_string for category in categories_string.split(\", \")}"
   ],
   "metadata": {
    "collapsed": false
   }
  },
  {
   "cell_type": "code",
   "execution_count": 5,
   "outputs": [],
   "source": [
    "# Whitelist attempt 1\n",
    "# All (manually curated) restaurant-like tags\n",
    "categories_whitelist_1 = {\n",
    "    \"Food Court\",\n",
    "    \"Steakhouses\",\n",
    "    \"Brasseries\",\n",
    "    \"Gastropubs\",\n",
    "    \"Tapas Bars\",\n",
    "    \"Diners\",\n",
    "    \"Buffets\",\n",
    "    \"Food Trucks\",\n",
    "    \"Restaurants\",\n",
    "    \"Fast Food\",\n",
    "    \"Food Stands\",\n",
    "    \"Dinner Theater\",\n",
    "}\n",
    "businesses['categories_whitelist_1'] = [\n",
    "    set(category_group.split(\", \"))  # Convert string of all categories to a set of individual categories\n",
    "    if category_group and set(category_group.split(\", \")).intersection(categories_whitelist_1)  # If in whitelist\n",
    "    else None  # No category is provided by Yelp, or no category is in the whitelist\n",
    "    for category_group in businesses['categories']\n",
    "]\n",
    "businesses_whitelist_1_categories = businesses.loc[businesses['categories_whitelist_1'].notnull()]  # Remove businesses with no categories listed"
   ],
   "metadata": {
    "collapsed": false
   }
  },
  {
   "cell_type": "code",
   "execution_count": 6,
   "outputs": [],
   "source": [
    "# Whitelist attempt 2\n",
    "# Only Food Trucks & Restaurants\n",
    "categories_whitelist_2 = {\n",
    "    \"Food Trucks\",  # Data exploration shows that all restaurant-like businesses\n",
    "    \"Restaurants\",  # either have the category \"Food Truck\" or \"Restaurant\".\n",
    "}  # Only keep businesses that contain at least 1 of the categories in this whitelist\n",
    "businesses['categories_whitelist_2'] = [\n",
    "    set(category_group.split(\", \"))  # Convert string of all categories to a set of individual categories\n",
    "    if category_group and set(category_group.split(\", \")).intersection(categories_whitelist_2)  # If in whitelist\n",
    "    else None  # No category is provided by Yelp, or no category is in the whitelist\n",
    "    for category_group in businesses['categories']\n",
    "]\n",
    "businesses_whitelist_2_categories = businesses.loc[businesses['categories_whitelist_2'].notnull()]  # Remove businesses with no categories listed"
   ],
   "metadata": {
    "collapsed": false
   }
  },
  {
   "cell_type": "code",
   "execution_count": 7,
   "outputs": [
    {
     "name": "stdout",
     "output_type": "stream",
     "text": [
      "The length of the manually curated list of categories is equal to only checking for 'restaurant' and 'Food Trucks': 52533 == 52533.\n",
      "The same rows were selected by each query.\n"
     ]
    },
    {
     "data": {
      "text/plain": "                   business_id                      name           city  \\\n0       Pns2l4eNsfO8kk83dixA6A  Abby Rappoport, LAC, CMQ  Santa Barbara   \n1       mpf3x-BjTdTEA3yCZrAYPw             The UPS Store         Affton   \n2       tUFrWirKiKi_TAnsVWINQQ                    Target         Tucson   \n3       MTSW4McQd7CbVtyjqoe9mw        St Honore Pastries   Philadelphia   \n4       mWMc6_wTdE0EUBKIGXDVfA  Perkiomen Valley Brewery     Green Lane   \n...                        ...                       ...            ...   \n150341  IUQopTMmYQG-qRtBk-8QnA              Binh's Nails       Edmonton   \n150342  c8GjPIOTGVmIemT7j5_SyQ      Wild Birds Unlimited      Nashville   \n150343  _QAMST-NrQobXduilWEqSw         Claire's Boutique   Indianapolis   \n150344  mtGm22y5c2UHNXDFAjaPNw  Cyclery & Fitness Center   Edwardsville   \n150345  jV_XOycEzSlTx-65W906pg                   Sic Ink   Apollo beach   \n\n        stars  review_count  \\\n0         5.0             7   \n1         3.0            15   \n2         3.5            22   \n3         4.0            80   \n4         4.5            13   \n...       ...           ...   \n150341    3.0            13   \n150342    4.0             5   \n150343    3.5             8   \n150344    4.0            24   \n150345    4.5             9   \n\n                                               attributes  \\\n0                           {'ByAppointmentOnly': 'True'}   \n1                  {'BusinessAcceptsCreditCards': 'True'}   \n2       {'BikeParking': 'True', 'BusinessAcceptsCredit...   \n3       {'RestaurantsDelivery': 'False', 'OutdoorSeati...   \n4       {'BusinessAcceptsCreditCards': 'True', 'Wheelc...   \n...                                                   ...   \n150341  {'ByAppointmentOnly': 'False', 'RestaurantsPri...   \n150342  {'BusinessAcceptsCreditCards': 'True', 'Restau...   \n150343  {'RestaurantsPriceRange2': '1', 'BusinessAccep...   \n150344  {'BusinessParking': '{'garage': False, 'street...   \n150345  {'WheelchairAccessible': 'True', 'BusinessAcce...   \n\n                                               categories  \\\n0       Doctors, Traditional Chinese Medicine, Naturop...   \n1       Shipping Centers, Local Services, Notaries, Ma...   \n2       Department Stores, Shopping, Fashion, Home & G...   \n3       Restaurants, Food, Bubble Tea, Coffee & Tea, B...   \n4                               Brewpubs, Breweries, Food   \n...                                                   ...   \n150341                         Nail Salons, Beauty & Spas   \n150342  Pets, Nurseries & Gardening, Pet Stores, Hobby...   \n150343  Shopping, Jewelry, Piercing, Toy Stores, Beaut...   \n150344  Fitness/Exercise Equipment, Eyewear & Optician...   \n150345  Beauty & Spas, Permanent Makeup, Piercing, Tattoo   \n\n                                   categories_whitelist_1  \\\n0                                                    None   \n1                                                    None   \n2                                                    None   \n3       {Food, Restaurants, Bakeries, Bubble Tea, Coff...   \n4                                                    None   \n...                                                   ...   \n150341                                               None   \n150342                                               None   \n150343                                               None   \n150344                                               None   \n150345                                               None   \n\n                                   categories_whitelist_2  \n0                                                    None  \n1                                                    None  \n2                                                    None  \n3       {Food, Restaurants, Bakeries, Bubble Tea, Coff...  \n4                                                    None  \n...                                                   ...  \n150341                                               None  \n150342                                               None  \n150343                                               None  \n150344                                               None  \n150345                                               None  \n\n[150346 rows x 9 columns]",
      "text/html": "<div>\n<style scoped>\n    .dataframe tbody tr th:only-of-type {\n        vertical-align: middle;\n    }\n\n    .dataframe tbody tr th {\n        vertical-align: top;\n    }\n\n    .dataframe thead th {\n        text-align: right;\n    }\n</style>\n<table border=\"1\" class=\"dataframe\">\n  <thead>\n    <tr style=\"text-align: right;\">\n      <th></th>\n      <th>business_id</th>\n      <th>name</th>\n      <th>city</th>\n      <th>stars</th>\n      <th>review_count</th>\n      <th>attributes</th>\n      <th>categories</th>\n      <th>categories_whitelist_1</th>\n      <th>categories_whitelist_2</th>\n    </tr>\n  </thead>\n  <tbody>\n    <tr>\n      <th>0</th>\n      <td>Pns2l4eNsfO8kk83dixA6A</td>\n      <td>Abby Rappoport, LAC, CMQ</td>\n      <td>Santa Barbara</td>\n      <td>5.0</td>\n      <td>7</td>\n      <td>{'ByAppointmentOnly': 'True'}</td>\n      <td>Doctors, Traditional Chinese Medicine, Naturop...</td>\n      <td>None</td>\n      <td>None</td>\n    </tr>\n    <tr>\n      <th>1</th>\n      <td>mpf3x-BjTdTEA3yCZrAYPw</td>\n      <td>The UPS Store</td>\n      <td>Affton</td>\n      <td>3.0</td>\n      <td>15</td>\n      <td>{'BusinessAcceptsCreditCards': 'True'}</td>\n      <td>Shipping Centers, Local Services, Notaries, Ma...</td>\n      <td>None</td>\n      <td>None</td>\n    </tr>\n    <tr>\n      <th>2</th>\n      <td>tUFrWirKiKi_TAnsVWINQQ</td>\n      <td>Target</td>\n      <td>Tucson</td>\n      <td>3.5</td>\n      <td>22</td>\n      <td>{'BikeParking': 'True', 'BusinessAcceptsCredit...</td>\n      <td>Department Stores, Shopping, Fashion, Home &amp; G...</td>\n      <td>None</td>\n      <td>None</td>\n    </tr>\n    <tr>\n      <th>3</th>\n      <td>MTSW4McQd7CbVtyjqoe9mw</td>\n      <td>St Honore Pastries</td>\n      <td>Philadelphia</td>\n      <td>4.0</td>\n      <td>80</td>\n      <td>{'RestaurantsDelivery': 'False', 'OutdoorSeati...</td>\n      <td>Restaurants, Food, Bubble Tea, Coffee &amp; Tea, B...</td>\n      <td>{Food, Restaurants, Bakeries, Bubble Tea, Coff...</td>\n      <td>{Food, Restaurants, Bakeries, Bubble Tea, Coff...</td>\n    </tr>\n    <tr>\n      <th>4</th>\n      <td>mWMc6_wTdE0EUBKIGXDVfA</td>\n      <td>Perkiomen Valley Brewery</td>\n      <td>Green Lane</td>\n      <td>4.5</td>\n      <td>13</td>\n      <td>{'BusinessAcceptsCreditCards': 'True', 'Wheelc...</td>\n      <td>Brewpubs, Breweries, Food</td>\n      <td>None</td>\n      <td>None</td>\n    </tr>\n    <tr>\n      <th>...</th>\n      <td>...</td>\n      <td>...</td>\n      <td>...</td>\n      <td>...</td>\n      <td>...</td>\n      <td>...</td>\n      <td>...</td>\n      <td>...</td>\n      <td>...</td>\n    </tr>\n    <tr>\n      <th>150341</th>\n      <td>IUQopTMmYQG-qRtBk-8QnA</td>\n      <td>Binh's Nails</td>\n      <td>Edmonton</td>\n      <td>3.0</td>\n      <td>13</td>\n      <td>{'ByAppointmentOnly': 'False', 'RestaurantsPri...</td>\n      <td>Nail Salons, Beauty &amp; Spas</td>\n      <td>None</td>\n      <td>None</td>\n    </tr>\n    <tr>\n      <th>150342</th>\n      <td>c8GjPIOTGVmIemT7j5_SyQ</td>\n      <td>Wild Birds Unlimited</td>\n      <td>Nashville</td>\n      <td>4.0</td>\n      <td>5</td>\n      <td>{'BusinessAcceptsCreditCards': 'True', 'Restau...</td>\n      <td>Pets, Nurseries &amp; Gardening, Pet Stores, Hobby...</td>\n      <td>None</td>\n      <td>None</td>\n    </tr>\n    <tr>\n      <th>150343</th>\n      <td>_QAMST-NrQobXduilWEqSw</td>\n      <td>Claire's Boutique</td>\n      <td>Indianapolis</td>\n      <td>3.5</td>\n      <td>8</td>\n      <td>{'RestaurantsPriceRange2': '1', 'BusinessAccep...</td>\n      <td>Shopping, Jewelry, Piercing, Toy Stores, Beaut...</td>\n      <td>None</td>\n      <td>None</td>\n    </tr>\n    <tr>\n      <th>150344</th>\n      <td>mtGm22y5c2UHNXDFAjaPNw</td>\n      <td>Cyclery &amp; Fitness Center</td>\n      <td>Edwardsville</td>\n      <td>4.0</td>\n      <td>24</td>\n      <td>{'BusinessParking': '{'garage': False, 'street...</td>\n      <td>Fitness/Exercise Equipment, Eyewear &amp; Optician...</td>\n      <td>None</td>\n      <td>None</td>\n    </tr>\n    <tr>\n      <th>150345</th>\n      <td>jV_XOycEzSlTx-65W906pg</td>\n      <td>Sic Ink</td>\n      <td>Apollo beach</td>\n      <td>4.5</td>\n      <td>9</td>\n      <td>{'WheelchairAccessible': 'True', 'BusinessAcce...</td>\n      <td>Beauty &amp; Spas, Permanent Makeup, Piercing, Tattoo</td>\n      <td>None</td>\n      <td>None</td>\n    </tr>\n  </tbody>\n</table>\n<p>150346 rows × 9 columns</p>\n</div>"
     },
     "execution_count": 7,
     "metadata": {},
     "output_type": "execute_result"
    }
   ],
   "source": [
    "print(f\"The length of the manually curated list of categories is equal to only checking for 'restaurant' and 'Food Trucks': {len(businesses_whitelist_1_categories)} == {len(businesses_whitelist_2_categories)}.\\nThe same rows were selected by each query.\")\n",
    "businesses"
   ],
   "metadata": {
    "collapsed": false
   }
  },
  {
   "cell_type": "markdown",
   "source": [
    "We conclude that the categories_whitelist_2 will be used for filtering.\n",
    "The second problem is the 'attributes' field. It contains a JSON with unstructured subfields. We will now discover which of these fields are useable for a recommender system.\n",
    "First, we discover all distinct subfields in the 'attribute' field."
   ],
   "metadata": {
    "collapsed": false
   }
  },
  {
   "cell_type": "code",
   "execution_count": 8,
   "outputs": [
    {
     "name": "stdout",
     "output_type": "stream",
     "text": [
      "There are 150346 businesses\n"
     ]
    },
    {
     "data": {
      "text/plain": "[('BusinessAcceptsCreditCards', 119765),\n ('BusinessParking', 91085),\n ('RestaurantsPriceRange2', 85314),\n ('BikeParking', 72638),\n ('RestaurantsTakeOut', 59857),\n ('WiFi', 56914),\n ('RestaurantsDelivery', 56282),\n ('GoodForKids', 53375),\n ('OutdoorSeating', 48802),\n ('RestaurantsReservations', 45247),\n ('HasTV', 45084),\n ('Ambience', 44279),\n ('RestaurantsGoodForGroups', 44170),\n ('Alcohol', 43189),\n ('ByAppointmentOnly', 42339),\n ('Caters', 40127),\n ('RestaurantsAttire', 39255),\n ('NoiseLevel', 37993),\n ('GoodForMeal', 29087),\n ('WheelchairAccessible', 28953),\n ('RestaurantsTableService', 19982),\n ('DogsAllowed', 18284),\n ('BusinessAcceptsBitcoin', 17430),\n ('HappyHour', 15171),\n ('DriveThru', 7760),\n ('Music', 7521),\n ('AcceptsInsurance', 5713),\n ('BestNights', 5694),\n ('CoatCheck', 5584),\n ('GoodForDancing', 4628),\n ('Smoking', 4567),\n ('BYOB', 4451),\n ('Corkage', 3553),\n ('BYOBCorkage', 1444),\n ('HairSpecializesIn', 1065),\n ('AgesAllowed', 129),\n ('Open24Hours', 39),\n ('DietaryRestrictions', 31),\n ('RestaurantsCounterService', 19)]"
     },
     "execution_count": 8,
     "metadata": {},
     "output_type": "execute_result"
    }
   ],
   "source": [
    "# Get set of all possbible attributes\n",
    "from collections import Counter\n",
    "all_keys = Counter()\n",
    "for business_attributes in businesses['attributes']:\n",
    "    if business_attributes is not None:\n",
    "        keys = business_attributes.keys()\n",
    "        all_keys.update(keys)\n",
    "print(f'There are {len(businesses)} businesses')\n",
    "all_keys.most_common()  # Sort by most common values"
   ],
   "metadata": {
    "collapsed": false
   }
  },
  {
   "cell_type": "markdown",
   "source": [
    "We now manually select the fields that might be of interest for a recommender system:"
   ],
   "metadata": {
    "collapsed": false
   }
  },
  {
   "cell_type": "code",
   "execution_count": 9,
   "outputs": [
    {
     "data": {
      "text/plain": "                                               attributes  \\\n0                           {'ByAppointmentOnly': 'True'}   \n1                  {'BusinessAcceptsCreditCards': 'True'}   \n2       {'BikeParking': 'True', 'BusinessAcceptsCredit...   \n3       {'RestaurantsDelivery': 'False', 'OutdoorSeati...   \n4       {'BusinessAcceptsCreditCards': 'True', 'Wheelc...   \n...                                                   ...   \n150341  {'ByAppointmentOnly': 'False', 'RestaurantsPri...   \n150342  {'BusinessAcceptsCreditCards': 'True', 'Restau...   \n150343  {'RestaurantsPriceRange2': '1', 'BusinessAccep...   \n150344  {'BusinessParking': '{'garage': False, 'street...   \n150345  {'WheelchairAccessible': 'True', 'BusinessAcce...   \n\n                                      attributes_filtered  \n0                                                      {}  \n1                                                      {}  \n2       {'RestaurantsPriceRange2': '2', 'RestaurantsTa...  \n3       {'RestaurantsDelivery': 'False', 'RestaurantsP...  \n4       {'RestaurantsTakeOut': 'True', 'GoodForKids': ...  \n...                                                   ...  \n150341                    {'RestaurantsPriceRange2': '3'}  \n150342                    {'RestaurantsPriceRange2': '2'}  \n150343                    {'RestaurantsPriceRange2': '1'}  \n150344  {'RestaurantsPriceRange2': '4', 'RestaurantsTa...  \n150345                    {'RestaurantsPriceRange2': '1'}  \n\n[150346 rows x 2 columns]",
      "text/html": "<div>\n<style scoped>\n    .dataframe tbody tr th:only-of-type {\n        vertical-align: middle;\n    }\n\n    .dataframe tbody tr th {\n        vertical-align: top;\n    }\n\n    .dataframe thead th {\n        text-align: right;\n    }\n</style>\n<table border=\"1\" class=\"dataframe\">\n  <thead>\n    <tr style=\"text-align: right;\">\n      <th></th>\n      <th>attributes</th>\n      <th>attributes_filtered</th>\n    </tr>\n  </thead>\n  <tbody>\n    <tr>\n      <th>0</th>\n      <td>{'ByAppointmentOnly': 'True'}</td>\n      <td>{}</td>\n    </tr>\n    <tr>\n      <th>1</th>\n      <td>{'BusinessAcceptsCreditCards': 'True'}</td>\n      <td>{}</td>\n    </tr>\n    <tr>\n      <th>2</th>\n      <td>{'BikeParking': 'True', 'BusinessAcceptsCredit...</td>\n      <td>{'RestaurantsPriceRange2': '2', 'RestaurantsTa...</td>\n    </tr>\n    <tr>\n      <th>3</th>\n      <td>{'RestaurantsDelivery': 'False', 'OutdoorSeati...</td>\n      <td>{'RestaurantsDelivery': 'False', 'RestaurantsP...</td>\n    </tr>\n    <tr>\n      <th>4</th>\n      <td>{'BusinessAcceptsCreditCards': 'True', 'Wheelc...</td>\n      <td>{'RestaurantsTakeOut': 'True', 'GoodForKids': ...</td>\n    </tr>\n    <tr>\n      <th>...</th>\n      <td>...</td>\n      <td>...</td>\n    </tr>\n    <tr>\n      <th>150341</th>\n      <td>{'ByAppointmentOnly': 'False', 'RestaurantsPri...</td>\n      <td>{'RestaurantsPriceRange2': '3'}</td>\n    </tr>\n    <tr>\n      <th>150342</th>\n      <td>{'BusinessAcceptsCreditCards': 'True', 'Restau...</td>\n      <td>{'RestaurantsPriceRange2': '2'}</td>\n    </tr>\n    <tr>\n      <th>150343</th>\n      <td>{'RestaurantsPriceRange2': '1', 'BusinessAccep...</td>\n      <td>{'RestaurantsPriceRange2': '1'}</td>\n    </tr>\n    <tr>\n      <th>150344</th>\n      <td>{'BusinessParking': '{'garage': False, 'street...</td>\n      <td>{'RestaurantsPriceRange2': '4', 'RestaurantsTa...</td>\n    </tr>\n    <tr>\n      <th>150345</th>\n      <td>{'WheelchairAccessible': 'True', 'BusinessAcce...</td>\n      <td>{'RestaurantsPriceRange2': '1'}</td>\n    </tr>\n  </tbody>\n</table>\n<p>150346 rows × 2 columns</p>\n</div>"
     },
     "execution_count": 9,
     "metadata": {},
     "output_type": "execute_result"
    }
   ],
   "source": [
    "businesses_attributes_filtered = []\n",
    "\n",
    "filtered_attributes_single = {\n",
    "    'RestaurantsTakeOut',\n",
    "    'RestaurantsDelivery',\n",
    "    'RestaurantsPriceRange2',\n",
    "    'GoodForKids',\n",
    "    'RestaurantsGoodForGroups',\n",
    "    'RestaurantsAttire',\n",
    "    'NoiseLevel'\n",
    "}\n",
    "filtered_attributes_multi = {\n",
    "    'Ambience',\n",
    "    'GoodForMeal'\n",
    "}\n",
    "\n",
    "\n",
    "for business_attributes in businesses['attributes']:\n",
    "    parsed_business_attributes = {}\n",
    "    if business_attributes is not None:\n",
    "        for attribute_key, attribute_value in business_attributes.items():\n",
    "            if attribute_key in filtered_attributes_multi and attribute_value.startswith('{'):  # Attribute is opnieuw een dict\n",
    "                attribute_value = attribute_value.replace('\\'', '\\\"')\n",
    "                # TODO: alle waarden van de dict toevoegen\n",
    "            elif attribute_key in filtered_attributes_single:\n",
    "                parsed_business_attributes[attribute_key] = attribute_value\n",
    "    businesses_attributes_filtered.append(parsed_business_attributes)\n",
    "\n",
    "businesses['attributes_filtered'] = businesses_attributes_filtered\n",
    "businesses[['attributes', 'attributes_filtered']]"
   ],
   "metadata": {
    "collapsed": false
   }
  },
  {
   "cell_type": "markdown",
   "source": [
    "Now we have selected all data to use for businesses. This data now needs to be reformatted to allow for easy input into a neural network."
   ],
   "metadata": {
    "collapsed": false
   }
  },
  {
   "cell_type": "markdown",
   "source": [
    "## Data Transformation\n",
    "Let's first see what we have at this moment..."
   ],
   "metadata": {
    "collapsed": false
   }
  },
  {
   "cell_type": "code",
   "execution_count": 24,
   "outputs": [
    {
     "data": {
      "text/plain": "                   business_id                           name  \\\n3       MTSW4McQd7CbVtyjqoe9mw             St Honore Pastries   \n5       CF33F8-E6oudUQ46HnavjQ                 Sonic Drive-In   \n8       k0hlBqXX-Bt0vf1op7Jr1w          Tsevi's Pub And Grill   \n9       bBDDEgkFA1Otx9Lfe7BZUQ                 Sonic Drive-In   \n11      eEOYSgkmpB90uNA7lDOMRA          Vietnamese Food Truck   \n...                        ...                            ...   \n150325  l9eLGG9ZKpLJzboZq-9LRQ                           Wawa   \n150327  cM6V90ExQD6KMSU3rRB5ZA              Dutch Bros Coffee   \n150336  WnT9NIzQgLlILjPT0kEcsQ  Adelita Taqueria & Restaurant   \n150339  2O2K6SXPWv56amqxCECd4w                   The Plum Pit   \n150340  hn9Toz3s-Ei3uZPt7esExA          West Side Kebab House   \n\n                   city  stars  review_count  \\\n3          Philadelphia    4.0            80   \n5          Ashland City    2.0             6   \n8                Affton    3.0            19   \n9             Nashville    1.5            10   \n11            Tampa Bay    4.0            10   \n...                 ...    ...           ...   \n150325  Clifton Heights    3.0            11   \n150327            Boise    4.0            33   \n150336     Philadelphia    4.5            35   \n150339            Aston    4.5            14   \n150340         Edmonton    4.5            18   \n\n                                               attributes  \\\n3       {'RestaurantsDelivery': 'False', 'OutdoorSeati...   \n5       {'BusinessParking': 'None', 'BusinessAcceptsCr...   \n8       {'Caters': 'True', 'Alcohol': 'u'full_bar'', '...   \n9       {'RestaurantsAttire': ''casual'', 'Restaurants...   \n11      {'Alcohol': ''none'', 'OutdoorSeating': 'None'...   \n...                                                   ...   \n150325  {'BikeParking': 'True', 'BusinessAcceptsCredit...   \n150327  {'WiFi': ''free'', 'RestaurantsGoodForGroups':...   \n150336  {'WheelchairAccessible': 'False', 'Restaurants...   \n150339  {'RestaurantsDelivery': 'False', 'BusinessAcce...   \n150340  {'Ambience': '{'touristy': False, 'hipster': F...   \n\n                                               categories  \\\n3       Restaurants, Food, Bubble Tea, Coffee & Tea, B...   \n5       Burgers, Fast Food, Sandwiches, Food, Ice Crea...   \n8       Pubs, Restaurants, Italian, Bars, American (Tr...   \n9       Ice Cream & Frozen Yogurt, Fast Food, Burgers,...   \n11             Vietnamese, Food, Restaurants, Food Trucks   \n...                                                   ...   \n150325  Restaurants, Sandwiches, Convenience Stores, C...   \n150327  Cafes, Juice Bars & Smoothies, Coffee & Tea, R...   \n150336                               Restaurants, Mexican   \n150339  Restaurants, Comfort Food, Food, Food Trucks, ...   \n150340                        Middle Eastern, Restaurants   \n\n                                   categories_whitelist_1  \\\n3       {Food, Restaurants, Bakeries, Bubble Tea, Coff...   \n5       {Burgers, Fast Food, Food, Restaurants, Sandwi...   \n8       {American (Traditional), Bars, Restaurants, Pu...   \n9       {Burgers, Fast Food, Food, Restaurants, Ice Cr...   \n11           {Vietnamese, Food Trucks, Restaurants, Food}   \n...                                                   ...   \n150325  {Convenience Stores, Food, Restaurants, Coffee...   \n150327  {Cafes, Food, Restaurants, Coffee & Tea, Juice...   \n150336                             {Mexican, Restaurants}   \n150339  {Food Trucks, Comfort Food, Caterers, Food, Ev...   \n150340                      {Middle Eastern, Restaurants}   \n\n                                   categories_whitelist_2  \\\n3       {Food, Restaurants, Bakeries, Bubble Tea, Coff...   \n5       {Burgers, Fast Food, Food, Restaurants, Sandwi...   \n8       {American (Traditional), Bars, Restaurants, Pu...   \n9       {Burgers, Fast Food, Food, Restaurants, Ice Cr...   \n11           {Vietnamese, Food Trucks, Restaurants, Food}   \n...                                                   ...   \n150325  {Convenience Stores, Food, Restaurants, Coffee...   \n150327  {Cafes, Food, Restaurants, Coffee & Tea, Juice...   \n150336                             {Mexican, Restaurants}   \n150339  {Food Trucks, Comfort Food, Caterers, Food, Ev...   \n150340                      {Middle Eastern, Restaurants}   \n\n                                      attributes_filtered  \n3       {'RestaurantsDelivery': 'False', 'RestaurantsP...  \n5       {'RestaurantsAttire': 'u'casual'', 'Restaurant...  \n8       {'RestaurantsAttire': 'u'casual'', 'Restaurant...  \n9       {'RestaurantsAttire': ''casual'', 'Restaurants...  \n11                                                     {}  \n...                                                   ...  \n150325  {'RestaurantsPriceRange2': '1', 'RestaurantsTa...  \n150327  {'RestaurantsGoodForGroups': 'True', 'Restaura...  \n150336  {'GoodForKids': 'True', 'RestaurantsAttire': '...  \n150339  {'RestaurantsDelivery': 'False', 'RestaurantsP...  \n150340  {'NoiseLevel': 'u'average'', 'RestaurantsPrice...  \n\n[52533 rows x 10 columns]",
      "text/html": "<div>\n<style scoped>\n    .dataframe tbody tr th:only-of-type {\n        vertical-align: middle;\n    }\n\n    .dataframe tbody tr th {\n        vertical-align: top;\n    }\n\n    .dataframe thead th {\n        text-align: right;\n    }\n</style>\n<table border=\"1\" class=\"dataframe\">\n  <thead>\n    <tr style=\"text-align: right;\">\n      <th></th>\n      <th>business_id</th>\n      <th>name</th>\n      <th>city</th>\n      <th>stars</th>\n      <th>review_count</th>\n      <th>attributes</th>\n      <th>categories</th>\n      <th>categories_whitelist_1</th>\n      <th>categories_whitelist_2</th>\n      <th>attributes_filtered</th>\n    </tr>\n  </thead>\n  <tbody>\n    <tr>\n      <th>3</th>\n      <td>MTSW4McQd7CbVtyjqoe9mw</td>\n      <td>St Honore Pastries</td>\n      <td>Philadelphia</td>\n      <td>4.0</td>\n      <td>80</td>\n      <td>{'RestaurantsDelivery': 'False', 'OutdoorSeati...</td>\n      <td>Restaurants, Food, Bubble Tea, Coffee &amp; Tea, B...</td>\n      <td>{Food, Restaurants, Bakeries, Bubble Tea, Coff...</td>\n      <td>{Food, Restaurants, Bakeries, Bubble Tea, Coff...</td>\n      <td>{'RestaurantsDelivery': 'False', 'RestaurantsP...</td>\n    </tr>\n    <tr>\n      <th>5</th>\n      <td>CF33F8-E6oudUQ46HnavjQ</td>\n      <td>Sonic Drive-In</td>\n      <td>Ashland City</td>\n      <td>2.0</td>\n      <td>6</td>\n      <td>{'BusinessParking': 'None', 'BusinessAcceptsCr...</td>\n      <td>Burgers, Fast Food, Sandwiches, Food, Ice Crea...</td>\n      <td>{Burgers, Fast Food, Food, Restaurants, Sandwi...</td>\n      <td>{Burgers, Fast Food, Food, Restaurants, Sandwi...</td>\n      <td>{'RestaurantsAttire': 'u'casual'', 'Restaurant...</td>\n    </tr>\n    <tr>\n      <th>8</th>\n      <td>k0hlBqXX-Bt0vf1op7Jr1w</td>\n      <td>Tsevi's Pub And Grill</td>\n      <td>Affton</td>\n      <td>3.0</td>\n      <td>19</td>\n      <td>{'Caters': 'True', 'Alcohol': 'u'full_bar'', '...</td>\n      <td>Pubs, Restaurants, Italian, Bars, American (Tr...</td>\n      <td>{American (Traditional), Bars, Restaurants, Pu...</td>\n      <td>{American (Traditional), Bars, Restaurants, Pu...</td>\n      <td>{'RestaurantsAttire': 'u'casual'', 'Restaurant...</td>\n    </tr>\n    <tr>\n      <th>9</th>\n      <td>bBDDEgkFA1Otx9Lfe7BZUQ</td>\n      <td>Sonic Drive-In</td>\n      <td>Nashville</td>\n      <td>1.5</td>\n      <td>10</td>\n      <td>{'RestaurantsAttire': ''casual'', 'Restaurants...</td>\n      <td>Ice Cream &amp; Frozen Yogurt, Fast Food, Burgers,...</td>\n      <td>{Burgers, Fast Food, Food, Restaurants, Ice Cr...</td>\n      <td>{Burgers, Fast Food, Food, Restaurants, Ice Cr...</td>\n      <td>{'RestaurantsAttire': ''casual'', 'Restaurants...</td>\n    </tr>\n    <tr>\n      <th>11</th>\n      <td>eEOYSgkmpB90uNA7lDOMRA</td>\n      <td>Vietnamese Food Truck</td>\n      <td>Tampa Bay</td>\n      <td>4.0</td>\n      <td>10</td>\n      <td>{'Alcohol': ''none'', 'OutdoorSeating': 'None'...</td>\n      <td>Vietnamese, Food, Restaurants, Food Trucks</td>\n      <td>{Vietnamese, Food Trucks, Restaurants, Food}</td>\n      <td>{Vietnamese, Food Trucks, Restaurants, Food}</td>\n      <td>{}</td>\n    </tr>\n    <tr>\n      <th>...</th>\n      <td>...</td>\n      <td>...</td>\n      <td>...</td>\n      <td>...</td>\n      <td>...</td>\n      <td>...</td>\n      <td>...</td>\n      <td>...</td>\n      <td>...</td>\n      <td>...</td>\n    </tr>\n    <tr>\n      <th>150325</th>\n      <td>l9eLGG9ZKpLJzboZq-9LRQ</td>\n      <td>Wawa</td>\n      <td>Clifton Heights</td>\n      <td>3.0</td>\n      <td>11</td>\n      <td>{'BikeParking': 'True', 'BusinessAcceptsCredit...</td>\n      <td>Restaurants, Sandwiches, Convenience Stores, C...</td>\n      <td>{Convenience Stores, Food, Restaurants, Coffee...</td>\n      <td>{Convenience Stores, Food, Restaurants, Coffee...</td>\n      <td>{'RestaurantsPriceRange2': '1', 'RestaurantsTa...</td>\n    </tr>\n    <tr>\n      <th>150327</th>\n      <td>cM6V90ExQD6KMSU3rRB5ZA</td>\n      <td>Dutch Bros Coffee</td>\n      <td>Boise</td>\n      <td>4.0</td>\n      <td>33</td>\n      <td>{'WiFi': ''free'', 'RestaurantsGoodForGroups':...</td>\n      <td>Cafes, Juice Bars &amp; Smoothies, Coffee &amp; Tea, R...</td>\n      <td>{Cafes, Food, Restaurants, Coffee &amp; Tea, Juice...</td>\n      <td>{Cafes, Food, Restaurants, Coffee &amp; Tea, Juice...</td>\n      <td>{'RestaurantsGoodForGroups': 'True', 'Restaura...</td>\n    </tr>\n    <tr>\n      <th>150336</th>\n      <td>WnT9NIzQgLlILjPT0kEcsQ</td>\n      <td>Adelita Taqueria &amp; Restaurant</td>\n      <td>Philadelphia</td>\n      <td>4.5</td>\n      <td>35</td>\n      <td>{'WheelchairAccessible': 'False', 'Restaurants...</td>\n      <td>Restaurants, Mexican</td>\n      <td>{Mexican, Restaurants}</td>\n      <td>{Mexican, Restaurants}</td>\n      <td>{'GoodForKids': 'True', 'RestaurantsAttire': '...</td>\n    </tr>\n    <tr>\n      <th>150339</th>\n      <td>2O2K6SXPWv56amqxCECd4w</td>\n      <td>The Plum Pit</td>\n      <td>Aston</td>\n      <td>4.5</td>\n      <td>14</td>\n      <td>{'RestaurantsDelivery': 'False', 'BusinessAcce...</td>\n      <td>Restaurants, Comfort Food, Food, Food Trucks, ...</td>\n      <td>{Food Trucks, Comfort Food, Caterers, Food, Ev...</td>\n      <td>{Food Trucks, Comfort Food, Caterers, Food, Ev...</td>\n      <td>{'RestaurantsDelivery': 'False', 'RestaurantsP...</td>\n    </tr>\n    <tr>\n      <th>150340</th>\n      <td>hn9Toz3s-Ei3uZPt7esExA</td>\n      <td>West Side Kebab House</td>\n      <td>Edmonton</td>\n      <td>4.5</td>\n      <td>18</td>\n      <td>{'Ambience': '{'touristy': False, 'hipster': F...</td>\n      <td>Middle Eastern, Restaurants</td>\n      <td>{Middle Eastern, Restaurants}</td>\n      <td>{Middle Eastern, Restaurants}</td>\n      <td>{'NoiseLevel': 'u'average'', 'RestaurantsPrice...</td>\n    </tr>\n  </tbody>\n</table>\n<p>52533 rows × 10 columns</p>\n</div>"
     },
     "execution_count": 24,
     "metadata": {},
     "output_type": "execute_result"
    }
   ],
   "source": [
    "businesses = businesses[businesses['categories_whitelist_2'].notnull()]  # Remove those with no categories, as these are not considered 'restaurant-like' and thus fall out-of-scope\n",
    "businesses"
   ],
   "metadata": {
    "collapsed": false
   }
  },
  {
   "cell_type": "code",
   "execution_count": 33,
   "outputs": [
    {
     "data": {
      "text/plain": "[('Restaurants', 52268),\n ('Food', 15737),\n ('Nightlife', 8730),\n ('Sandwiches', 8366),\n ('Bars', 8342),\n ('American (Traditional)', 8139),\n ('Pizza', 7093),\n ('Fast Food', 6472),\n ('Breakfast & Brunch', 6239),\n ('American (New)', 6097),\n ('Burgers', 5636),\n ('Mexican', 4600),\n ('Italian', 4573),\n ('Coffee & Tea', 4075),\n ('Seafood', 3539),\n ('Chinese', 3169),\n ('Event Planning & Services', 3110),\n ('Salad', 3064),\n ('Chicken Wings', 2966),\n ('Cafes', 2756),\n ('Delis', 2393),\n ('Caterers', 2099),\n ('Specialty Food', 2030),\n ('Bakeries', 1906),\n ('Desserts', 1874),\n ('Japanese', 1830),\n ('Sports Bars', 1797),\n ('Sushi Bars', 1717),\n ('Barbeque', 1694),\n ('Asian Fusion', 1547),\n ('Steakhouses', 1506),\n ('Diners', 1494),\n ('Cocktail Bars', 1405),\n ('Pubs', 1397),\n ('Food Trucks', 1273),\n ('Mediterranean', 1263),\n ('Wine & Spirits', 1158),\n ('Beer', 1158),\n ('Vegetarian', 1158),\n ('Ice Cream & Frozen Yogurt', 1113),\n ('Arts & Entertainment', 1094),\n ('Soup', 1061),\n ('Juice Bars & Smoothies', 1022),\n ('Tacos', 1020),\n ('Southern', 988),\n ('Thai', 971),\n ('Wine Bars', 956),\n ('Cajun/Creole', 923),\n ('Tex-Mex', 919),\n ('Food Delivery Services', 870),\n ('Vegan', 856),\n ('Vietnamese', 852),\n ('Indian', 838),\n ('Grocery', 828),\n ('Latin American', 810),\n ('Chicken Shop', 808),\n ('Venues & Event Spaces', 784),\n ('Greek', 779),\n ('Gluten-Free', 777),\n ('Hot Dogs', 774),\n ('Comfort Food', 746),\n ('Lounges', 695),\n ('Beer Bar', 642),\n ('Buffets', 622),\n ('Cheesesteaks', 614),\n ('Shopping', 613),\n ('Bagels', 602),\n ('Caribbean', 590),\n ('Middle Eastern', 588),\n ('Soul Food', 539),\n ('Convenience Stores', 536),\n ('Ethnic Food', 519),\n ('Gastropubs', 513),\n ('Music Venues', 512),\n ('French', 503),\n ('Korean', 497),\n ('Donuts', 481),\n ('Local Flavor', 457),\n ('Tapas/Small Plates', 440),\n ('Food Stands', 423),\n ('Hotels & Travel', 422),\n ('Breweries', 408),\n ('Noodles', 382),\n ('Halal', 362),\n ('Active Life', 327),\n ('Wraps', 310),\n ('Street Vendors', 309),\n ('Automotive', 289),\n ('Hotels', 287),\n ('Spanish', 286),\n ('Dive Bars', 283),\n ('Cuban', 283),\n ('Bubble Tea', 278),\n ('Canadian (New)', 261),\n ('Gas Stations', 256),\n ('Pakistani', 228),\n ('Meat Shops', 228),\n ('Tapas Bars', 226),\n ('Ramen', 223),\n ('Seafood Markets', 217),\n ('Irish', 215),\n ('Fish & Chips', 202),\n ('Waffles', 190),\n ('Karaoke', 188),\n ('Party & Event Planning', 188),\n ('Pasta Shops', 187),\n ('Poke', 187),\n ('Hawaiian', 185),\n ('Acai Bowls', 177),\n ('Health Markets', 176),\n ('Creperies', 165),\n ('Dance Clubs', 142),\n ('Coffee Roasteries', 141),\n ('Dim Sum', 140),\n ('Hookah Bars', 134),\n ('Modern European', 131),\n ('Food Court', 130),\n ('Farmers Market', 127),\n ('Fruits & Veggies', 126),\n ('German', 125),\n ('Irish Pub', 123),\n ('Arcades', 120),\n ('Imported Food', 120),\n ('Brewpubs', 118),\n ('African', 115),\n ('Szechuan', 114),\n ('Beer Gardens', 111),\n ('New Mexican Cuisine', 111),\n ('Filipino', 108),\n ('Jazz & Blues', 108),\n ('Cupcakes', 108),\n ('Falafel', 103),\n ('Tea Rooms', 102),\n ('International Grocery', 102),\n ('Pretzels', 101),\n ('Flowers & Gifts', 100),\n ('Puerto Rican', 99),\n ('Cantonese', 93),\n ('Gelato', 92),\n ('Kebab', 90),\n ('Live/Raw Food', 88),\n ('Cheese Shops', 87),\n ('Beauty & Spas', 86),\n ('Golf', 86),\n ('Butcher', 86),\n ('Turkish', 85),\n ('Internet Cafes', 84),\n ('Lebanese', 83),\n ('Wineries', 83),\n ('Shaved Ice', 82),\n ('Peruvian', 82),\n ('Local Services', 78),\n ('Taiwanese', 77),\n ('Brazilian', 77),\n ('Custom Cakes', 76),\n ('Donairs', 76),\n ('Hot Pot', 75),\n ('British', 75),\n ('Pop-Up Restaurants', 75),\n ('Kosher', 73),\n ('Organic Stores', 71),\n ('Health & Medical', 71),\n ('Pan Asian', 69),\n ('Pool Halls', 68),\n ('Ethiopian', 67),\n ('Home Services', 67),\n ('Colombian', 67),\n ('Smokehouse', 66),\n ('Bed & Breakfast', 64),\n ('Drugstores', 63),\n ('Fashion', 62),\n ('Do-It-Yourself Food', 62),\n ('Salvadoran', 60),\n ('Empanadas', 57),\n ('Casinos', 57),\n ('Home & Garden', 57),\n ('Patisserie/Cake Shop', 57),\n ('Shopping Centers', 56),\n ('Whiskey Bars', 55),\n ('Education', 55),\n ('Wedding Planning', 55),\n ('Chocolatiers & Shops', 54),\n ('Florists', 53),\n ('Bowling', 51),\n ('Arts & Crafts', 51),\n ('Tours', 50),\n ('Moroccan', 49),\n ('Laotian', 48),\n ('Tiki Bars', 48),\n ('Venezuelan', 48),\n ('Art Galleries', 47),\n ('Personal Chefs', 47),\n ('Brasseries', 47),\n ('Cafeteria', 47),\n ('Dominican', 44),\n ('Afghan', 44),\n ('Gay Bars', 43),\n ('Polish', 43),\n ('Performing Arts', 42),\n ('Kids Activities', 42),\n ('Russian', 42),\n ('Professional Services', 41),\n ('Candy Stores', 41),\n ('Persian/Iranian', 40),\n ('Country Clubs', 40),\n ('Festivals', 39),\n ('Fitness & Instruction', 39),\n ('Basque', 39),\n ('Teppanyaki', 38),\n ('Social Clubs', 36),\n ('Arabic', 36),\n ('Mongolian', 36),\n ('Indoor Playcentre', 35),\n ('Dinner Theater', 35),\n ('Argentine', 34),\n ('Books', 34),\n ('Music & Video', 34),\n ('Mags', 34),\n ('Beverage Store', 34),\n ('Gift Shops', 34),\n ('Pets', 33),\n ('Portuguese', 33),\n ('Cooking Classes', 33),\n ('Adult Entertainment', 33),\n ('Public Services & Government', 33),\n ('Piano Bars', 33),\n ('Bistros', 33),\n ('Malaysian', 30),\n ('Resorts', 29),\n ('Tobacco Shops', 29),\n ('Wine Tasting Room', 29),\n ('Day Spas', 28),\n ('Themed Cafes', 28),\n ('Cinema', 27),\n ('Fondue', 27),\n ('Poutineries', 26),\n ('Real Estate', 25),\n ('Honduran', 24),\n ('Comedy Clubs', 24),\n ('Specialty Schools', 24),\n ('Department Stores', 24),\n ('Belgian', 24),\n ('Sporting Goods', 23),\n ('Indonesian', 23),\n ('Religious Organizations', 22),\n ('Community Service/Non-Profit', 22),\n ('Delicatessen', 22),\n ('Ethnic Grocery', 22),\n ('Himalayan/Nepalese', 21),\n ('Amusement Parks', 21),\n ('Distilleries', 20),\n ('Haitian', 20),\n ('Bookstores', 20),\n ('Wholesale Stores', 20),\n ('Cooking Schools', 19),\n ('Nutritionists', 19),\n ('Museums', 18),\n ('Ukrainian', 18),\n ('Burmese', 18),\n ('Vitamins & Supplements', 18),\n ('Hair Salons', 18),\n ('Home Decor', 18),\n ('Cambodian', 18),\n ('Macarons', 18),\n ('Kombucha', 18),\n ('Eatertainment', 17),\n ('Shanghainese', 17),\n ('Trinidadian', 17),\n ('Boating', 17),\n ('Massage', 17),\n ('Sicilian', 16),\n ('Herbs & Spices', 16),\n ('Yelp Events', 16),\n ('Izakaya', 16),\n ('Landmarks & Historical Buildings', 16),\n ('Egyptian', 16),\n ('Tennis', 15),\n ('Armenian', 15),\n ('Parks', 15),\n ('Swimming Pools', 15),\n ('Kitchen & Bath', 15),\n ('Champagne Bars', 15),\n ('Yoga', 14),\n ('Food Tours', 14),\n ('Beaches', 14),\n ('Bartenders', 14),\n ('Bangladeshi', 14),\n ('Pancakes', 14),\n ('Cosmetics & Beauty Supply', 13),\n ('Australian', 13),\n ('Japanese Curry', 13),\n ('Speakeasies', 13),\n ('Pet Adoption', 12),\n ('Skin Care', 12),\n ('Sports Clubs', 12),\n ('Pop-up Shops', 12),\n ('Nurseries & Gardening', 12),\n ('Tabletop Games', 12),\n ('Pet Stores', 11),\n ('Pet Services', 11),\n (\"Women's Clothing\", 11),\n ('Boat Charters', 11),\n ('Wholesalers', 11),\n ('Financial Services', 11),\n ('Public Markets', 11),\n ('Shared Office Spaces', 11),\n ('Travel Services', 11),\n ('Hobby Shops', 11),\n ('Gyms', 11),\n ('Furniture Stores', 11),\n ('Scandinavian', 11),\n ('Tasting Classes', 10),\n ('Golf Lessons', 10),\n ('Bar Crawl', 10),\n ('Doctors', 10),\n ('Iberian', 10),\n ('Popcorn Shops', 10),\n ('Recreation Centers', 10),\n ('Cigar Bars', 10),\n ('Souvenir Shops', 9),\n ('Syrian', 9),\n ('Jewelry', 9),\n ('Singaporean', 9),\n ('Nail Salons', 9),\n ('Shaved Snow', 9),\n ('Personal Shopping', 9),\n ('Massage Therapy', 9),\n ('Pharmacy', 9),\n ('Transportation', 9),\n ('Mini Golf', 8),\n ('Party Equipment Rentals', 8),\n ('Wine Tasting Classes', 8),\n ('Churches', 8),\n ('Photography Stores & Services', 8),\n ('Cabaret', 8),\n ('Barbers', 8),\n ('Departments of Motor Vehicles', 8),\n ('Vape Shops', 8),\n ('Antiques', 8),\n ('Uzbek', 8),\n ('Accessories', 7),\n ('Auto Repair', 7),\n ('Party Supplies', 7),\n ('Musicians', 7),\n ('International', 7),\n ('Tuscan', 7),\n ('Restaurant Supplies', 7),\n (\"Men's Clothing\", 7),\n ('Farms', 7),\n ('Historical Tours', 7),\n ('Beer Tours', 6),\n ('Hong Kong Style Cafe', 6),\n ('Banks & Credit Unions', 6),\n ('Czech', 6),\n ('Movers', 6),\n ('Senegalese', 6),\n ('Laser Tag', 6),\n ('Wine Tours', 6),\n ('Playgrounds', 6),\n ('South African', 6),\n ('Nicaraguan', 6),\n ('Wigs', 6),\n ('Outlet Stores', 6),\n ('Skating Rinks', 6),\n ('Bike Rentals', 6),\n ('Appliances', 6),\n ('Cideries', 6),\n ('Contractors', 6),\n ('Hungarian', 6),\n ('Sports Wear', 5),\n ('Auto Detailing', 5),\n ('Couriers & Delivery Services', 5),\n ('Herbal Shops', 5),\n ('Car Dealers', 5),\n ('Pool & Billiards', 5),\n ('Leisure Centers', 5),\n ('Austrian', 5),\n ('Cannabis Clinics', 5),\n ('Scottish', 5),\n ('Mass Media', 5),\n ('Fishing', 5),\n ('Medical Spas', 5),\n ('Discount Store', 5),\n ('Newspapers & Magazines', 5),\n ('Plumbing', 5),\n ('Airports', 5),\n ('Cultural Center', 5),\n ('Colleges & Universities', 5),\n ('Airport Lounges', 5),\n ('Sardinian', 4),\n ('IT Services & Computer Repair', 4),\n ('Body Shops', 4),\n ('Parking', 4),\n ('Self Storage', 4),\n ('Tires', 4),\n ('Thrift Stores', 4),\n ('Home Cleaning', 4),\n ('Used Bookstore', 4),\n ('Golf Equipment', 4),\n ('Educational Services', 4),\n ('Dog Parks', 4),\n ('Building Supplies', 4),\n ('Heating & Air Conditioning/HVAC', 4),\n ('Cards & Stationery', 4),\n (\"Children's Clothing\", 4),\n ('Strip Clubs', 4),\n ('Hair Removal', 4),\n ('Cannabis Dispensaries', 4),\n ('Car Wash', 4),\n ('Walking Tours', 4),\n ('Traditional Chinese Medicine', 4),\n ('Trainers', 4),\n ('Amateur Sports Teams', 4),\n ('Dietitians', 4),\n ('Electronics', 4),\n ('Videos & Video Game Rental', 4),\n ('Bikes', 4),\n ('Bike Repair/Maintenance', 4),\n ('Georgian', 4),\n ('Tree Services', 4),\n ('Apartments', 4),\n ('Hunting & Fishing Supplies', 4),\n ('Adult', 4),\n ('Art Museums', 4),\n ('Axe Throwing', 4),\n ('Vinyl Records', 4),\n ('Photographers', 4),\n ('Team Building Activities', 4),\n ('CSA', 4),\n ('Supernatural Readings', 4),\n ('Race Tracks', 3),\n ('Pet Sitting', 3),\n ('Oriental', 3),\n ('Outdoor Gear', 3),\n ('Business Consulting', 3),\n ('Auto Glass Services', 3),\n ('Counseling & Mental Health', 3),\n ('Chiropractors', 3),\n ('Gun/Rifle Ranges', 3),\n ('Motorcycle Dealers', 3),\n ('Junk Removal & Hauling', 3),\n ('Boat Tours', 3),\n ('Waxing', 3),\n ('Stadiums & Arenas', 3),\n ('Naturopathic/Holistic', 3),\n ('Drive-Thru Bars', 3),\n ('Country Dance Halls', 3),\n ('Preschools', 3),\n ('Party Bus Rentals', 3),\n ('Landscaping', 3),\n ('Print Media', 3),\n ('Music & DVDs', 3),\n ('Guest Houses', 3),\n ('Sri Lankan', 3),\n ('Tattoo', 3),\n ('Mattresses', 3),\n ('Interior Design', 3),\n ('Adult Education', 3),\n ('Buddhist Temples', 3),\n ('LAN Centers', 3),\n ('Rafting/Kayaking', 3),\n ('Aquariums', 3),\n ('Supper Clubs', 3),\n ('Vintage & Consignment', 3),\n ('Used', 3),\n ('Property Management', 3),\n ('Olive Oil', 3),\n ('Dry Cleaning & Laundry', 3),\n ('Kitchen Supplies', 3),\n ('Pest Control', 3),\n ('Hostels', 3),\n ('Lawyers', 3),\n ('Hospitals', 3),\n ('Ticket Sales', 3),\n ('Art Classes', 3),\n ('Weight Loss Centers', 3),\n ('Hiking', 3),\n ('Brewing Supplies', 3),\n ('Fireplace Services', 3),\n ('Reflexology', 3),\n ('Go Karts', 2),\n ('Veterinarians', 2),\n ('Christmas Trees', 2),\n ('Kitchen Incubators', 2),\n ('Oil Change Stations', 2),\n ('Club Crawl', 2),\n ('Somali', 2),\n ('Hardware Stores', 2),\n ('Batting Cages', 2),\n ('Appliances & Repair', 2),\n ('Coffeeshops', 2),\n ('Grilling Equipment', 2),\n ('Cosmetic Surgeons', 2),\n ('Pediatricians', 2),\n ('Child Care & Day Care', 2),\n ('DJs', 2),\n ('Elementary Schools', 2),\n ('Bus Tours', 2),\n ('Mobile Phone Repair', 2),\n ('Lawn Services', 2),\n ('Food Banks', 2),\n ('Ski Resorts', 2),\n ('Horseback Riding', 2),\n ('Unofficial Yelp Events', 2),\n ('Eyebrow Services', 2),\n ('Visitor Centers', 2),\n ('Soccer', 2),\n ('Toy Stores', 2),\n ('Medical Centers', 2),\n ('Airport Shuttles', 2),\n ('Taxis', 2),\n ('Public Transportation', 2),\n ('Mobile Phones', 2),\n ('Paint & Sip', 2),\n ('Trampoline Parks', 2),\n ('Paddleboarding', 2),\n ('Flea Markets', 2),\n ('Auto Customization', 2),\n ('Home Organization', 2),\n ('Israeli', 2),\n ('Coffee & Tea Supplies', 2),\n ('Tutoring Centers', 2),\n ('Advertising', 2),\n ('Graphic Design', 2),\n ('Accountants', 2),\n ('Water Heater Installation/Repair', 2),\n ('Real Estate Agents', 2),\n ('Shoe Stores', 2),\n ('Honey', 2),\n ('Propane', 2),\n ('Auto Parts & Supplies', 2),\n ('Marinas', 2),\n ('Tableware', 2),\n ('Head Shops', 2),\n ('Painters', 2),\n ('Septic Services', 2),\n ('Piercing', 2),\n ('Hair Stylists', 2),\n ('Spiritual Shop', 2),\n ('Hakka', 2),\n ('Bocce Ball', 2),\n ('Perfume', 2),\n ('Laundry Services', 2),\n ('Web Design', 2),\n ('Pet Groomers', 2),\n ('Acupuncture', 2),\n ('Escape Games', 2),\n ('Dentists', 2),\n ('Outdoor Furniture Stores', 2),\n ('Botanical Gardens', 2),\n ('Eastern European', 2),\n ('Recording & Rehearsal Studios', 2),\n ('Office Cleaning', 2),\n ('Customized Merchandise', 2),\n ('Virtual Reality Centers', 2),\n ('Sports Betting', 2),\n ('Airport Terminals', 2),\n ('Dumplings', 2),\n ('Carpet Cleaning', 2),\n ('Rest Stops', 2),\n ('Landscape Architects', 2),\n ('Libraries', 2),\n ('Damage Restoration', 2),\n ('Furniture Reupholstery', 2),\n ('Funeral Services & Cemeteries', 1),\n ('Windshield Installation & Repair', 1),\n ('Transmission Repair', 1),\n ('Roadside Assistance', 1),\n ('Car Stereo Installation', 1),\n ('Smog Check Stations', 1),\n ('Battery Stores', 1),\n ('RV Repair', 1),\n ('Trailer Repair', 1),\n ('Electronics Repair', 1),\n ('Hainan', 1),\n ('Crane Services', 1),\n ('Fireworks', 1),\n ('Guns & Ammo', 1),\n ('Maternity Wear', 1),\n ('Parent Cafes', 1),\n ('Eyewear & Opticians', 1),\n ('Calabrian', 1),\n ('Kids Hair Salons', 1),\n ('TV Mounting', 1),\n ('Home Theatre Installation', 1),\n ('Musical Instruments & Teachers', 1),\n ('Pawn Shops', 1),\n ('Religious Items', 1),\n ('Dance Schools', 1),\n ('Family Practice', 1),\n ('Psychiatrists', 1),\n ('Neurologist', 1),\n ('Tax Services', 1),\n ('Lahmacun', 1),\n ('Floral Designers', 1),\n ('Animal Shelters', 1),\n ('Gymnastics', 1),\n ('Pilates', 1),\n ('Train Stations', 1),\n ('Used Car Dealers', 1),\n ('Watches', 1),\n ('Leather Goods', 1),\n ('Real Estate Services', 1),\n ('Beer Hall', 1),\n ('Wheel & Rim Repair', 1),\n ('Internal Medicine', 1),\n ('Comic Books', 1),\n ('Private Tutors', 1),\n ('Video Game Stores', 1),\n ('Marketing', 1),\n ('Jails & Prisons', 1),\n ('Financial Advising', 1),\n ('Clothing Rental', 1),\n ('Fuzhou', 1),\n ('Grill Services', 1),\n ('Holiday Decorations', 1),\n ('Officiants', 1),\n ('Billing Services', 1),\n ('Plastic Surgeons', 1),\n ('Golf Cart Rentals', 1),\n ('Wildlife Control', 1),\n ('Osteopaths', 1),\n ('Costumes', 1),\n ('Boat Repair', 1),\n ('Solar Installation', 1),\n ('Roofing', 1),\n ('Community Centers', 1),\n ('Rolfing', 1),\n ('Check Cashing/Pay-day Loans', 1),\n ('Kiosk', 1),\n ('Roman', 1),\n ('Pressure Washers', 1),\n ('Water Purification Services', 1),\n ('Beach Bars', 1),\n ('Horse Racing', 1),\n ('Pet Training', 1),\n ('Vacation Rentals', 1),\n ('Blow Dry/Out Services', 1),\n ('Hair Extensions', 1),\n ('Dance Studios', 1),\n ('Shipping Centers', 1),\n ('Homeowner Association', 1),\n ('Candle Stores', 1),\n ('Eyelash Service', 1),\n ('Guamanian', 1),\n ('Climbing', 1),\n ('Zoos', 1),\n ('Pet Photography', 1),\n ('Recycling Center', 1),\n ('Limos', 1),\n ('Tonkatsu', 1),\n ('Donburi', 1),\n ('Travel Agents', 1),\n ('Audio/Visual Equipment Rental', 1),\n ('RV Parks', 1),\n ('Pita', 1),\n ('Laundromat', 1),\n ('Dry Cleaning', 1),\n ('General Dentistry', 1),\n ('Reiki', 1),\n ('Drive-In Theater', 1),\n ('Municipality', 1),\n ('Party Characters', 1),\n ('Threading Services', 1),\n ('Session Photography', 1),\n ('Auction Houses', 1),\n ('Music Production Services', 1),\n ('Car Share Services', 1),\n ('Packing Services', 1),\n ('Ice Delivery', 1),\n ('Internet Service Providers', 1),\n ('University Housing', 1),\n ('Truck Rental', 1),\n ('Commercial Truck Dealers', 1),\n ('Screen Printing/T-Shirt Printing', 1),\n ('Service Stations', 1),\n ('Pet Boarding', 1),\n (\"Men's Hair Salons\", 1),\n ('Pick Your Own Farms', 1),\n ('Art Tours', 1),\n ('Livestock Feed & Supply', 1),\n ('Oral Surgeons', 1),\n ('Skate Shops', 1),\n ('Radiologists', 1),\n ('Diagnostic Services', 1),\n ('Diagnostic Imaging', 1),\n ('Bridal', 1),\n ('Flight Instruction', 1),\n ('Cucina campana', 1),\n ('Nail Technicians', 1),\n ('Radio Stations', 1),\n ('Fire Departments', 1),\n ('Ethical Grocery', 1),\n ('Trains', 1),\n ('Business Law', 1),\n ('Personal Injury Law', 1),\n ('Contract Law', 1),\n ('Employment Law', 1),\n ('Divorce & Family Law', 1),\n ('Legal Services', 1),\n ('Real Estate Law', 1),\n ('General Litigation', 1),\n ('Personal Assistants', 1),\n ('Trivia Hosts', 1),\n ('Conveyor Belt Sushi', 1),\n ('Wedding Chapels', 1),\n ('Water Stores', 1),\n ('Special Education', 1),\n ('Hotel bar', 1),\n ('Makeup Artists', 1),\n ('Health Retreats', 1),\n ('Airlines', 1),\n ('Hindu Temples', 1),\n ('Auto Loan Providers', 1),\n ('Investing', 1),\n ('Haunted Houses', 1),\n ('Air Duct Cleaning', 1),\n ('Commercial Truck Repair', 1),\n ('Countertop Installation', 1),\n ('Security Systems', 1),\n ('Gardeners', 1),\n ('Irrigation', 1),\n ('Keys & Locksmiths', 1),\n ('Garage Door Services', 1),\n ('Serbo Croatian', 1),\n ('Towing', 1),\n ('Hair Loss Centers', 1),\n ('Gemstones & Minerals', 1)]"
     },
     "execution_count": 33,
     "metadata": {},
     "output_type": "execute_result"
    }
   ],
   "source": [
    "all_remaining_categories = (category for business_categories in businesses['categories_whitelist_2'] for category in business_categories)\n",
    "categories_appearances = Counter(all_remaining_categories)\n",
    "categories_appearances.most_common()"
   ],
   "metadata": {
    "collapsed": false
   }
  },
  {
   "cell_type": "code",
   "execution_count": 36,
   "outputs": [
    {
     "name": "stdout",
     "output_type": "stream",
     "text": [
      "The following categories will be one-hot encoded:\n"
     ]
    },
    {
     "data": {
      "text/plain": "[('Restaurants', 52268),\n ('Food', 15737),\n ('Nightlife', 8730),\n ('Sandwiches', 8366),\n ('Bars', 8342),\n ('American (Traditional)', 8139),\n ('Pizza', 7093),\n ('Fast Food', 6472),\n ('Breakfast & Brunch', 6239),\n ('American (New)', 6097),\n ('Burgers', 5636),\n ('Mexican', 4600),\n ('Italian', 4573),\n ('Coffee & Tea', 4075),\n ('Seafood', 3539),\n ('Chinese', 3169),\n ('Event Planning & Services', 3110),\n ('Salad', 3064),\n ('Chicken Wings', 2966),\n ('Cafes', 2756),\n ('Delis', 2393),\n ('Caterers', 2099),\n ('Specialty Food', 2030),\n ('Bakeries', 1906),\n ('Desserts', 1874),\n ('Japanese', 1830),\n ('Sports Bars', 1797),\n ('Sushi Bars', 1717),\n ('Barbeque', 1694),\n ('Asian Fusion', 1547),\n ('Steakhouses', 1506),\n ('Diners', 1494),\n ('Cocktail Bars', 1405),\n ('Pubs', 1397),\n ('Food Trucks', 1273),\n ('Mediterranean', 1263),\n ('Wine & Spirits', 1158),\n ('Beer', 1158),\n ('Vegetarian', 1158),\n ('Ice Cream & Frozen Yogurt', 1113),\n ('Arts & Entertainment', 1094),\n ('Soup', 1061),\n ('Juice Bars & Smoothies', 1022),\n ('Tacos', 1020),\n ('Southern', 988),\n ('Thai', 971),\n ('Wine Bars', 956),\n ('Cajun/Creole', 923),\n ('Tex-Mex', 919),\n ('Food Delivery Services', 870),\n ('Vegan', 856),\n ('Vietnamese', 852),\n ('Indian', 838),\n ('Grocery', 828),\n ('Latin American', 810),\n ('Chicken Shop', 808),\n ('Venues & Event Spaces', 784),\n ('Greek', 779),\n ('Gluten-Free', 777),\n ('Hot Dogs', 774),\n ('Comfort Food', 746),\n ('Lounges', 695),\n ('Beer Bar', 642),\n ('Buffets', 622),\n ('Cheesesteaks', 614),\n ('Shopping', 613),\n ('Bagels', 602),\n ('Caribbean', 590),\n ('Middle Eastern', 588),\n ('Soul Food', 539),\n ('Convenience Stores', 536),\n ('Ethnic Food', 519),\n ('Gastropubs', 513),\n ('Music Venues', 512),\n ('French', 503)]"
     },
     "execution_count": 36,
     "metadata": {},
     "output_type": "execute_result"
    }
   ],
   "source": [
    "businesses['categories_whitelist_2_most_common'] = [{category for category in business_categories if categories_appearances[category] >= 500} for business_categories in businesses['categories_whitelist_2']]\n",
    "all_remaining_categories = (category for business_categories in businesses['categories_whitelist_2_most_common'] for category in business_categories)\n",
    "categories_appearances = Counter(all_remaining_categories)\n",
    "print(\"The following categories will be one-hot encoded:\")\n",
    "categories_appearances.most_common()"
   ],
   "metadata": {
    "collapsed": false
   }
  },
  {
   "cell_type": "code",
   "execution_count": null,
   "outputs": [],
   "source": [],
   "metadata": {
    "collapsed": false
   }
  }
 ],
 "metadata": {
  "kernelspec": {
   "display_name": "Python 3",
   "language": "python",
   "name": "python3"
  },
  "language_info": {
   "codemirror_mode": {
    "name": "ipython",
    "version": 2
   },
   "file_extension": ".py",
   "mimetype": "text/x-python",
   "name": "python",
   "nbconvert_exporter": "python",
   "pygments_lexer": "ipython2",
   "version": "2.7.6"
  }
 },
 "nbformat": 4,
 "nbformat_minor": 0
}
