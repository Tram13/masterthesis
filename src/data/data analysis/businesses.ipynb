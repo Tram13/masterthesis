{
 "cells": [
  {
   "cell_type": "markdown",
   "source": [
    "# Data Analysis: Businesses\n",
    "## Analysis of the businesses dataset\n",
    "2 fields are problematic: 'attributes' and 'categories':\n",
    "* Attributes are unstructured data about a venue.\n",
    "* Not all businesses are restaurants."
   ],
   "metadata": {
    "collapsed": false
   }
  },
  {
   "cell_type": "code",
   "execution_count": 20,
   "outputs": [],
   "source": [
    "from pathlib import Path\n",
    "from src.data.data_reader import DataReader\n",
    "import os\n",
    "import pandas as pd\n",
    "import json\n",
    "\n",
    "while str(os.getcwd())[-3:] != 'src':  # Execute from src-directory root\n",
    "    os.chdir('..')"
   ],
   "metadata": {
    "collapsed": false
   }
  },
  {
   "cell_type": "code",
   "execution_count": 21,
   "outputs": [
    {
     "data": {
      "text/plain": "                   business_id                      name           city  \\\n0       Pns2l4eNsfO8kk83dixA6A  Abby Rappoport, LAC, CMQ  Santa Barbara   \n1       mpf3x-BjTdTEA3yCZrAYPw             The UPS Store         Affton   \n2       tUFrWirKiKi_TAnsVWINQQ                    Target         Tucson   \n3       MTSW4McQd7CbVtyjqoe9mw        St Honore Pastries   Philadelphia   \n4       mWMc6_wTdE0EUBKIGXDVfA  Perkiomen Valley Brewery     Green Lane   \n...                        ...                       ...            ...   \n150341  IUQopTMmYQG-qRtBk-8QnA              Binh's Nails       Edmonton   \n150342  c8GjPIOTGVmIemT7j5_SyQ      Wild Birds Unlimited      Nashville   \n150343  _QAMST-NrQobXduilWEqSw         Claire's Boutique   Indianapolis   \n150344  mtGm22y5c2UHNXDFAjaPNw  Cyclery & Fitness Center   Edwardsville   \n150345  jV_XOycEzSlTx-65W906pg                   Sic Ink   Apollo beach   \n\n        stars  review_count  \\\n0         5.0             7   \n1         3.0            15   \n2         3.5            22   \n3         4.0            80   \n4         4.5            13   \n...       ...           ...   \n150341    3.0            13   \n150342    4.0             5   \n150343    3.5             8   \n150344    4.0            24   \n150345    4.5             9   \n\n                                               attributes  \\\n0                           {'ByAppointmentOnly': 'True'}   \n1                  {'BusinessAcceptsCreditCards': 'True'}   \n2       {'BikeParking': 'True', 'BusinessAcceptsCredit...   \n3       {'RestaurantsDelivery': 'False', 'OutdoorSeati...   \n4       {'BusinessAcceptsCreditCards': 'True', 'Wheelc...   \n...                                                   ...   \n150341  {'ByAppointmentOnly': 'False', 'RestaurantsPri...   \n150342  {'BusinessAcceptsCreditCards': 'True', 'Restau...   \n150343  {'RestaurantsPriceRange2': '1', 'BusinessAccep...   \n150344  {'BusinessParking': '{'garage': False, 'street...   \n150345  {'WheelchairAccessible': 'True', 'BusinessAcce...   \n\n                                               categories  \n0       Doctors, Traditional Chinese Medicine, Naturop...  \n1       Shipping Centers, Local Services, Notaries, Ma...  \n2       Department Stores, Shopping, Fashion, Home & G...  \n3       Restaurants, Food, Bubble Tea, Coffee & Tea, B...  \n4                               Brewpubs, Breweries, Food  \n...                                                   ...  \n150341                         Nail Salons, Beauty & Spas  \n150342  Pets, Nurseries & Gardening, Pet Stores, Hobby...  \n150343  Shopping, Jewelry, Piercing, Toy Stores, Beaut...  \n150344  Fitness/Exercise Equipment, Eyewear & Optician...  \n150345  Beauty & Spas, Permanent Makeup, Piercing, Tattoo  \n\n[150346 rows x 7 columns]",
      "text/html": "<div>\n<style scoped>\n    .dataframe tbody tr th:only-of-type {\n        vertical-align: middle;\n    }\n\n    .dataframe tbody tr th {\n        vertical-align: top;\n    }\n\n    .dataframe thead th {\n        text-align: right;\n    }\n</style>\n<table border=\"1\" class=\"dataframe\">\n  <thead>\n    <tr style=\"text-align: right;\">\n      <th></th>\n      <th>business_id</th>\n      <th>name</th>\n      <th>city</th>\n      <th>stars</th>\n      <th>review_count</th>\n      <th>attributes</th>\n      <th>categories</th>\n    </tr>\n  </thead>\n  <tbody>\n    <tr>\n      <th>0</th>\n      <td>Pns2l4eNsfO8kk83dixA6A</td>\n      <td>Abby Rappoport, LAC, CMQ</td>\n      <td>Santa Barbara</td>\n      <td>5.0</td>\n      <td>7</td>\n      <td>{'ByAppointmentOnly': 'True'}</td>\n      <td>Doctors, Traditional Chinese Medicine, Naturop...</td>\n    </tr>\n    <tr>\n      <th>1</th>\n      <td>mpf3x-BjTdTEA3yCZrAYPw</td>\n      <td>The UPS Store</td>\n      <td>Affton</td>\n      <td>3.0</td>\n      <td>15</td>\n      <td>{'BusinessAcceptsCreditCards': 'True'}</td>\n      <td>Shipping Centers, Local Services, Notaries, Ma...</td>\n    </tr>\n    <tr>\n      <th>2</th>\n      <td>tUFrWirKiKi_TAnsVWINQQ</td>\n      <td>Target</td>\n      <td>Tucson</td>\n      <td>3.5</td>\n      <td>22</td>\n      <td>{'BikeParking': 'True', 'BusinessAcceptsCredit...</td>\n      <td>Department Stores, Shopping, Fashion, Home &amp; G...</td>\n    </tr>\n    <tr>\n      <th>3</th>\n      <td>MTSW4McQd7CbVtyjqoe9mw</td>\n      <td>St Honore Pastries</td>\n      <td>Philadelphia</td>\n      <td>4.0</td>\n      <td>80</td>\n      <td>{'RestaurantsDelivery': 'False', 'OutdoorSeati...</td>\n      <td>Restaurants, Food, Bubble Tea, Coffee &amp; Tea, B...</td>\n    </tr>\n    <tr>\n      <th>4</th>\n      <td>mWMc6_wTdE0EUBKIGXDVfA</td>\n      <td>Perkiomen Valley Brewery</td>\n      <td>Green Lane</td>\n      <td>4.5</td>\n      <td>13</td>\n      <td>{'BusinessAcceptsCreditCards': 'True', 'Wheelc...</td>\n      <td>Brewpubs, Breweries, Food</td>\n    </tr>\n    <tr>\n      <th>...</th>\n      <td>...</td>\n      <td>...</td>\n      <td>...</td>\n      <td>...</td>\n      <td>...</td>\n      <td>...</td>\n      <td>...</td>\n    </tr>\n    <tr>\n      <th>150341</th>\n      <td>IUQopTMmYQG-qRtBk-8QnA</td>\n      <td>Binh's Nails</td>\n      <td>Edmonton</td>\n      <td>3.0</td>\n      <td>13</td>\n      <td>{'ByAppointmentOnly': 'False', 'RestaurantsPri...</td>\n      <td>Nail Salons, Beauty &amp; Spas</td>\n    </tr>\n    <tr>\n      <th>150342</th>\n      <td>c8GjPIOTGVmIemT7j5_SyQ</td>\n      <td>Wild Birds Unlimited</td>\n      <td>Nashville</td>\n      <td>4.0</td>\n      <td>5</td>\n      <td>{'BusinessAcceptsCreditCards': 'True', 'Restau...</td>\n      <td>Pets, Nurseries &amp; Gardening, Pet Stores, Hobby...</td>\n    </tr>\n    <tr>\n      <th>150343</th>\n      <td>_QAMST-NrQobXduilWEqSw</td>\n      <td>Claire's Boutique</td>\n      <td>Indianapolis</td>\n      <td>3.5</td>\n      <td>8</td>\n      <td>{'RestaurantsPriceRange2': '1', 'BusinessAccep...</td>\n      <td>Shopping, Jewelry, Piercing, Toy Stores, Beaut...</td>\n    </tr>\n    <tr>\n      <th>150344</th>\n      <td>mtGm22y5c2UHNXDFAjaPNw</td>\n      <td>Cyclery &amp; Fitness Center</td>\n      <td>Edwardsville</td>\n      <td>4.0</td>\n      <td>24</td>\n      <td>{'BusinessParking': '{'garage': False, 'street...</td>\n      <td>Fitness/Exercise Equipment, Eyewear &amp; Optician...</td>\n    </tr>\n    <tr>\n      <th>150345</th>\n      <td>jV_XOycEzSlTx-65W906pg</td>\n      <td>Sic Ink</td>\n      <td>Apollo beach</td>\n      <td>4.5</td>\n      <td>9</td>\n      <td>{'WheelchairAccessible': 'True', 'BusinessAcce...</td>\n      <td>Beauty &amp; Spas, Permanent Makeup, Piercing, Tattoo</td>\n    </tr>\n  </tbody>\n</table>\n<p>150346 rows × 7 columns</p>\n</div>"
     },
     "execution_count": 21,
     "metadata": {},
     "output_type": "execute_result"
    }
   ],
   "source": [
    "# Get businesses dataframe as presented in the data set\n",
    "entries = DataReader._get_entries_from_file(Path('..', 'data', DataReader.EXPECTED_FILES[0]))\n",
    "filtered_business_fields = [\n",
    "    'business_id',\n",
    "    'name',\n",
    "    'city',\n",
    "    'stars',\n",
    "    'review_count',\n",
    "    'attributes',  # Filtered in _parse_categories()\n",
    "    'categories'  # Filtered in _parse_categories()\n",
    "]\n",
    "filtered_entries = DataReader._filter_entries(entries, filtered_business_fields)\n",
    "businesses = pd.DataFrame.from_records(filtered_entries)\n",
    "businesses"
   ],
   "metadata": {
    "collapsed": false
   }
  },
  {
   "cell_type": "markdown",
   "source": [
    "## Data Selection\n",
    "Let's find all distinct values for categories and create a whitelist of every category directly related to restaurants."
   ],
   "metadata": {
    "collapsed": false
   }
  },
  {
   "cell_type": "code",
   "execution_count": 22,
   "outputs": [
    {
     "data": {
      "text/plain": "{'Oncologist',\n 'Dry Cleaning',\n 'Whiskey Bars',\n 'Excavation Services',\n 'Home Energy Auditors',\n 'Radiologists',\n \"Men's Hair Salons\",\n 'Bike Rentals',\n 'Bounce House Rentals',\n 'Pet Transportation',\n 'Home Organization',\n 'Poke',\n 'Cideries',\n 'DIY Auto Shop',\n 'Dentists',\n 'Cheesesteaks',\n 'Cardiologists',\n 'Legal Services',\n 'Kitchen & Bath',\n 'Psychic Mediums',\n 'Pet Cremation Services',\n 'Diamond Buyers',\n 'Seafood Markets',\n 'Rodeo',\n 'First Aid Classes',\n 'Cannabis Tours',\n 'Audio/Visual Equipment Rental',\n 'Car Auctions',\n 'Recycling Center',\n 'Plumbing',\n 'Sandwiches',\n 'Orthotics',\n 'Gelato',\n 'Beer',\n 'Lactation Services',\n 'Specialty Schools',\n 'Screen Printing/T-Shirt Printing',\n 'Land Surveying',\n 'Town Car Service',\n 'Truck Rental',\n 'Nursing Schools',\n 'Mobility Equipment Sales & Services',\n 'Public Services & Government',\n 'Tasting Classes',\n 'Irish Pub',\n 'Bike Parking',\n 'Sporting Goods',\n \"Children's Clothing\",\n 'Nephrologists',\n 'Kitchen Supplies',\n 'Bespoke Clothing',\n 'Barbeque',\n 'Boot Camps',\n 'Flowers',\n 'Refinishing Services',\n 'Self-defense Classes',\n 'Pharmacy',\n 'Guamanian',\n 'Knitting Supplies',\n 'Farm Equipment Repair',\n 'Laser Eye Surgery/Lasik',\n 'Surf Shop',\n 'Auto Detailing',\n 'Check Cashing/Pay-day Loans',\n 'Dry Cleaning & Laundry',\n 'Mags',\n 'Custom Cakes',\n 'Alternative Medicine',\n 'Muay Thai',\n 'Landscaping',\n 'Barbers',\n '3D Printing',\n 'Traditional Chinese Medicine',\n 'Graphic Design',\n 'Medical Transportation',\n 'Hunting & Fishing Supplies',\n 'Orthodontists',\n 'Wills',\n 'Transportation',\n 'Egyptian',\n 'Cosmetic Surgeons',\n 'Pets',\n 'Hearing Aid Providers',\n 'ATV Rentals/Tours',\n 'Walking Tours',\n 'Skating Rinks',\n 'Process Servers',\n 'Bus Stations',\n 'Registration Services',\n 'Clock Repair',\n 'Hiking',\n 'Jewelry',\n 'Soup',\n 'Hong Kong Style Cafe',\n 'Weight Loss Centers',\n 'New Mexican Cuisine',\n 'Flight Instruction',\n 'Candle Stores',\n 'Comfort Food',\n 'Mobile Home Parks',\n 'Pick Your Own Farms',\n 'Cocktail Bars',\n 'Farming Equipment',\n 'Grilling Equipment',\n 'Internet Service Providers',\n 'Motorcycle Parts & Supplies',\n 'Backflow Services',\n 'Nurseries & Gardening',\n 'Dental Hygienists',\n 'Maternity Wear',\n 'Osteopaths',\n 'Mobile Dent Repair',\n 'DUI Schools',\n 'Distilleries',\n 'Ziplining',\n 'Aestheticians',\n 'Travel Services',\n 'Cooking Classes',\n 'Undersea/Hyperbaric Medicine',\n 'Home Staging',\n 'American (Traditional)',\n 'Party & Event Planning',\n 'Audiologist',\n 'Spray Tanning',\n 'Airsoft',\n 'Formal Wear',\n 'Kids Hair Salons',\n 'Bingo Halls',\n 'Campgrounds',\n 'Public Adjusters',\n 'Boat Charters',\n 'Patio Coverings',\n 'Asian Fusion',\n 'Shoe Stores',\n 'Home Inspectors',\n 'Aircraft Dealers',\n 'Health & Medical',\n 'Auction Houses',\n 'Wedding Chapels',\n 'Auto Parts & Supplies',\n 'Vegan',\n 'Medical Law',\n 'Bikes',\n 'Chimney Sweeps',\n 'Coffee & Tea',\n 'Housing Cooperatives',\n 'Spin Classes',\n 'Drywall Installation & Repair',\n 'Club Crawl',\n 'Mini Golf',\n 'Machine & Tool Rental',\n 'Door Sales/Installation',\n 'Piano Stores',\n 'Hobby Shops',\n 'Filipino',\n 'Bistros',\n 'Watches',\n 'Roadside Assistance',\n 'Carousels',\n 'Outdoor Power Equipment Services',\n 'Siding',\n 'Butcher',\n 'Party Bus Rentals',\n 'Immigration Law',\n 'Shopping',\n 'Junkyards',\n 'Cucina campana',\n 'Playsets',\n 'Diagnostic Services',\n 'Oxygen Bars',\n 'Billing Services',\n 'Real Estate Agents',\n 'Escape Games',\n 'Hockey Equipment',\n 'Telecommunications',\n 'Whale Watching Tours',\n 'Trophy Shops',\n 'Dominican',\n 'Interlock Systems',\n 'Cosmetic Dentists',\n 'Chicken Shop',\n 'Assisted Living Facilities',\n 'Immunodermatologists',\n 'EV Charging Stations',\n 'Laundromat',\n 'Ski Resorts',\n 'Public Relations',\n 'Doulas',\n 'Acai Bowls',\n 'Water Stores',\n 'Vacation Rental Agents',\n 'Holiday Decorations',\n 'Foundation Repair',\n 'Mohels',\n 'Naturopathic/Holistic',\n 'Festivals',\n 'Hotels & Travel',\n 'Haunted Houses',\n 'Permanent Makeup',\n 'Security Systems',\n 'Sports Wear',\n 'Kebab',\n 'Pet Photography',\n 'Aviation Services',\n 'Props',\n 'Heating & Air Conditioning/HVAC',\n 'Software Development',\n 'Pet Waste Removal',\n 'Hot Dogs',\n 'Threading Services',\n 'Observatories',\n 'Recording & Rehearsal Studios',\n 'Financial Services',\n 'Personal Care Services',\n 'Dance Schools',\n 'Veterans Organizations',\n 'Battery Stores',\n 'Surf Schools',\n 'Bike Repair',\n 'Childbirth Education',\n 'Movers',\n 'Motorcycle Gear',\n 'Home & Garden',\n 'Art Galleries',\n 'Hair Extensions',\n 'Massage',\n 'Artificial Turf',\n 'Hakka',\n 'Pulmonologist',\n 'Aerial Fitness',\n 'Burgers',\n 'Home & Rental Insurance',\n 'Hair Removal',\n 'Hepatologists',\n 'Cafes',\n 'Street Vendors',\n 'Education',\n 'Skate Shops',\n 'Stucco Services',\n 'Auto Loan Providers',\n 'Serbo Croatian',\n 'Senegalese',\n 'Japanese Curry',\n 'Buffets',\n 'Cannabis Collective',\n 'Knife Sharpening',\n 'Live/Raw Food',\n 'Endocrinologists',\n 'Christmas Trees',\n 'Electricity Suppliers',\n 'Pita',\n 'Patisserie/Cake Shop',\n 'Tiki Bars',\n 'Vermouth Bars',\n 'Wildlife Hunting Ranges',\n 'General Litigation',\n 'Television Service Providers',\n 'Resorts',\n 'Septic Services',\n 'Opera & Ballet',\n 'Music Production Services',\n 'Allergists',\n 'Hotel bar',\n 'Masonry/Concrete',\n 'Beer Hall',\n 'Photography Classes',\n 'Pet Services',\n 'Roofing',\n 'Professional Sports Teams',\n 'Traffic Schools',\n 'Flea Markets',\n 'Ultrasound Imaging Centers',\n 'Bus Tours',\n 'Office Equipment',\n 'Italian',\n 'Water Heater Installation/Repair',\n 'DUI Law',\n 'Coffee Roasteries',\n 'TV Mounting',\n 'Calligraphy',\n 'Pet Training',\n 'Pool & Hot Tub Service',\n 'Wine Bars',\n 'Grill Services',\n 'Dog Walkers',\n 'Fruits & Veggies',\n 'Airport Terminals',\n 'Sheds & Outdoor Storage',\n 'Country Dance Halls',\n 'Striptease Dancers',\n 'Obstetricians & Gynecologists',\n 'Appliances',\n 'Transmission Repair',\n 'Bars',\n 'Electronics Repair',\n 'Belgian',\n 'Water Delivery',\n 'Paint Stores',\n 'Engraving',\n 'Golf Cart Dealers',\n 'Holistic Animal Care',\n 'Horseback Riding',\n 'Uniforms',\n 'Pumpkin Patches',\n 'Car Brokers',\n 'Reptile Shops',\n 'Boxing',\n 'Automotive',\n 'Swimwear',\n 'Real Estate Services',\n 'Summer Camps',\n 'Gastroenterologist',\n 'Scandinavian',\n 'Contract Law',\n 'Videos & Video Game Rental',\n 'Dialysis Clinics',\n 'Payroll Services',\n 'LAN Centers',\n 'Piano Bars',\n 'Prosthetics',\n 'Pancakes',\n 'Outlet Stores',\n 'Pet Stores',\n 'Martial Arts',\n 'Art Schools',\n 'Persian/Iranian',\n 'Fish & Chips',\n 'Motorcycle Repair',\n 'Piano Services',\n 'Tui Na',\n 'Argentine',\n 'Estheticians',\n 'Screen Printing',\n 'Oriental',\n 'Discount Store',\n 'Business Consulting',\n 'Ferries',\n 'Animal Assisted Therapy',\n 'Eyewear & Opticians',\n 'Metal Detector Services',\n 'Carpeting',\n 'Travel Agents',\n 'Bankruptcy Law',\n 'Brasseries',\n 'Nurse Practitioner',\n 'Pubs',\n 'Karate',\n 'Ski Schools',\n 'Cambodian',\n 'Neurologist',\n 'Vehicle Shipping',\n 'Food Stands',\n 'Bird Shops',\n 'Optometrists',\n 'Apartments',\n 'Beach Bars',\n 'Crane Services',\n 'Bicycle Paths',\n 'Tea Rooms',\n 'Scooter Rentals',\n 'Vehicle Wraps',\n 'Lighting Stores',\n 'Kosher',\n 'Bar Crawl',\n 'Pedicabs',\n 'Magicians',\n 'Dart Arenas',\n 'Dietitians',\n 'Rolfing',\n 'Social Clubs',\n 'Karaoke Rental',\n 'Religious Organizations',\n 'Cajun/Creole',\n 'Bagels',\n 'Costumes',\n 'Ticket Sales',\n 'Iberian',\n 'Anesthesiologists',\n 'Cooking Schools',\n 'Airport Shuttles',\n 'Nail Salons',\n 'Boating',\n 'Financial Advising',\n 'Pawn Shops',\n 'Polish',\n 'Hypnosis/Hypnotherapy',\n 'Pilates',\n 'Lawyers',\n 'Nutritionists',\n 'Scavenger Hunts',\n 'College Counseling',\n 'Race Tracks',\n 'Laboratory Testing',\n 'Hydro-jetting',\n 'Dance Studios',\n 'Tai Chi',\n 'Restaurant Supplies',\n 'Hydrotherapy',\n 'Indonesian',\n 'Noodles',\n 'Town Hall',\n 'Arabic',\n 'Hang Gliding',\n 'Antiques',\n 'Breweries',\n 'Homeless Shelters',\n 'Private Investigation',\n 'Fingerprinting',\n 'Haitian',\n 'Calabrian',\n 'Experiences',\n 'Bartending Schools',\n 'Outdoor Movies',\n 'Leisure Centers',\n 'Dance Clubs',\n 'Mediators',\n 'Passport & Visa Services',\n 'Laundry Services',\n 'Photographers',\n 'Honey',\n 'Tonkatsu',\n 'Car Wash',\n 'Plus Size Fashion',\n 'Visitor Centers',\n 'Paint-Your-Own Pottery',\n 'Proctologists',\n 'Russian',\n 'Drugstores',\n 'Real Estate',\n 'Roman',\n 'Life Insurance',\n 'Used',\n 'Soccer',\n 'Motorcycle Dealers',\n 'Cigar Bars',\n 'Bowling',\n 'Personal Injury Law',\n 'Accountants',\n 'Midwives',\n 'Osteopathic Physicians',\n 'Body Shops',\n 'Community Centers',\n 'Rehabilitation Center',\n 'Furniture Rental',\n 'Attraction Farms',\n 'Tanning',\n 'Traditional Clothing',\n 'Internet Cafes',\n 'Car Inspectors',\n 'Mobile Home Dealers',\n 'Auto Glass Services',\n 'Cabinetry',\n 'Nail Technicians',\n 'Stadiums & Arenas',\n 'Landscape Architects',\n 'Packing Supplies',\n 'Pasta Shops',\n 'Hair Loss Centers',\n 'Advertising',\n 'Wine Tasting Room',\n 'Nightlife',\n 'IV Hydration',\n 'Home Health Care',\n 'Halfway Houses',\n 'Eyebrow Services',\n 'Investing',\n 'Pet Adoption',\n 'Title Loans',\n 'Mortgage Lenders',\n 'Virtual Reality Centers',\n 'Duplication Services',\n 'Customized Merchandise',\n 'Montessori Schools',\n 'Ukrainian',\n 'Home Cleaning',\n 'Supernatural Readings',\n 'Preschools',\n 'Handyman',\n 'Macarons',\n 'Recreation Centers',\n 'Toy Stores',\n 'Gold Buyers',\n 'Izakaya',\n 'Windows Installation',\n 'Japanese',\n 'Wine & Spirits',\n 'Tobacco Shops',\n 'Poutineries',\n 'Mobile Phone Accessories',\n 'Shredding Services',\n 'Eastern European',\n 'Ear Nose & Throat',\n 'Head Shops',\n 'Fashion',\n 'Waffles',\n 'Aircraft Repairs',\n 'Books',\n 'Comic Books',\n 'Pet Breeders',\n 'Machine Shops',\n 'Digitizing Services',\n 'Halotherapy',\n 'Pressure Washers',\n 'Chinese Martial Arts',\n 'Israeli',\n 'Furniture Assembly',\n 'Installment Loans',\n 'Gunsmith',\n 'Cheese Tasting Classes',\n 'Teppanyaki',\n 'Demolition Services',\n 'Currency Exchange',\n 'Decks & Railing',\n 'Private Jet Charter',\n 'Emergency Pet Hospital',\n 'Boudoir Photography',\n 'Motorsport Vehicle Repairs',\n 'Condominiums',\n 'Desserts',\n 'Sleep Specialists',\n 'Boat Repair',\n 'Creperies',\n 'Fitness/Exercise Equipment',\n 'Internal Medicine',\n 'Property Management',\n 'Service Stations',\n 'Taxidermy',\n 'Addiction Medicine',\n 'Trains',\n 'Train Stations',\n 'Crisis Pregnancy Centers',\n 'Grout Services',\n 'Real Estate Law',\n 'Bike Repair/Maintenance',\n 'Petting Zoos',\n 'Tattoo Removal',\n 'Motorcycle Rental',\n 'Waxing',\n 'Chicken Wings',\n 'Hospitals',\n 'Walk-in Clinics',\n 'Ayurveda',\n 'Water Parks',\n 'Valet Services',\n 'Guns & Ammo',\n 'Parklets',\n 'Surgeons',\n 'Golf',\n 'Food',\n 'Aerial Tours',\n 'Somali',\n 'Special Education',\n 'Donuts',\n 'Wineries',\n 'General Festivals',\n 'Electricians',\n 'Pediatricians',\n 'Acne Treatment',\n 'Dumpster Rental',\n 'Vegetarian',\n 'RV Dealers',\n 'Nanny Services',\n 'Baseball Fields',\n 'Venezuelan',\n 'Gay Bars',\n 'Cardio Classes',\n 'Ethiopian',\n 'Ramen',\n 'Acupuncture',\n 'Mobile Phones',\n 'Keys & Locksmiths',\n 'Barre Classes',\n 'Life Coach',\n 'Carpet Dyeing',\n 'Embroidery & Crochet',\n 'Georgian',\n 'Body Contouring',\n 'Wholesalers',\n 'Boat Dealers',\n 'Appliances & Repair',\n 'Clothing Rental',\n 'Luggage',\n 'Water Suppliers',\n 'Pool Halls',\n 'Churches',\n 'Packing Services',\n 'Portable Toilet Services',\n 'Urgent Care',\n 'Notaries',\n 'Glass Blowing',\n 'Parasailing',\n 'Active Life',\n 'Officiants',\n 'Spine Surgeons',\n 'Spiritual Shop',\n 'Livestock Feed & Supply',\n 'Tapas/Small Plates',\n 'Golf Equipment',\n 'Fences & Gates',\n 'Hotels',\n 'Chocolatiers & Shops',\n 'Kombucha',\n 'Basketball Courts',\n 'Towing',\n 'Psychics',\n 'Hot Tub & Pool',\n 'Cheese Shops',\n 'Seafood',\n 'Ski & Snowboard Shops',\n 'Video/Film Production',\n 'Fast Food',\n 'Sports Medicine',\n 'Data Recovery',\n 'Gerontologists',\n 'Balloon Services',\n 'Hawaiian',\n 'Event Planning & Services',\n 'Print Media',\n 'Thrift Stores',\n 'Guitar Stores',\n 'Arcades',\n 'Firewood',\n 'Kiosk',\n 'Game Truck Rental',\n 'Candy Stores',\n 'Commercial Truck Repair',\n 'Safe Stores',\n 'Editorial Services',\n 'Teeth Whitening',\n 'Framing',\n 'Oral Surgeons',\n 'Irish',\n 'Brazilian',\n 'Challenge Courses',\n 'Food Banks',\n 'Brewpubs',\n 'Prenatal/Perinatal Care',\n 'Real Estate Photography',\n 'Party Equipment Rentals',\n 'Uzbek',\n 'Golf Cart Rentals',\n 'Taekwondo',\n 'Counseling & Mental Health',\n 'Ethnic Food',\n 'Waterproofing',\n 'Lounges',\n 'Szechuan',\n 'Circus Schools',\n 'IP & Internet Law',\n 'Biohazard Cleanup',\n 'Diners',\n 'Public Markets',\n 'Rugs',\n 'Workers Compensation Law',\n 'Home Developers',\n 'Races & Competitions',\n 'Translation Services',\n 'Nicaraguan',\n 'Trivia Hosts',\n 'Musicians',\n 'Parenting Classes',\n 'Hats',\n 'Adult Entertainment',\n 'Cuban',\n 'Used Bookstore',\n 'Mongolian',\n 'Beer Bar',\n 'Aquariums',\n 'Orthopedists',\n 'Mediterranean',\n 'Laser Hair Removal',\n 'Gutter Services',\n 'Portuguese',\n 'Cannabis Dispensaries',\n 'Ethical Grocery',\n 'Air Duct Cleaning',\n 'Drama Schools',\n 'Shaved Ice',\n 'Vietnamese',\n 'Brewing Supplies',\n 'Home Window Tinting',\n 'Modern European',\n 'Cabaret',\n 'Fireplace Services',\n 'Museums',\n 'Vintage & Consignment',\n 'Vocal Coach',\n 'Elevator Services',\n 'Massage Therapy',\n 'Art Space Rentals',\n 'Dive Bars',\n 'Beer Tours',\n 'Middle Eastern',\n 'Grocery',\n 'Hardware Stores',\n 'Rheumatologists',\n 'Swimming Pools',\n 'Post Offices',\n 'Vinyl Records',\n 'Plastic Surgeons',\n 'Psychiatrists',\n 'Climbing',\n 'Food Trucks',\n 'Yoga',\n 'Blood & Plasma Donation Centers',\n 'African',\n 'Medical Supplies',\n 'Skiing',\n 'Cultural Center',\n 'Car Buyers',\n 'High Fidelity Audio Equipment',\n 'Mailbox Centers',\n 'Tennis',\n 'Beverage Store',\n 'Shared Office Spaces',\n 'Waldorf Schools',\n 'Swimming Lessons/Schools',\n 'Cinema',\n 'Adult Education',\n 'Lawn Services',\n 'Metal Fabricators',\n 'Educational Services',\n 'Environmental Testing',\n 'Taiwanese',\n 'Musical Instrument Services',\n 'Laotian',\n 'Ranches',\n 'General Dentistry',\n 'Adult',\n 'Furniture Repair',\n 'Delis',\n 'Hospitalists',\n 'Tree Services',\n 'Propane',\n 'Wine Tasting Classes',\n 'Bike tours',\n 'Concierge Medicine',\n 'Fuel Docks',\n 'RV Parks',\n 'Fireworks',\n 'Skate Parks',\n 'Herbs & Spices',\n 'Skin Care',\n 'Dim Sum',\n 'Shopping Centers',\n 'Honduran',\n 'Structural Engineers',\n 'Matchmakers',\n 'Car Rental',\n 'Strip Clubs',\n 'CPR Classes',\n 'Fire Protection Services',\n 'Sports Psychologists',\n 'Rafting/Kayaking',\n 'Professional Services',\n 'Dance Wear',\n 'Turkish',\n 'Indian',\n 'Armenian',\n 'Food Delivery Services',\n 'Vascular Medicine',\n 'Trinidadian',\n 'DJs',\n 'Popcorn Shops',\n 'Veterinarians',\n 'Water Purification Services',\n 'Bookkeepers',\n 'Colombian',\n 'Architects',\n 'Airport Lounges',\n 'Cards & Stationery',\n 'Farms',\n 'Sports Betting',\n 'Departments of Motor Vehicles',\n 'Photography Stores & Services',\n 'Colonics',\n 'Airlines',\n 'Police Departments',\n 'Jewelry Repair',\n 'Halal',\n 'Archery',\n 'Watch Repair',\n 'Czech',\n 'Vape Shops',\n 'Wallpapering',\n 'International',\n 'Ophthalmologists',\n 'Test Preparation',\n 'Outdoor Furniture Stores',\n 'Racing Experience',\n 'Shades & Blinds',\n 'Home Services',\n 'Building Supplies',\n 'Computers',\n 'Gymnastics',\n 'Party Characters',\n 'Municipality',\n 'Caterers',\n 'Axe Throwing',\n 'Astrologers',\n 'Furniture Stores',\n 'Bike Sharing',\n 'Puerto Rican',\n 'Pretzels',\n 'Piercing',\n 'Interior Design',\n 'Eyelash Service',\n 'Trusts',\n 'Hainan',\n 'Banks & Credit Unions',\n 'Salvadoran',\n 'Chinese',\n 'Bed & Breakfast',\n 'Smokehouse',\n 'Singaporean',\n 'Cryotherapy',\n 'Gardeners',\n 'Criminal Defense Law',\n 'Art Tours',\n 'Disc Golf',\n 'Business Law',\n 'Tenant and Eviction Law',\n 'Fertility',\n 'Kiteboarding',\n 'Tours',\n 'Farmers Market',\n 'Reproductive Health Services',\n 'Doctors',\n 'Consumer Law',\n 'Department Stores',\n 'Tires',\n 'Scottish',\n 'Arts & Entertainment',\n 'Organic Stores',\n 'Music & Video',\n 'Bail Bondsmen',\n 'Mattresses',\n 'Contractors',\n 'Snorkeling',\n 'Conveyor Belt Sushi',\n 'Jet Skis',\n 'Furniture Reupholstery',\n 'House Sitters',\n 'Auto Repair',\n 'Pet Boarding',\n 'Accessories',\n 'Trailer Dealers',\n 'Pool Cleaners',\n 'Coffee & Tea Supplies',\n 'Team Building Activities',\n 'Brazilian Jiu-jitsu',\n 'Parent Cafes',\n 'Pan Asian',\n 'Ceremonial Clothing',\n 'Self Storage',\n 'Car Stereo Installation',\n 'Fencing Clubs',\n 'Soul Food',\n 'Tacos',\n 'Emergency Medicine',\n 'Speech Therapists',\n 'Scuba Diving',\n 'Aquarium Services',\n 'Junk Removal & Hauling',\n 'Solar Panel Cleaning',\n 'Elder Law',\n 'Dive Shops',\n 'Ethnic Grocery',\n 'Flyboarding',\n 'Massage Schools',\n 'Makerspaces',\n 'RV Repair',\n 'Mobile Phone Repair',\n 'Leather Goods',\n 'Afghan',\n \"Women's Clothing\",\n 'Delicatessen',\n 'Sex Therapists',\n 'Health Insurance Offices',\n 'Austrian',\n 'Zoos',\n 'Tubing',\n 'Buddhist Temples',\n 'Sandblasting',\n 'Moroccan',\n 'Art Museums',\n 'Home Theatre Installation',\n 'Auto Security',\n 'Awnings',\n 'Newspapers & Magazines',\n 'Wheel & Rim Repair',\n 'Kids Activities',\n 'Bridal',\n 'Session Photography',\n 'Lebanese',\n 'Shipping Centers',\n 'Car Window Tinting',\n 'Food Tours',\n 'Taxis',\n 'Oil Change Stations',\n 'Security Services',\n 'Otologists',\n 'Glass & Mirrors',\n 'Chiropractors',\n 'Drive-In Theater',\n 'Courthouses',\n 'Unofficial Yelp Events',\n 'Amusement Parks',\n 'Convenience Stores',\n 'Qi Gong',\n 'Gemstones & Minerals',\n 'University Housing',\n 'Restaurants',\n 'Yelp Events',\n 'Stonemasons',\n 'Neuropathologists',\n 'Libraries',\n 'Drive-Thru Bars',\n 'Lahmacun',\n 'Southern',\n 'Latin American',\n 'Spanish',\n 'Radio Stations',\n 'Bakeries',\n 'Sicilian',\n \"Children's Museums\",\n 'Printing Services',\n 'Concept Shops',\n 'Environmental Abatement',\n 'Urologists',\n 'Carpet Installation',\n 'Eatertainment',\n 'Champagne Bars',\n 'Wraps',\n 'Squash',\n 'Ice Delivery',\n 'Childproofing',\n 'Mortgage Brokers',\n 'Countertop Installation',\n 'Art Supplies',\n 'Henna Artists',\n 'Golf Equipment Shops',\n 'Peruvian',\n 'Paintball',\n 'Business Financing',\n 'Free Diving',\n '& Probates',\n 'Prosthodontists',\n 'Vacation Rentals',\n 'Colleges & Universities',\n 'Golf Lessons',\n 'Snow Removal',\n 'Hookah Bars',\n 'German',\n 'Career Counseling',\n 'Basque',\n 'Wedding Planning',\n 'Local Services',\n 'Amateur Sports Teams',\n 'Community Service/Non-Profit',\n 'Florists',\n 'Event Photography',\n 'Hot Air Balloons',\n 'Appraisal Services',\n 'Thai',\n 'Speakeasies',\n 'Go Karts',\n 'Hindu Temples',\n 'Bubble Soccer',\n 'Sperm Clinic',\n 'Private Schools',\n 'Vocational & Technical School',\n 'Makeup Artists',\n 'Commercial Truck Dealers',\n 'Tapas Bars',\n 'Mortuary Services',\n 'Tax Services',\n 'Fondue',\n 'Diagnostic Imaging',\n 'Mexican',\n 'Comedy Clubs',\n 'Shoe Repair',\n 'Fishing',\n 'Employment Law',\n 'Guest Houses',\n 'Dinner Theater',\n 'Hybrid Car Repair',\n 'Sushi Bars',\n 'Souvenir Shops',\n 'Limos',\n 'Drones',\n 'Meditation Centers',\n 'Car Dealers',\n 'Behavior Analysts',\n 'Insulation Installation',\n 'Sport Equipment Hire',\n 'Bus Rental',\n 'Syrian',\n 'Sports Bars',\n 'Auto Insurance',\n ...}"
     },
     "execution_count": 22,
     "metadata": {},
     "output_type": "execute_result"
    }
   ],
   "source": [
    "# All possible values in 'categories' column\n",
    "{category for categories_string in businesses['categories'] if categories_string for category in categories_string.split(\", \")}"
   ],
   "metadata": {
    "collapsed": false
   }
  },
  {
   "cell_type": "code",
   "execution_count": 23,
   "outputs": [],
   "source": [
    "# Whitelist attempt 1\n",
    "# All (manually curated) restaurant-like tags\n",
    "categories_whitelist_1 = {\n",
    "    \"Food Court\",\n",
    "    \"Steakhouses\",\n",
    "    \"Brasseries\",\n",
    "    \"Gastropubs\",\n",
    "    \"Tapas Bars\",\n",
    "    \"Diners\",\n",
    "    \"Buffets\",\n",
    "    \"Food Trucks\",\n",
    "    \"Restaurants\",\n",
    "    \"Fast Food\",\n",
    "    \"Food Stands\",\n",
    "    \"Dinner Theater\",\n",
    "}\n",
    "businesses['categories_whitelist_1'] = [\n",
    "    set(category_group.split(\", \"))  # Convert string of all categories to a set of individual categories\n",
    "    if category_group and set(category_group.split(\", \")).intersection(categories_whitelist_1)  # If in whitelist\n",
    "    else None  # No category is provided by Yelp, or no category is in the whitelist\n",
    "    for category_group in businesses['categories']\n",
    "]\n",
    "businesses_whitelist_1_categories = businesses.loc[businesses['categories_whitelist_1'].notnull()]  # Remove businesses with no categories listed"
   ],
   "metadata": {
    "collapsed": false
   }
  },
  {
   "cell_type": "code",
   "execution_count": 24,
   "outputs": [],
   "source": [
    "# Whitelist attempt 2\n",
    "# Only Food Trucks & Restaurants\n",
    "categories_whitelist_2 = {\n",
    "    \"Food Trucks\",  # Data exploration shows that all restaurant-like businesses\n",
    "    \"Restaurants\",  # either have the category \"Food Truck\" or \"Restaurant\".\n",
    "}  # Only keep businesses that contain at least 1 of the categories in this whitelist\n",
    "businesses['categories_whitelist_2'] = [\n",
    "    set(category_group.split(\", \"))  # Convert string of all categories to a set of individual categories\n",
    "    if category_group and set(category_group.split(\", \")).intersection(categories_whitelist_2)  # If in whitelist\n",
    "    else None  # No category is provided by Yelp, or no category is in the whitelist\n",
    "    for category_group in businesses['categories']\n",
    "]\n",
    "businesses_whitelist_2_categories = businesses.loc[businesses['categories_whitelist_2'].notnull()]  # Remove businesses with no categories listed"
   ],
   "metadata": {
    "collapsed": false
   }
  },
  {
   "cell_type": "code",
   "execution_count": 25,
   "outputs": [
    {
     "name": "stdout",
     "output_type": "stream",
     "text": [
      "The length of the manually curated list of categories is equal to only checking for 'restaurant' and 'Food Trucks': 52533 == 52533.\n",
      "The same rows were selected by each query.\n"
     ]
    },
    {
     "data": {
      "text/plain": "                   business_id                      name           city  \\\n0       Pns2l4eNsfO8kk83dixA6A  Abby Rappoport, LAC, CMQ  Santa Barbara   \n1       mpf3x-BjTdTEA3yCZrAYPw             The UPS Store         Affton   \n2       tUFrWirKiKi_TAnsVWINQQ                    Target         Tucson   \n3       MTSW4McQd7CbVtyjqoe9mw        St Honore Pastries   Philadelphia   \n4       mWMc6_wTdE0EUBKIGXDVfA  Perkiomen Valley Brewery     Green Lane   \n...                        ...                       ...            ...   \n150341  IUQopTMmYQG-qRtBk-8QnA              Binh's Nails       Edmonton   \n150342  c8GjPIOTGVmIemT7j5_SyQ      Wild Birds Unlimited      Nashville   \n150343  _QAMST-NrQobXduilWEqSw         Claire's Boutique   Indianapolis   \n150344  mtGm22y5c2UHNXDFAjaPNw  Cyclery & Fitness Center   Edwardsville   \n150345  jV_XOycEzSlTx-65W906pg                   Sic Ink   Apollo beach   \n\n        stars  review_count  \\\n0         5.0             7   \n1         3.0            15   \n2         3.5            22   \n3         4.0            80   \n4         4.5            13   \n...       ...           ...   \n150341    3.0            13   \n150342    4.0             5   \n150343    3.5             8   \n150344    4.0            24   \n150345    4.5             9   \n\n                                               attributes  \\\n0                           {'ByAppointmentOnly': 'True'}   \n1                  {'BusinessAcceptsCreditCards': 'True'}   \n2       {'BikeParking': 'True', 'BusinessAcceptsCredit...   \n3       {'RestaurantsDelivery': 'False', 'OutdoorSeati...   \n4       {'BusinessAcceptsCreditCards': 'True', 'Wheelc...   \n...                                                   ...   \n150341  {'ByAppointmentOnly': 'False', 'RestaurantsPri...   \n150342  {'BusinessAcceptsCreditCards': 'True', 'Restau...   \n150343  {'RestaurantsPriceRange2': '1', 'BusinessAccep...   \n150344  {'BusinessParking': '{'garage': False, 'street...   \n150345  {'WheelchairAccessible': 'True', 'BusinessAcce...   \n\n                                               categories  \\\n0       Doctors, Traditional Chinese Medicine, Naturop...   \n1       Shipping Centers, Local Services, Notaries, Ma...   \n2       Department Stores, Shopping, Fashion, Home & G...   \n3       Restaurants, Food, Bubble Tea, Coffee & Tea, B...   \n4                               Brewpubs, Breweries, Food   \n...                                                   ...   \n150341                         Nail Salons, Beauty & Spas   \n150342  Pets, Nurseries & Gardening, Pet Stores, Hobby...   \n150343  Shopping, Jewelry, Piercing, Toy Stores, Beaut...   \n150344  Fitness/Exercise Equipment, Eyewear & Optician...   \n150345  Beauty & Spas, Permanent Makeup, Piercing, Tattoo   \n\n                                   categories_whitelist_1  \\\n0                                                    None   \n1                                                    None   \n2                                                    None   \n3       {Restaurants, Bubble Tea, Coffee & Tea, Bakeri...   \n4                                                    None   \n...                                                   ...   \n150341                                               None   \n150342                                               None   \n150343                                               None   \n150344                                               None   \n150345                                               None   \n\n                                   categories_whitelist_2  \n0                                                    None  \n1                                                    None  \n2                                                    None  \n3       {Restaurants, Bubble Tea, Coffee & Tea, Bakeri...  \n4                                                    None  \n...                                                   ...  \n150341                                               None  \n150342                                               None  \n150343                                               None  \n150344                                               None  \n150345                                               None  \n\n[150346 rows x 9 columns]",
      "text/html": "<div>\n<style scoped>\n    .dataframe tbody tr th:only-of-type {\n        vertical-align: middle;\n    }\n\n    .dataframe tbody tr th {\n        vertical-align: top;\n    }\n\n    .dataframe thead th {\n        text-align: right;\n    }\n</style>\n<table border=\"1\" class=\"dataframe\">\n  <thead>\n    <tr style=\"text-align: right;\">\n      <th></th>\n      <th>business_id</th>\n      <th>name</th>\n      <th>city</th>\n      <th>stars</th>\n      <th>review_count</th>\n      <th>attributes</th>\n      <th>categories</th>\n      <th>categories_whitelist_1</th>\n      <th>categories_whitelist_2</th>\n    </tr>\n  </thead>\n  <tbody>\n    <tr>\n      <th>0</th>\n      <td>Pns2l4eNsfO8kk83dixA6A</td>\n      <td>Abby Rappoport, LAC, CMQ</td>\n      <td>Santa Barbara</td>\n      <td>5.0</td>\n      <td>7</td>\n      <td>{'ByAppointmentOnly': 'True'}</td>\n      <td>Doctors, Traditional Chinese Medicine, Naturop...</td>\n      <td>None</td>\n      <td>None</td>\n    </tr>\n    <tr>\n      <th>1</th>\n      <td>mpf3x-BjTdTEA3yCZrAYPw</td>\n      <td>The UPS Store</td>\n      <td>Affton</td>\n      <td>3.0</td>\n      <td>15</td>\n      <td>{'BusinessAcceptsCreditCards': 'True'}</td>\n      <td>Shipping Centers, Local Services, Notaries, Ma...</td>\n      <td>None</td>\n      <td>None</td>\n    </tr>\n    <tr>\n      <th>2</th>\n      <td>tUFrWirKiKi_TAnsVWINQQ</td>\n      <td>Target</td>\n      <td>Tucson</td>\n      <td>3.5</td>\n      <td>22</td>\n      <td>{'BikeParking': 'True', 'BusinessAcceptsCredit...</td>\n      <td>Department Stores, Shopping, Fashion, Home &amp; G...</td>\n      <td>None</td>\n      <td>None</td>\n    </tr>\n    <tr>\n      <th>3</th>\n      <td>MTSW4McQd7CbVtyjqoe9mw</td>\n      <td>St Honore Pastries</td>\n      <td>Philadelphia</td>\n      <td>4.0</td>\n      <td>80</td>\n      <td>{'RestaurantsDelivery': 'False', 'OutdoorSeati...</td>\n      <td>Restaurants, Food, Bubble Tea, Coffee &amp; Tea, B...</td>\n      <td>{Restaurants, Bubble Tea, Coffee &amp; Tea, Bakeri...</td>\n      <td>{Restaurants, Bubble Tea, Coffee &amp; Tea, Bakeri...</td>\n    </tr>\n    <tr>\n      <th>4</th>\n      <td>mWMc6_wTdE0EUBKIGXDVfA</td>\n      <td>Perkiomen Valley Brewery</td>\n      <td>Green Lane</td>\n      <td>4.5</td>\n      <td>13</td>\n      <td>{'BusinessAcceptsCreditCards': 'True', 'Wheelc...</td>\n      <td>Brewpubs, Breweries, Food</td>\n      <td>None</td>\n      <td>None</td>\n    </tr>\n    <tr>\n      <th>...</th>\n      <td>...</td>\n      <td>...</td>\n      <td>...</td>\n      <td>...</td>\n      <td>...</td>\n      <td>...</td>\n      <td>...</td>\n      <td>...</td>\n      <td>...</td>\n    </tr>\n    <tr>\n      <th>150341</th>\n      <td>IUQopTMmYQG-qRtBk-8QnA</td>\n      <td>Binh's Nails</td>\n      <td>Edmonton</td>\n      <td>3.0</td>\n      <td>13</td>\n      <td>{'ByAppointmentOnly': 'False', 'RestaurantsPri...</td>\n      <td>Nail Salons, Beauty &amp; Spas</td>\n      <td>None</td>\n      <td>None</td>\n    </tr>\n    <tr>\n      <th>150342</th>\n      <td>c8GjPIOTGVmIemT7j5_SyQ</td>\n      <td>Wild Birds Unlimited</td>\n      <td>Nashville</td>\n      <td>4.0</td>\n      <td>5</td>\n      <td>{'BusinessAcceptsCreditCards': 'True', 'Restau...</td>\n      <td>Pets, Nurseries &amp; Gardening, Pet Stores, Hobby...</td>\n      <td>None</td>\n      <td>None</td>\n    </tr>\n    <tr>\n      <th>150343</th>\n      <td>_QAMST-NrQobXduilWEqSw</td>\n      <td>Claire's Boutique</td>\n      <td>Indianapolis</td>\n      <td>3.5</td>\n      <td>8</td>\n      <td>{'RestaurantsPriceRange2': '1', 'BusinessAccep...</td>\n      <td>Shopping, Jewelry, Piercing, Toy Stores, Beaut...</td>\n      <td>None</td>\n      <td>None</td>\n    </tr>\n    <tr>\n      <th>150344</th>\n      <td>mtGm22y5c2UHNXDFAjaPNw</td>\n      <td>Cyclery &amp; Fitness Center</td>\n      <td>Edwardsville</td>\n      <td>4.0</td>\n      <td>24</td>\n      <td>{'BusinessParking': '{'garage': False, 'street...</td>\n      <td>Fitness/Exercise Equipment, Eyewear &amp; Optician...</td>\n      <td>None</td>\n      <td>None</td>\n    </tr>\n    <tr>\n      <th>150345</th>\n      <td>jV_XOycEzSlTx-65W906pg</td>\n      <td>Sic Ink</td>\n      <td>Apollo beach</td>\n      <td>4.5</td>\n      <td>9</td>\n      <td>{'WheelchairAccessible': 'True', 'BusinessAcce...</td>\n      <td>Beauty &amp; Spas, Permanent Makeup, Piercing, Tattoo</td>\n      <td>None</td>\n      <td>None</td>\n    </tr>\n  </tbody>\n</table>\n<p>150346 rows × 9 columns</p>\n</div>"
     },
     "execution_count": 25,
     "metadata": {},
     "output_type": "execute_result"
    }
   ],
   "source": [
    "print(f\"The length of the manually curated list of categories is equal to only checking for 'restaurant' and 'Food Trucks': {len(businesses_whitelist_1_categories)} == {len(businesses_whitelist_2_categories)}.\\nThe same rows were selected by each query.\")\n",
    "businesses"
   ],
   "metadata": {
    "collapsed": false
   }
  },
  {
   "cell_type": "markdown",
   "source": [
    "We conclude that the categories_whitelist_2 will be used for filtering.\n",
    "The second problem is the 'attributes' field. It contains a JSON with unstructured subfields. We will now discover which of these fields are useable for a recommender system.\n",
    "First, we discover all distinct subfields in the 'attribute' field."
   ],
   "metadata": {
    "collapsed": false
   }
  },
  {
   "cell_type": "code",
   "execution_count": 26,
   "outputs": [
    {
     "name": "stdout",
     "output_type": "stream",
     "text": [
      "There are 150346 businesses\n"
     ]
    },
    {
     "data": {
      "text/plain": "[('BusinessAcceptsCreditCards', 119765),\n ('BusinessParking', 91085),\n ('RestaurantsPriceRange2', 85314),\n ('BikeParking', 72638),\n ('RestaurantsTakeOut', 59857),\n ('WiFi', 56914),\n ('RestaurantsDelivery', 56282),\n ('GoodForKids', 53375),\n ('OutdoorSeating', 48802),\n ('RestaurantsReservations', 45247),\n ('HasTV', 45084),\n ('Ambience', 44279),\n ('RestaurantsGoodForGroups', 44170),\n ('Alcohol', 43189),\n ('ByAppointmentOnly', 42339),\n ('Caters', 40127),\n ('RestaurantsAttire', 39255),\n ('NoiseLevel', 37993),\n ('GoodForMeal', 29087),\n ('WheelchairAccessible', 28953),\n ('RestaurantsTableService', 19982),\n ('DogsAllowed', 18284),\n ('BusinessAcceptsBitcoin', 17430),\n ('HappyHour', 15171),\n ('DriveThru', 7760),\n ('Music', 7521),\n ('AcceptsInsurance', 5713),\n ('BestNights', 5694),\n ('CoatCheck', 5584),\n ('GoodForDancing', 4628),\n ('Smoking', 4567),\n ('BYOB', 4451),\n ('Corkage', 3553),\n ('BYOBCorkage', 1444),\n ('HairSpecializesIn', 1065),\n ('AgesAllowed', 129),\n ('Open24Hours', 39),\n ('DietaryRestrictions', 31),\n ('RestaurantsCounterService', 19)]"
     },
     "execution_count": 26,
     "metadata": {},
     "output_type": "execute_result"
    }
   ],
   "source": [
    "# Get set of all possbible attributes\n",
    "from collections import Counter\n",
    "all_keys = Counter()\n",
    "for business_attributes in businesses['attributes']:\n",
    "    if business_attributes is not None:\n",
    "        keys = business_attributes.keys()\n",
    "        all_keys.update(keys)\n",
    "print(f'There are {len(businesses)} businesses')\n",
    "all_keys.most_common()  # Sort by most common values"
   ],
   "metadata": {
    "collapsed": false
   }
  },
  {
   "cell_type": "markdown",
   "source": [
    "We now manually select the fields that might be of interest for a recommender system:"
   ],
   "metadata": {
    "collapsed": false
   }
  },
  {
   "cell_type": "code",
   "execution_count": 27,
   "outputs": [
    {
     "data": {
      "text/plain": "                                               attributes  \\\n0                           {'ByAppointmentOnly': 'True'}   \n1                  {'BusinessAcceptsCreditCards': 'True'}   \n2       {'BikeParking': 'True', 'BusinessAcceptsCredit...   \n3       {'RestaurantsDelivery': 'False', 'OutdoorSeati...   \n4       {'BusinessAcceptsCreditCards': 'True', 'Wheelc...   \n...                                                   ...   \n150341  {'ByAppointmentOnly': 'False', 'RestaurantsPri...   \n150342  {'BusinessAcceptsCreditCards': 'True', 'Restau...   \n150343  {'RestaurantsPriceRange2': '1', 'BusinessAccep...   \n150344  {'BusinessParking': '{'garage': False, 'street...   \n150345  {'WheelchairAccessible': 'True', 'BusinessAcce...   \n\n                                      attributes_filtered  \n0                                                      {}  \n1                                                      {}  \n2       {'RestaurantsPriceRange2': '2', 'RestaurantsTa...  \n3       {'RestaurantsDelivery': 'False', 'RestaurantsP...  \n4       {'RestaurantsTakeOut': 'True', 'GoodForKids': ...  \n...                                                   ...  \n150341                    {'RestaurantsPriceRange2': '3'}  \n150342                    {'RestaurantsPriceRange2': '2'}  \n150343                    {'RestaurantsPriceRange2': '1'}  \n150344  {'RestaurantsPriceRange2': '4', 'RestaurantsTa...  \n150345                    {'RestaurantsPriceRange2': '1'}  \n\n[150346 rows x 2 columns]",
      "text/html": "<div>\n<style scoped>\n    .dataframe tbody tr th:only-of-type {\n        vertical-align: middle;\n    }\n\n    .dataframe tbody tr th {\n        vertical-align: top;\n    }\n\n    .dataframe thead th {\n        text-align: right;\n    }\n</style>\n<table border=\"1\" class=\"dataframe\">\n  <thead>\n    <tr style=\"text-align: right;\">\n      <th></th>\n      <th>attributes</th>\n      <th>attributes_filtered</th>\n    </tr>\n  </thead>\n  <tbody>\n    <tr>\n      <th>0</th>\n      <td>{'ByAppointmentOnly': 'True'}</td>\n      <td>{}</td>\n    </tr>\n    <tr>\n      <th>1</th>\n      <td>{'BusinessAcceptsCreditCards': 'True'}</td>\n      <td>{}</td>\n    </tr>\n    <tr>\n      <th>2</th>\n      <td>{'BikeParking': 'True', 'BusinessAcceptsCredit...</td>\n      <td>{'RestaurantsPriceRange2': '2', 'RestaurantsTa...</td>\n    </tr>\n    <tr>\n      <th>3</th>\n      <td>{'RestaurantsDelivery': 'False', 'OutdoorSeati...</td>\n      <td>{'RestaurantsDelivery': 'False', 'RestaurantsP...</td>\n    </tr>\n    <tr>\n      <th>4</th>\n      <td>{'BusinessAcceptsCreditCards': 'True', 'Wheelc...</td>\n      <td>{'RestaurantsTakeOut': 'True', 'GoodForKids': ...</td>\n    </tr>\n    <tr>\n      <th>...</th>\n      <td>...</td>\n      <td>...</td>\n    </tr>\n    <tr>\n      <th>150341</th>\n      <td>{'ByAppointmentOnly': 'False', 'RestaurantsPri...</td>\n      <td>{'RestaurantsPriceRange2': '3'}</td>\n    </tr>\n    <tr>\n      <th>150342</th>\n      <td>{'BusinessAcceptsCreditCards': 'True', 'Restau...</td>\n      <td>{'RestaurantsPriceRange2': '2'}</td>\n    </tr>\n    <tr>\n      <th>150343</th>\n      <td>{'RestaurantsPriceRange2': '1', 'BusinessAccep...</td>\n      <td>{'RestaurantsPriceRange2': '1'}</td>\n    </tr>\n    <tr>\n      <th>150344</th>\n      <td>{'BusinessParking': '{'garage': False, 'street...</td>\n      <td>{'RestaurantsPriceRange2': '4', 'RestaurantsTa...</td>\n    </tr>\n    <tr>\n      <th>150345</th>\n      <td>{'WheelchairAccessible': 'True', 'BusinessAcce...</td>\n      <td>{'RestaurantsPriceRange2': '1'}</td>\n    </tr>\n  </tbody>\n</table>\n<p>150346 rows × 2 columns</p>\n</div>"
     },
     "execution_count": 27,
     "metadata": {},
     "output_type": "execute_result"
    }
   ],
   "source": [
    "businesses_attributes_filtered = []\n",
    "\n",
    "filtered_attributes_single = {\n",
    "    'RestaurantsTakeOut',\n",
    "    'RestaurantsDelivery',\n",
    "    'RestaurantsPriceRange2',\n",
    "    'GoodForKids',\n",
    "    'RestaurantsGoodForGroups',\n",
    "    'RestaurantsAttire',\n",
    "    'NoiseLevel'\n",
    "}\n",
    "filtered_attributes_multi = {\n",
    "    'Ambience',\n",
    "    'GoodForMeal'\n",
    "}\n",
    "\n",
    "\n",
    "for business_attributes in businesses['attributes']:\n",
    "    parsed_business_attributes = {}\n",
    "    if business_attributes is not None:\n",
    "        for attribute_key, attribute_value in business_attributes.items():\n",
    "            if attribute_key in filtered_attributes_multi and attribute_value.startswith('{'):  # Attribute is opnieuw een dict\n",
    "                attribute_value = attribute_value.replace('\\'', '\\\"')\n",
    "                # TODO: alle waarden van de dict toevoegen\n",
    "            elif attribute_key in filtered_attributes_single:\n",
    "                parsed_business_attributes[attribute_key] = attribute_value\n",
    "    businesses_attributes_filtered.append(parsed_business_attributes)\n",
    "\n",
    "businesses['attributes_filtered'] = businesses_attributes_filtered\n",
    "businesses[['attributes', 'attributes_filtered']]"
   ],
   "metadata": {
    "collapsed": false
   }
  },
  {
   "cell_type": "markdown",
   "source": [
    "Now we have selected all data to use for businesses. This data now needs to be reformatted to allow for easy input into a neural network."
   ],
   "metadata": {
    "collapsed": false
   }
  },
  {
   "cell_type": "markdown",
   "source": [
    "## Data Transformation"
   ],
   "metadata": {
    "collapsed": false
   }
  },
  {
   "cell_type": "code",
   "execution_count": 28,
   "outputs": [],
   "source": [
    "# TODO: data reformatten en one-hot encoden enzo. Also, ook nog regel 24 van hierboven oplossen."
   ],
   "metadata": {
    "collapsed": false
   }
  }
 ],
 "metadata": {
  "kernelspec": {
   "display_name": "Python 3",
   "language": "python",
   "name": "python3"
  },
  "language_info": {
   "codemirror_mode": {
    "name": "ipython",
    "version": 2
   },
   "file_extension": ".py",
   "mimetype": "text/x-python",
   "name": "python",
   "nbconvert_exporter": "python",
   "pygments_lexer": "ipython2",
   "version": "2.7.6"
  }
 },
 "nbformat": 4,
 "nbformat_minor": 0
}
