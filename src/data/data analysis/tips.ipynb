{
 "cells": [
  {
   "cell_type": "markdown",
   "source": [
    "# Data Analysis: Tips\n",
    "## Analysis of the tips dataset"
   ],
   "metadata": {
    "collapsed": false
   }
  },
  {
   "cell_type": "code",
   "execution_count": 1,
   "outputs": [],
   "source": [
    "import os\n",
    "from pathlib import Path\n",
    "\n",
    "import pandas as pd\n",
    "\n",
    "from src.data.data_reader import DataReader\n",
    "\n",
    "while str(os.getcwd())[-3:] != 'src':  # Execute from src-directory root\n",
    "    os.chdir('..')"
   ],
   "metadata": {
    "collapsed": false
   }
  },
  {
   "cell_type": "code",
   "execution_count": 2,
   "outputs": [
    {
     "data": {
      "text/plain": "                       user_id             business_id  \\\n1       NBN4MgHP9D3cw--SnauTkA  QoezRbYQncpRqyrLH6Iqjg   \n2       -copOvldyKh1qr-vzkDEvw  MYoRNLb5chwjQe3c_k37Gg   \n3       FjMQVZjSqY8syIO-53KFKw  hV-bABTK-glh5wj31ps_Jw   \n4       ld0AperBXk1h6UbqmM80zw  _uN0OudeJ3Zl_tf6nxg5ww   \n5       trf3Qcz8qvCDKXiTgjUcEg  7Rm9Ba50bw23KTA8RedZYg   \n...                        ...                     ...   \n908909  FowxkbAixI3hlREeCgIa_Q  kfNv-JZpuN6TVNSO6hHdkw   \n908911  1uxtQAuJ2T5Xwa_wp7kUnA  OaGf0Dp56ARhQwIDT90w_g   \n908912  v48Spe6WEpqehsF2xQADpg  hYnMeAO77RGyTtIzUSKYzQ   \n908913  ckqKGM2hl7I9Chp5IpAhkw  s2eyoTuJrcP7I_XyjdhUHQ   \n908914  4tF1CWdMxvvwpUIgGsDygA  _cb1Vg1NIWry8UA0jyuXnQ   \n\n                                                     text  \\\n1       They have lots of good deserts and tasty cuban...   \n2                  It's open even when you think it isn't   \n3                               Very decent fried chicken   \n4                  Appetizers.. platter special for lunch   \n5       Chili Cup + Single Cheeseburger with onion, pi...   \n...                                                   ...   \n908909  Great experience with a phenomenal food with a...   \n908911                            Great food and service.   \n908912                                Love their Cubans!!   \n908913                            Great pizza great price   \n908914                  Food is good value but a bit hot!   \n\n                       date  compliment_count  \n1       2013-02-05 18:35:10                 0  \n2       2013-08-18 00:56:08                 0  \n3       2017-06-27 23:05:38                 0  \n4       2012-10-06 19:43:09                 0  \n5       2012-03-13 04:00:52                 0  \n...                     ...               ...  \n908909  2021-05-09 23:21:10                 0  \n908911  2021-10-30 11:54:36                 0  \n908912  2021-11-05 13:18:56                 0  \n908913  2021-11-20 16:11:44                 0  \n908914  2021-12-07 22:30:00                 0  \n\n[649912 rows x 5 columns]",
      "text/html": "<div>\n<style scoped>\n    .dataframe tbody tr th:only-of-type {\n        vertical-align: middle;\n    }\n\n    .dataframe tbody tr th {\n        vertical-align: top;\n    }\n\n    .dataframe thead th {\n        text-align: right;\n    }\n</style>\n<table border=\"1\" class=\"dataframe\">\n  <thead>\n    <tr style=\"text-align: right;\">\n      <th></th>\n      <th>user_id</th>\n      <th>business_id</th>\n      <th>text</th>\n      <th>date</th>\n      <th>compliment_count</th>\n    </tr>\n  </thead>\n  <tbody>\n    <tr>\n      <th>1</th>\n      <td>NBN4MgHP9D3cw--SnauTkA</td>\n      <td>QoezRbYQncpRqyrLH6Iqjg</td>\n      <td>They have lots of good deserts and tasty cuban...</td>\n      <td>2013-02-05 18:35:10</td>\n      <td>0</td>\n    </tr>\n    <tr>\n      <th>2</th>\n      <td>-copOvldyKh1qr-vzkDEvw</td>\n      <td>MYoRNLb5chwjQe3c_k37Gg</td>\n      <td>It's open even when you think it isn't</td>\n      <td>2013-08-18 00:56:08</td>\n      <td>0</td>\n    </tr>\n    <tr>\n      <th>3</th>\n      <td>FjMQVZjSqY8syIO-53KFKw</td>\n      <td>hV-bABTK-glh5wj31ps_Jw</td>\n      <td>Very decent fried chicken</td>\n      <td>2017-06-27 23:05:38</td>\n      <td>0</td>\n    </tr>\n    <tr>\n      <th>4</th>\n      <td>ld0AperBXk1h6UbqmM80zw</td>\n      <td>_uN0OudeJ3Zl_tf6nxg5ww</td>\n      <td>Appetizers.. platter special for lunch</td>\n      <td>2012-10-06 19:43:09</td>\n      <td>0</td>\n    </tr>\n    <tr>\n      <th>5</th>\n      <td>trf3Qcz8qvCDKXiTgjUcEg</td>\n      <td>7Rm9Ba50bw23KTA8RedZYg</td>\n      <td>Chili Cup + Single Cheeseburger with onion, pi...</td>\n      <td>2012-03-13 04:00:52</td>\n      <td>0</td>\n    </tr>\n    <tr>\n      <th>...</th>\n      <td>...</td>\n      <td>...</td>\n      <td>...</td>\n      <td>...</td>\n      <td>...</td>\n    </tr>\n    <tr>\n      <th>908909</th>\n      <td>FowxkbAixI3hlREeCgIa_Q</td>\n      <td>kfNv-JZpuN6TVNSO6hHdkw</td>\n      <td>Great experience with a phenomenal food with a...</td>\n      <td>2021-05-09 23:21:10</td>\n      <td>0</td>\n    </tr>\n    <tr>\n      <th>908911</th>\n      <td>1uxtQAuJ2T5Xwa_wp7kUnA</td>\n      <td>OaGf0Dp56ARhQwIDT90w_g</td>\n      <td>Great food and service.</td>\n      <td>2021-10-30 11:54:36</td>\n      <td>0</td>\n    </tr>\n    <tr>\n      <th>908912</th>\n      <td>v48Spe6WEpqehsF2xQADpg</td>\n      <td>hYnMeAO77RGyTtIzUSKYzQ</td>\n      <td>Love their Cubans!!</td>\n      <td>2021-11-05 13:18:56</td>\n      <td>0</td>\n    </tr>\n    <tr>\n      <th>908913</th>\n      <td>ckqKGM2hl7I9Chp5IpAhkw</td>\n      <td>s2eyoTuJrcP7I_XyjdhUHQ</td>\n      <td>Great pizza great price</td>\n      <td>2021-11-20 16:11:44</td>\n      <td>0</td>\n    </tr>\n    <tr>\n      <th>908914</th>\n      <td>4tF1CWdMxvvwpUIgGsDygA</td>\n      <td>_cb1Vg1NIWry8UA0jyuXnQ</td>\n      <td>Food is good value but a bit hot!</td>\n      <td>2021-12-07 22:30:00</td>\n      <td>0</td>\n    </tr>\n  </tbody>\n</table>\n<p>649912 rows × 5 columns</p>\n</div>"
     },
     "execution_count": 2,
     "metadata": {},
     "output_type": "execute_result"
    }
   ],
   "source": [
    "businesses, _, _, _ = DataReader().read_data()\n",
    "entries = DataReader._get_entries_from_file(Path('..', 'data', DataReader.EXPECTED_FILES[3]))\n",
    "filtered_entries = DataReader._filter_entries(entries, DataReader.RELEVANT_TIP_FIELDS)\n",
    "tips = pd.DataFrame.from_records(filtered_entries)\n",
    "tips = tips[tips['business_id'].isin(businesses.index)]\n",
    "tips"
   ],
   "metadata": {
    "collapsed": false
   }
  }
 ],
 "metadata": {
  "kernelspec": {
   "display_name": "Python 3",
   "language": "python",
   "name": "python3"
  },
  "language_info": {
   "codemirror_mode": {
    "name": "ipython",
    "version": 2
   },
   "file_extension": ".py",
   "mimetype": "text/x-python",
   "name": "python",
   "nbconvert_exporter": "python",
   "pygments_lexer": "ipython2",
   "version": "2.7.6"
  }
 },
 "nbformat": 4,
 "nbformat_minor": 0
}
