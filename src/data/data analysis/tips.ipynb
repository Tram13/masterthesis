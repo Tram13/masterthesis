{
 "cells": [
  {
   "cell_type": "markdown",
   "source": [
    "# Data Analysis: Tips\n",
    "## Analysis of the tips dataset"
   ],
   "metadata": {
    "collapsed": false
   }
  },
  {
   "cell_type": "code",
   "execution_count": 1,
   "outputs": [],
   "source": [
    "import os\n",
    "from pathlib import Path\n",
    "\n",
    "import pandas as pd\n",
    "\n",
    "from src.data.data_reader import DataReader\n",
    "\n",
    "while str(os.getcwd())[-3:] != 'src':  # Execute from src-directory root\n",
    "    os.chdir('..')"
   ],
   "metadata": {
    "collapsed": false
   }
  },
  {
   "cell_type": "code",
   "execution_count": null,
   "outputs": [],
   "source": [
    "businesses, _, _, _ = DataReader(Path('..', 'data')).read_data()\n",
    "entries = DataReader._get_entries_from_file(Path('..', 'data', DataReader.EXPECTED_FILES[3]))\n",
    "filtered_entries = DataReader._filter_entries(entries, DataReader.RELEVANT_TIP_FIELDS)\n",
    "tips = pd.DataFrame.from_records(filtered_entries)\n",
    "tips = tips[tips['business_id'].isin(businesses.index)]\n",
    "tips"
   ],
   "metadata": {
    "collapsed": false,
    "pycharm": {
     "is_executing": true
    }
   }
  }
 ],
 "metadata": {
  "kernelspec": {
   "display_name": "Python 3",
   "language": "python",
   "name": "python3"
  },
  "language_info": {
   "codemirror_mode": {
    "name": "ipython",
    "version": 2
   },
   "file_extension": ".py",
   "mimetype": "text/x-python",
   "name": "python",
   "nbconvert_exporter": "python",
   "pygments_lexer": "ipython2",
   "version": "2.7.6"
  }
 },
 "nbformat": 4,
 "nbformat_minor": 0
}
