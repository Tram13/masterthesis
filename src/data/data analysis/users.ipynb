{
 "cells": [
  {
   "cell_type": "markdown",
   "source": [
    "# Data Analysis\n",
    "## Analysis of the users dataset\n",
    "## At this point, no data from the users set is used in the model!"
   ],
   "metadata": {
    "collapsed": false
   },
   "execution_count": 1
  },
  {
   "cell_type": "code",
   "execution_count": 1,
   "outputs": [],
   "source": [
    "from pathlib import Path\n",
    "from src.data.data_reader import DataReader\n",
    "import os\n",
    "import pandas as pd\n",
    "import numpy as np\n",
    "from sklearn import preprocessing\n",
    "\n",
    "while str(os.getcwd())[-3:] != 'src':  # Execute from src-directory root\n",
    "    os.chdir('..')"
   ],
   "metadata": {
    "collapsed": false
   }
  },
  {
   "cell_type": "code",
   "execution_count": 2,
   "outputs": [
    {
     "data": {
      "text/plain": "                        user_id     name  review_count  \\\n0        qVc8ODYU5SZjKXVBgXdI7w   Walker           585   \n1        j14WgRoU_-2ZE1aw1dXrJg   Daniel          4333   \n2        2WnXYQFK0hXEoTxPtV2zvg    Steph           665   \n3        SZDeASXq7o05mMNLshsdIA     Gwen           224   \n4        hA5lMy-EnncsH4JoR-hFGQ    Karen            79   \n...                         ...      ...           ...   \n1987892  fB3jbHi3m0L2KgGOxBv6uw  Jerrold            23   \n1987893  68czcr4BxJyMQ9cJBm6C7Q     Jane             1   \n1987894  1x3KMskYxOuJCjRz70xOqQ  Shomari             4   \n1987895  ulfGl4tdbrH05xKzh5lnog  Susanne             2   \n1987896  wL5jPrLRVCK_Pmo4lM1zpA      Isa             2   \n\n                                                   friends  useful  funny  \\\n0        NSCy54eWehBJyZdG2iE84w, pe42u7DcCH2QmI81NX-8qA...    7217   1259   \n1        ueRPE0CX75ePGMqOFVj6IQ, 52oH4DrRvzzl8wh5UXyU0A...   43091  13066   \n2        LuO3Bn4f3rlhyHIaNfTlnA, j9B4XdHUhDfTKVecyWQgyA...    2086   1010   \n3        enx1vVPnfdNUdPho6PH_wg, 4wOcvMLtU6a9Lslggq74Vg...     512    330   \n4        PBK4q9KEEBHhFvSXCUirIw, 3FWPpM7KU1gXeOM_ZbYMbA...      29     15   \n...                                                    ...     ...    ...   \n1987892                                               None       7      0   \n1987893                                               None       0      0   \n1987894                                               None       1      1   \n1987895                                               None       0      0   \n1987896                                               None       0      0   \n\n          cool  fans  compliments  \n0         5994   267         2873  \n1        27281  3138        20631  \n2         1003    52          585  \n3          299    28          136  \n4            7     1            4  \n...        ...   ...          ...  \n1987892      0     0            0  \n1987893      0     0            0  \n1987894      0     0            0  \n1987895      0     0            0  \n1987896      0     0            0  \n\n[1987897 rows x 9 columns]",
      "text/html": "<div>\n<style scoped>\n    .dataframe tbody tr th:only-of-type {\n        vertical-align: middle;\n    }\n\n    .dataframe tbody tr th {\n        vertical-align: top;\n    }\n\n    .dataframe thead th {\n        text-align: right;\n    }\n</style>\n<table border=\"1\" class=\"dataframe\">\n  <thead>\n    <tr style=\"text-align: right;\">\n      <th></th>\n      <th>user_id</th>\n      <th>name</th>\n      <th>review_count</th>\n      <th>friends</th>\n      <th>useful</th>\n      <th>funny</th>\n      <th>cool</th>\n      <th>fans</th>\n      <th>compliments</th>\n    </tr>\n  </thead>\n  <tbody>\n    <tr>\n      <th>0</th>\n      <td>qVc8ODYU5SZjKXVBgXdI7w</td>\n      <td>Walker</td>\n      <td>585</td>\n      <td>NSCy54eWehBJyZdG2iE84w, pe42u7DcCH2QmI81NX-8qA...</td>\n      <td>7217</td>\n      <td>1259</td>\n      <td>5994</td>\n      <td>267</td>\n      <td>2873</td>\n    </tr>\n    <tr>\n      <th>1</th>\n      <td>j14WgRoU_-2ZE1aw1dXrJg</td>\n      <td>Daniel</td>\n      <td>4333</td>\n      <td>ueRPE0CX75ePGMqOFVj6IQ, 52oH4DrRvzzl8wh5UXyU0A...</td>\n      <td>43091</td>\n      <td>13066</td>\n      <td>27281</td>\n      <td>3138</td>\n      <td>20631</td>\n    </tr>\n    <tr>\n      <th>2</th>\n      <td>2WnXYQFK0hXEoTxPtV2zvg</td>\n      <td>Steph</td>\n      <td>665</td>\n      <td>LuO3Bn4f3rlhyHIaNfTlnA, j9B4XdHUhDfTKVecyWQgyA...</td>\n      <td>2086</td>\n      <td>1010</td>\n      <td>1003</td>\n      <td>52</td>\n      <td>585</td>\n    </tr>\n    <tr>\n      <th>3</th>\n      <td>SZDeASXq7o05mMNLshsdIA</td>\n      <td>Gwen</td>\n      <td>224</td>\n      <td>enx1vVPnfdNUdPho6PH_wg, 4wOcvMLtU6a9Lslggq74Vg...</td>\n      <td>512</td>\n      <td>330</td>\n      <td>299</td>\n      <td>28</td>\n      <td>136</td>\n    </tr>\n    <tr>\n      <th>4</th>\n      <td>hA5lMy-EnncsH4JoR-hFGQ</td>\n      <td>Karen</td>\n      <td>79</td>\n      <td>PBK4q9KEEBHhFvSXCUirIw, 3FWPpM7KU1gXeOM_ZbYMbA...</td>\n      <td>29</td>\n      <td>15</td>\n      <td>7</td>\n      <td>1</td>\n      <td>4</td>\n    </tr>\n    <tr>\n      <th>...</th>\n      <td>...</td>\n      <td>...</td>\n      <td>...</td>\n      <td>...</td>\n      <td>...</td>\n      <td>...</td>\n      <td>...</td>\n      <td>...</td>\n      <td>...</td>\n    </tr>\n    <tr>\n      <th>1987892</th>\n      <td>fB3jbHi3m0L2KgGOxBv6uw</td>\n      <td>Jerrold</td>\n      <td>23</td>\n      <td>None</td>\n      <td>7</td>\n      <td>0</td>\n      <td>0</td>\n      <td>0</td>\n      <td>0</td>\n    </tr>\n    <tr>\n      <th>1987893</th>\n      <td>68czcr4BxJyMQ9cJBm6C7Q</td>\n      <td>Jane</td>\n      <td>1</td>\n      <td>None</td>\n      <td>0</td>\n      <td>0</td>\n      <td>0</td>\n      <td>0</td>\n      <td>0</td>\n    </tr>\n    <tr>\n      <th>1987894</th>\n      <td>1x3KMskYxOuJCjRz70xOqQ</td>\n      <td>Shomari</td>\n      <td>4</td>\n      <td>None</td>\n      <td>1</td>\n      <td>1</td>\n      <td>0</td>\n      <td>0</td>\n      <td>0</td>\n    </tr>\n    <tr>\n      <th>1987895</th>\n      <td>ulfGl4tdbrH05xKzh5lnog</td>\n      <td>Susanne</td>\n      <td>2</td>\n      <td>None</td>\n      <td>0</td>\n      <td>0</td>\n      <td>0</td>\n      <td>0</td>\n      <td>0</td>\n    </tr>\n    <tr>\n      <th>1987896</th>\n      <td>wL5jPrLRVCK_Pmo4lM1zpA</td>\n      <td>Isa</td>\n      <td>2</td>\n      <td>None</td>\n      <td>0</td>\n      <td>0</td>\n      <td>0</td>\n      <td>0</td>\n      <td>0</td>\n    </tr>\n  </tbody>\n</table>\n<p>1987897 rows × 9 columns</p>\n</div>"
     },
     "execution_count": 2,
     "metadata": {},
     "output_type": "execute_result"
    }
   ],
   "source": [
    "entries = DataReader._get_entries_from_file(Path('..', 'data', DataReader.EXPECTED_FILES[4]))\n",
    "RELEVANT_USER_FIELDS = [\n",
    "    'user_id',\n",
    "    'name',\n",
    "    'review_count',\n",
    "    'friends',\n",
    "    'useful',\n",
    "    'funny',\n",
    "    'cool',\n",
    "    'fans',\n",
    "    'compliments'  # Sum of all compliment fields\n",
    "]\n",
    "\n",
    "# Combine all compliments\n",
    "compliment_fields = [\n",
    "    'compliment_hot',\n",
    "    'compliment_more',\n",
    "    'compliment_profile',\n",
    "    'compliment_cute',\n",
    "    'compliment_list',\n",
    "    'compliment_note',\n",
    "    'compliment_plain',\n",
    "    'compliment_cool',\n",
    "    'compliment_funny',\n",
    "    'compliment_writer',\n",
    "    'compliment_photos'\n",
    "]\n",
    "combined_compliments = DataReader._filter_entries(entries, compliment_fields)\n",
    "combined_compliments = [sum(x.values()) for x in combined_compliments]\n",
    "for entry, sum_combined_for_entry in zip(entries, combined_compliments):\n",
    "    entry['compliments'] = sum_combined_for_entry\n",
    "\n",
    "filtered_entries = DataReader._filter_entries(entries, RELEVANT_USER_FIELDS)\n",
    "users = pd.DataFrame.from_records(filtered_entries)\n",
    "users"
   ],
   "metadata": {
    "collapsed": false
   }
  },
  {
   "cell_type": "code",
   "execution_count": 3,
   "outputs": [
    {
     "data": {
      "text/plain": "                           name  user_review_count  \\\nuser_id                                              \nqVc8ODYU5SZjKXVBgXdI7w   Walker                585   \nj14WgRoU_-2ZE1aw1dXrJg   Daniel               4333   \n2WnXYQFK0hXEoTxPtV2zvg    Steph                665   \nSZDeASXq7o05mMNLshsdIA     Gwen                224   \nhA5lMy-EnncsH4JoR-hFGQ    Karen                 79   \n...                         ...                ...   \nfB3jbHi3m0L2KgGOxBv6uw  Jerrold                 23   \n68czcr4BxJyMQ9cJBm6C7Q     Jane                  1   \n1x3KMskYxOuJCjRz70xOqQ  Shomari                  4   \nulfGl4tdbrH05xKzh5lnog  Susanne                  2   \nwL5jPrLRVCK_Pmo4lM1zpA      Isa                  2   \n\n                                                                  friends  \\\nuser_id                                                                     \nqVc8ODYU5SZjKXVBgXdI7w  [NSCy54eWehBJyZdG2iE84w, pe42u7DcCH2QmI81NX-8q...   \nj14WgRoU_-2ZE1aw1dXrJg  [ueRPE0CX75ePGMqOFVj6IQ, 52oH4DrRvzzl8wh5UXyU0...   \n2WnXYQFK0hXEoTxPtV2zvg  [LuO3Bn4f3rlhyHIaNfTlnA, j9B4XdHUhDfTKVecyWQgy...   \nSZDeASXq7o05mMNLshsdIA  [enx1vVPnfdNUdPho6PH_wg, 4wOcvMLtU6a9Lslggq74V...   \nhA5lMy-EnncsH4JoR-hFGQ  [PBK4q9KEEBHhFvSXCUirIw, 3FWPpM7KU1gXeOM_ZbYMb...   \n...                                                                   ...   \nfB3jbHi3m0L2KgGOxBv6uw                                             [None]   \n68czcr4BxJyMQ9cJBm6C7Q                                             [None]   \n1x3KMskYxOuJCjRz70xOqQ                                             [None]   \nulfGl4tdbrH05xKzh5lnog                                             [None]   \nwL5jPrLRVCK_Pmo4lM1zpA                                             [None]   \n\n                        useful  funny   cool  fans  compliments  \nuser_id                                                          \nqVc8ODYU5SZjKXVBgXdI7w    7217   1259   5994   267         2873  \nj14WgRoU_-2ZE1aw1dXrJg   43091  13066  27281  3138        20631  \n2WnXYQFK0hXEoTxPtV2zvg    2086   1010   1003    52          585  \nSZDeASXq7o05mMNLshsdIA     512    330    299    28          136  \nhA5lMy-EnncsH4JoR-hFGQ      29     15      7     1            4  \n...                        ...    ...    ...   ...          ...  \nfB3jbHi3m0L2KgGOxBv6uw       7      0      0     0            0  \n68czcr4BxJyMQ9cJBm6C7Q       0      0      0     0            0  \n1x3KMskYxOuJCjRz70xOqQ       1      1      0     0            0  \nulfGl4tdbrH05xKzh5lnog       0      0      0     0            0  \nwL5jPrLRVCK_Pmo4lM1zpA       0      0      0     0            0  \n\n[1987897 rows x 8 columns]",
      "text/html": "<div>\n<style scoped>\n    .dataframe tbody tr th:only-of-type {\n        vertical-align: middle;\n    }\n\n    .dataframe tbody tr th {\n        vertical-align: top;\n    }\n\n    .dataframe thead th {\n        text-align: right;\n    }\n</style>\n<table border=\"1\" class=\"dataframe\">\n  <thead>\n    <tr style=\"text-align: right;\">\n      <th></th>\n      <th>name</th>\n      <th>user_review_count</th>\n      <th>friends</th>\n      <th>useful</th>\n      <th>funny</th>\n      <th>cool</th>\n      <th>fans</th>\n      <th>compliments</th>\n    </tr>\n    <tr>\n      <th>user_id</th>\n      <th></th>\n      <th></th>\n      <th></th>\n      <th></th>\n      <th></th>\n      <th></th>\n      <th></th>\n      <th></th>\n    </tr>\n  </thead>\n  <tbody>\n    <tr>\n      <th>qVc8ODYU5SZjKXVBgXdI7w</th>\n      <td>Walker</td>\n      <td>585</td>\n      <td>[NSCy54eWehBJyZdG2iE84w, pe42u7DcCH2QmI81NX-8q...</td>\n      <td>7217</td>\n      <td>1259</td>\n      <td>5994</td>\n      <td>267</td>\n      <td>2873</td>\n    </tr>\n    <tr>\n      <th>j14WgRoU_-2ZE1aw1dXrJg</th>\n      <td>Daniel</td>\n      <td>4333</td>\n      <td>[ueRPE0CX75ePGMqOFVj6IQ, 52oH4DrRvzzl8wh5UXyU0...</td>\n      <td>43091</td>\n      <td>13066</td>\n      <td>27281</td>\n      <td>3138</td>\n      <td>20631</td>\n    </tr>\n    <tr>\n      <th>2WnXYQFK0hXEoTxPtV2zvg</th>\n      <td>Steph</td>\n      <td>665</td>\n      <td>[LuO3Bn4f3rlhyHIaNfTlnA, j9B4XdHUhDfTKVecyWQgy...</td>\n      <td>2086</td>\n      <td>1010</td>\n      <td>1003</td>\n      <td>52</td>\n      <td>585</td>\n    </tr>\n    <tr>\n      <th>SZDeASXq7o05mMNLshsdIA</th>\n      <td>Gwen</td>\n      <td>224</td>\n      <td>[enx1vVPnfdNUdPho6PH_wg, 4wOcvMLtU6a9Lslggq74V...</td>\n      <td>512</td>\n      <td>330</td>\n      <td>299</td>\n      <td>28</td>\n      <td>136</td>\n    </tr>\n    <tr>\n      <th>hA5lMy-EnncsH4JoR-hFGQ</th>\n      <td>Karen</td>\n      <td>79</td>\n      <td>[PBK4q9KEEBHhFvSXCUirIw, 3FWPpM7KU1gXeOM_ZbYMb...</td>\n      <td>29</td>\n      <td>15</td>\n      <td>7</td>\n      <td>1</td>\n      <td>4</td>\n    </tr>\n    <tr>\n      <th>...</th>\n      <td>...</td>\n      <td>...</td>\n      <td>...</td>\n      <td>...</td>\n      <td>...</td>\n      <td>...</td>\n      <td>...</td>\n      <td>...</td>\n    </tr>\n    <tr>\n      <th>fB3jbHi3m0L2KgGOxBv6uw</th>\n      <td>Jerrold</td>\n      <td>23</td>\n      <td>[None]</td>\n      <td>7</td>\n      <td>0</td>\n      <td>0</td>\n      <td>0</td>\n      <td>0</td>\n    </tr>\n    <tr>\n      <th>68czcr4BxJyMQ9cJBm6C7Q</th>\n      <td>Jane</td>\n      <td>1</td>\n      <td>[None]</td>\n      <td>0</td>\n      <td>0</td>\n      <td>0</td>\n      <td>0</td>\n      <td>0</td>\n    </tr>\n    <tr>\n      <th>1x3KMskYxOuJCjRz70xOqQ</th>\n      <td>Shomari</td>\n      <td>4</td>\n      <td>[None]</td>\n      <td>1</td>\n      <td>1</td>\n      <td>0</td>\n      <td>0</td>\n      <td>0</td>\n    </tr>\n    <tr>\n      <th>ulfGl4tdbrH05xKzh5lnog</th>\n      <td>Susanne</td>\n      <td>2</td>\n      <td>[None]</td>\n      <td>0</td>\n      <td>0</td>\n      <td>0</td>\n      <td>0</td>\n      <td>0</td>\n    </tr>\n    <tr>\n      <th>wL5jPrLRVCK_Pmo4lM1zpA</th>\n      <td>Isa</td>\n      <td>2</td>\n      <td>[None]</td>\n      <td>0</td>\n      <td>0</td>\n      <td>0</td>\n      <td>0</td>\n      <td>0</td>\n    </tr>\n  </tbody>\n</table>\n<p>1987897 rows × 8 columns</p>\n</div>"
     },
     "execution_count": 3,
     "metadata": {},
     "output_type": "execute_result"
    }
   ],
   "source": [
    "users['friends'] = users['friends'].map(lambda friend_str: friend_str.split(', ') if friend_str else None)\n",
    "users = users.set_index('user_id')\n",
    "users = users.rename(columns={'review_count': 'user_review_count'})\n",
    "users"
   ],
   "metadata": {
    "collapsed": false
   }
  },
  {
   "cell_type": "markdown",
   "source": [
    "Normalisation of the numerical data"
   ],
   "metadata": {
    "collapsed": false
   }
  },
  {
   "cell_type": "code",
   "execution_count": 4,
   "outputs": [],
   "source": [
    "# Get amount of reviews per user\n",
    "_, reviews, _, _, = DataReader().read_data()"
   ],
   "metadata": {
    "collapsed": false
   }
  },
  {
   "cell_type": "code",
   "execution_count": 5,
   "outputs": [
    {
     "data": {
      "text/plain": "                           name  user_review_count  \\\nuser_id                                              \nqVc8ODYU5SZjKXVBgXdI7w   Walker                585   \nj14WgRoU_-2ZE1aw1dXrJg   Daniel               4333   \n2WnXYQFK0hXEoTxPtV2zvg    Steph                665   \nSZDeASXq7o05mMNLshsdIA     Gwen                224   \nhA5lMy-EnncsH4JoR-hFGQ    Karen                 79   \n...                         ...                ...   \nQ5SlTMOwyHq4PIu7Ev-GVg     John                  4   \nXPNsbtTADPdAsYT-C4xjsA   Jamila                  5   \nfB3jbHi3m0L2KgGOxBv6uw  Jerrold                 23   \n1x3KMskYxOuJCjRz70xOqQ  Shomari                  4   \nwL5jPrLRVCK_Pmo4lM1zpA      Isa                  2   \n\n                                                                  friends  \\\nuser_id                                                                     \nqVc8ODYU5SZjKXVBgXdI7w  [NSCy54eWehBJyZdG2iE84w, pe42u7DcCH2QmI81NX-8q...   \nj14WgRoU_-2ZE1aw1dXrJg  [ueRPE0CX75ePGMqOFVj6IQ, 52oH4DrRvzzl8wh5UXyU0...   \n2WnXYQFK0hXEoTxPtV2zvg  [LuO3Bn4f3rlhyHIaNfTlnA, j9B4XdHUhDfTKVecyWQgy...   \nSZDeASXq7o05mMNLshsdIA  [enx1vVPnfdNUdPho6PH_wg, 4wOcvMLtU6a9Lslggq74V...   \nhA5lMy-EnncsH4JoR-hFGQ  [PBK4q9KEEBHhFvSXCUirIw, 3FWPpM7KU1gXeOM_ZbYMb...   \n...                                                                   ...   \nQ5SlTMOwyHq4PIu7Ev-GVg                                             [None]   \nXPNsbtTADPdAsYT-C4xjsA                                             [None]   \nfB3jbHi3m0L2KgGOxBv6uw                                             [None]   \n1x3KMskYxOuJCjRz70xOqQ                                             [None]   \nwL5jPrLRVCK_Pmo4lM1zpA                                             [None]   \n\n                        useful  funny   cool  fans  compliments  \nuser_id                                                          \nqVc8ODYU5SZjKXVBgXdI7w    7217   1259   5994   267         2873  \nj14WgRoU_-2ZE1aw1dXrJg   43091  13066  27281  3138        20631  \n2WnXYQFK0hXEoTxPtV2zvg    2086   1010   1003    52          585  \nSZDeASXq7o05mMNLshsdIA     512    330    299    28          136  \nhA5lMy-EnncsH4JoR-hFGQ      29     15      7     1            4  \n...                        ...    ...    ...   ...          ...  \nQ5SlTMOwyHq4PIu7Ev-GVg       0      0      0     0            0  \nXPNsbtTADPdAsYT-C4xjsA       1      0      0     0            0  \nfB3jbHi3m0L2KgGOxBv6uw       7      0      0     0            0  \n1x3KMskYxOuJCjRz70xOqQ       1      1      0     0            0  \nwL5jPrLRVCK_Pmo4lM1zpA       0      0      0     0            0  \n\n[1447109 rows x 8 columns]",
      "text/html": "<div>\n<style scoped>\n    .dataframe tbody tr th:only-of-type {\n        vertical-align: middle;\n    }\n\n    .dataframe tbody tr th {\n        vertical-align: top;\n    }\n\n    .dataframe thead th {\n        text-align: right;\n    }\n</style>\n<table border=\"1\" class=\"dataframe\">\n  <thead>\n    <tr style=\"text-align: right;\">\n      <th></th>\n      <th>name</th>\n      <th>user_review_count</th>\n      <th>friends</th>\n      <th>useful</th>\n      <th>funny</th>\n      <th>cool</th>\n      <th>fans</th>\n      <th>compliments</th>\n    </tr>\n    <tr>\n      <th>user_id</th>\n      <th></th>\n      <th></th>\n      <th></th>\n      <th></th>\n      <th></th>\n      <th></th>\n      <th></th>\n      <th></th>\n    </tr>\n  </thead>\n  <tbody>\n    <tr>\n      <th>qVc8ODYU5SZjKXVBgXdI7w</th>\n      <td>Walker</td>\n      <td>585</td>\n      <td>[NSCy54eWehBJyZdG2iE84w, pe42u7DcCH2QmI81NX-8q...</td>\n      <td>7217</td>\n      <td>1259</td>\n      <td>5994</td>\n      <td>267</td>\n      <td>2873</td>\n    </tr>\n    <tr>\n      <th>j14WgRoU_-2ZE1aw1dXrJg</th>\n      <td>Daniel</td>\n      <td>4333</td>\n      <td>[ueRPE0CX75ePGMqOFVj6IQ, 52oH4DrRvzzl8wh5UXyU0...</td>\n      <td>43091</td>\n      <td>13066</td>\n      <td>27281</td>\n      <td>3138</td>\n      <td>20631</td>\n    </tr>\n    <tr>\n      <th>2WnXYQFK0hXEoTxPtV2zvg</th>\n      <td>Steph</td>\n      <td>665</td>\n      <td>[LuO3Bn4f3rlhyHIaNfTlnA, j9B4XdHUhDfTKVecyWQgy...</td>\n      <td>2086</td>\n      <td>1010</td>\n      <td>1003</td>\n      <td>52</td>\n      <td>585</td>\n    </tr>\n    <tr>\n      <th>SZDeASXq7o05mMNLshsdIA</th>\n      <td>Gwen</td>\n      <td>224</td>\n      <td>[enx1vVPnfdNUdPho6PH_wg, 4wOcvMLtU6a9Lslggq74V...</td>\n      <td>512</td>\n      <td>330</td>\n      <td>299</td>\n      <td>28</td>\n      <td>136</td>\n    </tr>\n    <tr>\n      <th>hA5lMy-EnncsH4JoR-hFGQ</th>\n      <td>Karen</td>\n      <td>79</td>\n      <td>[PBK4q9KEEBHhFvSXCUirIw, 3FWPpM7KU1gXeOM_ZbYMb...</td>\n      <td>29</td>\n      <td>15</td>\n      <td>7</td>\n      <td>1</td>\n      <td>4</td>\n    </tr>\n    <tr>\n      <th>...</th>\n      <td>...</td>\n      <td>...</td>\n      <td>...</td>\n      <td>...</td>\n      <td>...</td>\n      <td>...</td>\n      <td>...</td>\n      <td>...</td>\n    </tr>\n    <tr>\n      <th>Q5SlTMOwyHq4PIu7Ev-GVg</th>\n      <td>John</td>\n      <td>4</td>\n      <td>[None]</td>\n      <td>0</td>\n      <td>0</td>\n      <td>0</td>\n      <td>0</td>\n      <td>0</td>\n    </tr>\n    <tr>\n      <th>XPNsbtTADPdAsYT-C4xjsA</th>\n      <td>Jamila</td>\n      <td>5</td>\n      <td>[None]</td>\n      <td>1</td>\n      <td>0</td>\n      <td>0</td>\n      <td>0</td>\n      <td>0</td>\n    </tr>\n    <tr>\n      <th>fB3jbHi3m0L2KgGOxBv6uw</th>\n      <td>Jerrold</td>\n      <td>23</td>\n      <td>[None]</td>\n      <td>7</td>\n      <td>0</td>\n      <td>0</td>\n      <td>0</td>\n      <td>0</td>\n    </tr>\n    <tr>\n      <th>1x3KMskYxOuJCjRz70xOqQ</th>\n      <td>Shomari</td>\n      <td>4</td>\n      <td>[None]</td>\n      <td>1</td>\n      <td>1</td>\n      <td>0</td>\n      <td>0</td>\n      <td>0</td>\n    </tr>\n    <tr>\n      <th>wL5jPrLRVCK_Pmo4lM1zpA</th>\n      <td>Isa</td>\n      <td>2</td>\n      <td>[None]</td>\n      <td>0</td>\n      <td>0</td>\n      <td>0</td>\n      <td>0</td>\n      <td>0</td>\n    </tr>\n  </tbody>\n</table>\n<p>1447109 rows × 8 columns</p>\n</div>"
     },
     "execution_count": 5,
     "metadata": {},
     "output_type": "execute_result"
    }
   ],
   "source": [
    "review_count_per_user = reviews.groupby(by=['user_id'])['user_id'].count().rename('amount_of_reviews')\n",
    "users = users.join(review_count_per_user, on='user_id')\n",
    "users = users.dropna(subset=['amount_of_reviews']).copy()  # Drop users which have no reviews\n",
    "# users = users.drop(columns=['amount_of_reviews'])  # This column is now no longer needed\n",
    "users"
   ],
   "metadata": {
    "collapsed": false
   }
  },
  {
   "cell_type": "code",
   "execution_count": 6,
   "outputs": [
    {
     "name": "stderr",
     "output_type": "stream",
     "text": [
      "C:\\Users\\Arno\\AppData\\Local\\Temp\\ipykernel_1152\\1764570950.py:5: RuntimeWarning: invalid value encountered in longlong_scalars\n",
      "  .apply(lambda row: row[column_name] / row['user_review_count'], axis=1)\n",
      "C:\\Users\\Arno\\AppData\\Local\\Temp\\ipykernel_1152\\1764570950.py:5: RuntimeWarning: divide by zero encountered in longlong_scalars\n",
      "  .apply(lambda row: row[column_name] / row['user_review_count'], axis=1)\n",
      "C:\\Users\\Arno\\AppData\\Local\\Temp\\ipykernel_1152\\1764570950.py:5: RuntimeWarning: invalid value encountered in longlong_scalars\n",
      "  .apply(lambda row: row[column_name] / row['user_review_count'], axis=1)\n",
      "C:\\Users\\Arno\\AppData\\Local\\Temp\\ipykernel_1152\\1764570950.py:5: RuntimeWarning: divide by zero encountered in longlong_scalars\n",
      "  .apply(lambda row: row[column_name] / row['user_review_count'], axis=1)\n",
      "C:\\Users\\Arno\\AppData\\Local\\Temp\\ipykernel_1152\\1764570950.py:5: RuntimeWarning: invalid value encountered in longlong_scalars\n",
      "  .apply(lambda row: row[column_name] / row['user_review_count'], axis=1)\n",
      "C:\\Users\\Arno\\AppData\\Local\\Temp\\ipykernel_1152\\1764570950.py:5: RuntimeWarning: divide by zero encountered in longlong_scalars\n",
      "  .apply(lambda row: row[column_name] / row['user_review_count'], axis=1)\n",
      "C:\\Users\\Arno\\AppData\\Local\\Temp\\ipykernel_1152\\1764570950.py:5: RuntimeWarning: invalid value encountered in longlong_scalars\n",
      "  .apply(lambda row: row[column_name] / row['user_review_count'], axis=1)\n",
      "C:\\Users\\Arno\\AppData\\Local\\Temp\\ipykernel_1152\\1764570950.py:5: RuntimeWarning: divide by zero encountered in longlong_scalars\n",
      "  .apply(lambda row: row[column_name] / row['user_review_count'], axis=1)\n",
      "C:\\Users\\Arno\\AppData\\Local\\Temp\\ipykernel_1152\\1764570950.py:5: RuntimeWarning: invalid value encountered in longlong_scalars\n",
      "  .apply(lambda row: row[column_name] / row['user_review_count'], axis=1)\n"
     ]
    }
   ],
   "source": [
    "column_names_to_normalise = ['useful', 'funny', 'cool', 'fans', 'compliments']\n",
    "\n",
    "series_to_normalise = [\n",
    "    users[[column_name, 'user_review_count']]\n",
    "    .apply(lambda row: row[column_name] / row['user_review_count'], axis=1)\n",
    "    .astype(np.float32)\n",
    "    for column_name in column_names_to_normalise\n",
    "]\n",
    "\n",
    "quantiles = [\n",
    "    series.quantile(0.99)\n",
    "    for series in series_to_normalise\n",
    "]  # For outlier detection\n",
    "\n",
    "series_to_normalise = [\n",
    "    series.map(lambda x: quantile if x > quantile else x)\n",
    "    for quantile, series in zip(quantiles, series_to_normalise)\n",
    "]  # Outlier removal by editing\n",
    "\n",
    "normalised_series = [\n",
    "    pd.Series(\n",
    "        data =\n",
    "            preprocessing.MinMaxScaler().fit_transform(\n",
    "                series.to_numpy().reshape(-1, 1)\n",
    "            ).flatten(),\n",
    "        name = f'{column_name}_normalised',\n",
    "        dtype = np.float16,\n",
    "    ).set_axis(users.index)  # To relink with the original dataframe\n",
    "    for column_name, series in zip(column_names_to_normalise, series_to_normalise)\n",
    "]"
   ],
   "metadata": {
    "collapsed": false
   }
  },
  {
   "cell_type": "code",
   "execution_count": 7,
   "outputs": [
    {
     "data": {
      "text/plain": "                           name  user_review_count  \\\nuser_id                                              \nqVc8ODYU5SZjKXVBgXdI7w   Walker                585   \nj14WgRoU_-2ZE1aw1dXrJg   Daniel               4333   \n2WnXYQFK0hXEoTxPtV2zvg    Steph                665   \nSZDeASXq7o05mMNLshsdIA     Gwen                224   \nhA5lMy-EnncsH4JoR-hFGQ    Karen                 79   \n...                         ...                ...   \nQ5SlTMOwyHq4PIu7Ev-GVg     John                  4   \nXPNsbtTADPdAsYT-C4xjsA   Jamila                  5   \nfB3jbHi3m0L2KgGOxBv6uw  Jerrold                 23   \n1x3KMskYxOuJCjRz70xOqQ  Shomari                  4   \nwL5jPrLRVCK_Pmo4lM1zpA      Isa                  2   \n\n                                                                  friends  \\\nuser_id                                                                     \nqVc8ODYU5SZjKXVBgXdI7w  [NSCy54eWehBJyZdG2iE84w, pe42u7DcCH2QmI81NX-8q...   \nj14WgRoU_-2ZE1aw1dXrJg  [ueRPE0CX75ePGMqOFVj6IQ, 52oH4DrRvzzl8wh5UXyU0...   \n2WnXYQFK0hXEoTxPtV2zvg  [LuO3Bn4f3rlhyHIaNfTlnA, j9B4XdHUhDfTKVecyWQgy...   \nSZDeASXq7o05mMNLshsdIA  [enx1vVPnfdNUdPho6PH_wg, 4wOcvMLtU6a9Lslggq74V...   \nhA5lMy-EnncsH4JoR-hFGQ  [PBK4q9KEEBHhFvSXCUirIw, 3FWPpM7KU1gXeOM_ZbYMb...   \n...                                                                   ...   \nQ5SlTMOwyHq4PIu7Ev-GVg                                             [None]   \nXPNsbtTADPdAsYT-C4xjsA                                             [None]   \nfB3jbHi3m0L2KgGOxBv6uw                                             [None]   \n1x3KMskYxOuJCjRz70xOqQ                                             [None]   \nwL5jPrLRVCK_Pmo4lM1zpA                                             [None]   \n\n                        useful_normalised  funny_normalised  cool_normalised  \\\nuser_id                                                                        \nqVc8ODYU5SZjKXVBgXdI7w           1.000000          1.000000         1.000000   \nj14WgRoU_-2ZE1aw1dXrJg           1.000000          1.000000         1.000000   \n2WnXYQFK0hXEoTxPtV2zvg           0.697266          0.759277         0.753906   \nSZDeASXq7o05mMNLshsdIA           0.507812          0.736816         0.667480   \nhA5lMy-EnncsH4JoR-hFGQ           0.081604          0.094910         0.044312   \n...                                   ...               ...              ...   \nQ5SlTMOwyHq4PIu7Ev-GVg           0.000000          0.000000         0.000000   \nXPNsbtTADPdAsYT-C4xjsA           0.044434          0.000000         0.000000   \nfB3jbHi3m0L2KgGOxBv6uw           0.067627          0.000000         0.000000   \n1x3KMskYxOuJCjRz70xOqQ           0.055542          0.125000         0.000000   \nwL5jPrLRVCK_Pmo4lM1zpA           0.000000          0.000000         0.000000   \n\n                        fans_normalised  compliments_normalised  \nuser_id                                                          \nqVc8ODYU5SZjKXVBgXdI7w         0.912598                1.000000  \nj14WgRoU_-2ZE1aw1dXrJg         1.000000                1.000000  \n2WnXYQFK0hXEoTxPtV2zvg         0.156372                0.681152  \nSZDeASXq7o05mMNLshsdIA         0.250000                0.470215  \nhA5lMy-EnncsH4JoR-hFGQ         0.025314                0.039215  \n...                                 ...                     ...  \nQ5SlTMOwyHq4PIu7Ev-GVg         0.000000                0.000000  \nXPNsbtTADPdAsYT-C4xjsA         0.000000                0.000000  \nfB3jbHi3m0L2KgGOxBv6uw         0.000000                0.000000  \n1x3KMskYxOuJCjRz70xOqQ         0.000000                0.000000  \nwL5jPrLRVCK_Pmo4lM1zpA         0.000000                0.000000  \n\n[1447109 rows x 8 columns]",
      "text/html": "<div>\n<style scoped>\n    .dataframe tbody tr th:only-of-type {\n        vertical-align: middle;\n    }\n\n    .dataframe tbody tr th {\n        vertical-align: top;\n    }\n\n    .dataframe thead th {\n        text-align: right;\n    }\n</style>\n<table border=\"1\" class=\"dataframe\">\n  <thead>\n    <tr style=\"text-align: right;\">\n      <th></th>\n      <th>name</th>\n      <th>user_review_count</th>\n      <th>friends</th>\n      <th>useful_normalised</th>\n      <th>funny_normalised</th>\n      <th>cool_normalised</th>\n      <th>fans_normalised</th>\n      <th>compliments_normalised</th>\n    </tr>\n    <tr>\n      <th>user_id</th>\n      <th></th>\n      <th></th>\n      <th></th>\n      <th></th>\n      <th></th>\n      <th></th>\n      <th></th>\n      <th></th>\n    </tr>\n  </thead>\n  <tbody>\n    <tr>\n      <th>qVc8ODYU5SZjKXVBgXdI7w</th>\n      <td>Walker</td>\n      <td>585</td>\n      <td>[NSCy54eWehBJyZdG2iE84w, pe42u7DcCH2QmI81NX-8q...</td>\n      <td>1.000000</td>\n      <td>1.000000</td>\n      <td>1.000000</td>\n      <td>0.912598</td>\n      <td>1.000000</td>\n    </tr>\n    <tr>\n      <th>j14WgRoU_-2ZE1aw1dXrJg</th>\n      <td>Daniel</td>\n      <td>4333</td>\n      <td>[ueRPE0CX75ePGMqOFVj6IQ, 52oH4DrRvzzl8wh5UXyU0...</td>\n      <td>1.000000</td>\n      <td>1.000000</td>\n      <td>1.000000</td>\n      <td>1.000000</td>\n      <td>1.000000</td>\n    </tr>\n    <tr>\n      <th>2WnXYQFK0hXEoTxPtV2zvg</th>\n      <td>Steph</td>\n      <td>665</td>\n      <td>[LuO3Bn4f3rlhyHIaNfTlnA, j9B4XdHUhDfTKVecyWQgy...</td>\n      <td>0.697266</td>\n      <td>0.759277</td>\n      <td>0.753906</td>\n      <td>0.156372</td>\n      <td>0.681152</td>\n    </tr>\n    <tr>\n      <th>SZDeASXq7o05mMNLshsdIA</th>\n      <td>Gwen</td>\n      <td>224</td>\n      <td>[enx1vVPnfdNUdPho6PH_wg, 4wOcvMLtU6a9Lslggq74V...</td>\n      <td>0.507812</td>\n      <td>0.736816</td>\n      <td>0.667480</td>\n      <td>0.250000</td>\n      <td>0.470215</td>\n    </tr>\n    <tr>\n      <th>hA5lMy-EnncsH4JoR-hFGQ</th>\n      <td>Karen</td>\n      <td>79</td>\n      <td>[PBK4q9KEEBHhFvSXCUirIw, 3FWPpM7KU1gXeOM_ZbYMb...</td>\n      <td>0.081604</td>\n      <td>0.094910</td>\n      <td>0.044312</td>\n      <td>0.025314</td>\n      <td>0.039215</td>\n    </tr>\n    <tr>\n      <th>...</th>\n      <td>...</td>\n      <td>...</td>\n      <td>...</td>\n      <td>...</td>\n      <td>...</td>\n      <td>...</td>\n      <td>...</td>\n      <td>...</td>\n    </tr>\n    <tr>\n      <th>Q5SlTMOwyHq4PIu7Ev-GVg</th>\n      <td>John</td>\n      <td>4</td>\n      <td>[None]</td>\n      <td>0.000000</td>\n      <td>0.000000</td>\n      <td>0.000000</td>\n      <td>0.000000</td>\n      <td>0.000000</td>\n    </tr>\n    <tr>\n      <th>XPNsbtTADPdAsYT-C4xjsA</th>\n      <td>Jamila</td>\n      <td>5</td>\n      <td>[None]</td>\n      <td>0.044434</td>\n      <td>0.000000</td>\n      <td>0.000000</td>\n      <td>0.000000</td>\n      <td>0.000000</td>\n    </tr>\n    <tr>\n      <th>fB3jbHi3m0L2KgGOxBv6uw</th>\n      <td>Jerrold</td>\n      <td>23</td>\n      <td>[None]</td>\n      <td>0.067627</td>\n      <td>0.000000</td>\n      <td>0.000000</td>\n      <td>0.000000</td>\n      <td>0.000000</td>\n    </tr>\n    <tr>\n      <th>1x3KMskYxOuJCjRz70xOqQ</th>\n      <td>Shomari</td>\n      <td>4</td>\n      <td>[None]</td>\n      <td>0.055542</td>\n      <td>0.125000</td>\n      <td>0.000000</td>\n      <td>0.000000</td>\n      <td>0.000000</td>\n    </tr>\n    <tr>\n      <th>wL5jPrLRVCK_Pmo4lM1zpA</th>\n      <td>Isa</td>\n      <td>2</td>\n      <td>[None]</td>\n      <td>0.000000</td>\n      <td>0.000000</td>\n      <td>0.000000</td>\n      <td>0.000000</td>\n      <td>0.000000</td>\n    </tr>\n  </tbody>\n</table>\n<p>1447109 rows × 8 columns</p>\n</div>"
     },
     "execution_count": 7,
     "metadata": {},
     "output_type": "execute_result"
    }
   ],
   "source": [
    "users = users.drop(columns=column_names_to_normalise)\n",
    "pd.concat([users, *normalised_series], axis=1)"
   ],
   "metadata": {
    "collapsed": false
   }
  }
 ],
 "metadata": {
  "kernelspec": {
   "display_name": "Python 3",
   "language": "python",
   "name": "python3"
  },
  "language_info": {
   "codemirror_mode": {
    "name": "ipython",
    "version": 2
   },
   "file_extension": ".py",
   "mimetype": "text/x-python",
   "name": "python",
   "nbconvert_exporter": "python",
   "pygments_lexer": "ipython2",
   "version": "2.7.6"
  }
 },
 "nbformat": 4,
 "nbformat_minor": 0
}
