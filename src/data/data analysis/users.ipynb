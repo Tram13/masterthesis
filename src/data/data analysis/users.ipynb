{
 "cells": [
  {
   "cell_type": "markdown",
   "source": [
    "# Data Analysis\n",
    "## Analysis of the users dataset"
   ],
   "metadata": {
    "collapsed": false
   },
   "execution_count": 1
  },
  {
   "cell_type": "code",
   "execution_count": 6,
   "outputs": [],
   "source": [
    "from pathlib import Path\n",
    "from src.data.data_reader import DataReader\n",
    "import os\n",
    "import pandas as pd\n",
    "import re\n",
    "import json\n",
    "\n",
    "while str(os.getcwd())[-3:] != 'src':  # Execute from src-directory root\n",
    "    os.chdir('..')"
   ],
   "metadata": {
    "collapsed": false
   }
  },
  {
   "cell_type": "code",
   "execution_count": 7,
   "outputs": [
    {
     "data": {
      "text/plain": "                        user_id     name  review_count  \\\n0        qVc8ODYU5SZjKXVBgXdI7w   Walker           585   \n1        j14WgRoU_-2ZE1aw1dXrJg   Daniel          4333   \n2        2WnXYQFK0hXEoTxPtV2zvg    Steph           665   \n3        SZDeASXq7o05mMNLshsdIA     Gwen           224   \n4        hA5lMy-EnncsH4JoR-hFGQ    Karen            79   \n...                         ...      ...           ...   \n1987892  fB3jbHi3m0L2KgGOxBv6uw  Jerrold            23   \n1987893  68czcr4BxJyMQ9cJBm6C7Q     Jane             1   \n1987894  1x3KMskYxOuJCjRz70xOqQ  Shomari             4   \n1987895  ulfGl4tdbrH05xKzh5lnog  Susanne             2   \n1987896  wL5jPrLRVCK_Pmo4lM1zpA      Isa             2   \n\n                                                   friends  useful  funny  \\\n0        NSCy54eWehBJyZdG2iE84w, pe42u7DcCH2QmI81NX-8qA...    7217   1259   \n1        ueRPE0CX75ePGMqOFVj6IQ, 52oH4DrRvzzl8wh5UXyU0A...   43091  13066   \n2        LuO3Bn4f3rlhyHIaNfTlnA, j9B4XdHUhDfTKVecyWQgyA...    2086   1010   \n3        enx1vVPnfdNUdPho6PH_wg, 4wOcvMLtU6a9Lslggq74Vg...     512    330   \n4        PBK4q9KEEBHhFvSXCUirIw, 3FWPpM7KU1gXeOM_ZbYMbA...      29     15   \n...                                                    ...     ...    ...   \n1987892                                               None       7      0   \n1987893                                               None       0      0   \n1987894                                               None       1      1   \n1987895                                               None       0      0   \n1987896                                               None       0      0   \n\n          cool  fans  compliments  \n0         5994   267         2873  \n1        27281  3138        20631  \n2         1003    52          585  \n3          299    28          136  \n4            7     1            4  \n...        ...   ...          ...  \n1987892      0     0            0  \n1987893      0     0            0  \n1987894      0     0            0  \n1987895      0     0            0  \n1987896      0     0            0  \n\n[1987897 rows x 9 columns]",
      "text/html": "<div>\n<style scoped>\n    .dataframe tbody tr th:only-of-type {\n        vertical-align: middle;\n    }\n\n    .dataframe tbody tr th {\n        vertical-align: top;\n    }\n\n    .dataframe thead th {\n        text-align: right;\n    }\n</style>\n<table border=\"1\" class=\"dataframe\">\n  <thead>\n    <tr style=\"text-align: right;\">\n      <th></th>\n      <th>user_id</th>\n      <th>name</th>\n      <th>review_count</th>\n      <th>friends</th>\n      <th>useful</th>\n      <th>funny</th>\n      <th>cool</th>\n      <th>fans</th>\n      <th>compliments</th>\n    </tr>\n  </thead>\n  <tbody>\n    <tr>\n      <th>0</th>\n      <td>qVc8ODYU5SZjKXVBgXdI7w</td>\n      <td>Walker</td>\n      <td>585</td>\n      <td>NSCy54eWehBJyZdG2iE84w, pe42u7DcCH2QmI81NX-8qA...</td>\n      <td>7217</td>\n      <td>1259</td>\n      <td>5994</td>\n      <td>267</td>\n      <td>2873</td>\n    </tr>\n    <tr>\n      <th>1</th>\n      <td>j14WgRoU_-2ZE1aw1dXrJg</td>\n      <td>Daniel</td>\n      <td>4333</td>\n      <td>ueRPE0CX75ePGMqOFVj6IQ, 52oH4DrRvzzl8wh5UXyU0A...</td>\n      <td>43091</td>\n      <td>13066</td>\n      <td>27281</td>\n      <td>3138</td>\n      <td>20631</td>\n    </tr>\n    <tr>\n      <th>2</th>\n      <td>2WnXYQFK0hXEoTxPtV2zvg</td>\n      <td>Steph</td>\n      <td>665</td>\n      <td>LuO3Bn4f3rlhyHIaNfTlnA, j9B4XdHUhDfTKVecyWQgyA...</td>\n      <td>2086</td>\n      <td>1010</td>\n      <td>1003</td>\n      <td>52</td>\n      <td>585</td>\n    </tr>\n    <tr>\n      <th>3</th>\n      <td>SZDeASXq7o05mMNLshsdIA</td>\n      <td>Gwen</td>\n      <td>224</td>\n      <td>enx1vVPnfdNUdPho6PH_wg, 4wOcvMLtU6a9Lslggq74Vg...</td>\n      <td>512</td>\n      <td>330</td>\n      <td>299</td>\n      <td>28</td>\n      <td>136</td>\n    </tr>\n    <tr>\n      <th>4</th>\n      <td>hA5lMy-EnncsH4JoR-hFGQ</td>\n      <td>Karen</td>\n      <td>79</td>\n      <td>PBK4q9KEEBHhFvSXCUirIw, 3FWPpM7KU1gXeOM_ZbYMbA...</td>\n      <td>29</td>\n      <td>15</td>\n      <td>7</td>\n      <td>1</td>\n      <td>4</td>\n    </tr>\n    <tr>\n      <th>...</th>\n      <td>...</td>\n      <td>...</td>\n      <td>...</td>\n      <td>...</td>\n      <td>...</td>\n      <td>...</td>\n      <td>...</td>\n      <td>...</td>\n      <td>...</td>\n    </tr>\n    <tr>\n      <th>1987892</th>\n      <td>fB3jbHi3m0L2KgGOxBv6uw</td>\n      <td>Jerrold</td>\n      <td>23</td>\n      <td>None</td>\n      <td>7</td>\n      <td>0</td>\n      <td>0</td>\n      <td>0</td>\n      <td>0</td>\n    </tr>\n    <tr>\n      <th>1987893</th>\n      <td>68czcr4BxJyMQ9cJBm6C7Q</td>\n      <td>Jane</td>\n      <td>1</td>\n      <td>None</td>\n      <td>0</td>\n      <td>0</td>\n      <td>0</td>\n      <td>0</td>\n      <td>0</td>\n    </tr>\n    <tr>\n      <th>1987894</th>\n      <td>1x3KMskYxOuJCjRz70xOqQ</td>\n      <td>Shomari</td>\n      <td>4</td>\n      <td>None</td>\n      <td>1</td>\n      <td>1</td>\n      <td>0</td>\n      <td>0</td>\n      <td>0</td>\n    </tr>\n    <tr>\n      <th>1987895</th>\n      <td>ulfGl4tdbrH05xKzh5lnog</td>\n      <td>Susanne</td>\n      <td>2</td>\n      <td>None</td>\n      <td>0</td>\n      <td>0</td>\n      <td>0</td>\n      <td>0</td>\n      <td>0</td>\n    </tr>\n    <tr>\n      <th>1987896</th>\n      <td>wL5jPrLRVCK_Pmo4lM1zpA</td>\n      <td>Isa</td>\n      <td>2</td>\n      <td>None</td>\n      <td>0</td>\n      <td>0</td>\n      <td>0</td>\n      <td>0</td>\n      <td>0</td>\n    </tr>\n  </tbody>\n</table>\n<p>1987897 rows × 9 columns</p>\n</div>"
     },
     "execution_count": 7,
     "metadata": {},
     "output_type": "execute_result"
    }
   ],
   "source": [
    "entries = DataReader._get_entries_from_file(Path('..', 'data', DataReader.EXPECTED_FILES[4]))\n",
    "RELEVANT_USER_FIELDS = [\n",
    "    'user_id',\n",
    "    'name',\n",
    "    'review_count',  # TODO: Check of dit correct is?\n",
    "    'friends',\n",
    "    'useful',\n",
    "    'funny',\n",
    "    'cool',\n",
    "    'fans',\n",
    "    'compliments'  # Sum of all compliment fields\n",
    "]\n",
    "\n",
    "# Combine all compliments\n",
    "compliment_fields = [\n",
    "    'compliment_hot',\n",
    "    'compliment_more',\n",
    "    'compliment_profile',\n",
    "    'compliment_cute',\n",
    "    'compliment_list',\n",
    "    'compliment_note',\n",
    "    'compliment_plain',\n",
    "    'compliment_cool',\n",
    "    'compliment_funny',\n",
    "    'compliment_writer',\n",
    "    'compliment_photos'\n",
    "]\n",
    "combined_compliments = DataReader._filter_entries(entries, compliment_fields)\n",
    "combined_compliments = [sum(x.values()) for x in combined_compliments]\n",
    "for entry, sum_combined_for_entry in zip(entries, combined_compliments):\n",
    "    entry['compliments'] = sum_combined_for_entry\n",
    "\n",
    "filtered_entries = DataReader._filter_entries(entries, RELEVANT_USER_FIELDS)\n",
    "users = pd.DataFrame.from_records(filtered_entries)\n",
    "users"
   ],
   "metadata": {
    "collapsed": false
   }
  },
  {
   "cell_type": "code",
   "execution_count": 8,
   "outputs": [
    {
     "data": {
      "text/plain": "0          [NSCy54eWehBJyZdG2iE84w, pe42u7DcCH2QmI81NX-8q...\n1          [ueRPE0CX75ePGMqOFVj6IQ, 52oH4DrRvzzl8wh5UXyU0...\n2          [LuO3Bn4f3rlhyHIaNfTlnA, j9B4XdHUhDfTKVecyWQgy...\n3          [enx1vVPnfdNUdPho6PH_wg, 4wOcvMLtU6a9Lslggq74V...\n4          [PBK4q9KEEBHhFvSXCUirIw, 3FWPpM7KU1gXeOM_ZbYMb...\n                                 ...                        \n1987892                                               [None]\n1987893                                               [None]\n1987894                                               [None]\n1987895                                               [None]\n1987896                                               [None]\nName: friends, Length: 1987897, dtype: object"
     },
     "execution_count": 8,
     "metadata": {},
     "output_type": "execute_result"
    }
   ],
   "source": [
    "users['friends'] = users['friends'].map(lambda friend_str: friend_str.split(', '))\n"
   ],
   "metadata": {
    "collapsed": false
   }
  }
 ],
 "metadata": {
  "kernelspec": {
   "display_name": "Python 3",
   "language": "python",
   "name": "python3"
  },
  "language_info": {
   "codemirror_mode": {
    "name": "ipython",
    "version": 2
   },
   "file_extension": ".py",
   "mimetype": "text/x-python",
   "name": "python",
   "nbconvert_exporter": "python",
   "pygments_lexer": "ipython2",
   "version": "2.7.6"
  }
 },
 "nbformat": 4,
 "nbformat_minor": 0
}
