{
 "cells": [
  {
   "cell_type": "code",
   "execution_count": 1,
   "metadata": {
    "collapsed": true
   },
   "outputs": [],
   "source": [
    "import os\n",
    "\n",
    "import numpy as np\n",
    "import torch\n",
    "from sklearn.model_selection import KFold\n",
    "from torch.utils.data import SubsetRandomSampler, DataLoader\n",
    "\n",
    "from src.data.data_preparer import DataPreparer\n",
    "from src.data.data_reader import DataReader\n",
    "\n",
    "while str(os.getcwd())[-3:] != 'src':  # Execute from src-directory root\n",
    "    os.chdir('..')"
   ]
  },
  {
   "cell_type": "code",
   "execution_count": 2,
   "outputs": [],
   "source": [
    "businesses, reviews, tips = DataReader().read_data()\n",
    "input_ml_train, input_ml_test, output_ml_train, output_ml_test = DataPreparer.get_train_test_validate(businesses, reviews, tips)"
   ],
   "metadata": {
    "collapsed": false
   }
  },
  {
   "cell_type": "code",
   "execution_count": 3,
   "outputs": [],
   "source": [
    "splits = KFold(n_splits=10, shuffle=True)\n",
    "\n",
    "\n",
    "def train_epoch(model, device, dataloader, loss_fn, optimizer):\n",
    "    train_loss = 0.0\n",
    "    train_correct = 0\n",
    "    model.train()\n",
    "    for restaurant_reviews, ratings in dataloader:\n",
    "        restaurant_reviews, ratings = restaurant_reviews.to(device), ratings.to(device)\n",
    "        optimizer.zero_grad()\n",
    "        output = model(restaurant_reviews)\n",
    "        loss = loss_fn(output, ratings)\n",
    "        loss.backward()\n",
    "        optimizer.step()\n",
    "        train_loss += loss.item() * restaurant_reviews.size(0)\n",
    "        scores, predictions = torch.max(output.data, 1)\n",
    "        train_correct += (ratings - 0.125 <= predictions <= ratings + 0.125).sum().item()\n",
    "\n",
    "    return train_loss, train_correct\n",
    "\n",
    "\n",
    "def valid_epoch(model, device, dataloader, loss_fn):\n",
    "    valid_loss = 0.0\n",
    "    val_correct = 0\n",
    "    model.eval()\n",
    "    for restaurant_reviews, ratings in dataloader:\n",
    "        restaurant_reviews, ratings = restaurant_reviews.to(device), ratings.to(device)\n",
    "        output = model(restaurant_reviews)\n",
    "        loss = loss_fn(output, ratings)\n",
    "        valid_loss += loss.item() * restaurant_reviews.size(0)\n",
    "        scores, predictions = torch.max(output.data, 1)\n",
    "        val_correct += (ratings - 0.125 <= predictions <= ratings + 0.125).sum().item()\n",
    "\n",
    "    return valid_loss, val_correct"
   ],
   "metadata": {
    "collapsed": false
   }
  },
  {
   "cell_type": "code",
   "execution_count": 37,
   "outputs": [
    {
     "data": {
      "text/plain": "         business_average_stars_normalised  business_review_count_normalised  \\\n1779609                              0.625                          0.326416   \n3113481                              0.750                          0.156494   \n1560302                              0.625                          0.014282   \n1104335                              0.750                          0.031204   \n2062337                              0.625                          0.015205   \n...                                    ...                               ...   \n4545262                              0.625                          0.024063   \n2863797                              0.875                          0.053009   \n1037379                              0.625                          0.029221   \n551882                               0.625                          0.050903   \n1892350                              0.875                          0.021423   \n\n         category_bakeries  category_coffee_&_tea  category_food  \\\n1779609                  0                      0              1   \n3113481                  0                      0              0   \n1560302                  0                      0              0   \n1104335                  0                      1              1   \n2062337                  0                      0              0   \n...                    ...                    ...            ...   \n4545262                  0                      0              0   \n2863797                  0                      0              0   \n1037379                  0                      0              0   \n551882                   0                      0              0   \n1892350                  0                      0              0   \n\n         category_restaurants  category_sandwiches  category_burgers  \\\n1779609                     1                    0                 0   \n3113481                     1                    0                 0   \n1560302                     1                    0                 0   \n1104335                     1                    0                 0   \n2062337                     1                    1                 0   \n...                       ...                  ...               ...   \n4545262                     1                    0                 0   \n2863797                     1                    0                 0   \n1037379                     1                    0                 0   \n551882                      1                    0                 0   \n1892350                     1                    0                 0   \n\n         category_ice_cream_&_frozen_yogurt  category_fast_food  ...  \\\n1779609                                   0                   0  ...   \n3113481                                   0                   0  ...   \n1560302                                   0                   0  ...   \n1104335                                   0                   0  ...   \n2062337                                   0                   0  ...   \n...                                     ...                 ...  ...   \n4545262                                   0                   0  ...   \n2863797                                   0                   0  ...   \n1037379                                   0                   0  ...   \n551882                                    0                   0  ...   \n1892350                                   0                   0  ...   \n\n         attribute_divey  attribute_restaurantsattire  attribute_noiselevel  \\\n1779609              0.0                     0.330078                   0.5   \n3113481              0.0                     0.330078                   0.5   \n1560302              0.0                     0.330078                   0.5   \n1104335              0.0                     0.330078                   0.5   \n2062337              0.0                     0.330078                   0.5   \n...                  ...                          ...                   ...   \n4545262              0.0                     0.330078                   0.5   \n2863797              0.0                     0.330078                   0.5   \n1037379              0.0                     0.330078                   0.5   \n551882               0.0                     0.330078                   0.5   \n1892350              0.5                     0.330078                   0.5   \n\n         attribute_dessert  attribute_latenight  attribute_lunch  \\\n1779609                0.0                  0.0              1.0   \n3113481                0.0                  0.0              0.5   \n1560302                0.0                  0.0              0.0   \n1104335                0.0                  0.0              1.0   \n2062337                0.0                  0.0              1.0   \n...                    ...                  ...              ...   \n4545262                0.0                  0.0              0.0   \n2863797                0.5                  0.0              0.5   \n1037379                0.0                  0.0              0.0   \n551882                 0.5                  0.5              0.5   \n1892350                0.5                  0.5              0.5   \n\n         attribute_dinner  attribute_brunch  attribute_breakfast  \\\n1779609               1.0               0.5                  0.0   \n3113481               0.0               1.0                  1.0   \n1560302               1.0               0.0                  0.0   \n1104335               0.0               1.0                  1.0   \n2062337               0.0               0.0                  0.0   \n...                   ...               ...                  ...   \n4545262               0.0               0.0                  0.0   \n2863797               1.0               1.0                  0.5   \n1037379               0.0               1.0                  0.0   \n551882                1.0               1.0                  0.5   \n1892350               0.5               0.5                  0.5   \n\n         average_checkins_per_week_normalised  \n1779609                              0.060133  \n3113481                              0.032306  \n1560302                              0.001701  \n1104335                              0.011114  \n2062337                              0.003003  \n...                                       ...  \n4545262                              0.004146  \n2863797                              0.007818  \n1037379                              0.005026  \n551882                               0.014974  \n1892350                              0.006287  \n\n[2852811 rows x 100 columns]",
      "text/html": "<div>\n<style scoped>\n    .dataframe tbody tr th:only-of-type {\n        vertical-align: middle;\n    }\n\n    .dataframe tbody tr th {\n        vertical-align: top;\n    }\n\n    .dataframe thead th {\n        text-align: right;\n    }\n</style>\n<table border=\"1\" class=\"dataframe\">\n  <thead>\n    <tr style=\"text-align: right;\">\n      <th></th>\n      <th>business_average_stars_normalised</th>\n      <th>business_review_count_normalised</th>\n      <th>category_bakeries</th>\n      <th>category_coffee_&amp;_tea</th>\n      <th>category_food</th>\n      <th>category_restaurants</th>\n      <th>category_sandwiches</th>\n      <th>category_burgers</th>\n      <th>category_ice_cream_&amp;_frozen_yogurt</th>\n      <th>category_fast_food</th>\n      <th>...</th>\n      <th>attribute_divey</th>\n      <th>attribute_restaurantsattire</th>\n      <th>attribute_noiselevel</th>\n      <th>attribute_dessert</th>\n      <th>attribute_latenight</th>\n      <th>attribute_lunch</th>\n      <th>attribute_dinner</th>\n      <th>attribute_brunch</th>\n      <th>attribute_breakfast</th>\n      <th>average_checkins_per_week_normalised</th>\n    </tr>\n  </thead>\n  <tbody>\n    <tr>\n      <th>1779609</th>\n      <td>0.625</td>\n      <td>0.326416</td>\n      <td>0</td>\n      <td>0</td>\n      <td>1</td>\n      <td>1</td>\n      <td>0</td>\n      <td>0</td>\n      <td>0</td>\n      <td>0</td>\n      <td>...</td>\n      <td>0.0</td>\n      <td>0.330078</td>\n      <td>0.5</td>\n      <td>0.0</td>\n      <td>0.0</td>\n      <td>1.0</td>\n      <td>1.0</td>\n      <td>0.5</td>\n      <td>0.0</td>\n      <td>0.060133</td>\n    </tr>\n    <tr>\n      <th>3113481</th>\n      <td>0.750</td>\n      <td>0.156494</td>\n      <td>0</td>\n      <td>0</td>\n      <td>0</td>\n      <td>1</td>\n      <td>0</td>\n      <td>0</td>\n      <td>0</td>\n      <td>0</td>\n      <td>...</td>\n      <td>0.0</td>\n      <td>0.330078</td>\n      <td>0.5</td>\n      <td>0.0</td>\n      <td>0.0</td>\n      <td>0.5</td>\n      <td>0.0</td>\n      <td>1.0</td>\n      <td>1.0</td>\n      <td>0.032306</td>\n    </tr>\n    <tr>\n      <th>1560302</th>\n      <td>0.625</td>\n      <td>0.014282</td>\n      <td>0</td>\n      <td>0</td>\n      <td>0</td>\n      <td>1</td>\n      <td>0</td>\n      <td>0</td>\n      <td>0</td>\n      <td>0</td>\n      <td>...</td>\n      <td>0.0</td>\n      <td>0.330078</td>\n      <td>0.5</td>\n      <td>0.0</td>\n      <td>0.0</td>\n      <td>0.0</td>\n      <td>1.0</td>\n      <td>0.0</td>\n      <td>0.0</td>\n      <td>0.001701</td>\n    </tr>\n    <tr>\n      <th>1104335</th>\n      <td>0.750</td>\n      <td>0.031204</td>\n      <td>0</td>\n      <td>1</td>\n      <td>1</td>\n      <td>1</td>\n      <td>0</td>\n      <td>0</td>\n      <td>0</td>\n      <td>0</td>\n      <td>...</td>\n      <td>0.0</td>\n      <td>0.330078</td>\n      <td>0.5</td>\n      <td>0.0</td>\n      <td>0.0</td>\n      <td>1.0</td>\n      <td>0.0</td>\n      <td>1.0</td>\n      <td>1.0</td>\n      <td>0.011114</td>\n    </tr>\n    <tr>\n      <th>2062337</th>\n      <td>0.625</td>\n      <td>0.015205</td>\n      <td>0</td>\n      <td>0</td>\n      <td>0</td>\n      <td>1</td>\n      <td>1</td>\n      <td>0</td>\n      <td>0</td>\n      <td>0</td>\n      <td>...</td>\n      <td>0.0</td>\n      <td>0.330078</td>\n      <td>0.5</td>\n      <td>0.0</td>\n      <td>0.0</td>\n      <td>1.0</td>\n      <td>0.0</td>\n      <td>0.0</td>\n      <td>0.0</td>\n      <td>0.003003</td>\n    </tr>\n    <tr>\n      <th>...</th>\n      <td>...</td>\n      <td>...</td>\n      <td>...</td>\n      <td>...</td>\n      <td>...</td>\n      <td>...</td>\n      <td>...</td>\n      <td>...</td>\n      <td>...</td>\n      <td>...</td>\n      <td>...</td>\n      <td>...</td>\n      <td>...</td>\n      <td>...</td>\n      <td>...</td>\n      <td>...</td>\n      <td>...</td>\n      <td>...</td>\n      <td>...</td>\n      <td>...</td>\n      <td>...</td>\n    </tr>\n    <tr>\n      <th>4545262</th>\n      <td>0.625</td>\n      <td>0.024063</td>\n      <td>0</td>\n      <td>0</td>\n      <td>0</td>\n      <td>1</td>\n      <td>0</td>\n      <td>0</td>\n      <td>0</td>\n      <td>0</td>\n      <td>...</td>\n      <td>0.0</td>\n      <td>0.330078</td>\n      <td>0.5</td>\n      <td>0.0</td>\n      <td>0.0</td>\n      <td>0.0</td>\n      <td>0.0</td>\n      <td>0.0</td>\n      <td>0.0</td>\n      <td>0.004146</td>\n    </tr>\n    <tr>\n      <th>2863797</th>\n      <td>0.875</td>\n      <td>0.053009</td>\n      <td>0</td>\n      <td>0</td>\n      <td>0</td>\n      <td>1</td>\n      <td>0</td>\n      <td>0</td>\n      <td>0</td>\n      <td>0</td>\n      <td>...</td>\n      <td>0.0</td>\n      <td>0.330078</td>\n      <td>0.5</td>\n      <td>0.5</td>\n      <td>0.0</td>\n      <td>0.5</td>\n      <td>1.0</td>\n      <td>1.0</td>\n      <td>0.5</td>\n      <td>0.007818</td>\n    </tr>\n    <tr>\n      <th>1037379</th>\n      <td>0.625</td>\n      <td>0.029221</td>\n      <td>0</td>\n      <td>0</td>\n      <td>0</td>\n      <td>1</td>\n      <td>0</td>\n      <td>0</td>\n      <td>0</td>\n      <td>0</td>\n      <td>...</td>\n      <td>0.0</td>\n      <td>0.330078</td>\n      <td>0.5</td>\n      <td>0.0</td>\n      <td>0.0</td>\n      <td>0.0</td>\n      <td>0.0</td>\n      <td>1.0</td>\n      <td>0.0</td>\n      <td>0.005026</td>\n    </tr>\n    <tr>\n      <th>551882</th>\n      <td>0.625</td>\n      <td>0.050903</td>\n      <td>0</td>\n      <td>0</td>\n      <td>0</td>\n      <td>1</td>\n      <td>0</td>\n      <td>0</td>\n      <td>0</td>\n      <td>0</td>\n      <td>...</td>\n      <td>0.0</td>\n      <td>0.330078</td>\n      <td>0.5</td>\n      <td>0.5</td>\n      <td>0.5</td>\n      <td>0.5</td>\n      <td>1.0</td>\n      <td>1.0</td>\n      <td>0.5</td>\n      <td>0.014974</td>\n    </tr>\n    <tr>\n      <th>1892350</th>\n      <td>0.875</td>\n      <td>0.021423</td>\n      <td>0</td>\n      <td>0</td>\n      <td>0</td>\n      <td>1</td>\n      <td>0</td>\n      <td>0</td>\n      <td>0</td>\n      <td>0</td>\n      <td>...</td>\n      <td>0.5</td>\n      <td>0.330078</td>\n      <td>0.5</td>\n      <td>0.5</td>\n      <td>0.5</td>\n      <td>0.5</td>\n      <td>0.5</td>\n      <td>0.5</td>\n      <td>0.5</td>\n      <td>0.006287</td>\n    </tr>\n  </tbody>\n</table>\n<p>2852811 rows × 100 columns</p>\n</div>"
     },
     "execution_count": 37,
     "metadata": {},
     "output_type": "execute_result"
    }
   ],
   "source": [],
   "metadata": {
    "collapsed": false
   }
  },
  {
   "cell_type": "code",
   "execution_count": null,
   "outputs": [],
   "source": [
    "history = {'train_loss': [], 'test_loss': [],'train_acc':[],'test_acc':[]}\n",
    "\n",
    "for i, train_idx_fold, val_idx_fold in enumerate(splits.get_n_splits(input_ml_train, input_ml_test)):\n",
    "\n",
    "    train_data_fold = input_ml_train.iloc[train_idx_fold]\n",
    "    validate_data_fold = input_ml_train.iloc[val_idx_fold]\n",
    "    print('Fold {}'.format(i + 1))\n",
    "\n",
    "    train_sampler = SubsetRandomSampler(train_idx)\n",
    "    test_sampler = SubsetRandomSampler(val_idx)\n",
    "    train_loader = DataLoader(dataset, batch_size=batch_size, sampler=train_sampler)\n",
    "    test_loader = DataLoader(dataset, batch_size=batch_size, sampler=test_sampler)\n",
    "\n",
    "    model = ConvNet()\n",
    "    model.to(device)\n",
    "    optimizer = optim.Adam(model.parameters(), lr=0.002)\n",
    "\n",
    "    for epoch in range(num_epochs):\n",
    "        train_loss, train_correct=train_epoch(model,device,train_loader,criterion,optimizer)\n",
    "        test_loss, test_correct=valid_epoch(model,device,test_loader,criterion)\n",
    "\n",
    "        train_loss = train_loss / len(train_loader.sampler)\n",
    "        train_acc = train_correct / len(train_loader.sampler) * 100\n",
    "        test_loss = test_loss / len(test_loader.sampler)\n",
    "        test_acc = test_correct / len(test_loader.sampler) * 100\n",
    "\n",
    "        print(\"Epoch:{}/{} AVG Training Loss:{:.3f} AVG Test Loss:{:.3f} AVG Training Acc {:.2f} % AVG Test Acc {:.2f} %\".format(epoch + 1,\n",
    "                                                                                                                                 num_epochs,\n",
    "                                                                                                                                 train_loss,\n",
    "                                                                                                                                 test_loss,\n",
    "                                                                                                                                 train_acc,\n",
    "                                                                                                                                 test_acc))\n",
    "        history['train_loss'].append(train_loss)\n",
    "        history['test_loss'].append(test_loss)\n",
    "        history['train_acc'].append(train_acc)\n",
    "        history['test_acc'].append(test_acc)"
   ],
   "metadata": {
    "collapsed": false
   }
  }
 ],
 "metadata": {
  "kernelspec": {
   "display_name": "Python 3",
   "language": "python",
   "name": "python3"
  },
  "language_info": {
   "codemirror_mode": {
    "name": "ipython",
    "version": 2
   },
   "file_extension": ".py",
   "mimetype": "text/x-python",
   "name": "python",
   "nbconvert_exporter": "python",
   "pygments_lexer": "ipython2",
   "version": "2.7.6"
  }
 },
 "nbformat": 4,
 "nbformat_minor": 0
}
