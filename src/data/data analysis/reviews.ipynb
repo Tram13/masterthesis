{
 "cells": [
  {
   "cell_type": "markdown",
   "source": [
    "# Data Analysis: Reviews\n",
    "## Analysis of the reviews dataset"
   ],
   "metadata": {
    "collapsed": false
   }
  },
  {
   "cell_type": "code",
   "execution_count": 1,
   "outputs": [],
   "source": [
    "import os\n",
    "from datetime import datetime\n",
    "from pathlib import Path\n",
    "\n",
    "import numpy as np\n",
    "import pandas as pd\n",
    "from sklearn import preprocessing\n",
    "\n",
    "from src.data.data_reader import DataReader\n",
    "\n",
    "while str(os.getcwd())[-3:] != 'src':  # Execute from src-directory root\n",
    "    os.chdir('..')"
   ],
   "metadata": {
    "collapsed": false,
    "ExecuteTime": {
     "end_time": "2023-05-05T13:10:15.650741900Z",
     "start_time": "2023-05-05T13:10:11.828352500Z"
    }
   }
  },
  {
   "cell_type": "code",
   "execution_count": null,
   "outputs": [],
   "source": [
    "entries = DataReader._get_entries_from_file(Path('..', 'data', DataReader.EXPECTED_FILES[2]))\n",
    "RELEVANT_REVIEW_FIELDS = [\n",
    "    'review_id',\n",
    "    'user_id',\n",
    "    'business_id',\n",
    "    'stars',\n",
    "    'useful',\n",
    "    'funny',\n",
    "    'cool',\n",
    "    'text',\n",
    "    'date'\n",
    "]\n",
    "\n",
    "filtered_entries = DataReader._filter_entries(entries, RELEVANT_REVIEW_FIELDS)\n",
    "reviews = pd.DataFrame.from_records(filtered_entries)\n",
    "reviews"
   ],
   "metadata": {
    "collapsed": false,
    "ExecuteTime": {
     "start_time": "2023-05-05T13:07:39.102157800Z"
    }
   }
  },
  {
   "cell_type": "markdown",
   "source": [
    "Normalisation"
   ],
   "metadata": {
    "collapsed": false
   }
  },
  {
   "cell_type": "code",
   "execution_count": null,
   "outputs": [],
   "source": [
    "normalised_column = pd.Series(\n",
    "    data =\n",
    "    preprocessing.MinMaxScaler().fit_transform(\n",
    "        reviews['stars'].to_numpy().reshape(-1, 1)\n",
    "    ).flatten(),\n",
    "    name = 'stars_normalised',\n",
    "    dtype = np.float16,\n",
    ").set_axis(reviews.index)  # To relink with the original dataframe\n",
    "reviews = reviews.drop(columns=['stars'])\n",
    "reviews = pd.concat([reviews, normalised_column], axis=1)\n",
    "reviews"
   ],
   "metadata": {
    "collapsed": false
   }
  },
  {
   "cell_type": "code",
   "execution_count": null,
   "outputs": [],
   "source": [
    "# cleanup of other fields\n",
    "reviews['useful'] = reviews['useful'].transform(lambda x: 0 if x == 0 else 1).astype(np.uint8)\n",
    "reviews['funny_cool'] = reviews[['funny', 'cool']].apply(lambda row: 0 if row['funny'] == 0 and row['cool'] == 1 else 1, axis=1).rename(\"funny_cool\").astype(np.uint8)\n",
    "reviews = reviews.drop(columns=['funny', 'cool'])\n",
    "reviews['date'] = reviews['date'].map(lambda date_str: datetime.strptime(date_str, '%Y-%m-%d %H:%M:%S'))\n",
    "\n",
    "reviews"
   ],
   "metadata": {
    "collapsed": false
   }
  },
  {
   "cell_type": "markdown",
   "source": [
    "Only keep reviews for restaurants"
   ],
   "metadata": {
    "collapsed": false
   }
  },
  {
   "cell_type": "code",
   "execution_count": 5,
   "outputs": [
    {
     "name": "stderr",
     "output_type": "stream",
     "text": [
      "Could not reach caches!\n",
      "Reading files from disk: 100%|██████████| 3/3 [03:44<00:00, 74.70s/it, current: tips]        \n"
     ]
    },
    {
     "name": "stdout",
     "output_type": "stream",
     "text": [
      "<class 'pandas.core.frame.DataFrame'>\n",
      "Index: 4731031 entries, KU_O5udG6zpxOg-VcAEodg to RwcKOdEuLRHNJe4M9-qpqg\n",
      "Data columns (total 7 columns):\n",
      " #   Column            Dtype         \n",
      "---  ------            -----         \n",
      " 0   user_id           object        \n",
      " 1   business_id       object        \n",
      " 2   useful            uint8         \n",
      " 3   text              string        \n",
      " 4   date              datetime64[ns]\n",
      " 5   stars_normalised  float16       \n",
      " 6   funny_cool        uint8         \n",
      "dtypes: datetime64[ns](1), float16(1), object(2), string(1), uint8(2)\n",
      "memory usage: 198.5+ MB\n"
     ]
    }
   ],
   "source": [
    "(businesses, _, _), _ = DataReader().read_data()\n",
    "reviews = reviews[reviews['business_id'].isin(businesses.index)]\n",
    "reviews = reviews.set_index('review_id')\n",
    "reviews['text'] = reviews['text'].astype(\"string\")\n",
    "reviews.info()"
   ],
   "metadata": {
    "collapsed": false
   }
  },
  {
   "cell_type": "code",
   "execution_count": 2,
   "outputs": [
    {
     "name": "stderr",
     "output_type": "stream",
     "text": [
      "                                                                                              \r"
     ]
    }
   ],
   "source": [
    "(businesses, reviews, _), _ = DataReader().read_data(no_train_test=True)"
   ],
   "metadata": {
    "collapsed": false,
    "ExecuteTime": {
     "end_time": "2023-05-05T13:11:23.409897200Z",
     "start_time": "2023-05-05T13:10:31.933332Z"
    }
   }
  },
  {
   "cell_type": "code",
   "execution_count": 3,
   "outputs": [
    {
     "data": {
      "text/plain": "           user_id  business_id  useful  \\\nreview_id                                 \n0                0          652       0   \n1                1         4603       0   \n2                2         2239       1   \n3                3         2161       1   \n4                4          972       1   \n...            ...          ...     ...   \n4731026      33640        49745       1   \n4731027      79346        47733       1   \n4731028      65859        48813       1   \n4731029     171192        48509       1   \n4731030     272391        51653       1   \n\n                                                        text  \\\nreview_id                                                      \n0          If you decide to eat here, just be aware it is...   \n1          Family diner. Had the buffet. Eclectic assortm...   \n2          Wow!  Yummy, different,  delicious.   Our favo...   \n3          Cute interior and owner (?) gave us tour of up...   \n4          I am a long term frequent customer of this est...   \n...                                                      ...   \n4731026    Don't misinterpret my 5-star review....I don't...   \n4731027    It is very rare for a restaurant to be this go...   \n4731028    Good, maybe very good.  I went for lunch, so t...   \n4731029    For when I'm feeling like ignoring my calorie-...   \n4731030    Located in the 'Walking District' in Nashville...   \n\n                         date  stars_normalised  funny_cool  \nreview_id                                                    \n0         2018-07-07 22:09:11              0.50           1  \n1         2014-02-05 20:30:30              0.50           1  \n2         2015-01-04 00:01:03              1.00           0  \n3         2017-01-14 20:54:15              0.75           0  \n4         2015-09-23 23:10:31              0.00           1  \n...                       ...               ...         ...  \n4731026   2016-04-30 01:02:34              1.00           0  \n4731027   2022-01-17 22:36:01              1.00           0  \n4731028   2015-01-23 23:52:03              0.75           1  \n4731029   2022-01-19 18:59:27              1.00           1  \n4731030   2018-01-02 22:50:47              0.50           1  \n\n[4731031 rows x 7 columns]",
      "text/html": "<div>\n<style scoped>\n    .dataframe tbody tr th:only-of-type {\n        vertical-align: middle;\n    }\n\n    .dataframe tbody tr th {\n        vertical-align: top;\n    }\n\n    .dataframe thead th {\n        text-align: right;\n    }\n</style>\n<table border=\"1\" class=\"dataframe\">\n  <thead>\n    <tr style=\"text-align: right;\">\n      <th></th>\n      <th>user_id</th>\n      <th>business_id</th>\n      <th>useful</th>\n      <th>text</th>\n      <th>date</th>\n      <th>stars_normalised</th>\n      <th>funny_cool</th>\n    </tr>\n    <tr>\n      <th>review_id</th>\n      <th></th>\n      <th></th>\n      <th></th>\n      <th></th>\n      <th></th>\n      <th></th>\n      <th></th>\n    </tr>\n  </thead>\n  <tbody>\n    <tr>\n      <th>0</th>\n      <td>0</td>\n      <td>652</td>\n      <td>0</td>\n      <td>If you decide to eat here, just be aware it is...</td>\n      <td>2018-07-07 22:09:11</td>\n      <td>0.50</td>\n      <td>1</td>\n    </tr>\n    <tr>\n      <th>1</th>\n      <td>1</td>\n      <td>4603</td>\n      <td>0</td>\n      <td>Family diner. Had the buffet. Eclectic assortm...</td>\n      <td>2014-02-05 20:30:30</td>\n      <td>0.50</td>\n      <td>1</td>\n    </tr>\n    <tr>\n      <th>2</th>\n      <td>2</td>\n      <td>2239</td>\n      <td>1</td>\n      <td>Wow!  Yummy, different,  delicious.   Our favo...</td>\n      <td>2015-01-04 00:01:03</td>\n      <td>1.00</td>\n      <td>0</td>\n    </tr>\n    <tr>\n      <th>3</th>\n      <td>3</td>\n      <td>2161</td>\n      <td>1</td>\n      <td>Cute interior and owner (?) gave us tour of up...</td>\n      <td>2017-01-14 20:54:15</td>\n      <td>0.75</td>\n      <td>0</td>\n    </tr>\n    <tr>\n      <th>4</th>\n      <td>4</td>\n      <td>972</td>\n      <td>1</td>\n      <td>I am a long term frequent customer of this est...</td>\n      <td>2015-09-23 23:10:31</td>\n      <td>0.00</td>\n      <td>1</td>\n    </tr>\n    <tr>\n      <th>...</th>\n      <td>...</td>\n      <td>...</td>\n      <td>...</td>\n      <td>...</td>\n      <td>...</td>\n      <td>...</td>\n      <td>...</td>\n    </tr>\n    <tr>\n      <th>4731026</th>\n      <td>33640</td>\n      <td>49745</td>\n      <td>1</td>\n      <td>Don't misinterpret my 5-star review....I don't...</td>\n      <td>2016-04-30 01:02:34</td>\n      <td>1.00</td>\n      <td>0</td>\n    </tr>\n    <tr>\n      <th>4731027</th>\n      <td>79346</td>\n      <td>47733</td>\n      <td>1</td>\n      <td>It is very rare for a restaurant to be this go...</td>\n      <td>2022-01-17 22:36:01</td>\n      <td>1.00</td>\n      <td>0</td>\n    </tr>\n    <tr>\n      <th>4731028</th>\n      <td>65859</td>\n      <td>48813</td>\n      <td>1</td>\n      <td>Good, maybe very good.  I went for lunch, so t...</td>\n      <td>2015-01-23 23:52:03</td>\n      <td>0.75</td>\n      <td>1</td>\n    </tr>\n    <tr>\n      <th>4731029</th>\n      <td>171192</td>\n      <td>48509</td>\n      <td>1</td>\n      <td>For when I'm feeling like ignoring my calorie-...</td>\n      <td>2022-01-19 18:59:27</td>\n      <td>1.00</td>\n      <td>1</td>\n    </tr>\n    <tr>\n      <th>4731030</th>\n      <td>272391</td>\n      <td>51653</td>\n      <td>1</td>\n      <td>Located in the 'Walking District' in Nashville...</td>\n      <td>2018-01-02 22:50:47</td>\n      <td>0.50</td>\n      <td>1</td>\n    </tr>\n  </tbody>\n</table>\n<p>4731031 rows × 7 columns</p>\n</div>"
     },
     "execution_count": 3,
     "metadata": {},
     "output_type": "execute_result"
    }
   ],
   "source": [
    "reviews"
   ],
   "metadata": {
    "collapsed": false,
    "ExecuteTime": {
     "end_time": "2023-05-05T13:11:23.780111100Z",
     "start_time": "2023-05-05T13:11:23.664515600Z"
    }
   }
  },
  {
   "cell_type": "code",
   "execution_count": 16,
   "outputs": [
    {
     "name": "stdout",
     "output_type": "stream",
     "text": [
      "946207\n"
     ]
    },
    {
     "data": {
      "text/plain": "           user_id  business_id  useful  \\\nreview_id                                 \n4671879     225154        49025       0   \n3145117     225154        31991       1   \n2184130     225154        21550       1   \n1179437     225154        12095       0   \n2151562     225154        21258       0   \n...            ...          ...     ...   \n3684490     200380        38000       0   \n308114      208722         1174       0   \n552037      335924         6483       1   \n829788      445131         9691       0   \n65191        54277         4208       0   \n\n                                                        text  \\\nreview_id                                                      \n4671879    I have given this place a 5 star review severa...   \n3145117    This is based on the fact that Hattie's decide...   \n2184130    Awesome happy hour and solid drink selection f...   \n1179437    below average sushi. This place is like most b...   \n2151562    Very good food and service. Its a quaint littl...   \n...                                                      ...   \n3684490    Normally a good experience, the employees are ...   \n308114     Went to the Gravois and grand location for my ...   \n552037     I absolute love love love this food.. Besides ...   \n829788     I ordered my pizza online and it started being...   \n65191      Just ok. The grits are very watery and the bis...   \n\n                         date  stars_normalised  funny_cool  \nreview_id                                                    \n4671879   2021-10-30 23:40:02              0.25           1  \n3145117   2018-06-08 16:29:35              0.00           1  \n2184130   2017-06-28 15:58:58              0.75           0  \n1179437   2015-12-04 16:05:47              0.25           1  \n2151562   2015-12-04 17:19:49              1.00           1  \n...                       ...               ...         ...  \n3684490   2018-03-07 14:58:55              0.50           1  \n308114    2019-06-10 16:34:46              0.25           1  \n552037    2014-12-05 17:16:42              1.00           1  \n829788    2020-11-25 06:38:05              0.00           1  \n65191     2015-07-29 16:53:21              0.00           1  \n\n[755998 rows x 7 columns]",
      "text/html": "<div>\n<style scoped>\n    .dataframe tbody tr th:only-of-type {\n        vertical-align: middle;\n    }\n\n    .dataframe tbody tr th {\n        vertical-align: top;\n    }\n\n    .dataframe thead th {\n        text-align: right;\n    }\n</style>\n<table border=\"1\" class=\"dataframe\">\n  <thead>\n    <tr style=\"text-align: right;\">\n      <th></th>\n      <th>user_id</th>\n      <th>business_id</th>\n      <th>useful</th>\n      <th>text</th>\n      <th>date</th>\n      <th>stars_normalised</th>\n      <th>funny_cool</th>\n    </tr>\n    <tr>\n      <th>review_id</th>\n      <th></th>\n      <th></th>\n      <th></th>\n      <th></th>\n      <th></th>\n      <th></th>\n      <th></th>\n    </tr>\n  </thead>\n  <tbody>\n    <tr>\n      <th>4671879</th>\n      <td>225154</td>\n      <td>49025</td>\n      <td>0</td>\n      <td>I have given this place a 5 star review severa...</td>\n      <td>2021-10-30 23:40:02</td>\n      <td>0.25</td>\n      <td>1</td>\n    </tr>\n    <tr>\n      <th>3145117</th>\n      <td>225154</td>\n      <td>31991</td>\n      <td>1</td>\n      <td>This is based on the fact that Hattie's decide...</td>\n      <td>2018-06-08 16:29:35</td>\n      <td>0.00</td>\n      <td>1</td>\n    </tr>\n    <tr>\n      <th>2184130</th>\n      <td>225154</td>\n      <td>21550</td>\n      <td>1</td>\n      <td>Awesome happy hour and solid drink selection f...</td>\n      <td>2017-06-28 15:58:58</td>\n      <td>0.75</td>\n      <td>0</td>\n    </tr>\n    <tr>\n      <th>1179437</th>\n      <td>225154</td>\n      <td>12095</td>\n      <td>0</td>\n      <td>below average sushi. This place is like most b...</td>\n      <td>2015-12-04 16:05:47</td>\n      <td>0.25</td>\n      <td>1</td>\n    </tr>\n    <tr>\n      <th>2151562</th>\n      <td>225154</td>\n      <td>21258</td>\n      <td>0</td>\n      <td>Very good food and service. Its a quaint littl...</td>\n      <td>2015-12-04 17:19:49</td>\n      <td>1.00</td>\n      <td>1</td>\n    </tr>\n    <tr>\n      <th>...</th>\n      <td>...</td>\n      <td>...</td>\n      <td>...</td>\n      <td>...</td>\n      <td>...</td>\n      <td>...</td>\n      <td>...</td>\n    </tr>\n    <tr>\n      <th>3684490</th>\n      <td>200380</td>\n      <td>38000</td>\n      <td>0</td>\n      <td>Normally a good experience, the employees are ...</td>\n      <td>2018-03-07 14:58:55</td>\n      <td>0.50</td>\n      <td>1</td>\n    </tr>\n    <tr>\n      <th>308114</th>\n      <td>208722</td>\n      <td>1174</td>\n      <td>0</td>\n      <td>Went to the Gravois and grand location for my ...</td>\n      <td>2019-06-10 16:34:46</td>\n      <td>0.25</td>\n      <td>1</td>\n    </tr>\n    <tr>\n      <th>552037</th>\n      <td>335924</td>\n      <td>6483</td>\n      <td>1</td>\n      <td>I absolute love love love this food.. Besides ...</td>\n      <td>2014-12-05 17:16:42</td>\n      <td>1.00</td>\n      <td>1</td>\n    </tr>\n    <tr>\n      <th>829788</th>\n      <td>445131</td>\n      <td>9691</td>\n      <td>0</td>\n      <td>I ordered my pizza online and it started being...</td>\n      <td>2020-11-25 06:38:05</td>\n      <td>0.00</td>\n      <td>1</td>\n    </tr>\n    <tr>\n      <th>65191</th>\n      <td>54277</td>\n      <td>4208</td>\n      <td>0</td>\n      <td>Just ok. The grits are very watery and the bis...</td>\n      <td>2015-07-29 16:53:21</td>\n      <td>0.00</td>\n      <td>1</td>\n    </tr>\n  </tbody>\n</table>\n<p>755998 rows × 7 columns</p>\n</div>"
     },
     "execution_count": 16,
     "metadata": {},
     "output_type": "execute_result"
    }
   ],
   "source": [
    "from sklearn.model_selection import train_test_split\n",
    "\n",
    "train_reviews, test_reviews = train_test_split(reviews, train_size=0.8)\n",
    "train_reviews: pd.DataFrame = train_reviews\n",
    "test_reviews: pd.DataFrame = test_reviews\n",
    "# Iedere business uit de testset moet ook in de trainset zitten\n",
    "train_restaurants = pd.DataFrame(index=train_reviews.groupby(['business_id']).count().index)\n",
    "test_reviews = test_reviews.join(train_restaurants, on='business_id', how='inner')\n",
    "# Iedere user uit de testset moet ook in de trainset zitten\n",
    "train_users = pd.DataFrame(index=train_reviews.groupby(['user_id']).count().index)\n",
    "test_reviews = test_reviews.join(train_users, on='user_id', how='inner')\n",
    "\n",
    "test_reviews"
   ],
   "metadata": {
    "collapsed": false,
    "ExecuteTime": {
     "end_time": "2023-05-05T13:19:39.190162800Z",
     "start_time": "2023-05-05T13:19:28.972427700Z"
    }
   }
  }
 ],
 "metadata": {
  "kernelspec": {
   "display_name": "Python 3",
   "language": "python",
   "name": "python3"
  },
  "language_info": {
   "codemirror_mode": {
    "name": "ipython",
    "version": 2
   },
   "file_extension": ".py",
   "mimetype": "text/x-python",
   "name": "python",
   "nbconvert_exporter": "python",
   "pygments_lexer": "ipython2",
   "version": "2.7.6"
  }
 },
 "nbformat": 4,
 "nbformat_minor": 0
}
